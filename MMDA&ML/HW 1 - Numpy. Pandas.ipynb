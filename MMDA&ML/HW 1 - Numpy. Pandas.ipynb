{
  "cells": [
    {
      "cell_type": "markdown",
      "metadata": {
        "id": "f1gL2DEfNRGu"
      },
      "source": [
        "# Современные методы анализа данных и машинного обучения, БИ\n",
        "\n",
        "## НИУ ВШЭ, 2023-24 учебный год"
      ]
    },
    {
      "cell_type": "markdown",
      "metadata": {
        "id": "fdTH3pxXFLxw"
      },
      "source": [
        "### Домашнее задание №1. Библиотеки Numpy & Pandas"
      ]
    },
    {
      "cell_type": "markdown",
      "metadata": {
        "id": "Sk5URBvkFLxx"
      },
      "source": [
        "Задание выполнил(а):\n",
        "\n",
        " Евсеев Никита"
      ]
    },
    {
      "cell_type": "markdown",
      "metadata": {
        "id": "kqVyveO4FLxx"
      },
      "source": [
        "### Общая информация"
      ]
    },
    {
      "cell_type": "markdown",
      "metadata": {
        "id": "2A0wmBWwFLxx"
      },
      "source": [
        "__Дата выдачи:__ 09.02.2024\n",
        "\n",
        "__Дедлайн:__ 04:00 19.02.2024"
      ]
    },
    {
      "cell_type": "markdown",
      "metadata": {
        "id": "qK8Ari9eFLxz"
      },
      "source": [
        "### Оценивание и штрафы\n",
        "\n",
        "Каждая задача первого раздела (Numpy) оценивается в 2 балла.\n",
        "\n",
        "Оценка за первый раздел вычисляется по следующей формуле:\n",
        "\n",
        "$$\n",
        "s_{\\text{numpy}} \\times 1/2 ,\n",
        "$$\n",
        "\n",
        "где $s_{\\text{numpy}}$  — количество баллов, которое вы набрали в сумме по задачам первого раздела.\n",
        "\n",
        "Каждая задача второго раздела (Pandas) оценивается в 3 балла.\n",
        "\n",
        "Оценка за второй раздел вычисляется по следующей формуле:\n",
        "\n",
        "$$\n",
        "s_{\\text{pandas}} \\times 10/54 ,\n",
        "$$\n",
        "\n",
        "где $s_{\\text{pandas}}$  — количество баллов, которое вы набрали в сумме по задачам второго раздела.\n",
        "\n",
        "Общая оценка за ДЗ вычисляется по следующей формуле:\n",
        "\n",
        "$$\n",
        "O_{1} \\times 3/10 + O_2 \\times 7/10 ,\n",
        "$$\n",
        "\n",
        "где $O_1, O_2$  — оценки за первый и второй раздел соответственно.\n",
        "\n",
        "За сдачу задания позже срока на итоговую оценку за задание накладывается штраф в размере 1 **вторичный** балл в день, но  задержка не может быть больше недели.\n",
        "\n",
        "**Важно:** В этом домашнем задании предусмотрено несколько заданий, за которые можно получить бонусные баллы. Бонусные баллы прибавляются к обычным баллам, и может выйти так, что ваша итоговая оценка станет больше 10. В таком случае именно это и будет являться вашей оценкой. То есть за это ДЗ **можно** получить больше 10"
      ]
    },
    {
      "cell_type": "markdown",
      "metadata": {
        "id": "nEGThfK6FLx0"
      },
      "source": [
        "__Внимание!__ Домашнее задание выполняется самостоятельно. «Похожие» решения считаются плагиатом и все задействованные студенты (в том числе те, у кого списали) не могут получить за него больше 0 баллов."
      ]
    },
    {
      "cell_type": "markdown",
      "metadata": {
        "id": "zNja-u8vFLx0"
      },
      "source": [
        "### Формат сдачи"
      ]
    },
    {
      "cell_type": "markdown",
      "metadata": {
        "id": "_H-cf8uaFLx0"
      },
      "source": [
        "Загрузка файлов с решениями происходит в системе [Anytask](https://anytask.org/). Необходимо загружать файл с расширением .ipynb (питоновский ноутбук)\n",
        "\n",
        "Инвайт для подключения к странице курса в системе — будет указан для каждой группы в нашем телеграмм-канале"
      ]
    },
    {
      "cell_type": "markdown",
      "metadata": {
        "id": "nRVHx0jluMpn"
      },
      "source": [
        "## Раздел 1. Numpy"
      ]
    },
    {
      "cell_type": "markdown",
      "metadata": {
        "id": "TEVawss2FLxy"
      },
      "source": [
        "### О задании"
      ]
    },
    {
      "cell_type": "markdown",
      "metadata": {
        "id": "NXNpYAFdFLxz"
      },
      "source": [
        "В данном разделе вы попрактикуетесь в работе с библиотекой numpy!"
      ]
    },
    {
      "cell_type": "code",
      "execution_count": 2,
      "metadata": {
        "collapsed": true,
        "id": "4gsWSgTIFLx1"
      },
      "outputs": [],
      "source": [
        "import numpy as np"
      ]
    },
    {
      "cell_type": "markdown",
      "metadata": {
        "id": "ApiPWJygFLx2"
      },
      "source": [
        "Во всех задачах необходимо написать код решения внутри функции и проверить его работу, вызвав функцию для данных из условия.\n",
        "\n",
        "При решении задач запрещается использовать циклы (`for`, `while`) и оператор `if`.\n",
        "\n",
        "Везде, где встречаются массивы или матрицы, подразумевается, что это `numpy.array`."
      ]
    },
    {
      "cell_type": "markdown",
      "metadata": {
        "id": "8fc_z7yNFLx2"
      },
      "source": [
        "### 1"
      ]
    },
    {
      "cell_type": "markdown",
      "metadata": {
        "id": "ETNlMgiZFLx3"
      },
      "source": [
        "Напишите функцию, возвращающую округленную взвешенную сумму оценок по данным оценкам и весам. Можете посчитать свою оценку за курс :) В нашем случае вес экзамена равен 0.32, вес домашек - 0.28, вес групповых проектов - 0.12, вес аудиторки - 0.14, вес контрольной - 0.14. Например, если экзамен написан на 6, домашки сданы на 9, проекты закрыты на 8, оценка за аудиторку 7, а контрольная написана на 10 - итоговая оценка будет хорошо - 7"
      ]
    },
    {
      "cell_type": "code",
      "execution_count": null,
      "metadata": {
        "collapsed": true,
        "id": "VDEhJbQ-FLx3"
      },
      "outputs": [],
      "source": [
        "def result_mark(weights, marks):\n",
        "    # your code here"
      ]
    },
    {
      "cell_type": "code",
      "execution_count": null,
      "metadata": {
        "collapsed": true,
        "id": "NcaSNNLNFLx3"
      },
      "outputs": [],
      "source": [
        "weights = np.array([0.32, 0.18, 0.12, 0.14, 0.14])\n",
        "marks = np.array([6, 9, 8, 7, 10])\n",
        "result_mark(weights, marks)"
      ]
    },
    {
      "cell_type": "markdown",
      "metadata": {
        "id": "J0V1vikQFLx3"
      },
      "source": [
        "### 2"
      ]
    },
    {
      "cell_type": "markdown",
      "metadata": {
        "id": "-7GYYXZ-FLx4"
      },
      "source": [
        "Напишите функцию, меняющую каждое третье (начиная с 0) значение массива целых чисел на заданное число. Например, если на вход поступает массив `array([3, 5, 1, 0, -3, 22, 213436])` и число `-111`, то на выходе должен получиться массив `array([-111, 5, 1, -111, -3, 22, -111])`."
      ]
    },
    {
      "cell_type": "code",
      "execution_count": null,
      "metadata": {
        "collapsed": true,
        "id": "bCl2jHbqFLx4"
      },
      "outputs": [],
      "source": [
        "def change_array(array, number):\n",
        "    # your code here"
      ]
    },
    {
      "cell_type": "code",
      "execution_count": null,
      "metadata": {
        "collapsed": true,
        "id": "Gpq8NhDLFLx4"
      },
      "outputs": [],
      "source": [
        "array = np.array([3, 5, 1, 0, -3, 22, 213436])\n",
        "number = -111\n",
        "change_array(array, number)"
      ]
    },
    {
      "cell_type": "markdown",
      "metadata": {
        "id": "Sal1bM6RFLx4"
      },
      "source": [
        "### 3"
      ]
    },
    {
      "cell_type": "markdown",
      "metadata": {
        "id": "au8Az2JjFLx5"
      },
      "source": [
        "Напишите функцию, выдающую индексы «близких» элементов заданных массивов, а именно тех пар элементов, чей модуль разницы не превосходит заданного значения. Например, если на вход поступают массив `array([1.5, 0.5, 2, -4.1, -3, 6, -1])`, массив `array([1.2, 0.5, 1, -4, 3, 0, -1.2])` и число `0.5`, то на выходе должен получиться массив `array([0, 1, 3, 6])` (_**важно: не `tuple`, а одномерный массив типа `numpy.ndarray` (то есть `.ndim` от него равно 1)!**_)."
      ]
    },
    {
      "cell_type": "code",
      "execution_count": null,
      "metadata": {
        "collapsed": true,
        "id": "WacJagotFLx5"
      },
      "outputs": [],
      "source": [
        "def find_close(array1, array2, precision):\n",
        "    # your code here"
      ]
    },
    {
      "cell_type": "code",
      "execution_count": null,
      "metadata": {
        "collapsed": true,
        "id": "zFLktJlAFLx5"
      },
      "outputs": [],
      "source": [
        "array1 = np.array([1.5, 0.5, 2, -4.1, -3, 6, -1])\n",
        "array2 = np.array([1.2, 0.5, 1, -4, 3, 0, -1.2])\n",
        "precision = 0.5\n",
        "find_close(array1, array2, precision)"
      ]
    },
    {
      "cell_type": "markdown",
      "metadata": {
        "id": "vIuNrOzMFLx6"
      },
      "source": [
        "### 4"
      ]
    },
    {
      "cell_type": "markdown",
      "metadata": {
        "id": "ygLvIXXaFLx6"
      },
      "source": [
        "Напишите функцию, которая составляет блочную матрицу из четырех блоков, где каждый блок - это заданная матрица. Например, если на вход поступает матрица\n",
        "$$\n",
        "\\begin{pmatrix}\n",
        "0 & 1 & 2\\\\\n",
        "3 & 4 & 5\\\\\n",
        "\\end{pmatrix},\n",
        "$$\n",
        "то ответом будет матрица\n",
        "$$\n",
        "\\begin{pmatrix}\n",
        "0 & 1 & 2 & 0 & 1 & 2\\\\\n",
        "3 & 4 & 5 & 3 & 4 & 5\\\\\n",
        "0 & 1 & 2 & 0 & 1 & 2\\\\\n",
        "3 & 4 & 5 & 3 & 4 & 5\\\\\n",
        "\\end{pmatrix}\n",
        "$$"
      ]
    },
    {
      "cell_type": "code",
      "execution_count": null,
      "metadata": {
        "collapsed": true,
        "id": "3ZSvD5CbFLx6"
      },
      "outputs": [],
      "source": [
        "def block_matrix(block):\n",
        "    # your code here"
      ]
    },
    {
      "cell_type": "code",
      "execution_count": null,
      "metadata": {
        "collapsed": true,
        "id": "x2zSnETKFLx6"
      },
      "outputs": [],
      "source": [
        "block = np.array([[0, 1, 2], [3, 4, 5]])\n",
        "block_matrix(block)"
      ]
    },
    {
      "cell_type": "markdown",
      "metadata": {
        "id": "4Bjhe8y1FLx7"
      },
      "source": [
        "### 5"
      ]
    },
    {
      "cell_type": "markdown",
      "metadata": {
        "id": "-U82db8IFLx7"
      },
      "source": [
        "Напишите функцию, вычисляющую произведение всех ненулевых диагональных элементов на диагонали данной квадратной матрицы. Например, если на вход поступает матрица\n",
        "$$\n",
        "\\begin{pmatrix}\n",
        "0 & 1 & 2\\\\\n",
        "3 & 4 & 5\\\\\n",
        "6 & 7 & 8\\\\\n",
        "\\end{pmatrix},\n",
        "$$\n",
        "то ответом будет 32."
      ]
    },
    {
      "cell_type": "code",
      "execution_count": null,
      "metadata": {
        "collapsed": true,
        "id": "KXSqcJtDFLx7"
      },
      "outputs": [],
      "source": [
        "def diag_prod(matrix):\n",
        "    # your code here"
      ]
    },
    {
      "cell_type": "code",
      "execution_count": null,
      "metadata": {
        "collapsed": true,
        "id": "tVMMGkuwFLx7"
      },
      "outputs": [],
      "source": [
        "matrix = np.array([[0, 1, 2], [3, 4, 5], [6, 7, 8]])\n",
        "diag_prod(matrix)"
      ]
    },
    {
      "cell_type": "markdown",
      "metadata": {
        "id": "N4x5oKBqFLx8"
      },
      "source": [
        "### 6"
      ]
    },
    {
      "cell_type": "markdown",
      "metadata": {
        "id": "X_KxN00rFLx8"
      },
      "source": [
        "Для улучшения качества работы некоторых алгоритмов машинного обучения может быть полезно использовать [нормализацию данных](https://vk.cc/8xmfQk), чтобы привести признаки в выборке к одному масштабу — а именно, из каждого столбца вычесть среднее его значений и поделить на их стандартное отклонение. Напишите функцию, нормализующую входящую матрицу (по столбцам). Например, если на вход подается матрица\n",
        "$$\n",
        "\\begin{pmatrix}\n",
        "1 & 4 & 4200\\\\\n",
        "0 & 10 & 5000\\\\\n",
        "1 & 2 & 1000\\\\\n",
        "\\end{pmatrix},\n",
        "$$\n",
        "то результатом с точностью до сотых будет матрица\n",
        "$$\n",
        "\\begin{pmatrix}\n",
        "0.71 & -0.39 & 0.46\\\\\n",
        "-1.41 & 1.37 & 0.93\\\\\n",
        "0.71 & -0.98 & -1.39\\\\\n",
        "\\end{pmatrix}\n",
        "$$\n",
        "\n",
        "_Подсказка. Учтите, что в вашей матрице не должно получаться никаких nan. Подумайте, в каком случае они могут возникнуть и как обойти эту проблему._\n"
      ]
    },
    {
      "cell_type": "code",
      "execution_count": null,
      "metadata": {
        "collapsed": true,
        "id": "8-1UM3LqFLx8"
      },
      "outputs": [],
      "source": [
        "def normalize(matrix):\n",
        "    # your code here"
      ]
    },
    {
      "cell_type": "code",
      "execution_count": null,
      "metadata": {
        "collapsed": true,
        "id": "5s0nCZJNFLx8"
      },
      "outputs": [],
      "source": [
        "matrix = np.array([[1, 4, 4200], [0, 10, 5000], [1, 2, 1000]])\n",
        "normalize(matrix)"
      ]
    },
    {
      "cell_type": "markdown",
      "metadata": {
        "id": "GGezY0NEFLx9"
      },
      "source": [
        "### 7"
      ]
    },
    {
      "cell_type": "markdown",
      "metadata": {
        "id": "yBWZF7a5FLx9"
      },
      "source": [
        "Напишите функцию, вычисляющую какую-нибудь первообразную данного полинома (в качестве константы возьмите ваше любимое число). Например, если на вход поступает массив коэффициентов `array([4, 6, 0, 1])`, что соответствует полиному $4x^3 + 6x^2 + 1$, на выходе получается массив коэффициентов `array([1, 2, 0, 1, -2])`, соответствующий полиному $x^4 + 2x^3 + x - 2$."
      ]
    },
    {
      "cell_type": "code",
      "execution_count": null,
      "metadata": {
        "collapsed": true,
        "id": "IWU9ISN_FLx9"
      },
      "outputs": [],
      "source": [
        "def antiderivative(coefs):\n",
        "    # your code here"
      ]
    },
    {
      "cell_type": "code",
      "execution_count": null,
      "metadata": {
        "collapsed": true,
        "id": "9G2gNNZxFLx9"
      },
      "outputs": [],
      "source": [
        "coefs = np.array([4, 6, 0, 1])\n",
        "antiderivative(coefs)"
      ]
    },
    {
      "cell_type": "markdown",
      "metadata": {
        "id": "6LtnZ4T1FLx9"
      },
      "source": [
        "### 8"
      ]
    },
    {
      "cell_type": "markdown",
      "metadata": {
        "id": "vGq8Aao0FLx-"
      },
      "source": [
        "Напишите функцию, делающую данную [треугольную матрицу](https://ru.wikipedia.org/wiki/%D0%A2%D1%80%D0%B5%D1%83%D0%B3%D0%BE%D0%BB%D1%8C%D0%BD%D0%B0%D1%8F_%D0%BC%D0%B0%D1%82%D1%80%D0%B8%D1%86%D0%B0) симметричной. Например, если на вход поступает матрица\n",
        "$$\n",
        "\\begin{pmatrix}\n",
        "1 & 2 & 3 & 4\\\\\n",
        "0 & 5 & 6 & 7\\\\\n",
        "0 & 0 & 8 & 9\\\\\n",
        "0 & 0 & 0 & 10\\\\\n",
        "\\end{pmatrix},\n",
        "$$\n",
        "то на выходе должна быть матрица\n",
        "$$\n",
        "\\begin{pmatrix}\n",
        "1 & 2 & 3 & 4\\\\\n",
        "2 & 5 & 6 & 7\\\\\n",
        "3 & 6 & 8 & 9\\\\\n",
        "4 & 7 & 9 & 10\\\\\n",
        "\\end{pmatrix}.\n",
        "$$"
      ]
    },
    {
      "cell_type": "code",
      "execution_count": null,
      "metadata": {
        "collapsed": true,
        "id": "X9YCwhUxFLx-"
      },
      "outputs": [],
      "source": [
        "def make_symmetric(matrix):\n",
        "    # your code here"
      ]
    },
    {
      "cell_type": "code",
      "execution_count": null,
      "metadata": {
        "collapsed": true,
        "id": "ShNVSsM-FLx-"
      },
      "outputs": [],
      "source": [
        "matrix = np.array([[1, 2, 3, 4], [0, 5, 6, 7], [0, 0, 8, 9], [0, 0, 0, 10]])\n",
        "make_symmetric(matrix)"
      ]
    },
    {
      "cell_type": "markdown",
      "metadata": {
        "id": "JV_y8k8rFLx-"
      },
      "source": [
        "### 9"
      ]
    },
    {
      "cell_type": "markdown",
      "metadata": {
        "id": "7pX12jtoFLx_"
      },
      "source": [
        "Напишите функцию, создающую прямоугольную матрицу из m одинаковых строк, заполненных последовательными натуральными числами от a до b включительно в возрастающем порядке. Например, если m = 5, a = 3, b = 10, то на выходе будет матрица\n",
        "$$\n",
        "\\begin{pmatrix}\n",
        "3 & 4 & 5 & 6 & 7 & 8 & 9 & 10\\\\\n",
        "3 & 4 & 5 & 6 & 7 & 8 & 9 & 10\\\\\n",
        "3 & 4 & 5 & 6 & 7 & 8 & 9 & 10\\\\\n",
        "3 & 4 & 5 & 6 & 7 & 8 & 9 & 10\\\\\n",
        "3 & 4 & 5 & 6 & 7 & 8 & 9 & 10\\\\\n",
        "\\end{pmatrix}\n",
        "$$"
      ]
    },
    {
      "cell_type": "code",
      "execution_count": null,
      "metadata": {
        "collapsed": true,
        "id": "g2yZmQ4gFLx_"
      },
      "outputs": [],
      "source": [
        "def construct_matrix(m, a, b):\n",
        "    # your code here"
      ]
    },
    {
      "cell_type": "code",
      "execution_count": null,
      "metadata": {
        "collapsed": true,
        "id": "bsaKjkvOFLx_"
      },
      "outputs": [],
      "source": [
        "m = 5\n",
        "a = 3\n",
        "b = 10\n",
        "construct_matrix(m, a, b)"
      ]
    },
    {
      "cell_type": "markdown",
      "metadata": {
        "id": "G9vWLQZWFLx_"
      },
      "source": [
        "### 10"
      ]
    },
    {
      "cell_type": "markdown",
      "metadata": {
        "id": "USWqm0x7FLx_"
      },
      "source": [
        "Напишите функцию, вычисляющую [косинусную близость](https://en.wikipedia.org/wiki/Cosine_similarity) двух векторов. Например, если на вход поступают вектора `array([-2, 1, 0, -5, 4, 3, -3])` и `array([0, 2, -2, 10, 6, 0, 0])`, ответом будет -0.25."
      ]
    },
    {
      "cell_type": "code",
      "execution_count": null,
      "metadata": {
        "collapsed": true,
        "id": "48XiDQTBFLyA"
      },
      "outputs": [],
      "source": [
        "def cosine_similarity(vec1, vec2):\n",
        "    # your code here"
      ]
    },
    {
      "cell_type": "code",
      "execution_count": null,
      "metadata": {
        "collapsed": true,
        "id": "YmEsEYHrFLyA"
      },
      "outputs": [],
      "source": [
        "vec1 = np.array([-2, 1, 0, -5, 4, 3, -3])\n",
        "vec2 = np.array([0, 2, -2, 10, 6, 0, 0])\n",
        "cosine_similarity(vec1, vec2)"
      ]
    },
    {
      "cell_type": "markdown",
      "metadata": {
        "id": "ahfJyTsDuaD6"
      },
      "source": [
        "## Раздел 2. Pandas"
      ]
    },
    {
      "cell_type": "markdown",
      "metadata": {
        "id": "9y0Eqft-ugr_"
      },
      "source": [
        "### О задании"
      ]
    },
    {
      "cell_type": "markdown",
      "metadata": {
        "id": "55u9lnUtugr_"
      },
      "source": [
        "В данном разделе вы попрактикуетесь в работе с библиотекой pandas!"
      ]
    },
    {
      "cell_type": "code",
      "execution_count": 20,
      "metadata": {
        "collapsed": true,
        "id": "DFu7UczHugr_"
      },
      "outputs": [],
      "source": [
        "import pandas as pd"
      ]
    },
    {
      "cell_type": "markdown",
      "metadata": {
        "id": "XJrwOn9mugsA"
      },
      "source": [
        "Обратите внимание, что практически во всех заданиях вам потребуется написать какой-то текст в виде вывода/результата/итога/какого-то резюме. Пожалуйста, не ленитесь, и пишите выводы ***подробно***, существенная часть баллов будет выставляться именно за выводы, так как в анализе данных они имеют большое значение. Таким образом, на любое задание, сформулированное в виде вопроса, отвечайте текстом, подкрепляя ваши слова написанным и выполненным кодом. Текст выводов/комментариев пишите в отдельных ячейках, используя средства текстового редактора Jupyter Notebook/Google Colab, при необходимости используйте средства *выделения*.\n",
        "\n",
        "При решении задач, когда вам необходимо сделать какой-то фильтр, срез, выборку, или иное действие с данными, запрещается использовать циклы (`for`, `while`) и оператор `if`.\n"
      ]
    },
    {
      "cell_type": "markdown",
      "metadata": {
        "id": "dGrzCZkIZKge"
      },
      "source": [
        "### 1"
      ]
    },
    {
      "cell_type": "markdown",
      "metadata": {
        "id": "zGH53krziiVU"
      },
      "source": [
        "В этом разделе домашнего задания вы поработаете с данными исследования зависимости средней продолжительности жизни по странам от количества употребляемого в стране алкоголя.\n",
        "\n",
        "Вашему вниманию представлено два датасета: drinks.csv и lifeexpectancy-verbose.csv\n",
        "\n",
        "Первая таблица содержит в себе сводные данные по количеству употребляемого алкоголя в каждой стране.\n",
        "\n",
        "Описание датасета:\n",
        "- country -\tName of the country (String)\n",
        "- beer_servings\t- Number of beer servings per person in the country (Integer)\n",
        "- spirit_servings\t- Number of spirit servings per person in the country (Integer)\n",
        "- wine_servings\t- Number of wine servings per person in the country(Integer)\n",
        "- total_litres_of_pure_alcohol -\tTotal litres of pure alcohol consumed per person in the country (Float)\n",
        "\n",
        "Вторая таблица содержит в себе информацию о научных статьях и исследованиях о продолжительности жизни (в разных категориях и для разных групп) по той или иной стране."
      ]
    },
    {
      "cell_type": "markdown",
      "metadata": {
        "id": "rQyUvNgkZKge"
      },
      "source": [
        "Откройте в ноутбуке оба файла с данными. Какой размер имеют таблицы? Выведите первые 5 и последние 5 строк для обеих таблиц. Сколько уникальных стран представлено в каждой из таблиц? Сделайте выводы."
      ]
    },
    {
      "cell_type": "code",
      "execution_count": 16,
      "metadata": {},
      "outputs": [
        {
          "data": {
            "text/plain": [
              "193"
            ]
          },
          "execution_count": 16,
          "metadata": {},
          "output_type": "execute_result"
        }
      ],
      "source": [
        "drinks['country'].unique().size"
      ]
    },
    {
      "cell_type": "code",
      "execution_count": 17,
      "metadata": {
        "collapsed": true,
        "id": "nUpM5eHoZKgf"
      },
      "outputs": [
        {
          "name": "stdout",
          "output_type": "stream",
          "text": [
            "Размер таблицы: (193, 6)\n",
            "Количество уникальных стран: 193\n"
          ]
        },
        {
          "data": {
            "text/html": [
              "<div>\n",
              "<style scoped>\n",
              "    .dataframe tbody tr th:only-of-type {\n",
              "        vertical-align: middle;\n",
              "    }\n",
              "\n",
              "    .dataframe tbody tr th {\n",
              "        vertical-align: top;\n",
              "    }\n",
              "\n",
              "    .dataframe thead th {\n",
              "        text-align: right;\n",
              "    }\n",
              "</style>\n",
              "<table border=\"1\" class=\"dataframe\">\n",
              "  <thead>\n",
              "    <tr style=\"text-align: right;\">\n",
              "      <th></th>\n",
              "      <th>index</th>\n",
              "      <th>country</th>\n",
              "      <th>beer_servings</th>\n",
              "      <th>spirit_servings</th>\n",
              "      <th>wine_servings</th>\n",
              "      <th>total_litres_of_pure_alcohol</th>\n",
              "    </tr>\n",
              "  </thead>\n",
              "  <tbody>\n",
              "    <tr>\n",
              "      <th>0</th>\n",
              "      <td>0</td>\n",
              "      <td>Afghanistan</td>\n",
              "      <td>0</td>\n",
              "      <td>0</td>\n",
              "      <td>0</td>\n",
              "      <td>0.0</td>\n",
              "    </tr>\n",
              "    <tr>\n",
              "      <th>1</th>\n",
              "      <td>1</td>\n",
              "      <td>Albania</td>\n",
              "      <td>89</td>\n",
              "      <td>132</td>\n",
              "      <td>54</td>\n",
              "      <td>4.9</td>\n",
              "    </tr>\n",
              "    <tr>\n",
              "      <th>2</th>\n",
              "      <td>2</td>\n",
              "      <td>Algeria</td>\n",
              "      <td>25</td>\n",
              "      <td>0</td>\n",
              "      <td>14</td>\n",
              "      <td>0.7</td>\n",
              "    </tr>\n",
              "    <tr>\n",
              "      <th>3</th>\n",
              "      <td>3</td>\n",
              "      <td>Andorra</td>\n",
              "      <td>245</td>\n",
              "      <td>138</td>\n",
              "      <td>312</td>\n",
              "      <td>12.4</td>\n",
              "    </tr>\n",
              "    <tr>\n",
              "      <th>4</th>\n",
              "      <td>4</td>\n",
              "      <td>Angola</td>\n",
              "      <td>217</td>\n",
              "      <td>57</td>\n",
              "      <td>45</td>\n",
              "      <td>5.9</td>\n",
              "    </tr>\n",
              "    <tr>\n",
              "      <th>188</th>\n",
              "      <td>188</td>\n",
              "      <td>Venezuela</td>\n",
              "      <td>333</td>\n",
              "      <td>100</td>\n",
              "      <td>3</td>\n",
              "      <td>7.7</td>\n",
              "    </tr>\n",
              "    <tr>\n",
              "      <th>189</th>\n",
              "      <td>189</td>\n",
              "      <td>Vietnam</td>\n",
              "      <td>111</td>\n",
              "      <td>2</td>\n",
              "      <td>1</td>\n",
              "      <td>2.0</td>\n",
              "    </tr>\n",
              "    <tr>\n",
              "      <th>190</th>\n",
              "      <td>190</td>\n",
              "      <td>Yemen</td>\n",
              "      <td>6</td>\n",
              "      <td>0</td>\n",
              "      <td>0</td>\n",
              "      <td>0.1</td>\n",
              "    </tr>\n",
              "    <tr>\n",
              "      <th>191</th>\n",
              "      <td>191</td>\n",
              "      <td>Zambia</td>\n",
              "      <td>32</td>\n",
              "      <td>19</td>\n",
              "      <td>4</td>\n",
              "      <td>2.5</td>\n",
              "    </tr>\n",
              "    <tr>\n",
              "      <th>192</th>\n",
              "      <td>192</td>\n",
              "      <td>Zimbabwe</td>\n",
              "      <td>64</td>\n",
              "      <td>18</td>\n",
              "      <td>4</td>\n",
              "      <td>4.7</td>\n",
              "    </tr>\n",
              "  </tbody>\n",
              "</table>\n",
              "</div>"
            ],
            "text/plain": [
              "     index      country  beer_servings  spirit_servings  wine_servings  \\\n",
              "0        0  Afghanistan              0                0              0   \n",
              "1        1      Albania             89              132             54   \n",
              "2        2      Algeria             25                0             14   \n",
              "3        3      Andorra            245              138            312   \n",
              "4        4       Angola            217               57             45   \n",
              "188    188    Venezuela            333              100              3   \n",
              "189    189      Vietnam            111                2              1   \n",
              "190    190        Yemen              6                0              0   \n",
              "191    191       Zambia             32               19              4   \n",
              "192    192     Zimbabwe             64               18              4   \n",
              "\n",
              "     total_litres_of_pure_alcohol  \n",
              "0                             0.0  \n",
              "1                             4.9  \n",
              "2                             0.7  \n",
              "3                            12.4  \n",
              "4                             5.9  \n",
              "188                           7.7  \n",
              "189                           2.0  \n",
              "190                           0.1  \n",
              "191                           2.5  \n",
              "192                           4.7  "
            ]
          },
          "execution_count": 17,
          "metadata": {},
          "output_type": "execute_result"
        }
      ],
      "source": [
        "drinks = pd.read_csv(\"/Users/nikitaevseev/Desktop/DS/MMDA&ML/drinks.csv\")\n",
        "print('Размер таблицы: ' + str(drinks.shape))\n",
        "print('Количество уникальных стран:', drinks['country'].unique().size)\n",
        "pd.concat([drinks.head(5), drinks.tail(5)])"
      ]
    },
    {
      "cell_type": "code",
      "execution_count": 19,
      "metadata": {},
      "outputs": [
        {
          "name": "stdout",
          "output_type": "stream",
          "text": [
            "Размер таблицы: (6408, 17)\n",
            "Количество уникальных стран: 194\n"
          ]
        },
        {
          "data": {
            "text/html": [
              "<div>\n",
              "<style scoped>\n",
              "    .dataframe tbody tr th:only-of-type {\n",
              "        vertical-align: middle;\n",
              "    }\n",
              "\n",
              "    .dataframe tbody tr th {\n",
              "        vertical-align: top;\n",
              "    }\n",
              "\n",
              "    .dataframe thead th {\n",
              "        text-align: right;\n",
              "    }\n",
              "</style>\n",
              "<table border=\"1\" class=\"dataframe\">\n",
              "  <thead>\n",
              "    <tr style=\"text-align: right;\">\n",
              "      <th></th>\n",
              "      <th>index</th>\n",
              "      <th>GhoCode</th>\n",
              "      <th>GhoDisplay</th>\n",
              "      <th>PublishStateCode</th>\n",
              "      <th>PublishStateDisplay</th>\n",
              "      <th>YearCode</th>\n",
              "      <th>YearDisplay</th>\n",
              "      <th>RegionCode</th>\n",
              "      <th>RegionDisplay</th>\n",
              "      <th>WorldBankIncomeGroupGroupCode</th>\n",
              "      <th>WorldBankIncomeGroupDisplay</th>\n",
              "      <th>CountryCode</th>\n",
              "      <th>CountryDisplay</th>\n",
              "      <th>SexCode</th>\n",
              "      <th>SexDisplay</th>\n",
              "      <th>DisplayValue</th>\n",
              "      <th>Numeric</th>\n",
              "    </tr>\n",
              "  </thead>\n",
              "  <tbody>\n",
              "    <tr>\n",
              "      <th>0</th>\n",
              "      <td>0</td>\n",
              "      <td>WHOSIS_000001</td>\n",
              "      <td>Life expectancy at birth (years)</td>\n",
              "      <td>PUBLISHED</td>\n",
              "      <td>Published</td>\n",
              "      <td>1990</td>\n",
              "      <td>1990</td>\n",
              "      <td>AMR</td>\n",
              "      <td>Americas</td>\n",
              "      <td>WB_LMI</td>\n",
              "      <td>Lower_middle_income</td>\n",
              "      <td>NIC</td>\n",
              "      <td>Nicaragua</td>\n",
              "      <td>MLE</td>\n",
              "      <td>Male</td>\n",
              "      <td>68</td>\n",
              "      <td>68.00000</td>\n",
              "    </tr>\n",
              "    <tr>\n",
              "      <th>1</th>\n",
              "      <td>1</td>\n",
              "      <td>WHOSIS_000002</td>\n",
              "      <td>Healthy life expectancy (HALE) at birth (years)</td>\n",
              "      <td>PUBLISHED</td>\n",
              "      <td>Published</td>\n",
              "      <td>2012</td>\n",
              "      <td>2012</td>\n",
              "      <td>EUR</td>\n",
              "      <td>Europe</td>\n",
              "      <td>WB_HI</td>\n",
              "      <td>High_income</td>\n",
              "      <td>IRL</td>\n",
              "      <td>Ireland</td>\n",
              "      <td>MLE</td>\n",
              "      <td>Male</td>\n",
              "      <td>69</td>\n",
              "      <td>69.30000</td>\n",
              "    </tr>\n",
              "    <tr>\n",
              "      <th>2</th>\n",
              "      <td>2</td>\n",
              "      <td>WHOSIS_000001</td>\n",
              "      <td>Life expectancy at birth (years)</td>\n",
              "      <td>PUBLISHED</td>\n",
              "      <td>Published</td>\n",
              "      <td>2000</td>\n",
              "      <td>2000</td>\n",
              "      <td>EMR</td>\n",
              "      <td>Eastern Mediterranean</td>\n",
              "      <td>WB_LI</td>\n",
              "      <td>Low_income</td>\n",
              "      <td>YEM</td>\n",
              "      <td>Yemen</td>\n",
              "      <td>BTSX</td>\n",
              "      <td>Both sexes</td>\n",
              "      <td>61</td>\n",
              "      <td>61.00000</td>\n",
              "    </tr>\n",
              "    <tr>\n",
              "      <th>3</th>\n",
              "      <td>3</td>\n",
              "      <td>WHOSIS_000001</td>\n",
              "      <td>Life expectancy at birth (years)</td>\n",
              "      <td>PUBLISHED</td>\n",
              "      <td>Published</td>\n",
              "      <td>2000</td>\n",
              "      <td>2000</td>\n",
              "      <td>AFR</td>\n",
              "      <td>Africa</td>\n",
              "      <td>WB_LMI</td>\n",
              "      <td>Lower_middle_income</td>\n",
              "      <td>NGA</td>\n",
              "      <td>Nigeria</td>\n",
              "      <td>FMLE</td>\n",
              "      <td>Female</td>\n",
              "      <td>48</td>\n",
              "      <td>48.00000</td>\n",
              "    </tr>\n",
              "    <tr>\n",
              "      <th>4</th>\n",
              "      <td>4</td>\n",
              "      <td>WHOSIS_000015</td>\n",
              "      <td>Life expectancy at age 60 (years)</td>\n",
              "      <td>PUBLISHED</td>\n",
              "      <td>Published</td>\n",
              "      <td>1990</td>\n",
              "      <td>1990</td>\n",
              "      <td>SEAR</td>\n",
              "      <td>South_East Asia</td>\n",
              "      <td>WB_LMI</td>\n",
              "      <td>Lower_middle_income</td>\n",
              "      <td>THA</td>\n",
              "      <td>Thailand</td>\n",
              "      <td>FMLE</td>\n",
              "      <td>Female</td>\n",
              "      <td>19</td>\n",
              "      <td>19.00000</td>\n",
              "    </tr>\n",
              "    <tr>\n",
              "      <th>6403</th>\n",
              "      <td>6403</td>\n",
              "      <td>WHOSIS_000001</td>\n",
              "      <td>Life expectancy at birth (years)</td>\n",
              "      <td>PUBLISHED</td>\n",
              "      <td>Published</td>\n",
              "      <td>2000</td>\n",
              "      <td>2000</td>\n",
              "      <td>EMR</td>\n",
              "      <td>Eastern Mediterranean</td>\n",
              "      <td>WB_LMI</td>\n",
              "      <td>Lower_middle_income</td>\n",
              "      <td>MAR</td>\n",
              "      <td>Morocco</td>\n",
              "      <td>BTSX</td>\n",
              "      <td>Both sexes</td>\n",
              "      <td>68</td>\n",
              "      <td>68.00000</td>\n",
              "    </tr>\n",
              "    <tr>\n",
              "      <th>6404</th>\n",
              "      <td>6404</td>\n",
              "      <td>WHOSIS_000015</td>\n",
              "      <td>Life expectancy at age 60 (years)</td>\n",
              "      <td>PUBLISHED</td>\n",
              "      <td>Published</td>\n",
              "      <td>1990</td>\n",
              "      <td>1990</td>\n",
              "      <td>WPR</td>\n",
              "      <td>Western Pacific</td>\n",
              "      <td>WB_UMI</td>\n",
              "      <td>Upper_middle_income</td>\n",
              "      <td>PLW</td>\n",
              "      <td>Palau</td>\n",
              "      <td>BTSX</td>\n",
              "      <td>Both sexes</td>\n",
              "      <td>16</td>\n",
              "      <td>16.00000</td>\n",
              "    </tr>\n",
              "    <tr>\n",
              "      <th>6405</th>\n",
              "      <td>6405</td>\n",
              "      <td>WHOSIS_000001</td>\n",
              "      <td>Life expectancy at birth (years)</td>\n",
              "      <td>PUBLISHED</td>\n",
              "      <td>Published</td>\n",
              "      <td>1990</td>\n",
              "      <td>1990</td>\n",
              "      <td>AFR</td>\n",
              "      <td>Africa</td>\n",
              "      <td>WB_LI</td>\n",
              "      <td>Low_income</td>\n",
              "      <td>BFA</td>\n",
              "      <td>Burkina Faso</td>\n",
              "      <td>FMLE</td>\n",
              "      <td>Female</td>\n",
              "      <td>51</td>\n",
              "      <td>51.00000</td>\n",
              "    </tr>\n",
              "    <tr>\n",
              "      <th>6406</th>\n",
              "      <td>6406</td>\n",
              "      <td>WHOSIS_000002</td>\n",
              "      <td>Healthy life expectancy (HALE) at birth (years)</td>\n",
              "      <td>PUBLISHED</td>\n",
              "      <td>Published</td>\n",
              "      <td>2012</td>\n",
              "      <td>2012</td>\n",
              "      <td>EUR</td>\n",
              "      <td>Europe</td>\n",
              "      <td>WB_LMI</td>\n",
              "      <td>Lower_middle_income</td>\n",
              "      <td>ALB</td>\n",
              "      <td>Albania</td>\n",
              "      <td>MLE</td>\n",
              "      <td>Male</td>\n",
              "      <td>64</td>\n",
              "      <td>63.50000</td>\n",
              "    </tr>\n",
              "    <tr>\n",
              "      <th>6407</th>\n",
              "      <td>6407</td>\n",
              "      <td>WHOSIS_000001</td>\n",
              "      <td>Life expectancy at birth (years)</td>\n",
              "      <td>PUBLISHED</td>\n",
              "      <td>Published</td>\n",
              "      <td>2013</td>\n",
              "      <td>2013</td>\n",
              "      <td>EUR</td>\n",
              "      <td>Europe</td>\n",
              "      <td>NaN</td>\n",
              "      <td>NaN</td>\n",
              "      <td>ARM</td>\n",
              "      <td>Armenia</td>\n",
              "      <td>BTSX</td>\n",
              "      <td>Both sexes</td>\n",
              "      <td>71</td>\n",
              "      <td>71.02699</td>\n",
              "    </tr>\n",
              "  </tbody>\n",
              "</table>\n",
              "</div>"
            ],
            "text/plain": [
              "      index        GhoCode                                       GhoDisplay  \\\n",
              "0         0  WHOSIS_000001                 Life expectancy at birth (years)   \n",
              "1         1  WHOSIS_000002  Healthy life expectancy (HALE) at birth (years)   \n",
              "2         2  WHOSIS_000001                 Life expectancy at birth (years)   \n",
              "3         3  WHOSIS_000001                 Life expectancy at birth (years)   \n",
              "4         4  WHOSIS_000015                Life expectancy at age 60 (years)   \n",
              "6403   6403  WHOSIS_000001                 Life expectancy at birth (years)   \n",
              "6404   6404  WHOSIS_000015                Life expectancy at age 60 (years)   \n",
              "6405   6405  WHOSIS_000001                 Life expectancy at birth (years)   \n",
              "6406   6406  WHOSIS_000002  Healthy life expectancy (HALE) at birth (years)   \n",
              "6407   6407  WHOSIS_000001                 Life expectancy at birth (years)   \n",
              "\n",
              "     PublishStateCode PublishStateDisplay  YearCode  YearDisplay RegionCode  \\\n",
              "0           PUBLISHED           Published      1990         1990        AMR   \n",
              "1           PUBLISHED           Published      2012         2012        EUR   \n",
              "2           PUBLISHED           Published      2000         2000        EMR   \n",
              "3           PUBLISHED           Published      2000         2000        AFR   \n",
              "4           PUBLISHED           Published      1990         1990       SEAR   \n",
              "6403        PUBLISHED           Published      2000         2000        EMR   \n",
              "6404        PUBLISHED           Published      1990         1990        WPR   \n",
              "6405        PUBLISHED           Published      1990         1990        AFR   \n",
              "6406        PUBLISHED           Published      2012         2012        EUR   \n",
              "6407        PUBLISHED           Published      2013         2013        EUR   \n",
              "\n",
              "              RegionDisplay WorldBankIncomeGroupGroupCode  \\\n",
              "0                  Americas                        WB_LMI   \n",
              "1                    Europe                         WB_HI   \n",
              "2     Eastern Mediterranean                         WB_LI   \n",
              "3                    Africa                        WB_LMI   \n",
              "4           South_East Asia                        WB_LMI   \n",
              "6403  Eastern Mediterranean                        WB_LMI   \n",
              "6404        Western Pacific                        WB_UMI   \n",
              "6405                 Africa                         WB_LI   \n",
              "6406                 Europe                        WB_LMI   \n",
              "6407                 Europe                           NaN   \n",
              "\n",
              "     WorldBankIncomeGroupDisplay CountryCode CountryDisplay SexCode  \\\n",
              "0            Lower_middle_income         NIC      Nicaragua     MLE   \n",
              "1                    High_income         IRL        Ireland     MLE   \n",
              "2                     Low_income         YEM          Yemen    BTSX   \n",
              "3            Lower_middle_income         NGA        Nigeria    FMLE   \n",
              "4            Lower_middle_income         THA       Thailand    FMLE   \n",
              "6403         Lower_middle_income         MAR        Morocco    BTSX   \n",
              "6404         Upper_middle_income         PLW          Palau    BTSX   \n",
              "6405                  Low_income         BFA   Burkina Faso    FMLE   \n",
              "6406         Lower_middle_income         ALB        Albania     MLE   \n",
              "6407                         NaN         ARM        Armenia    BTSX   \n",
              "\n",
              "      SexDisplay  DisplayValue   Numeric  \n",
              "0           Male            68  68.00000  \n",
              "1           Male            69  69.30000  \n",
              "2     Both sexes            61  61.00000  \n",
              "3         Female            48  48.00000  \n",
              "4         Female            19  19.00000  \n",
              "6403  Both sexes            68  68.00000  \n",
              "6404  Both sexes            16  16.00000  \n",
              "6405      Female            51  51.00000  \n",
              "6406        Male            64  63.50000  \n",
              "6407  Both sexes            71  71.02699  "
            ]
          },
          "execution_count": 19,
          "metadata": {},
          "output_type": "execute_result"
        }
      ],
      "source": [
        "lifeExp = pd.read_csv(\"/Users/nikitaevseev/Desktop/DS/MMDA&ML/lifeexpectancy-verbose.csv\")\n",
        "print('Размер таблицы: ' + str(lifeExp.shape))\n",
        "print('Количество уникальных стран:', lifeExp['CountryDisplay'].unique().size)\n",
        "pd.concat([lifeExp.head(5), lifeExp.tail(5)])"
      ]
    },
    {
      "cell_type": "markdown",
      "metadata": {
        "id": "8f1_cl1Ojg9r"
      },
      "source": [
        "### 2"
      ]
    },
    {
      "cell_type": "markdown",
      "metadata": {
        "id": "hOXMwdDGlAaa"
      },
      "source": [
        "Для каждого признака в рассматриваемых данных укажите тип этого признака и кратко обоснуйте, почему тип именно такой."
      ]
    },
    {
      "cell_type": "code",
      "execution_count": null,
      "metadata": {},
      "outputs": [],
      "source": [
        "Таблица drinks\n",
        "index - порядковый - индекс\n",
        "Country - категориальный - конечный список значений без порядка\n",
        "Beer serving - вещественный - численное количество\n",
        "spirit serving - вещественный - численное количество\n",
        "wine serving - вещественный - численное количество\n",
        "total liters of pure alcohol - вещественный - численное количество\n",
        "Таблица life\n",
        "index = порядковый, индекс\n",
        "GhoCode - категориальный - конечный список значений без порядка\n",
        "GhoDisplay - категориальный - конечный список значений без порядка\n",
        "PublishStateCode - категориальный - конечный список значений без порядка\n",
        "PublishStateDisplay - категориальный - конечный список значений без порядка\n",
        "YearCode - вещественный - численное количество\n",
        "YearDisplay - вещественный - численное количество\n",
        "RegionCode - категориальный - конечный список значений без порядка\n",
        "RegionDisplay - категориальный - конечный список значений без порядка\n",
        "WorldBankIncomeGroupGroupCode - категориальный - конечный список значений без порядка\n",
        "WorldBankIncomeGroupDisplay - категориальный - конечный список значений без порядка\n",
        "CountryCode - категориальный - конечный список значений без порядка\n",
        "CountryDisplay - категориальный - конечный список значений без порядка\n",
        "SexCode - категориальный - конечный список значений без порядка\n",
        "SexDisplay - категориальный - конечный список значений без порядка\n",
        "DisplayValue - вещественный - численное количество\n",
        "Numeric - вещественный - численное количество"
      ]
    },
    {
      "cell_type": "markdown",
      "metadata": {
        "id": "FxJDNYhMljdc"
      },
      "source": [
        "### 3"
      ]
    },
    {
      "cell_type": "markdown",
      "metadata": {
        "id": "UVDua9fQllw6"
      },
      "source": [
        "Внимательно изучите признаки обеих таблиц. Как вы считаете, какая из таблиц является главной (а какая сопутствующей)? Почему вы так думаете?\n",
        "\n",
        "Какой признак может представлять существенный интерес для исследования и являться целевой переменной в рамках представленного датасета? Ответ обоснуйте.\n",
        "\n",
        "***Бонус (1 бон. балл):*** Попробуйте описать задачу машинного обучения, которую вы могли бы решать для данного датасета с учетом выбранной вами раннее целевой переменной и проблематики исследования. Подробнее про постановку и формализацию задач машинного обучения, а также про различные типы таких задач — вы можете прочитать, например, вот в этой [статье](https://habr.com/ru/company/simbirsoft/blog/565396/) (в начале)"
      ]
    },
    {
      "cell_type": "markdown",
      "metadata": {
        "id": "2hrANQDyFYAK"
      },
      "source": [
        "Так как мы хотим смотреть на зависимость средних лет жизни от количества выпитого алкоголя, поэтому целевой переменной для предсказания будет количество лет жизни (lifeExp['Numeric']). А для предсказания можно использовать данные об алкоголе из таблицы drinks и данные об местоположении страны из таблицы lifeExp. Задача предсказания числового значения называется регрессией."
      ]
    },
    {
      "cell_type": "markdown",
      "metadata": {
        "id": "w4CScFwLZKgg"
      },
      "source": [
        "### 4"
      ]
    },
    {
      "cell_type": "markdown",
      "metadata": {
        "id": "eQLEQXd-ZKgg"
      },
      "source": [
        "Какова доля статей о продолжительности жизни в Африке? Какова доля статей о продолжительности жизни мужчин и доля статей о продолжительности жизни женщин среди всех статей по Африке?\n",
        "\n",
        "***Бонус (2 бон. балла):*** Сравните эти доли с аналогичными долями по другим регионам. Как вы можете объяснить возникающие сходства и различия? Прокомментируйте полученные результаты."
      ]
    },
    {
      "cell_type": "code",
      "execution_count": 36,
      "metadata": {
        "collapsed": true,
        "id": "-uzVP9fTZKgg"
      },
      "outputs": [
        {
          "name": "stdout",
          "output_type": "stream",
          "text": [
            "Доля статей о продолжительности жизни в Африке: 0.23782771535580524\n",
            "Доля статей о продолжительности жизни мужчин в Африке среди всех статей по Африке: 0.3333333333333333\n",
            "Доля статей о продолжительности жизни женщин в Африке среди всех статей по Африке: 0.3333333333333333\n"
          ]
        }
      ],
      "source": [
        "africaState = lifeExp[lifeExp['RegionDisplay'] == 'Africa']\n",
        "print('Доля статей о продолжительности жизни в Африке:', africaState.shape[0]/lifeExp.shape[0])\n",
        "print('Доля статей о продолжительности жизни мужчин в Африке среди всех статей по Африке:', africaState[africaState['SexDisplay'] == 'Male'].shape[0]/africaState.shape[0])\n",
        "print('Доля статей о продолжительности жизни женщин в Африке среди всех статей по Африке:', africaState[africaState['SexDisplay'] == 'Female'].shape[0]/africaState.shape[0])"
      ]
    },
    {
      "cell_type": "code",
      "execution_count": 45,
      "metadata": {},
      "outputs": [
        {
          "data": {
            "text/plain": [
              "RegionDisplay\n",
              "Africa                   0.237828\n",
              "Americas                 0.180243\n",
              "Eastern Mediterranean    0.113296\n",
              "Europe                   0.272940\n",
              "South_East Asia          0.056648\n",
              "Western Pacific          0.139045\n",
              "Name: Numeric, dtype: float64"
            ]
          },
          "execution_count": 45,
          "metadata": {},
          "output_type": "execute_result"
        }
      ],
      "source": [
        "lifeExp.groupby('RegionDisplay')['Numeric'].count()/lifeExp.shape[0]"
      ]
    },
    {
      "cell_type": "code",
      "execution_count": 44,
      "metadata": {},
      "outputs": [
        {
          "data": {
            "text/plain": [
              "RegionDisplay          SexDisplay\n",
              "Africa                 Both sexes    0.333333\n",
              "                       Female        0.333333\n",
              "                       Male          0.333333\n",
              "Americas               Both sexes    0.333333\n",
              "                       Female        0.333333\n",
              "                       Male          0.333333\n",
              "Eastern Mediterranean  Both sexes    0.333333\n",
              "                       Female        0.333333\n",
              "                       Male          0.333333\n",
              "Europe                 Both sexes    0.333333\n",
              "                       Female        0.333333\n",
              "                       Male          0.333333\n",
              "South_East Asia        Both sexes    0.333333\n",
              "                       Female        0.333333\n",
              "                       Male          0.333333\n",
              "Western Pacific        Both sexes    0.333333\n",
              "                       Female        0.333333\n",
              "                       Male          0.333333\n",
              "Name: Numeric, dtype: float64"
            ]
          },
          "execution_count": 44,
          "metadata": {},
          "output_type": "execute_result"
        }
      ],
      "source": [
        "lifeExp.groupby(['RegionDisplay', 'SexDisplay'])['Numeric'].count()/lifeExp.groupby('RegionDisplay')['Numeric'].count()"
      ]
    },
    {
      "cell_type": "markdown",
      "metadata": {},
      "source": [
        "Видно, что везде распределение между статьями про возраст мужчин/женщин/обоих полов одинаковое - 0.33/0.33/0.33\n",
        "Можно предположить, что в статьях если пишут про материк, то во всех разрезах - мужчины/женщины/оба пола"
      ]
    },
    {
      "cell_type": "markdown",
      "metadata": {
        "id": "3Y8ILyzlZKgg"
      },
      "source": [
        "### 5"
      ]
    },
    {
      "cell_type": "markdown",
      "metadata": {
        "id": "nEfsxhQUZKgg"
      },
      "source": [
        "Сколько всего существует видов статей с точки зрения оцениваемого параметра продолжительности жизни? Какой из этих видов статей самый популярный (написано наибольшее количество научных работ)? В рамках найденного вами самого популярного вида статей проведите сравнение, относительно какой из половых групп: мужчины, женщины или же оба пола — статей в нем было больше всего?"
      ]
    },
    {
      "cell_type": "code",
      "execution_count": null,
      "metadata": {
        "collapsed": true,
        "id": "kQVTfRKFZKgg"
      },
      "outputs": [],
      "source": [
        "lifeExp"
      ]
    },
    {
      "cell_type": "markdown",
      "metadata": {
        "id": "d9G-K_H0ZKgh"
      },
      "source": [
        "### 6"
      ]
    },
    {
      "cell_type": "markdown",
      "metadata": {
        "id": "gM69Tv9sZKgh"
      },
      "source": [
        "Выведите минимальную, среднюю, медианную и максимальную оцененную продолжительность жизни людей от рождения (life expectancy at birth). Выберите любые три страны на ваш вкус и проделайте то же самое только для статей по этим странам. Что можно сказать на основе результатов, которые вы получили?"
      ]
    },
    {
      "cell_type": "code",
      "execution_count": null,
      "metadata": {
        "collapsed": true,
        "id": "JNyWyX1pZKgh"
      },
      "outputs": [],
      "source": [
        "# your code here"
      ]
    },
    {
      "cell_type": "markdown",
      "metadata": {
        "id": "ZhzV-ygY0NI0"
      },
      "source": [
        "### 7\n",
        "\n",
        "Сформируйте результирующий датафрейм на основе проделанных вами действий в предыдущем номере. У датафрейма должно быть 4 столбца, в соответствии с заданными агреггирующими функциями: минимум, среднее, медиана, максимум, — а также 4 строки: статистика по всему датасету; статистика по трем выбранным вами странам. Сохраните программно созданный вами датафрейм в виде csv файла.\n",
        "\n",
        "*Примечание. Датафрейм необходимо создавать автоматизированным образом. Не допускается ручной перенос значений из полученных в предыдущем задании ячеек в пустой датафрейм и/или прописывание конкретных значений (чисел) в коде программы. Представьте, что у нас не 3 страны, а 100 и не 4 агреггирующих метрики, а 100!*"
      ]
    },
    {
      "cell_type": "code",
      "execution_count": null,
      "metadata": {
        "id": "kdVvSBfq0oUn"
      },
      "outputs": [],
      "source": [
        "# your code here"
      ]
    },
    {
      "cell_type": "markdown",
      "metadata": {
        "id": "L5KAIFPBZKgi"
      },
      "source": [
        "### 8"
      ]
    },
    {
      "cell_type": "markdown",
      "metadata": {
        "id": "Tv3QepvHZKgi"
      },
      "source": [
        "Есть ли в наших датасетах пропуски? Если да, то в каких столбцах? Сколько пропусков в каждом из них?\n",
        "\n",
        "Подумайте, как стоит избавиться от пропусков в каждом из столбцов, и сделайте это. Аргументируйте ваши действия.\n",
        "\n",
        "Проверьте, что пропусков нигде не осталось.\n",
        "\n",
        "*Примечание. Не забудьте сохранить все изменения! В последующих заданиях вы должны работать с уже обновленными датасетами.*"
      ]
    },
    {
      "cell_type": "code",
      "execution_count": null,
      "metadata": {
        "collapsed": true,
        "id": "wgP23TD3ZKgi"
      },
      "outputs": [],
      "source": [
        "# your code here"
      ]
    },
    {
      "cell_type": "markdown",
      "metadata": {
        "id": "VQ_ocDkOZKgh"
      },
      "source": [
        "### 9"
      ]
    },
    {
      "cell_type": "markdown",
      "metadata": {
        "id": "Z92wE5uJZKgh"
      },
      "source": [
        "Все ли признаки несут в себе полезную информацию? Почему вы так считаете? Избавьтесь от ненужных столбцов. Свой выбор аргументируйте\n",
        "\n",
        "*Примечание. Не забудьте сохранить все изменения! В последующих заданиях вы должны работать с уже обновленными датасетами.*"
      ]
    },
    {
      "cell_type": "code",
      "execution_count": null,
      "metadata": {
        "collapsed": true,
        "id": "f79iiwhuZKgh"
      },
      "outputs": [],
      "source": [
        "# your code here"
      ]
    },
    {
      "cell_type": "markdown",
      "metadata": {
        "id": "sTOh2jQ2ZKgj"
      },
      "source": [
        "### 10"
      ]
    },
    {
      "cell_type": "markdown",
      "metadata": {
        "id": "961UOK2CZKgj"
      },
      "source": [
        "Посчитайте, насколько сильно коррелируют друг с другом потребления разных видов алкоголя (beer_servings,\tspirit_servings и\twine_servings). Создайте датафрейм с попарными корреляциями этих столбцов друг с другом. Какие выводы можно сделать?"
      ]
    },
    {
      "cell_type": "code",
      "execution_count": null,
      "metadata": {
        "collapsed": true,
        "id": "9T42qGrkZKgj"
      },
      "outputs": [],
      "source": [
        "# your code here"
      ]
    },
    {
      "cell_type": "markdown",
      "metadata": {
        "id": "APDi6QkS8yWo"
      },
      "source": [
        "### 11"
      ]
    },
    {
      "cell_type": "markdown",
      "metadata": {
        "id": "ewdm3OQ98yWx"
      },
      "source": [
        "Каким образом следует осуществить соединение двух имеющихся у нас таблиц? Почему? Соедините таблицы!\n",
        "\n",
        "Получилось ли у вас задействовать все строки, и если нет, то почему? Что делать с теми строками, которые не удается задействовать, если таковые есть? Ответ обоснуйте.\n",
        "\n",
        "*Подсказка. В ответе на первый вопрос задания, а также в обосновании способа соединения таблиц вам может помочь задание 3 данного раздела ДЗ и соответствующий семинарский ноутбук!*\n",
        "\n",
        "*Примечание. Не забудьте сохранить все изменения! В последующих заданиях вы должны работать с одним объединенным датасетом.*"
      ]
    },
    {
      "cell_type": "code",
      "execution_count": null,
      "metadata": {
        "collapsed": true,
        "id": "E836k-js8yWx"
      },
      "outputs": [],
      "source": [
        "# your code here"
      ]
    },
    {
      "cell_type": "markdown",
      "metadata": {
        "id": "mwGBdBzhZKgj"
      },
      "source": [
        "### 12"
      ]
    },
    {
      "cell_type": "markdown",
      "metadata": {
        "id": "AmYX1S_HZKgj"
      },
      "source": [
        "Осуществите группировку данных по странам и типу научной статьи (многомерная группировка). В качестве столбцов значений для группировки возьмите оцененную продолжительность жизни и общее потребление алкоголя в литрах. В качестве агреггирующих функций для продолжительности жизни возьмите среднее, медиану, минимум и максимум, а для потребления алкоголя — агреггирующую функцию/функции выберите самостоятельно. Как вы можете прокомментировать свой выбор и что вы наблюдаете?"
      ]
    },
    {
      "cell_type": "code",
      "execution_count": null,
      "metadata": {
        "collapsed": true,
        "id": "xjWnCLgpZKgj"
      },
      "outputs": [],
      "source": [
        "# your code here"
      ]
    },
    {
      "cell_type": "markdown",
      "metadata": {
        "id": "WDURfWMQZxno"
      },
      "source": [
        "### 13"
      ]
    },
    {
      "cell_type": "markdown",
      "metadata": {
        "id": "yXkPGyZDZxnv"
      },
      "source": [
        "Вставьте любые два столбца из предыдущего задания, которые вы получили путем группировки, в исходную таблицу в качестве двух новых столбцов (назвать вы их можете как хотите). Разумеется, значения этих столбцов должны соответствовать значениям исходной таблицы по указанным в прошлом задании категориям.\n",
        "\n",
        "*Примечание. Не забудьте сохранить все изменения! В последующих заданиях вы должны работать с обновленным датасетом.*"
      ]
    },
    {
      "cell_type": "code",
      "execution_count": null,
      "metadata": {
        "collapsed": true,
        "id": "c5Lw4DLiZxnw"
      },
      "outputs": [],
      "source": [
        "# your code here"
      ]
    },
    {
      "cell_type": "markdown",
      "metadata": {
        "id": "zDE9degBY1sf"
      },
      "source": [
        "### 14"
      ]
    },
    {
      "cell_type": "markdown",
      "metadata": {
        "id": "V7gt5vzbY1so"
      },
      "source": [
        "Используя группировки, аргументированно ответьте на вопрос: на каких континентах средняя ожидаемая продолжительность жизни выше у мужчин, а на каких у женщин?\n",
        "\n",
        "А медианная ожидаемая продолжительность?\n",
        "\n",
        "А минимальная ожидаемая продолжительность?\n",
        "\n",
        "Сделайте выводы!\n",
        "\n",
        "*Подсказка. Казалось бы, при чем здесь тип научной статьи?*"
      ]
    },
    {
      "cell_type": "code",
      "execution_count": null,
      "metadata": {
        "collapsed": true,
        "id": "Wo2cmk4hY1so"
      },
      "outputs": [],
      "source": [
        "# your code here"
      ]
    },
    {
      "cell_type": "markdown",
      "metadata": {
        "id": "MOpl4qSimA0f"
      },
      "source": [
        "### 15"
      ]
    },
    {
      "cell_type": "markdown",
      "metadata": {
        "id": "LJw3l8htmA0o"
      },
      "source": [
        "Работая лишь с общим объединенным датасетом и не используя исходную таблицу drinks, подсчитайте среднее потребление каждого вида алкоголя и среднее общее количество литров потребляемого алкоголя на человека по всем континентам. Занесите ваши результаты в отдельный датафрейм!\n",
        "\n",
        "*Подсказка. Задача немного сложнее, чем может показаться на первый взгляд — в объединенном датасете страны встречаются разное количество раз, и из-за этого могут возникнуть определенные проблемы. Если так случится, надо подумать, как это обойти!*\n",
        "\n",
        "*Примечание. Разумеется, это необходимо сделать автоматизированно, а не перебирая каждый континент по отдельности.*"
      ]
    },
    {
      "cell_type": "code",
      "execution_count": null,
      "metadata": {
        "collapsed": true,
        "id": "gPuwfFgdmA0p"
      },
      "outputs": [],
      "source": [
        "# your code here"
      ]
    },
    {
      "cell_type": "markdown",
      "metadata": {
        "id": "iQ3Q-4AMZKgk"
      },
      "source": [
        "### 16"
      ]
    },
    {
      "cell_type": "markdown",
      "metadata": {
        "id": "brZ1VUheZKgk"
      },
      "source": [
        "Создание новых признаков (feature engineering) является одним из основных средств улучшения качества работы алгоритмов машинного обучения на этапе обработки данных, а также отличный способ увеличить глубину ваших выводов из проделанного анализа в целом! Частично мы с вами уже осуществляли feature engineering, когда добавляли новые столбцы в задании 13 данного раздела.\n",
        "\n",
        "Теперь давайте добавим в таблицу столбец, который будет показывать, какое общее количество servings per person производится в среднем по стране, к которой относится научная статья. Столбец для этого признака назовите 'total_servings'.\n",
        "\n",
        "Чем может быть полезен такой признак?\n",
        "\n",
        "***Бонус (2 бон. балла):*** Придумайте еще какой-нибудь свой осмысленный признак, который может быть полезен для анализа (несет в себе какую-то информацию), и добавьте его в таблицу. Обязательно аргументируйте, чем полезен ваш признак."
      ]
    },
    {
      "cell_type": "code",
      "execution_count": null,
      "metadata": {
        "collapsed": true,
        "id": "IUpwi7PmZKgk"
      },
      "outputs": [],
      "source": [
        "# your code here"
      ]
    },
    {
      "cell_type": "markdown",
      "metadata": {
        "id": "XlDxz7oNZKgl"
      },
      "source": [
        "### 17"
      ]
    },
    {
      "cell_type": "markdown",
      "metadata": {
        "id": "cWu51pYuZKgm"
      },
      "source": [
        "Есть ли в данных категориальные признаки, которые принимают значения строк, а не чисел? Если да, то для многих алгоритмов это может стать серьезным препятствием, поэтому закодируйте категориальные признаки так, чтобы к данным можно было применить любые алгоритмы. Аргументируйте выбор методов кодирования.\n",
        "\n",
        "*Подсказка. Вам могут помочь Label encoding и One-Hot Encoding. Но будьте внимательны! У каждого из этих методов есть свои сильные и слабые стороны, а также ограничения применимости.*"
      ]
    },
    {
      "cell_type": "code",
      "execution_count": null,
      "metadata": {
        "collapsed": true,
        "id": "KlP_Pz31ZKgm"
      },
      "outputs": [],
      "source": [
        "# your code here"
      ]
    },
    {
      "cell_type": "markdown",
      "metadata": {
        "id": "v3DjKVAlZKgk"
      },
      "source": [
        "### 18"
      ]
    },
    {
      "cell_type": "markdown",
      "metadata": {
        "id": "CJrnBovsZKgk"
      },
      "source": [
        "Придумайте какое-нибудь своё интересное задание на анализ предлагаемых данных и решите его.\n",
        "\n",
        "Креативность в этом задании приветствуется, и за нее можно получить ***1-2 бонусных балла***!\n",
        "\n",
        "*Подсказка. Вы можете вдохновляться различными заданиями из этого ДЗ, как, например, заданиями: 4, 6, 10, 12, 14, 15, 16. Но, чтобы получить бонусные баллы, лучше не используйте аналогичные идеи, а придумайте что-то своё!*"
      ]
    },
    {
      "cell_type": "code",
      "execution_count": null,
      "metadata": {
        "collapsed": true,
        "id": "-7TpyG0RZKgl"
      },
      "outputs": [],
      "source": [
        "# your code here"
      ]
    },
    {
      "cell_type": "markdown",
      "metadata": {
        "id": "rGRobnalZKgm"
      },
      "source": [
        "## Бонусная часть на анализ целевой переменной (до 5 бонусных баллов)"
      ]
    },
    {
      "cell_type": "markdown",
      "metadata": {
        "id": "6yIziTqLNLbj"
      },
      "source": [
        "После всего проделанного анализа и подготовки данных мы можем перейти непосредственно к ответу на исходный вопрос исследования, который был сформулирован вами в задании 3 данного раздела."
      ]
    },
    {
      "cell_type": "markdown",
      "metadata": {
        "id": "RmEQBtkJZKgm"
      },
      "source": [
        "### 19\n",
        "\n",
        "***Бонус (5 бон. баллов):*** Дайте развернутый, обоснованный, подкрепленный данными и написанным вами кодом ответ на вопрос, влияют ли признаки зависимой таблицы на целевую переменную из главной таблицы и, если да, то каким именно образом влияют?\n",
        "\n",
        "Обязательно аргументируйте полученные вами результаты и выводы. Чем подробнее и обоснованнее анализ вы проведете в рамках данного бонусного задания, тем больше бонусных баллов получите! Вы можете использовать подходы и методы из рассмотренных на семинаре и в рамках данного домашнего задания, а можете придумать и что-то своё. Креативность максимально приветствуется!"
      ]
    },
    {
      "cell_type": "code",
      "execution_count": null,
      "metadata": {
        "collapsed": true,
        "id": "hbkcHR3bZKgm"
      },
      "outputs": [],
      "source": [
        "# your code here"
      ]
    },
    {
      "cell_type": "markdown",
      "metadata": {
        "id": "UMiAKN_xPf-E"
      },
      "source": [
        "    {your final conclusion here}"
      ]
    }
  ],
  "metadata": {
    "colab": {
      "provenance": []
    },
    "kernelspec": {
      "display_name": "Python 3",
      "language": "python",
      "name": "python3"
    },
    "language_info": {
      "codemirror_mode": {
        "name": "ipython",
        "version": 3
      },
      "file_extension": ".py",
      "mimetype": "text/x-python",
      "name": "python",
      "nbconvert_exporter": "python",
      "pygments_lexer": "ipython3",
      "version": "3.10.12"
    }
  },
  "nbformat": 4,
  "nbformat_minor": 0
}
