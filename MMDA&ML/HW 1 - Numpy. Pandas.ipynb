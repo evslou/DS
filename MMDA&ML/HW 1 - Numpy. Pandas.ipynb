{
  "cells": [
    {
      "cell_type": "markdown",
      "metadata": {
        "id": "f1gL2DEfNRGu"
      },
      "source": [
        "# Современные методы анализа данных и машинного обучения, БИ\n",
        "\n",
        "## НИУ ВШЭ, 2023-24 учебный год"
      ]
    },
    {
      "cell_type": "markdown",
      "metadata": {
        "id": "fdTH3pxXFLxw"
      },
      "source": [
        "### Домашнее задание №1. Библиотеки Numpy & Pandas"
      ]
    },
    {
      "cell_type": "markdown",
      "metadata": {
        "id": "Sk5URBvkFLxx"
      },
      "source": [
        "Задание выполнил(а):\n",
        "\n",
        " Евсеев Никита"
      ]
    },
    {
      "cell_type": "markdown",
      "metadata": {
        "id": "kqVyveO4FLxx"
      },
      "source": [
        "### Общая информация"
      ]
    },
    {
      "cell_type": "markdown",
      "metadata": {
        "id": "2A0wmBWwFLxx"
      },
      "source": [
        "__Дата выдачи:__ 09.02.2024\n",
        "\n",
        "__Дедлайн:__ 04:00 19.02.2024"
      ]
    },
    {
      "cell_type": "markdown",
      "metadata": {
        "id": "qK8Ari9eFLxz"
      },
      "source": [
        "### Оценивание и штрафы\n",
        "\n",
        "Каждая задача первого раздела (Numpy) оценивается в 2 балла.\n",
        "\n",
        "Оценка за первый раздел вычисляется по следующей формуле:\n",
        "\n",
        "$$\n",
        "s_{\\text{numpy}} \\times 1/2 ,\n",
        "$$\n",
        "\n",
        "где $s_{\\text{numpy}}$  — количество баллов, которое вы набрали в сумме по задачам первого раздела.\n",
        "\n",
        "Каждая задача второго раздела (Pandas) оценивается в 3 балла.\n",
        "\n",
        "Оценка за второй раздел вычисляется по следующей формуле:\n",
        "\n",
        "$$\n",
        "s_{\\text{pandas}} \\times 10/54 ,\n",
        "$$\n",
        "\n",
        "где $s_{\\text{pandas}}$  — количество баллов, которое вы набрали в сумме по задачам второго раздела.\n",
        "\n",
        "Общая оценка за ДЗ вычисляется по следующей формуле:\n",
        "\n",
        "$$\n",
        "O_{1} \\times 3/10 + O_2 \\times 7/10 ,\n",
        "$$\n",
        "\n",
        "где $O_1, O_2$  — оценки за первый и второй раздел соответственно.\n",
        "\n",
        "За сдачу задания позже срока на итоговую оценку за задание накладывается штраф в размере 1 **вторичный** балл в день, но  задержка не может быть больше недели.\n",
        "\n",
        "**Важно:** В этом домашнем задании предусмотрено несколько заданий, за которые можно получить бонусные баллы. Бонусные баллы прибавляются к обычным баллам, и может выйти так, что ваша итоговая оценка станет больше 10. В таком случае именно это и будет являться вашей оценкой. То есть за это ДЗ **можно** получить больше 10"
      ]
    },
    {
      "cell_type": "markdown",
      "metadata": {
        "id": "nEGThfK6FLx0"
      },
      "source": [
        "__Внимание!__ Домашнее задание выполняется самостоятельно. «Похожие» решения считаются плагиатом и все задействованные студенты (в том числе те, у кого списали) не могут получить за него больше 0 баллов."
      ]
    },
    {
      "cell_type": "markdown",
      "metadata": {
        "id": "zNja-u8vFLx0"
      },
      "source": [
        "### Формат сдачи"
      ]
    },
    {
      "cell_type": "markdown",
      "metadata": {
        "id": "_H-cf8uaFLx0"
      },
      "source": [
        "Загрузка файлов с решениями происходит в системе [Anytask](https://anytask.org/). Необходимо загружать файл с расширением .ipynb (питоновский ноутбук)\n",
        "\n",
        "Инвайт для подключения к странице курса в системе — будет указан для каждой группы в нашем телеграмм-канале"
      ]
    },
    {
      "cell_type": "markdown",
      "metadata": {
        "id": "nRVHx0jluMpn"
      },
      "source": [
        "## Раздел 1. Numpy"
      ]
    },
    {
      "cell_type": "markdown",
      "metadata": {
        "id": "TEVawss2FLxy"
      },
      "source": [
        "### О задании"
      ]
    },
    {
      "cell_type": "markdown",
      "metadata": {
        "id": "NXNpYAFdFLxz"
      },
      "source": [
        "В данном разделе вы попрактикуетесь в работе с библиотекой numpy!"
      ]
    },
    {
      "cell_type": "code",
      "execution_count": 119,
      "metadata": {
        "collapsed": true,
        "id": "4gsWSgTIFLx1"
      },
      "outputs": [],
      "source": [
        "import numpy as np"
      ]
    },
    {
      "cell_type": "markdown",
      "metadata": {
        "id": "ApiPWJygFLx2"
      },
      "source": [
        "Во всех задачах необходимо написать код решения внутри функции и проверить его работу, вызвав функцию для данных из условия.\n",
        "\n",
        "При решении задач запрещается использовать циклы (`for`, `while`) и оператор `if`.\n",
        "\n",
        "Везде, где встречаются массивы или матрицы, подразумевается, что это `numpy.array`."
      ]
    },
    {
      "cell_type": "markdown",
      "metadata": {
        "id": "8fc_z7yNFLx2"
      },
      "source": [
        "### 1"
      ]
    },
    {
      "cell_type": "markdown",
      "metadata": {
        "id": "ETNlMgiZFLx3"
      },
      "source": [
        "Напишите функцию, возвращающую округленную взвешенную сумму оценок по данным оценкам и весам. Можете посчитать свою оценку за курс :) В нашем случае вес экзамена равен 0.32, вес домашек - 0.28, вес групповых проектов - 0.12, вес аудиторки - 0.14, вес контрольной - 0.14. Например, если экзамен написан на 6, домашки сданы на 9, проекты закрыты на 8, оценка за аудиторку 7, а контрольная написана на 10 - итоговая оценка будет хорошо - 7"
      ]
    },
    {
      "cell_type": "code",
      "execution_count": 209,
      "metadata": {
        "collapsed": true,
        "id": "VDEhJbQ-FLx3"
      },
      "outputs": [],
      "source": [
        "def result_mark(weights, marks):\n",
        "    return int(np.sum(weights * marks) + 0.5)"
      ]
    },
    {
      "cell_type": "code",
      "execution_count": 210,
      "metadata": {
        "collapsed": true,
        "id": "NcaSNNLNFLx3"
      },
      "outputs": [
        {
          "data": {
            "text/plain": [
              "7"
            ]
          },
          "execution_count": 210,
          "metadata": {},
          "output_type": "execute_result"
        }
      ],
      "source": [
        "weights = np.array([0.32, 0.18, 0.12, 0.14, 0.14])\n",
        "marks = np.array([6, 9, 8, 7, 10])\n",
        "result_mark(weights, marks)"
      ]
    },
    {
      "cell_type": "markdown",
      "metadata": {
        "id": "J0V1vikQFLx3"
      },
      "source": [
        "### 2"
      ]
    },
    {
      "cell_type": "markdown",
      "metadata": {
        "id": "-7GYYXZ-FLx4"
      },
      "source": [
        "Напишите функцию, меняющую каждое третье (начиная с 0) значение массива целых чисел на заданное число. Например, если на вход поступает массив `array([3, 5, 1, 0, -3, 22, 213436])` и число `-111`, то на выходе должен получиться массив `array([-111, 5, 1, -111, -3, 22, -111])`."
      ]
    },
    {
      "cell_type": "code",
      "execution_count": 211,
      "metadata": {
        "collapsed": true,
        "id": "bCl2jHbqFLx4"
      },
      "outputs": [],
      "source": [
        "def change_array(array, number):\n",
        "    array[::3] = number\n",
        "    return array"
      ]
    },
    {
      "cell_type": "code",
      "execution_count": 212,
      "metadata": {
        "collapsed": true,
        "id": "Gpq8NhDLFLx4"
      },
      "outputs": [
        {
          "data": {
            "text/plain": [
              "array([-111,    5,    1, -111,   -3,   22, -111])"
            ]
          },
          "execution_count": 212,
          "metadata": {},
          "output_type": "execute_result"
        }
      ],
      "source": [
        "array = np.array([3, 5, 1, 0, -3, 22, 213436])\n",
        "number = -111\n",
        "change_array(array, number)"
      ]
    },
    {
      "cell_type": "markdown",
      "metadata": {
        "id": "Sal1bM6RFLx4"
      },
      "source": [
        "### 3"
      ]
    },
    {
      "cell_type": "markdown",
      "metadata": {
        "id": "au8Az2JjFLx5"
      },
      "source": [
        "Напишите функцию, выдающую индексы «близких» элементов заданных массивов, а именно тех пар элементов, чей модуль разницы не превосходит заданного значения. Например, если на вход поступают массив `array([1.5, 0.5, 2, -4.1, -3, 6, -1])`, массив `array([1.2, 0.5, 1, -4, 3, 0, -1.2])` и число `0.5`, то на выходе должен получиться массив `array([0, 1, 3, 6])` (_**важно: не `tuple`, а одномерный массив типа `numpy.ndarray` (то есть `.ndim` от него равно 1)!**_)."
      ]
    },
    {
      "cell_type": "code",
      "execution_count": 213,
      "metadata": {
        "collapsed": true,
        "id": "WacJagotFLx5"
      },
      "outputs": [],
      "source": [
        "def find_close(array1, array2, precision):\n",
        "    return np.where(abs(array1 - array2) <= precision)[0]"
      ]
    },
    {
      "cell_type": "code",
      "execution_count": 214,
      "metadata": {
        "collapsed": true,
        "id": "zFLktJlAFLx5"
      },
      "outputs": [
        {
          "data": {
            "text/plain": [
              "array([0, 1, 3, 6])"
            ]
          },
          "execution_count": 214,
          "metadata": {},
          "output_type": "execute_result"
        }
      ],
      "source": [
        "array1 = np.array([1.5, 0.5, 2, -4.1, -3, 6, -1])\n",
        "array2 = np.array([1.2, 0.5, 1, -4, 3, 0, -1.2])\n",
        "precision = 0.5\n",
        "find_close(array1, array2, precision)"
      ]
    },
    {
      "cell_type": "markdown",
      "metadata": {
        "id": "vIuNrOzMFLx6"
      },
      "source": [
        "### 4"
      ]
    },
    {
      "cell_type": "markdown",
      "metadata": {
        "id": "ygLvIXXaFLx6"
      },
      "source": [
        "Напишите функцию, которая составляет блочную матрицу из четырех блоков, где каждый блок - это заданная матрица. Например, если на вход поступает матрица\n",
        "$$\n",
        "\\begin{pmatrix}\n",
        "0 & 1 & 2\\\\\n",
        "3 & 4 & 5\\\\\n",
        "\\end{pmatrix},\n",
        "$$\n",
        "то ответом будет матрица\n",
        "$$\n",
        "\\begin{pmatrix}\n",
        "0 & 1 & 2 & 0 & 1 & 2\\\\\n",
        "3 & 4 & 5 & 3 & 4 & 5\\\\\n",
        "0 & 1 & 2 & 0 & 1 & 2\\\\\n",
        "3 & 4 & 5 & 3 & 4 & 5\\\\\n",
        "\\end{pmatrix}\n",
        "$$"
      ]
    },
    {
      "cell_type": "code",
      "execution_count": 215,
      "metadata": {
        "collapsed": true,
        "id": "3ZSvD5CbFLx6"
      },
      "outputs": [],
      "source": [
        "def block_matrix(block):\n",
        "    return np.vstack((np.hstack((block, block)), np.hstack((block, block))))"
      ]
    },
    {
      "cell_type": "code",
      "execution_count": 216,
      "metadata": {
        "collapsed": true,
        "id": "x2zSnETKFLx6"
      },
      "outputs": [
        {
          "data": {
            "text/plain": [
              "array([[0, 1, 2, 0, 1, 2],\n",
              "       [3, 4, 5, 3, 4, 5],\n",
              "       [0, 1, 2, 0, 1, 2],\n",
              "       [3, 4, 5, 3, 4, 5]])"
            ]
          },
          "execution_count": 216,
          "metadata": {},
          "output_type": "execute_result"
        }
      ],
      "source": [
        "block = np.array([[0, 1, 2], [3, 4, 5]])\n",
        "block_matrix(block)"
      ]
    },
    {
      "cell_type": "markdown",
      "metadata": {
        "id": "4Bjhe8y1FLx7"
      },
      "source": [
        "### 5"
      ]
    },
    {
      "cell_type": "markdown",
      "metadata": {
        "id": "-U82db8IFLx7"
      },
      "source": [
        "Напишите функцию, вычисляющую произведение всех ненулевых диагональных элементов на диагонали данной квадратной матрицы. Например, если на вход поступает матрица\n",
        "$$\n",
        "\\begin{pmatrix}\n",
        "0 & 1 & 2\\\\\n",
        "3 & 4 & 5\\\\\n",
        "6 & 7 & 8\\\\\n",
        "\\end{pmatrix},\n",
        "$$\n",
        "то ответом будет 32."
      ]
    },
    {
      "cell_type": "code",
      "execution_count": 217,
      "metadata": {
        "collapsed": true,
        "id": "KXSqcJtDFLx7"
      },
      "outputs": [],
      "source": [
        "def diag_prod(matrix):\n",
        "    matrix1 = matrix * np.identity(len(matrix))\n",
        "    return np.prod(matrix[matrix1 != 0])"
      ]
    },
    {
      "cell_type": "code",
      "execution_count": 218,
      "metadata": {
        "collapsed": true,
        "id": "tVMMGkuwFLx7"
      },
      "outputs": [
        {
          "data": {
            "text/plain": [
              "32"
            ]
          },
          "execution_count": 218,
          "metadata": {},
          "output_type": "execute_result"
        }
      ],
      "source": [
        "matrix = np.array([[0, 1, 2], [3, 4, 5], [6, 7, 8]])\n",
        "diag_prod(matrix)"
      ]
    },
    {
      "cell_type": "markdown",
      "metadata": {
        "id": "N4x5oKBqFLx8"
      },
      "source": [
        "### 6"
      ]
    },
    {
      "cell_type": "markdown",
      "metadata": {
        "id": "X_KxN00rFLx8"
      },
      "source": [
        "Для улучшения качества работы некоторых алгоритмов машинного обучения может быть полезно использовать [нормализацию данных](https://vk.cc/8xmfQk), чтобы привести признаки в выборке к одному масштабу — а именно, из каждого столбца вычесть среднее его значений и поделить на их стандартное отклонение. Напишите функцию, нормализующую входящую матрицу (по столбцам). Например, если на вход подается матрица\n",
        "$$\n",
        "\\begin{pmatrix}\n",
        "1 & 4 & 4200\\\\\n",
        "0 & 10 & 5000\\\\\n",
        "1 & 2 & 1000\\\\\n",
        "\\end{pmatrix},\n",
        "$$\n",
        "то результатом с точностью до сотых будет матрица\n",
        "$$\n",
        "\\begin{pmatrix}\n",
        "0.71 & -0.39 & 0.46\\\\\n",
        "-1.41 & 1.37 & 0.93\\\\\n",
        "0.71 & -0.98 & -1.39\\\\\n",
        "\\end{pmatrix}\n",
        "$$\n",
        "\n",
        "_Подсказка. Учтите, что в вашей матрице не должно получаться никаких nan. Подумайте, в каком случае они могут возникнуть и как обойти эту проблему._\n"
      ]
    },
    {
      "cell_type": "code",
      "execution_count": 219,
      "metadata": {
        "collapsed": true,
        "id": "8-1UM3LqFLx8"
      },
      "outputs": [],
      "source": [
        "def normalize(matrix):\n",
        "    mat = np.sum(matrix, axis=0) / len(matrix)\n",
        "    mat2 = matrix - mat\n",
        "    mat3 = (np.sum((mat2 ** 2 / len(matrix)), axis=0) ** 0.5)\n",
        "    mat2[:, np.where(mat3 != 0)] = mat2[:, np.where(mat3 != 0)] / mat3[mat3 != 0]\n",
        "    return mat2"
      ]
    },
    {
      "cell_type": "code",
      "execution_count": 220,
      "metadata": {
        "collapsed": true,
        "id": "5s0nCZJNFLx8"
      },
      "outputs": [
        {
          "data": {
            "text/plain": [
              "array([[ 0.70710678, -0.39223227,  0.46291005],\n",
              "       [-1.41421356,  1.37281295,  0.9258201 ],\n",
              "       [ 0.70710678, -0.98058068, -1.38873015]])"
            ]
          },
          "execution_count": 220,
          "metadata": {},
          "output_type": "execute_result"
        }
      ],
      "source": [
        "matrix = np.array([[1, 4, 4200], [0, 10, 5000], [1, 2, 1000]])\n",
        "normalize(matrix)"
      ]
    },
    {
      "cell_type": "markdown",
      "metadata": {
        "id": "GGezY0NEFLx9"
      },
      "source": [
        "### 7"
      ]
    },
    {
      "cell_type": "markdown",
      "metadata": {
        "id": "yBWZF7a5FLx9"
      },
      "source": [
        "Напишите функцию, вычисляющую какую-нибудь первообразную данного полинома (в качестве константы возьмите ваше любимое число). Например, если на вход поступает массив коэффициентов `array([4, 6, 0, 1])`, что соответствует полиному $4x^3 + 6x^2 + 1$, на выходе получается массив коэффициентов `array([1, 2, 0, 1, -2])`, соответствующий полиному $x^4 + 2x^3 + x - 2$."
      ]
    },
    {
      "cell_type": "code",
      "execution_count": 227,
      "metadata": {
        "collapsed": true,
        "id": "IWU9ISN_FLx9"
      },
      "outputs": [],
      "source": [
        "def antiderivative(coefs):\n",
        "    return np.append(coefs / np.flip(np.where(coefs == coefs)[0] + 1), 0)"
      ]
    },
    {
      "cell_type": "code",
      "execution_count": 228,
      "metadata": {
        "collapsed": true,
        "id": "9G2gNNZxFLx9"
      },
      "outputs": [
        {
          "data": {
            "text/plain": [
              "array([1., 2., 0., 1., 0.])"
            ]
          },
          "execution_count": 228,
          "metadata": {},
          "output_type": "execute_result"
        }
      ],
      "source": [
        "coefs = np.array([4, 6, 0, 1])\n",
        "antiderivative(coefs)"
      ]
    },
    {
      "cell_type": "markdown",
      "metadata": {
        "id": "6LtnZ4T1FLx9"
      },
      "source": [
        "### 8"
      ]
    },
    {
      "cell_type": "markdown",
      "metadata": {
        "id": "vGq8Aao0FLx-"
      },
      "source": [
        "Напишите функцию, делающую данную [треугольную матрицу](https://ru.wikipedia.org/wiki/%D0%A2%D1%80%D0%B5%D1%83%D0%B3%D0%BE%D0%BB%D1%8C%D0%BD%D0%B0%D1%8F_%D0%BC%D0%B0%D1%82%D1%80%D0%B8%D1%86%D0%B0) симметричной. Например, если на вход поступает матрица\n",
        "$$\n",
        "\\begin{pmatrix}\n",
        "1 & 2 & 3 & 4\\\\\n",
        "0 & 5 & 6 & 7\\\\\n",
        "0 & 0 & 8 & 9\\\\\n",
        "0 & 0 & 0 & 10\\\\\n",
        "\\end{pmatrix},\n",
        "$$\n",
        "то на выходе должна быть матрица\n",
        "$$\n",
        "\\begin{pmatrix}\n",
        "1 & 2 & 3 & 4\\\\\n",
        "2 & 5 & 6 & 7\\\\\n",
        "3 & 6 & 8 & 9\\\\\n",
        "4 & 7 & 9 & 10\\\\\n",
        "\\end{pmatrix}.\n",
        "$$"
      ]
    },
    {
      "cell_type": "code",
      "execution_count": 225,
      "metadata": {
        "collapsed": true,
        "id": "X9YCwhUxFLx-"
      },
      "outputs": [],
      "source": [
        "def make_symmetric(matrix):\n",
        "    return matrix + (matrix - matrix * np.identity(len(matrix))).T"
      ]
    },
    {
      "cell_type": "code",
      "execution_count": 226,
      "metadata": {
        "collapsed": true,
        "id": "ShNVSsM-FLx-"
      },
      "outputs": [
        {
          "data": {
            "text/plain": [
              "array([[ 1.,  2.,  3.,  4.],\n",
              "       [ 2.,  5.,  6.,  7.],\n",
              "       [ 3.,  6.,  8.,  9.],\n",
              "       [ 4.,  7.,  9., 10.]])"
            ]
          },
          "execution_count": 226,
          "metadata": {},
          "output_type": "execute_result"
        }
      ],
      "source": [
        "matrix = np.array([[1, 2, 3, 4], [0, 5, 6, 7], [0, 0, 8, 9], [0, 0, 0, 10]])\n",
        "make_symmetric(matrix)"
      ]
    },
    {
      "cell_type": "markdown",
      "metadata": {
        "id": "JV_y8k8rFLx-"
      },
      "source": [
        "### 9"
      ]
    },
    {
      "cell_type": "markdown",
      "metadata": {
        "id": "7pX12jtoFLx_"
      },
      "source": [
        "Напишите функцию, создающую прямоугольную матрицу из m одинаковых строк, заполненных последовательными натуральными числами от a до b включительно в возрастающем порядке. Например, если m = 5, a = 3, b = 10, то на выходе будет матрица\n",
        "$$\n",
        "\\begin{pmatrix}\n",
        "3 & 4 & 5 & 6 & 7 & 8 & 9 & 10\\\\\n",
        "3 & 4 & 5 & 6 & 7 & 8 & 9 & 10\\\\\n",
        "3 & 4 & 5 & 6 & 7 & 8 & 9 & 10\\\\\n",
        "3 & 4 & 5 & 6 & 7 & 8 & 9 & 10\\\\\n",
        "3 & 4 & 5 & 6 & 7 & 8 & 9 & 10\\\\\n",
        "\\end{pmatrix}\n",
        "$$"
      ]
    },
    {
      "cell_type": "code",
      "execution_count": 230,
      "metadata": {
        "collapsed": true,
        "id": "g2yZmQ4gFLx_"
      },
      "outputs": [],
      "source": [
        "def construct_matrix(m, a, b):\n",
        "    return np.repeat(np.arange(a, b + 1), m).reshape(-1, m).T"
      ]
    },
    {
      "cell_type": "code",
      "execution_count": 231,
      "metadata": {
        "collapsed": true,
        "id": "bsaKjkvOFLx_"
      },
      "outputs": [
        {
          "data": {
            "text/plain": [
              "array([[ 3,  4,  5,  6,  7,  8,  9, 10],\n",
              "       [ 3,  4,  5,  6,  7,  8,  9, 10],\n",
              "       [ 3,  4,  5,  6,  7,  8,  9, 10],\n",
              "       [ 3,  4,  5,  6,  7,  8,  9, 10],\n",
              "       [ 3,  4,  5,  6,  7,  8,  9, 10]])"
            ]
          },
          "execution_count": 231,
          "metadata": {},
          "output_type": "execute_result"
        }
      ],
      "source": [
        "m = 5\n",
        "a = 3\n",
        "b = 10\n",
        "construct_matrix(m, a, b)"
      ]
    },
    {
      "cell_type": "markdown",
      "metadata": {
        "id": "G9vWLQZWFLx_"
      },
      "source": [
        "### 10"
      ]
    },
    {
      "cell_type": "markdown",
      "metadata": {
        "id": "USWqm0x7FLx_"
      },
      "source": [
        "Напишите функцию, вычисляющую [косинусную близость](https://en.wikipedia.org/wiki/Cosine_similarity) двух векторов. Например, если на вход поступают вектора `array([-2, 1, 0, -5, 4, 3, -3])` и `array([0, 2, -2, 10, 6, 0, 0])`, ответом будет -0.25."
      ]
    },
    {
      "cell_type": "code",
      "execution_count": 232,
      "metadata": {
        "collapsed": true,
        "id": "48XiDQTBFLyA"
      },
      "outputs": [],
      "source": [
        "def cosine_similarity(vec1, vec2):\n",
        "    return vec1 @ vec2 / (np.sum(vec1 ** 2) ** 0.5) / (np.sum(vec2 ** 2) ** 0.5)"
      ]
    },
    {
      "cell_type": "code",
      "execution_count": 233,
      "metadata": {
        "collapsed": true,
        "id": "YmEsEYHrFLyA"
      },
      "outputs": [
        {
          "data": {
            "text/plain": [
              "-0.25"
            ]
          },
          "execution_count": 233,
          "metadata": {},
          "output_type": "execute_result"
        }
      ],
      "source": [
        "vec1 = np.array([-2, 1, 0, -5, 4, 3, -3])\n",
        "vec2 = np.array([0, 2, -2, 10, 6, 0, 0])\n",
        "cosine_similarity(vec1, vec2)"
      ]
    },
    {
      "cell_type": "markdown",
      "metadata": {
        "id": "ahfJyTsDuaD6"
      },
      "source": [
        "## Раздел 2. Pandas"
      ]
    },
    {
      "cell_type": "markdown",
      "metadata": {
        "id": "9y0Eqft-ugr_"
      },
      "source": [
        "### О задании"
      ]
    },
    {
      "cell_type": "markdown",
      "metadata": {
        "id": "55u9lnUtugr_"
      },
      "source": [
        "В данном разделе вы попрактикуетесь в работе с библиотекой pandas!"
      ]
    },
    {
      "cell_type": "code",
      "execution_count": 1,
      "metadata": {
        "collapsed": true,
        "id": "DFu7UczHugr_"
      },
      "outputs": [],
      "source": [
        "import pandas as pd"
      ]
    },
    {
      "cell_type": "markdown",
      "metadata": {
        "id": "XJrwOn9mugsA"
      },
      "source": [
        "Обратите внимание, что практически во всех заданиях вам потребуется написать какой-то текст в виде вывода/результата/итога/какого-то резюме. Пожалуйста, не ленитесь, и пишите выводы ***подробно***, существенная часть баллов будет выставляться именно за выводы, так как в анализе данных они имеют большое значение. Таким образом, на любое задание, сформулированное в виде вопроса, отвечайте текстом, подкрепляя ваши слова написанным и выполненным кодом. Текст выводов/комментариев пишите в отдельных ячейках, используя средства текстового редактора Jupyter Notebook/Google Colab, при необходимости используйте средства *выделения*.\n",
        "\n",
        "При решении задач, когда вам необходимо сделать какой-то фильтр, срез, выборку, или иное действие с данными, запрещается использовать циклы (`for`, `while`) и оператор `if`.\n"
      ]
    },
    {
      "cell_type": "markdown",
      "metadata": {
        "id": "dGrzCZkIZKge"
      },
      "source": [
        "### 1"
      ]
    },
    {
      "cell_type": "markdown",
      "metadata": {
        "id": "zGH53krziiVU"
      },
      "source": [
        "В этом разделе домашнего задания вы поработаете с данными исследования зависимости средней продолжительности жизни по странам от количества употребляемого в стране алкоголя.\n",
        "\n",
        "Вашему вниманию представлено два датасета: drinks.csv и lifeexpectancy-verbose.csv\n",
        "\n",
        "Первая таблица содержит в себе сводные данные по количеству употребляемого алкоголя в каждой стране.\n",
        "\n",
        "Описание датасета:\n",
        "- country -\tName of the country (String)\n",
        "- beer_servings\t- Number of beer servings per person in the country (Integer)\n",
        "- spirit_servings\t- Number of spirit servings per person in the country (Integer)\n",
        "- wine_servings\t- Number of wine servings per person in the country(Integer)\n",
        "- total_litres_of_pure_alcohol -\tTotal litres of pure alcohol consumed per person in the country (Float)\n",
        "\n",
        "Вторая таблица содержит в себе информацию о научных статьях и исследованиях о продолжительности жизни (в разных категориях и для разных групп) по той или иной стране."
      ]
    },
    {
      "cell_type": "markdown",
      "metadata": {
        "id": "rQyUvNgkZKge"
      },
      "source": [
        "Откройте в ноутбуке оба файла с данными. Какой размер имеют таблицы? Выведите первые 5 и последние 5 строк для обеих таблиц. Сколько уникальных стран представлено в каждой из таблиц? Сделайте выводы."
      ]
    },
    {
      "cell_type": "code",
      "execution_count": 2,
      "metadata": {
        "collapsed": true,
        "id": "nUpM5eHoZKgf"
      },
      "outputs": [],
      "source": [
        "tmdb = pd.read_csv(\"/Users/nikitaevseev/Downloads/tmdb_all_data.csv\", lineterminator='\\n')\n",
        "tmdb.columns"
      ]
    },
    {
      "cell_type": "code",
      "execution_count": 3,
      "metadata": {},
      "outputs": [],
      "source": [
        "tmdb.drop(['Unnamed: 0', 'adult', 'backdrop_path', 'homepage', 'belongs_to_collection', 'id', 'overview', 'poster_path', 'production_companies', 'status', 'tagline', 'video'], inplace=True, axis=1)\n",
        "tmdb.head(2)"
      ]
    },
    {
      "cell_type": "code",
      "execution_count": 8,
      "metadata": {},
      "outputs": [
        {
          "data": {
            "text/html": [
              "<div>\n",
              "<style scoped>\n",
              "    .dataframe tbody tr th:only-of-type {\n",
              "        vertical-align: middle;\n",
              "    }\n",
              "\n",
              "    .dataframe tbody tr th {\n",
              "        vertical-align: top;\n",
              "    }\n",
              "\n",
              "    .dataframe thead th {\n",
              "        text-align: right;\n",
              "    }\n",
              "</style>\n",
              "<table border=\"1\" class=\"dataframe\">\n",
              "  <thead>\n",
              "    <tr style=\"text-align: right;\">\n",
              "      <th></th>\n",
              "      <th>title</th>\n",
              "      <th>rating</th>\n",
              "      <th>ratingLevel</th>\n",
              "      <th>ratingDescription</th>\n",
              "      <th>release year</th>\n",
              "      <th>user rating score</th>\n",
              "      <th>user rating size</th>\n",
              "    </tr>\n",
              "  </thead>\n",
              "  <tbody>\n",
              "    <tr>\n",
              "      <th>0</th>\n",
              "      <td>White Chicks</td>\n",
              "      <td>PG-13</td>\n",
              "      <td>crude and sexual humor, language and some drug...</td>\n",
              "      <td>80</td>\n",
              "      <td>2004</td>\n",
              "      <td>82.0</td>\n",
              "      <td>80</td>\n",
              "    </tr>\n",
              "    <tr>\n",
              "      <th>1</th>\n",
              "      <td>Lucky Number Slevin</td>\n",
              "      <td>R</td>\n",
              "      <td>strong violence, sexual content and adult lang...</td>\n",
              "      <td>100</td>\n",
              "      <td>2006</td>\n",
              "      <td>NaN</td>\n",
              "      <td>82</td>\n",
              "    </tr>\n",
              "    <tr>\n",
              "      <th>2</th>\n",
              "      <td>Grey's Anatomy</td>\n",
              "      <td>TV-14</td>\n",
              "      <td>Parents strongly cautioned. May be unsuitable ...</td>\n",
              "      <td>90</td>\n",
              "      <td>2016</td>\n",
              "      <td>98.0</td>\n",
              "      <td>80</td>\n",
              "    </tr>\n",
              "  </tbody>\n",
              "</table>\n",
              "</div>"
            ],
            "text/plain": [
              "                 title rating  \\\n",
              "0         White Chicks  PG-13   \n",
              "1  Lucky Number Slevin      R   \n",
              "2       Grey's Anatomy  TV-14   \n",
              "\n",
              "                                         ratingLevel  ratingDescription  \\\n",
              "0  crude and sexual humor, language and some drug...                 80   \n",
              "1  strong violence, sexual content and adult lang...                100   \n",
              "2  Parents strongly cautioned. May be unsuitable ...                 90   \n",
              "\n",
              "   release year  user rating score  user rating size  \n",
              "0          2004               82.0                80  \n",
              "1          2006                NaN                82  \n",
              "2          2016               98.0                80  "
            ]
          },
          "execution_count": 8,
          "metadata": {},
          "output_type": "execute_result"
        }
      ],
      "source": [
        "data = pd.read_excel('/Users/nikitaevseev/Downloads/NetflixShows.xlsx')\n",
        "data = data.drop_duplicates()\n",
        "data.head(3)"
      ]
    },
    {
      "cell_type": "code",
      "execution_count": 13,
      "metadata": {},
      "outputs": [],
      "source": [
        "shows_main = pd.read_csv(\"/Users/nikitaevseev/Downloads/shows.csv\")\n",
        "shows_dates = pd.read_csv(\"/Users/nikitaevseev/Downloads/air_dates.csv\")\n",
        "shows = pd.merge(shows_main, shows_dates, how='inner', on=['show_id'])"
      ]
    },
    {
      "cell_type": "code",
      "execution_count": 15,
      "metadata": {},
      "outputs": [
        {
          "data": {
            "text/html": [
              "<div>\n",
              "<style scoped>\n",
              "    .dataframe tbody tr th:only-of-type {\n",
              "        vertical-align: middle;\n",
              "    }\n",
              "\n",
              "    .dataframe tbody tr th {\n",
              "        vertical-align: top;\n",
              "    }\n",
              "\n",
              "    .dataframe thead th {\n",
              "        text-align: right;\n",
              "    }\n",
              "</style>\n",
              "<table border=\"1\" class=\"dataframe\">\n",
              "  <thead>\n",
              "    <tr style=\"text-align: right;\">\n",
              "      <th></th>\n",
              "      <th>show_id</th>\n",
              "      <th>name</th>\n",
              "      <th>number_of_seasons</th>\n",
              "      <th>number_of_episodes</th>\n",
              "      <th>overview</th>\n",
              "      <th>adult</th>\n",
              "      <th>in_production</th>\n",
              "      <th>original_name</th>\n",
              "      <th>popularity</th>\n",
              "      <th>tagline</th>\n",
              "      <th>eposide_run_time</th>\n",
              "      <th>type_id</th>\n",
              "      <th>status_id</th>\n",
              "      <th>is_first</th>\n",
              "      <th>date</th>\n",
              "    </tr>\n",
              "  </thead>\n",
              "  <tbody>\n",
              "    <tr>\n",
              "      <th>4</th>\n",
              "      <td>66732</td>\n",
              "      <td>Stranger Things</td>\n",
              "      <td>4</td>\n",
              "      <td>34</td>\n",
              "      <td>When a young boy vanishes  a small town uncove...</td>\n",
              "      <td>0</td>\n",
              "      <td>1</td>\n",
              "      <td>Stranger Things</td>\n",
              "      <td>185.711</td>\n",
              "      <td>Every ending has a beginning.</td>\n",
              "      <td>0</td>\n",
              "      <td>1</td>\n",
              "      <td>2</td>\n",
              "      <td>1</td>\n",
              "      <td>2016-07-15</td>\n",
              "    </tr>\n",
              "    <tr>\n",
              "      <th>5</th>\n",
              "      <td>66732</td>\n",
              "      <td>Stranger Things</td>\n",
              "      <td>4</td>\n",
              "      <td>34</td>\n",
              "      <td>When a young boy vanishes  a small town uncove...</td>\n",
              "      <td>0</td>\n",
              "      <td>1</td>\n",
              "      <td>Stranger Things</td>\n",
              "      <td>185.711</td>\n",
              "      <td>Every ending has a beginning.</td>\n",
              "      <td>0</td>\n",
              "      <td>1</td>\n",
              "      <td>2</td>\n",
              "      <td>0</td>\n",
              "      <td>2022-07-01</td>\n",
              "    </tr>\n",
              "  </tbody>\n",
              "</table>\n",
              "</div>"
            ],
            "text/plain": [
              "   show_id             name  number_of_seasons  number_of_episodes  \\\n",
              "4    66732  Stranger Things                  4                  34   \n",
              "5    66732  Stranger Things                  4                  34   \n",
              "\n",
              "                                            overview  adult  in_production  \\\n",
              "4  When a young boy vanishes  a small town uncove...      0              1   \n",
              "5  When a young boy vanishes  a small town uncove...      0              1   \n",
              "\n",
              "     original_name  popularity                        tagline  \\\n",
              "4  Stranger Things     185.711  Every ending has a beginning.   \n",
              "5  Stranger Things     185.711  Every ending has a beginning.   \n",
              "\n",
              "   eposide_run_time  type_id  status_id  is_first        date  \n",
              "4                 0        1          2         1  2016-07-15  \n",
              "5                 0        1          2         0  2022-07-01  "
            ]
          },
          "execution_count": 15,
          "metadata": {},
          "output_type": "execute_result"
        }
      ],
      "source": [
        "shows = shows[(shows.name.isin(data.title)) | (shows.original_name.isin(data.title))]\n",
        "shows.head(2)"
      ]
    },
    {
      "cell_type": "code",
      "execution_count": 18,
      "metadata": {},
      "outputs": [],
      "source": [
        "shows.to_csv('shows_dates.csv')"
      ]
    },
    {
      "cell_type": "code",
      "execution_count": 20,
      "metadata": {},
      "outputs": [
        {
          "data": {
            "text/html": [
              "<div>\n",
              "<style scoped>\n",
              "    .dataframe tbody tr th:only-of-type {\n",
              "        vertical-align: middle;\n",
              "    }\n",
              "\n",
              "    .dataframe tbody tr th {\n",
              "        vertical-align: top;\n",
              "    }\n",
              "\n",
              "    .dataframe thead th {\n",
              "        text-align: right;\n",
              "    }\n",
              "</style>\n",
              "<table border=\"1\" class=\"dataframe\">\n",
              "  <thead>\n",
              "    <tr style=\"text-align: right;\">\n",
              "      <th></th>\n",
              "      <th>show_id</th>\n",
              "      <th>name</th>\n",
              "      <th>number_of_seasons</th>\n",
              "      <th>number_of_episodes</th>\n",
              "      <th>overview</th>\n",
              "      <th>adult</th>\n",
              "      <th>in_production</th>\n",
              "      <th>original_name</th>\n",
              "      <th>popularity</th>\n",
              "      <th>tagline</th>\n",
              "      <th>eposide_run_time</th>\n",
              "      <th>type_id</th>\n",
              "      <th>status_id</th>\n",
              "      <th>is_first</th>\n",
              "      <th>date</th>\n",
              "    </tr>\n",
              "  </thead>\n",
              "  <tbody>\n",
              "    <tr>\n",
              "      <th>96</th>\n",
              "      <td>2288</td>\n",
              "      <td>Prison Break</td>\n",
              "      <td>5</td>\n",
              "      <td>88</td>\n",
              "      <td>Due to a political conspiracy  an innocent man...</td>\n",
              "      <td>0</td>\n",
              "      <td>0</td>\n",
              "      <td>Prison Break</td>\n",
              "      <td>213.262</td>\n",
              "      <td>Break in. Break out. Save your brother's life.</td>\n",
              "      <td>45</td>\n",
              "      <td>1</td>\n",
              "      <td>1</td>\n",
              "      <td>1</td>\n",
              "      <td>2005-08-29</td>\n",
              "    </tr>\n",
              "    <tr>\n",
              "      <th>97</th>\n",
              "      <td>2288</td>\n",
              "      <td>Prison Break</td>\n",
              "      <td>5</td>\n",
              "      <td>88</td>\n",
              "      <td>Due to a political conspiracy  an innocent man...</td>\n",
              "      <td>0</td>\n",
              "      <td>0</td>\n",
              "      <td>Prison Break</td>\n",
              "      <td>213.262</td>\n",
              "      <td>Break in. Break out. Save your brother's life.</td>\n",
              "      <td>45</td>\n",
              "      <td>1</td>\n",
              "      <td>1</td>\n",
              "      <td>0</td>\n",
              "      <td>2017-05-30</td>\n",
              "    </tr>\n",
              "  </tbody>\n",
              "</table>\n",
              "</div>"
            ],
            "text/plain": [
              "    show_id          name  number_of_seasons  number_of_episodes  \\\n",
              "96     2288  Prison Break                  5                  88   \n",
              "97     2288  Prison Break                  5                  88   \n",
              "\n",
              "                                             overview  adult  in_production  \\\n",
              "96  Due to a political conspiracy  an innocent man...      0              0   \n",
              "97  Due to a political conspiracy  an innocent man...      0              0   \n",
              "\n",
              "   original_name  popularity                                         tagline  \\\n",
              "96  Prison Break     213.262  Break in. Break out. Save your brother's life.   \n",
              "97  Prison Break     213.262  Break in. Break out. Save your brother's life.   \n",
              "\n",
              "    eposide_run_time  type_id  status_id  is_first        date  \n",
              "96                45        1          1         1  2005-08-29  \n",
              "97                45        1          1         0  2017-05-30  "
            ]
          },
          "execution_count": 20,
          "metadata": {},
          "output_type": "execute_result"
        }
      ],
      "source": [
        "shows[shows.name == 'Prison Break']"
      ]
    },
    {
      "cell_type": "code",
      "execution_count": 10,
      "metadata": {},
      "outputs": [
        {
          "data": {
            "text/plain": [
              "(824, 14)"
            ]
          },
          "execution_count": 10,
          "metadata": {},
          "output_type": "execute_result"
        }
      ],
      "source": [
        "tmdb2 = tmdb[(tmdb.title.isin(data.title)) | (tmdb.original_title.isin(data.title))]\n",
        "tmdb2.shape"
      ]
    },
    {
      "cell_type": "code",
      "execution_count": 11,
      "metadata": {},
      "outputs": [],
      "source": [
        "tmdb2.to_csv('tmdb.csv')"
      ]
    },
    {
      "cell_type": "code",
      "execution_count": null,
      "metadata": {},
      "outputs": [],
      "source": [
        "tmdb.to_csv()"
      ]
    },
    {
      "cell_type": "code",
      "execution_count": 38,
      "metadata": {},
      "outputs": [],
      "source": [
        "data4 = pd.merge(data, tmdb, how='left', left_on=['title'], right_on=['original_title'])"
      ]
    },
    {
      "cell_type": "code",
      "execution_count": 43,
      "metadata": {},
      "outputs": [],
      "source": [
        "duplicates = data4[['title_x', 'rating', 'ratingLevel', 'ratingDescription']].duplicated()\n",
        "a = duplicates[duplicates == True].index"
      ]
    },
    {
      "cell_type": "code",
      "execution_count": null,
      "metadata": {},
      "outputs": [],
      "source": [
        "data4"
      ]
    },
    {
      "cell_type": "code",
      "execution_count": null,
      "metadata": {},
      "outputs": [],
      "source": [
        "data4[data4.index.isin(a)]"
      ]
    },
    {
      "cell_type": "code",
      "execution_count": 34,
      "metadata": {},
      "outputs": [
        {
          "data": {
            "text/plain": [
              "Index(['budget', 'genres', 'imdb_id', 'original_language', 'original_title',\n",
              "       'popularity', 'production_countries', 'release_date', 'revenue',\n",
              "       'runtime', 'spoken_languages', 'title', 'vote_average', 'vote_count',\n",
              "       'release_year'],\n",
              "      dtype='object')"
            ]
          },
          "execution_count": 34,
          "metadata": {},
          "output_type": "execute_result"
        }
      ],
      "source": [
        "tmdb.columns"
      ]
    },
    {
      "cell_type": "code",
      "execution_count": null,
      "metadata": {},
      "outputs": [],
      "source": [
        "data4.dropna(subset=['budget', 'genres', 'imdb_id', 'original_language', 'original_title',\n",
        "       'popularity', 'production_countries', 'release_date', 'revenue',\n",
        "       'runtime', 'spoken_languages', 'title_y', 'vote_average', 'vote_count',\n",
        "       'release_year'])"
      ]
    },
    {
      "cell_type": "code",
      "execution_count": 12,
      "metadata": {},
      "outputs": [
        {
          "ename": "NameError",
          "evalue": "name 'data4' is not defined",
          "output_type": "error",
          "traceback": [
            "\u001b[0;31m---------------------------------------------------------------------------\u001b[0m",
            "\u001b[0;31mNameError\u001b[0m                                 Traceback (most recent call last)",
            "\u001b[1;32m/Users/nikitaevseev/Desktop/DS/MMDA&ML/HW 1 - Numpy. Pandas.ipynb Ячейка 75\u001b[0m line \u001b[0;36m1\n\u001b[0;32m----> <a href='vscode-notebook-cell:/Users/nikitaevseev/Desktop/DS/MMDA%26ML/HW%201%20-%20Numpy.%20Pandas.ipynb#Y133sZmlsZQ%3D%3D?line=0'>1</a>\u001b[0m data4\u001b[39m.\u001b[39mdropna(subset\u001b[39m=\u001b[39m[\u001b[39m'\u001b[39m\u001b[39mbudget\u001b[39m\u001b[39m'\u001b[39m, \u001b[39m'\u001b[39m\u001b[39mgenres\u001b[39m\u001b[39m'\u001b[39m, \u001b[39m'\u001b[39m\u001b[39mimdb_id\u001b[39m\u001b[39m'\u001b[39m, \u001b[39m'\u001b[39m\u001b[39moriginal_language\u001b[39m\u001b[39m'\u001b[39m, \u001b[39m'\u001b[39m\u001b[39moriginal_title\u001b[39m\u001b[39m'\u001b[39m,\n\u001b[1;32m      <a href='vscode-notebook-cell:/Users/nikitaevseev/Desktop/DS/MMDA%26ML/HW%201%20-%20Numpy.%20Pandas.ipynb#Y133sZmlsZQ%3D%3D?line=1'>2</a>\u001b[0m        \u001b[39m'\u001b[39m\u001b[39mpopularity\u001b[39m\u001b[39m'\u001b[39m, \u001b[39m'\u001b[39m\u001b[39mproduction_countries\u001b[39m\u001b[39m'\u001b[39m, \u001b[39m'\u001b[39m\u001b[39mrelease_date\u001b[39m\u001b[39m'\u001b[39m, \u001b[39m'\u001b[39m\u001b[39mrevenue\u001b[39m\u001b[39m'\u001b[39m,\n\u001b[1;32m      <a href='vscode-notebook-cell:/Users/nikitaevseev/Desktop/DS/MMDA%26ML/HW%201%20-%20Numpy.%20Pandas.ipynb#Y133sZmlsZQ%3D%3D?line=2'>3</a>\u001b[0m        \u001b[39m'\u001b[39m\u001b[39mruntime\u001b[39m\u001b[39m'\u001b[39m, \u001b[39m'\u001b[39m\u001b[39mspoken_languages\u001b[39m\u001b[39m'\u001b[39m, \u001b[39m'\u001b[39m\u001b[39mtitle\u001b[39m\u001b[39m'\u001b[39m, \u001b[39m'\u001b[39m\u001b[39mvote_average\u001b[39m\u001b[39m'\u001b[39m, \u001b[39m'\u001b[39m\u001b[39mvote_count\u001b[39m\u001b[39m'\u001b[39m,\n\u001b[1;32m      <a href='vscode-notebook-cell:/Users/nikitaevseev/Desktop/DS/MMDA%26ML/HW%201%20-%20Numpy.%20Pandas.ipynb#Y133sZmlsZQ%3D%3D?line=3'>4</a>\u001b[0m        \u001b[39m'\u001b[39m\u001b[39mrelease_year\u001b[39m\u001b[39m'\u001b[39m])\n",
            "\u001b[0;31mNameError\u001b[0m: name 'data4' is not defined"
          ]
        }
      ],
      "source": [
        "data4.dropna(subset=['budget', 'genres', 'imdb_id', 'original_language', 'original_title',\n",
        "       'popularity', 'production_countries', 'release_date', 'revenue',\n",
        "       'runtime', 'spoken_languages', 'title', 'vote_average', 'vote_count',\n",
        "       'release_year'])"
      ]
    },
    {
      "cell_type": "code",
      "execution_count": 294,
      "metadata": {},
      "outputs": [
        {
          "data": {
            "text/html": [
              "<div>\n",
              "<style scoped>\n",
              "    .dataframe tbody tr th:only-of-type {\n",
              "        vertical-align: middle;\n",
              "    }\n",
              "\n",
              "    .dataframe tbody tr th {\n",
              "        vertical-align: top;\n",
              "    }\n",
              "\n",
              "    .dataframe thead th {\n",
              "        text-align: right;\n",
              "    }\n",
              "</style>\n",
              "<table border=\"1\" class=\"dataframe\">\n",
              "  <thead>\n",
              "    <tr style=\"text-align: right;\">\n",
              "      <th></th>\n",
              "      <th>title_x</th>\n",
              "      <th>rating</th>\n",
              "      <th>ratingLevel</th>\n",
              "      <th>ratingDescription</th>\n",
              "    </tr>\n",
              "  </thead>\n",
              "  <tbody>\n",
              "    <tr>\n",
              "      <th>0</th>\n",
              "      <td>White Chicks</td>\n",
              "      <td>PG-13</td>\n",
              "      <td>crude and sexual humor, language and some drug...</td>\n",
              "      <td>80</td>\n",
              "    </tr>\n",
              "    <tr>\n",
              "      <th>1</th>\n",
              "      <td>Lucky Number Slevin</td>\n",
              "      <td>R</td>\n",
              "      <td>strong violence, sexual content and adult lang...</td>\n",
              "      <td>100</td>\n",
              "    </tr>\n",
              "    <tr>\n",
              "      <th>2</th>\n",
              "      <td>Grey's Anatomy</td>\n",
              "      <td>TV-14</td>\n",
              "      <td>Parents strongly cautioned. May be unsuitable ...</td>\n",
              "      <td>90</td>\n",
              "    </tr>\n",
              "    <tr>\n",
              "      <th>3</th>\n",
              "      <td>Prison Break</td>\n",
              "      <td>TV-14</td>\n",
              "      <td>Parents strongly cautioned. May be unsuitable ...</td>\n",
              "      <td>90</td>\n",
              "    </tr>\n",
              "    <tr>\n",
              "      <th>4</th>\n",
              "      <td>How I Met Your Mother</td>\n",
              "      <td>TV-PG</td>\n",
              "      <td>Parental guidance suggested. May not be suitab...</td>\n",
              "      <td>70</td>\n",
              "    </tr>\n",
              "    <tr>\n",
              "      <th>...</th>\n",
              "      <td>...</td>\n",
              "      <td>...</td>\n",
              "      <td>...</td>\n",
              "      <td>...</td>\n",
              "    </tr>\n",
              "    <tr>\n",
              "      <th>837</th>\n",
              "      <td>Russell Madness</td>\n",
              "      <td>PG</td>\n",
              "      <td>some rude humor and sports action</td>\n",
              "      <td>60</td>\n",
              "    </tr>\n",
              "    <tr>\n",
              "      <th>838</th>\n",
              "      <td>Wiener Dog Internationals</td>\n",
              "      <td>G</td>\n",
              "      <td>General Audiences. Suitable for all ages.</td>\n",
              "      <td>35</td>\n",
              "    </tr>\n",
              "    <tr>\n",
              "      <th>839</th>\n",
              "      <td>Pup Star</td>\n",
              "      <td>G</td>\n",
              "      <td>General Audiences. Suitable for all ages.</td>\n",
              "      <td>35</td>\n",
              "    </tr>\n",
              "    <tr>\n",
              "      <th>840</th>\n",
              "      <td>Precious Puppies</td>\n",
              "      <td>TV-G</td>\n",
              "      <td>Suitable for all ages.</td>\n",
              "      <td>35</td>\n",
              "    </tr>\n",
              "    <tr>\n",
              "      <th>841</th>\n",
              "      <td>Beary Tales</td>\n",
              "      <td>TV-G</td>\n",
              "      <td>Suitable for all ages.</td>\n",
              "      <td>35</td>\n",
              "    </tr>\n",
              "  </tbody>\n",
              "</table>\n",
              "<p>842 rows × 4 columns</p>\n",
              "</div>"
            ],
            "text/plain": [
              "                       title_x rating  \\\n",
              "0                 White Chicks  PG-13   \n",
              "1          Lucky Number Slevin      R   \n",
              "2               Grey's Anatomy  TV-14   \n",
              "3                 Prison Break  TV-14   \n",
              "4        How I Met Your Mother  TV-PG   \n",
              "..                         ...    ...   \n",
              "837            Russell Madness     PG   \n",
              "838  Wiener Dog Internationals      G   \n",
              "839                   Pup Star      G   \n",
              "840           Precious Puppies   TV-G   \n",
              "841                Beary Tales   TV-G   \n",
              "\n",
              "                                           ratingLevel  ratingDescription  \n",
              "0    crude and sexual humor, language and some drug...                 80  \n",
              "1    strong violence, sexual content and adult lang...                100  \n",
              "2    Parents strongly cautioned. May be unsuitable ...                 90  \n",
              "3    Parents strongly cautioned. May be unsuitable ...                 90  \n",
              "4    Parental guidance suggested. May not be suitab...                 70  \n",
              "..                                                 ...                ...  \n",
              "837                  some rude humor and sports action                 60  \n",
              "838          General Audiences. Suitable for all ages.                 35  \n",
              "839          General Audiences. Suitable for all ages.                 35  \n",
              "840                             Suitable for all ages.                 35  \n",
              "841                             Suitable for all ages.                 35  \n",
              "\n",
              "[842 rows x 4 columns]"
            ]
          },
          "execution_count": 294,
          "metadata": {},
          "output_type": "execute_result"
        }
      ],
      "source": [
        "data4[['title_x', 'rating', 'ratingLevel', 'ratingDescription']]"
      ]
    },
    {
      "cell_type": "code",
      "execution_count": null,
      "metadata": {},
      "outputs": [],
      "source": [
        "lifeExp = pd.read_csv(\"/Users/nikitaevseev/Desktop/DS/MMDA&ML/lifeexpectancy-verbose.csv\")\n",
        "print('Размер таблицы: ' + str(lifeExp.shape))\n",
        "print('Количество уникальных стран:', lifeExp['CountryDisplay'].unique().size)\n",
        "pd.concat([lifeExp.head(5), lifeExp.tail(5)])"
      ]
    },
    {
      "cell_type": "markdown",
      "metadata": {
        "id": "8f1_cl1Ojg9r"
      },
      "source": [
        "### 2"
      ]
    },
    {
      "cell_type": "markdown",
      "metadata": {
        "id": "hOXMwdDGlAaa"
      },
      "source": [
        "Для каждого признака в рассматриваемых данных укажите тип этого признака и кратко обоснуйте, почему тип именно такой."
      ]
    },
    {
      "cell_type": "markdown",
      "metadata": {},
      "source": [
        "Таблица drinks\n",
        "index - порядковый - индекс\n",
        "Country - категориальный - конечный список значений без порядка\n",
        "Beer serving - вещественный - численное количество\n",
        "spirit serving - вещественный - численное количество\n",
        "wine serving - вещественный - численное количество\n",
        "total liters of pure alcohol - вещественный - численное количество\n",
        "Таблица life\n",
        "index = порядковый, индекс\n",
        "GhoCode - категориальный - конечный список значений без порядка\n",
        "GhoDisplay - категориальный - конечный список значений без порядка\n",
        "PublishStateCode - категориальный - конечный список значений без порядка\n",
        "PublishStateDisplay - категориальный - конечный список значений без порядка\n",
        "YearCode - вещественный - численное количество\n",
        "YearDisplay - вещественный - численное количество\n",
        "RegionCode - категориальный - конечный список значений без порядка\n",
        "RegionDisplay - категориальный - конечный список значений без порядка\n",
        "WorldBankIncomeGroupGroupCode - порядковые - конечный список значений, сортируются по смыслу\n",
        "WorldBankIncomeGroupDisplay - порядковые - конечный список значений, сортируются по смыслу\n",
        "CountryCode - категориальный - конечный список значений без порядка\n",
        "CountryDisplay - категориальный - конечный список значений без порядка\n",
        "SexCode - категориальный - конечный список значений без порядка\n",
        "SexDisplay - категориальный - конечный список значений без порядка\n",
        "DisplayValue - вещественный - численное количество\n",
        "Numeric - вещественный - численное количество"
      ]
    },
    {
      "cell_type": "markdown",
      "metadata": {
        "id": "FxJDNYhMljdc"
      },
      "source": [
        "### 3"
      ]
    },
    {
      "cell_type": "markdown",
      "metadata": {
        "id": "UVDua9fQllw6"
      },
      "source": [
        "Внимательно изучите признаки обеих таблиц. Как вы считаете, какая из таблиц является главной (а какая сопутствующей)? Почему вы так думаете?\n",
        "\n",
        "Какой признак может представлять существенный интерес для исследования и являться целевой переменной в рамках представленного датасета? Ответ обоснуйте.\n",
        "\n",
        "***Бонус (1 бон. балл):*** Попробуйте описать задачу машинного обучения, которую вы могли бы решать для данного датасета с учетом выбранной вами раннее целевой переменной и проблематики исследования. Подробнее про постановку и формализацию задач машинного обучения, а также про различные типы таких задач — вы можете прочитать, например, вот в этой [статье](https://habr.com/ru/company/simbirsoft/blog/565396/) (в начале)"
      ]
    },
    {
      "cell_type": "markdown",
      "metadata": {
        "id": "2hrANQDyFYAK"
      },
      "source": [
        "Так как мы хотим смотреть на зависимость средних лет жизни от количества выпитого алкоголя, поэтому целевой переменной для предсказания будет количество лет жизни (lifeExp['Numeric']). А для предсказания можно использовать данные об алкоголе из таблицы drinks и данные об местоположении страны из таблицы lifeExp. Задача предсказания числового значения называется регрессией."
      ]
    },
    {
      "cell_type": "markdown",
      "metadata": {
        "id": "w4CScFwLZKgg"
      },
      "source": [
        "### 4"
      ]
    },
    {
      "cell_type": "markdown",
      "metadata": {
        "id": "eQLEQXd-ZKgg"
      },
      "source": [
        "Какова доля статей о продолжительности жизни в Африке? Какова доля статей о продолжительности жизни мужчин и доля статей о продолжительности жизни женщин среди всех статей по Африке?\n",
        "\n",
        "***Бонус (2 бон. балла):*** Сравните эти доли с аналогичными долями по другим регионам. Как вы можете объяснить возникающие сходства и различия? Прокомментируйте полученные результаты."
      ]
    },
    {
      "cell_type": "code",
      "execution_count": null,
      "metadata": {
        "collapsed": true,
        "id": "-uzVP9fTZKgg"
      },
      "outputs": [
        {
          "name": "stdout",
          "output_type": "stream",
          "text": [
            "Доля статей о продолжительности жизни в Африке: 0.23782771535580524\n",
            "Доля статей о продолжительности жизни мужчин в Африке среди всех статей по Африке: 0.3333333333333333\n",
            "Доля статей о продолжительности жизни женщин в Африке среди всех статей по Африке: 0.3333333333333333\n"
          ]
        }
      ],
      "source": [
        "africaState = lifeExp[lifeExp['RegionDisplay'] == 'Africa']\n",
        "print('Доля статей о продолжительности жизни в Африке:', africaState.shape[0]/lifeExp.shape[0])\n",
        "print('Доля статей о продолжительности жизни мужчин в Африке среди всех статей по Африке:', africaState[africaState['SexDisplay'] == 'Male'].shape[0]/africaState.shape[0])\n",
        "print('Доля статей о продолжительности жизни женщин в Африке среди всех статей по Африке:', africaState[africaState['SexDisplay'] == 'Female'].shape[0]/africaState.shape[0])"
      ]
    },
    {
      "cell_type": "code",
      "execution_count": null,
      "metadata": {},
      "outputs": [
        {
          "data": {
            "text/plain": [
              "RegionDisplay\n",
              "Africa                   0.237828\n",
              "Americas                 0.180243\n",
              "Eastern Mediterranean    0.113296\n",
              "Europe                   0.272940\n",
              "South_East Asia          0.056648\n",
              "Western Pacific          0.139045\n",
              "Name: Numeric, dtype: float64"
            ]
          },
          "execution_count": 7,
          "metadata": {},
          "output_type": "execute_result"
        }
      ],
      "source": [
        "lifeExp.groupby('RegionDisplay')['Numeric'].count()/lifeExp.shape[0]"
      ]
    },
    {
      "cell_type": "code",
      "execution_count": null,
      "metadata": {},
      "outputs": [
        {
          "data": {
            "text/plain": [
              "RegionDisplay          SexDisplay\n",
              "Africa                 Both sexes    0.333333\n",
              "                       Female        0.333333\n",
              "                       Male          0.333333\n",
              "Americas               Both sexes    0.333333\n",
              "                       Female        0.333333\n",
              "                       Male          0.333333\n",
              "Eastern Mediterranean  Both sexes    0.333333\n",
              "                       Female        0.333333\n",
              "                       Male          0.333333\n",
              "Europe                 Both sexes    0.333333\n",
              "                       Female        0.333333\n",
              "                       Male          0.333333\n",
              "South_East Asia        Both sexes    0.333333\n",
              "                       Female        0.333333\n",
              "                       Male          0.333333\n",
              "Western Pacific        Both sexes    0.333333\n",
              "                       Female        0.333333\n",
              "                       Male          0.333333\n",
              "Name: Numeric, dtype: float64"
            ]
          },
          "execution_count": 8,
          "metadata": {},
          "output_type": "execute_result"
        }
      ],
      "source": [
        "lifeExp.groupby(['RegionDisplay', 'SexDisplay'])['Numeric'].count()/lifeExp.groupby('RegionDisplay')['Numeric'].count()"
      ]
    },
    {
      "cell_type": "markdown",
      "metadata": {},
      "source": [
        "Видно, что везде распределение между статьями про возраст мужчин/женщин/обоих полов одинаковое - 0.33/0.33/0.33\n",
        "Можно предположить, что в статьях если пишут про материк, то во всех разрезах - мужчины/женщины/оба пола"
      ]
    },
    {
      "cell_type": "markdown",
      "metadata": {
        "id": "3Y8ILyzlZKgg"
      },
      "source": [
        "### 5"
      ]
    },
    {
      "cell_type": "markdown",
      "metadata": {
        "id": "nEfsxhQUZKgg"
      },
      "source": [
        "Сколько всего существует видов статей с точки зрения оцениваемого параметра продолжительности жизни? Какой из этих видов статей самый популярный (написано наибольшее количество научных работ)? В рамках найденного вами самого популярного вида статей проведите сравнение, относительно какой из половых групп: мужчины, женщины или же оба пола — статей в нем было больше всего?"
      ]
    },
    {
      "cell_type": "code",
      "execution_count": null,
      "metadata": {
        "collapsed": true,
        "id": "kQVTfRKFZKgg"
      },
      "outputs": [
        {
          "data": {
            "text/plain": [
              "GhoDisplay\n",
              "Healthy life expectancy (HALE) at birth (years)    1752\n",
              "Life expectancy at age 60 (years)                  2328\n",
              "Life expectancy at birth (years)                   2328\n",
              "Name: Numeric, dtype: int64"
            ]
          },
          "execution_count": 13,
          "metadata": {},
          "output_type": "execute_result"
        }
      ],
      "source": [
        "lifeExp.groupby(['GhoDisplay'])['Numeric'].count()"
      ]
    },
    {
      "cell_type": "markdown",
      "metadata": {
        "id": "d9G-K_H0ZKgh"
      },
      "source": [
        "### 6"
      ]
    },
    {
      "cell_type": "markdown",
      "metadata": {
        "id": "gM69Tv9sZKgh"
      },
      "source": [
        "Выведите минимальную, среднюю, медианную и максимальную оцененную продолжительность жизни людей от рождения (life expectancy at birth). Выберите любые три страны на ваш вкус и проделайте то же самое только для статей по этим странам. Что можно сказать на основе результатов, которые вы получили?"
      ]
    },
    {
      "cell_type": "code",
      "execution_count": null,
      "metadata": {},
      "outputs": [
        {
          "data": {
            "text/plain": [
              "min       38.000000\n",
              "mean      68.441379\n",
              "median    70.857895\n",
              "max       87.154570\n",
              "Name: Numeric, dtype: float64"
            ]
          },
          "execution_count": 35,
          "metadata": {},
          "output_type": "execute_result"
        }
      ],
      "source": [
        "allStat = lifeExp[lifeExp['GhoDisplay'] == 'Life expectancy at birth (years)']['Numeric'].agg(['min', 'mean', 'median', 'max'])\n",
        "allStat"
      ]
    },
    {
      "cell_type": "code",
      "execution_count": null,
      "metadata": {
        "collapsed": true,
        "id": "JNyWyX1pZKgh"
      },
      "outputs": [
        {
          "data": {
            "text/html": [
              "<div>\n",
              "<style scoped>\n",
              "    .dataframe tbody tr th:only-of-type {\n",
              "        vertical-align: middle;\n",
              "    }\n",
              "\n",
              "    .dataframe tbody tr th {\n",
              "        vertical-align: top;\n",
              "    }\n",
              "\n",
              "    .dataframe thead th {\n",
              "        text-align: right;\n",
              "    }\n",
              "</style>\n",
              "<table border=\"1\" class=\"dataframe\">\n",
              "  <thead>\n",
              "    <tr style=\"text-align: right;\">\n",
              "      <th></th>\n",
              "      <th>min</th>\n",
              "      <th>mean</th>\n",
              "      <th>median</th>\n",
              "      <th>max</th>\n",
              "    </tr>\n",
              "    <tr>\n",
              "      <th>CountryDisplay</th>\n",
              "      <th></th>\n",
              "      <th></th>\n",
              "      <th></th>\n",
              "      <th></th>\n",
              "    </tr>\n",
              "  </thead>\n",
              "  <tbody>\n",
              "    <tr>\n",
              "      <th>Chile</th>\n",
              "      <td>69.0</td>\n",
              "      <td>77.422354</td>\n",
              "      <td>77.060205</td>\n",
              "      <td>83.00000</td>\n",
              "    </tr>\n",
              "    <tr>\n",
              "      <th>Nigeria</th>\n",
              "      <td>45.0</td>\n",
              "      <td>50.473338</td>\n",
              "      <td>50.500000</td>\n",
              "      <td>55.40039</td>\n",
              "    </tr>\n",
              "    <tr>\n",
              "      <th>Sweden</th>\n",
              "      <td>75.0</td>\n",
              "      <td>80.446728</td>\n",
              "      <td>80.500000</td>\n",
              "      <td>84.00000</td>\n",
              "    </tr>\n",
              "  </tbody>\n",
              "</table>\n",
              "</div>"
            ],
            "text/plain": [
              "                 min       mean     median       max\n",
              "CountryDisplay                                      \n",
              "Chile           69.0  77.422354  77.060205  83.00000\n",
              "Nigeria         45.0  50.473338  50.500000  55.40039\n",
              "Sweden          75.0  80.446728  80.500000  84.00000"
            ]
          },
          "execution_count": 51,
          "metadata": {},
          "output_type": "execute_result"
        }
      ],
      "source": [
        "countryList = ['Chile', 'Nigeria', 'Sweden']\n",
        "myStat = lifeExp[(lifeExp['CountryDisplay'].isin(countryList)) & (lifeExp['GhoDisplay'] == 'Life expectancy at birth (years)')]\\\n",
        "    .groupby(['CountryDisplay'])['Numeric'].agg(['min', 'mean', 'median', 'max'])\n",
        "myStat"
      ]
    },
    {
      "cell_type": "markdown",
      "metadata": {
        "id": "ZhzV-ygY0NI0"
      },
      "source": [
        "### 7\n",
        "\n",
        "Сформируйте результирующий датафрейм на основе проделанных вами действий в предыдущем номере. У датафрейма должно быть 4 столбца, в соответствии с заданными агреггирующими функциями: минимум, среднее, медиана, максимум, — а также 4 строки: статистика по всему датасету; статистика по трем выбранным вами странам. Сохраните программно созданный вами датафрейм в виде csv файла.\n",
        "\n",
        "*Примечание. Датафрейм необходимо создавать автоматизированным образом. Не допускается ручной перенос значений из полученных в предыдущем задании ячеек в пустой датафрейм и/или прописывание конкретных значений (чисел) в коде программы. Представьте, что у нас не 3 страны, а 100 и не 4 агреггирующих метрики, а 100!*"
      ]
    },
    {
      "cell_type": "code",
      "execution_count": null,
      "metadata": {},
      "outputs": [
        {
          "data": {
            "text/html": [
              "<div>\n",
              "<style scoped>\n",
              "    .dataframe tbody tr th:only-of-type {\n",
              "        vertical-align: middle;\n",
              "    }\n",
              "\n",
              "    .dataframe tbody tr th {\n",
              "        vertical-align: top;\n",
              "    }\n",
              "\n",
              "    .dataframe thead th {\n",
              "        text-align: right;\n",
              "    }\n",
              "</style>\n",
              "<table border=\"1\" class=\"dataframe\">\n",
              "  <thead>\n",
              "    <tr style=\"text-align: right;\">\n",
              "      <th></th>\n",
              "      <th>World</th>\n",
              "    </tr>\n",
              "  </thead>\n",
              "  <tbody>\n",
              "    <tr>\n",
              "      <th>min</th>\n",
              "      <td>38.000000</td>\n",
              "    </tr>\n",
              "    <tr>\n",
              "      <th>mean</th>\n",
              "      <td>68.441379</td>\n",
              "    </tr>\n",
              "    <tr>\n",
              "      <th>median</th>\n",
              "      <td>70.857895</td>\n",
              "    </tr>\n",
              "    <tr>\n",
              "      <th>max</th>\n",
              "      <td>87.154570</td>\n",
              "    </tr>\n",
              "  </tbody>\n",
              "</table>\n",
              "</div>"
            ],
            "text/plain": [
              "            World\n",
              "min     38.000000\n",
              "mean    68.441379\n",
              "median  70.857895\n",
              "max     87.154570"
            ]
          },
          "execution_count": 49,
          "metadata": {},
          "output_type": "execute_result"
        }
      ],
      "source": [
        "worldStat = pd.DataFrame()\n",
        "worldStat['World'] = allStat\n",
        "worldStat"
      ]
    },
    {
      "cell_type": "code",
      "execution_count": null,
      "metadata": {
        "id": "kdVvSBfq0oUn"
      },
      "outputs": [
        {
          "data": {
            "text/html": [
              "<div>\n",
              "<style scoped>\n",
              "    .dataframe tbody tr th:only-of-type {\n",
              "        vertical-align: middle;\n",
              "    }\n",
              "\n",
              "    .dataframe tbody tr th {\n",
              "        vertical-align: top;\n",
              "    }\n",
              "\n",
              "    .dataframe thead th {\n",
              "        text-align: right;\n",
              "    }\n",
              "</style>\n",
              "<table border=\"1\" class=\"dataframe\">\n",
              "  <thead>\n",
              "    <tr style=\"text-align: right;\">\n",
              "      <th></th>\n",
              "      <th>min</th>\n",
              "      <th>mean</th>\n",
              "      <th>median</th>\n",
              "      <th>max</th>\n",
              "    </tr>\n",
              "  </thead>\n",
              "  <tbody>\n",
              "    <tr>\n",
              "      <th>World</th>\n",
              "      <td>38.0</td>\n",
              "      <td>68.441379</td>\n",
              "      <td>70.857895</td>\n",
              "      <td>87.15457</td>\n",
              "    </tr>\n",
              "    <tr>\n",
              "      <th>Chile</th>\n",
              "      <td>69.0</td>\n",
              "      <td>77.422354</td>\n",
              "      <td>77.060205</td>\n",
              "      <td>83.00000</td>\n",
              "    </tr>\n",
              "    <tr>\n",
              "      <th>Nigeria</th>\n",
              "      <td>45.0</td>\n",
              "      <td>50.473338</td>\n",
              "      <td>50.500000</td>\n",
              "      <td>55.40039</td>\n",
              "    </tr>\n",
              "    <tr>\n",
              "      <th>Sweden</th>\n",
              "      <td>75.0</td>\n",
              "      <td>80.446728</td>\n",
              "      <td>80.500000</td>\n",
              "      <td>84.00000</td>\n",
              "    </tr>\n",
              "  </tbody>\n",
              "</table>\n",
              "</div>"
            ],
            "text/plain": [
              "          min       mean     median       max\n",
              "World    38.0  68.441379  70.857895  87.15457\n",
              "Chile    69.0  77.422354  77.060205  83.00000\n",
              "Nigeria  45.0  50.473338  50.500000  55.40039\n",
              "Sweden   75.0  80.446728  80.500000  84.00000"
            ]
          },
          "execution_count": 50,
          "metadata": {},
          "output_type": "execute_result"
        }
      ],
      "source": [
        "pd.concat([worldStat.T, myStat])"
      ]
    },
    {
      "cell_type": "markdown",
      "metadata": {
        "id": "L5KAIFPBZKgi"
      },
      "source": [
        "### 8"
      ]
    },
    {
      "cell_type": "markdown",
      "metadata": {
        "id": "Tv3QepvHZKgi"
      },
      "source": [
        "Есть ли в наших датасетах пропуски? Если да, то в каких столбцах? Сколько пропусков в каждом из них?\n",
        "\n",
        "Подумайте, как стоит избавиться от пропусков в каждом из столбцов, и сделайте это. Аргументируйте ваши действия.\n",
        "\n",
        "Проверьте, что пропусков нигде не осталось.\n",
        "\n",
        "*Примечание. Не забудьте сохранить все изменения! В последующих заданиях вы должны работать с уже обновленными датасетами.*"
      ]
    },
    {
      "cell_type": "code",
      "execution_count": null,
      "metadata": {
        "collapsed": true,
        "id": "wgP23TD3ZKgi"
      },
      "outputs": [
        {
          "data": {
            "text/plain": [
              "index                               0\n",
              "GhoCode                             0\n",
              "GhoDisplay                          0\n",
              "PublishStateCode                    0\n",
              "PublishStateDisplay                 0\n",
              "YearCode                            0\n",
              "YearDisplay                         0\n",
              "RegionCode                          0\n",
              "RegionDisplay                       0\n",
              "WorldBankIncomeGroupGroupCode    1164\n",
              "WorldBankIncomeGroupDisplay      1164\n",
              "CountryCode                         0\n",
              "CountryDisplay                      0\n",
              "SexCode                             0\n",
              "SexDisplay                          0\n",
              "DisplayValue                        0\n",
              "Numeric                             0\n",
              "dtype: int64"
            ]
          },
          "execution_count": 61,
          "metadata": {},
          "output_type": "execute_result"
        }
      ],
      "source": [
        "a = lifeExp.isna().sum()\n",
        "a"
      ]
    },
    {
      "cell_type": "code",
      "execution_count": null,
      "metadata": {},
      "outputs": [
        {
          "data": {
            "text/plain": [
              "WorldBankIncomeGroupGroupCode    0.181648\n",
              "WorldBankIncomeGroupDisplay      0.181648\n",
              "dtype: float64"
            ]
          },
          "execution_count": 62,
          "metadata": {},
          "output_type": "execute_result"
        }
      ],
      "source": [
        "a[a > 0] / lifeExp.shape[0]"
      ]
    },
    {
      "cell_type": "code",
      "execution_count": null,
      "metadata": {},
      "outputs": [
        {
          "data": {
            "text/plain": [
              "array(['Lower_middle_income', 'High_income', 'Low_income',\n",
              "       'Upper_middle_income', nan], dtype=object)"
            ]
          },
          "execution_count": 63,
          "metadata": {},
          "output_type": "execute_result"
        }
      ],
      "source": [
        "lifeExp['WorldBankIncomeGroupDisplay'].unique()"
      ]
    },
    {
      "cell_type": "code",
      "execution_count": null,
      "metadata": {},
      "outputs": [
        {
          "data": {
            "text/plain": [
              "1164"
            ]
          },
          "execution_count": 81,
          "metadata": {},
          "output_type": "execute_result"
        }
      ],
      "source": [
        "lifeExp[(lifeExp['WorldBankIncomeGroupDisplay'].isna()) & (lifeExp['WorldBankIncomeGroupGroupCode'].isna())].count().max()"
      ]
    },
    {
      "cell_type": "markdown",
      "metadata": {},
      "source": [
        "Значит все пропуски в 2 столбцах согласуются (если есть в одном столбце, то и в другой есть)"
      ]
    },
    {
      "cell_type": "code",
      "execution_count": null,
      "metadata": {},
      "outputs": [
        {
          "data": {
            "text/plain": [
              "CountryDisplay\n",
              "Afghanistan                           6\n",
              "Albania                               6\n",
              "Algeria                               6\n",
              "Andorra                               6\n",
              "Angola                                6\n",
              "                                     ..\n",
              "Venezuela (Bolivarian Republic of)    6\n",
              "Viet Nam                              6\n",
              "Yemen                                 6\n",
              "Zambia                                6\n",
              "Zimbabwe                              6\n",
              "Name: WBIGD, Length: 194, dtype: int64"
            ]
          },
          "execution_count": 113,
          "metadata": {},
          "output_type": "execute_result"
        }
      ],
      "source": [
        "df = pd.concat((lifeExp['WorldBankIncomeGroupDisplay'].isna().rename('WBIGD'), lifeExp), axis=1)\n",
        "cd = df.groupby(['CountryDisplay'])['WBIGD'].sum()\n",
        "cd"
      ]
    },
    {
      "cell_type": "code",
      "execution_count": null,
      "metadata": {},
      "outputs": [
        {
          "data": {
            "text/plain": [
              "Series([], Name: WBIGD, dtype: int64)"
            ]
          },
          "execution_count": 114,
          "metadata": {},
          "output_type": "execute_result"
        }
      ],
      "source": [
        "cd[cd != 6]"
      ]
    },
    {
      "cell_type": "code",
      "execution_count": null,
      "metadata": {},
      "outputs": [
        {
          "data": {
            "text/plain": [
              "YearCode\n",
              "1990       0\n",
              "2000       0\n",
              "2012       0\n",
              "2013    1164\n",
              "Name: WBIGD, dtype: int64"
            ]
          },
          "execution_count": 99,
          "metadata": {},
          "output_type": "execute_result"
        }
      ],
      "source": [
        "d = df.groupby(['YearCode'])['WBIGD'].sum()\n",
        "d"
      ]
    },
    {
      "cell_type": "code",
      "execution_count": null,
      "metadata": {},
      "outputs": [
        {
          "data": {
            "text/plain": [
              "GhoDisplay\n",
              "Healthy life expectancy (HALE) at birth (years)      0\n",
              "Life expectancy at age 60 (years)                  582\n",
              "Life expectancy at birth (years)                   582\n",
              "Name: WBIGD, dtype: int64"
            ]
          },
          "execution_count": 111,
          "metadata": {},
          "output_type": "execute_result"
        }
      ],
      "source": [
        "df[df.YearCode == 2013].groupby(['GhoDisplay'])['WBIGD'].sum()"
      ]
    },
    {
      "cell_type": "code",
      "execution_count": null,
      "metadata": {},
      "outputs": [
        {
          "data": {
            "text/html": [
              "<div>\n",
              "<style scoped>\n",
              "    .dataframe tbody tr th:only-of-type {\n",
              "        vertical-align: middle;\n",
              "    }\n",
              "\n",
              "    .dataframe tbody tr th {\n",
              "        vertical-align: top;\n",
              "    }\n",
              "\n",
              "    .dataframe thead th {\n",
              "        text-align: right;\n",
              "    }\n",
              "</style>\n",
              "<table border=\"1\" class=\"dataframe\">\n",
              "  <thead>\n",
              "    <tr style=\"text-align: right;\">\n",
              "      <th></th>\n",
              "      <th>WBIGD</th>\n",
              "      <th>index</th>\n",
              "      <th>GhoCode</th>\n",
              "      <th>GhoDisplay</th>\n",
              "      <th>PublishStateCode</th>\n",
              "      <th>PublishStateDisplay</th>\n",
              "      <th>YearCode</th>\n",
              "      <th>YearDisplay</th>\n",
              "      <th>RegionCode</th>\n",
              "      <th>RegionDisplay</th>\n",
              "      <th>WorldBankIncomeGroupGroupCode</th>\n",
              "      <th>WorldBankIncomeGroupDisplay</th>\n",
              "      <th>CountryCode</th>\n",
              "      <th>CountryDisplay</th>\n",
              "      <th>SexCode</th>\n",
              "      <th>SexDisplay</th>\n",
              "      <th>DisplayValue</th>\n",
              "      <th>Numeric</th>\n",
              "    </tr>\n",
              "  </thead>\n",
              "  <tbody>\n",
              "    <tr>\n",
              "      <th>6</th>\n",
              "      <td>True</td>\n",
              "      <td>6</td>\n",
              "      <td>WHOSIS_000001</td>\n",
              "      <td>Life expectancy at birth (years)</td>\n",
              "      <td>PUBLISHED</td>\n",
              "      <td>Published</td>\n",
              "      <td>2013</td>\n",
              "      <td>2013</td>\n",
              "      <td>AFR</td>\n",
              "      <td>Africa</td>\n",
              "      <td>NaN</td>\n",
              "      <td>NaN</td>\n",
              "      <td>ZWE</td>\n",
              "      <td>Zimbabwe</td>\n",
              "      <td>BTSX</td>\n",
              "      <td>Both sexes</td>\n",
              "      <td>59</td>\n",
              "      <td>58.72677</td>\n",
              "    </tr>\n",
              "    <tr>\n",
              "      <th>7</th>\n",
              "      <td>True</td>\n",
              "      <td>7</td>\n",
              "      <td>WHOSIS_000015</td>\n",
              "      <td>Life expectancy at age 60 (years)</td>\n",
              "      <td>PUBLISHED</td>\n",
              "      <td>Published</td>\n",
              "      <td>2013</td>\n",
              "      <td>2013</td>\n",
              "      <td>EUR</td>\n",
              "      <td>Europe</td>\n",
              "      <td>NaN</td>\n",
              "      <td>NaN</td>\n",
              "      <td>DEU</td>\n",
              "      <td>Germany</td>\n",
              "      <td>BTSX</td>\n",
              "      <td>Both sexes</td>\n",
              "      <td>24</td>\n",
              "      <td>23.76277</td>\n",
              "    </tr>\n",
              "    <tr>\n",
              "      <th>8</th>\n",
              "      <td>True</td>\n",
              "      <td>8</td>\n",
              "      <td>WHOSIS_000001</td>\n",
              "      <td>Life expectancy at birth (years)</td>\n",
              "      <td>PUBLISHED</td>\n",
              "      <td>Published</td>\n",
              "      <td>2013</td>\n",
              "      <td>2013</td>\n",
              "      <td>EUR</td>\n",
              "      <td>Europe</td>\n",
              "      <td>NaN</td>\n",
              "      <td>NaN</td>\n",
              "      <td>ESP</td>\n",
              "      <td>Spain</td>\n",
              "      <td>MLE</td>\n",
              "      <td>Male</td>\n",
              "      <td>80</td>\n",
              "      <td>79.56665</td>\n",
              "    </tr>\n",
              "    <tr>\n",
              "      <th>17</th>\n",
              "      <td>True</td>\n",
              "      <td>17</td>\n",
              "      <td>WHOSIS_000001</td>\n",
              "      <td>Life expectancy at birth (years)</td>\n",
              "      <td>PUBLISHED</td>\n",
              "      <td>Published</td>\n",
              "      <td>2013</td>\n",
              "      <td>2013</td>\n",
              "      <td>AMR</td>\n",
              "      <td>Americas</td>\n",
              "      <td>NaN</td>\n",
              "      <td>NaN</td>\n",
              "      <td>BRA</td>\n",
              "      <td>Brazil</td>\n",
              "      <td>MLE</td>\n",
              "      <td>Male</td>\n",
              "      <td>72</td>\n",
              "      <td>71.61015</td>\n",
              "    </tr>\n",
              "    <tr>\n",
              "      <th>19</th>\n",
              "      <td>True</td>\n",
              "      <td>19</td>\n",
              "      <td>WHOSIS_000015</td>\n",
              "      <td>Life expectancy at age 60 (years)</td>\n",
              "      <td>PUBLISHED</td>\n",
              "      <td>Published</td>\n",
              "      <td>2013</td>\n",
              "      <td>2013</td>\n",
              "      <td>WPR</td>\n",
              "      <td>Western Pacific</td>\n",
              "      <td>NaN</td>\n",
              "      <td>NaN</td>\n",
              "      <td>NIU</td>\n",
              "      <td>Niue</td>\n",
              "      <td>FMLE</td>\n",
              "      <td>Female</td>\n",
              "      <td>21</td>\n",
              "      <td>20.83867</td>\n",
              "    </tr>\n",
              "    <tr>\n",
              "      <th>...</th>\n",
              "      <td>...</td>\n",
              "      <td>...</td>\n",
              "      <td>...</td>\n",
              "      <td>...</td>\n",
              "      <td>...</td>\n",
              "      <td>...</td>\n",
              "      <td>...</td>\n",
              "      <td>...</td>\n",
              "      <td>...</td>\n",
              "      <td>...</td>\n",
              "      <td>...</td>\n",
              "      <td>...</td>\n",
              "      <td>...</td>\n",
              "      <td>...</td>\n",
              "      <td>...</td>\n",
              "      <td>...</td>\n",
              "      <td>...</td>\n",
              "      <td>...</td>\n",
              "    </tr>\n",
              "    <tr>\n",
              "      <th>6388</th>\n",
              "      <td>True</td>\n",
              "      <td>6388</td>\n",
              "      <td>WHOSIS_000001</td>\n",
              "      <td>Life expectancy at birth (years)</td>\n",
              "      <td>PUBLISHED</td>\n",
              "      <td>Published</td>\n",
              "      <td>2013</td>\n",
              "      <td>2013</td>\n",
              "      <td>EUR</td>\n",
              "      <td>Europe</td>\n",
              "      <td>NaN</td>\n",
              "      <td>NaN</td>\n",
              "      <td>BEL</td>\n",
              "      <td>Belgium</td>\n",
              "      <td>BTSX</td>\n",
              "      <td>Both sexes</td>\n",
              "      <td>80</td>\n",
              "      <td>80.48828</td>\n",
              "    </tr>\n",
              "    <tr>\n",
              "      <th>6389</th>\n",
              "      <td>True</td>\n",
              "      <td>6389</td>\n",
              "      <td>WHOSIS_000001</td>\n",
              "      <td>Life expectancy at birth (years)</td>\n",
              "      <td>PUBLISHED</td>\n",
              "      <td>Published</td>\n",
              "      <td>2013</td>\n",
              "      <td>2013</td>\n",
              "      <td>EUR</td>\n",
              "      <td>Europe</td>\n",
              "      <td>NaN</td>\n",
              "      <td>NaN</td>\n",
              "      <td>SRB</td>\n",
              "      <td>Serbia</td>\n",
              "      <td>FMLE</td>\n",
              "      <td>Female</td>\n",
              "      <td>77</td>\n",
              "      <td>77.36535</td>\n",
              "    </tr>\n",
              "    <tr>\n",
              "      <th>6391</th>\n",
              "      <td>True</td>\n",
              "      <td>6391</td>\n",
              "      <td>WHOSIS_000015</td>\n",
              "      <td>Life expectancy at age 60 (years)</td>\n",
              "      <td>PUBLISHED</td>\n",
              "      <td>Published</td>\n",
              "      <td>2013</td>\n",
              "      <td>2013</td>\n",
              "      <td>WPR</td>\n",
              "      <td>Western Pacific</td>\n",
              "      <td>NaN</td>\n",
              "      <td>NaN</td>\n",
              "      <td>COK</td>\n",
              "      <td>Cook Islands</td>\n",
              "      <td>MLE</td>\n",
              "      <td>Male</td>\n",
              "      <td>20</td>\n",
              "      <td>19.71973</td>\n",
              "    </tr>\n",
              "    <tr>\n",
              "      <th>6402</th>\n",
              "      <td>True</td>\n",
              "      <td>6402</td>\n",
              "      <td>WHOSIS_000015</td>\n",
              "      <td>Life expectancy at age 60 (years)</td>\n",
              "      <td>PUBLISHED</td>\n",
              "      <td>Published</td>\n",
              "      <td>2013</td>\n",
              "      <td>2013</td>\n",
              "      <td>SEAR</td>\n",
              "      <td>South_East Asia</td>\n",
              "      <td>NaN</td>\n",
              "      <td>NaN</td>\n",
              "      <td>TLS</td>\n",
              "      <td>Timor_Leste</td>\n",
              "      <td>MLE</td>\n",
              "      <td>Male</td>\n",
              "      <td>16</td>\n",
              "      <td>16.03829</td>\n",
              "    </tr>\n",
              "    <tr>\n",
              "      <th>6407</th>\n",
              "      <td>True</td>\n",
              "      <td>6407</td>\n",
              "      <td>WHOSIS_000001</td>\n",
              "      <td>Life expectancy at birth (years)</td>\n",
              "      <td>PUBLISHED</td>\n",
              "      <td>Published</td>\n",
              "      <td>2013</td>\n",
              "      <td>2013</td>\n",
              "      <td>EUR</td>\n",
              "      <td>Europe</td>\n",
              "      <td>NaN</td>\n",
              "      <td>NaN</td>\n",
              "      <td>ARM</td>\n",
              "      <td>Armenia</td>\n",
              "      <td>BTSX</td>\n",
              "      <td>Both sexes</td>\n",
              "      <td>71</td>\n",
              "      <td>71.02699</td>\n",
              "    </tr>\n",
              "  </tbody>\n",
              "</table>\n",
              "<p>1164 rows × 18 columns</p>\n",
              "</div>"
            ],
            "text/plain": [
              "      WBIGD  index        GhoCode                         GhoDisplay  \\\n",
              "6      True      6  WHOSIS_000001   Life expectancy at birth (years)   \n",
              "7      True      7  WHOSIS_000015  Life expectancy at age 60 (years)   \n",
              "8      True      8  WHOSIS_000001   Life expectancy at birth (years)   \n",
              "17     True     17  WHOSIS_000001   Life expectancy at birth (years)   \n",
              "19     True     19  WHOSIS_000015  Life expectancy at age 60 (years)   \n",
              "...     ...    ...            ...                                ...   \n",
              "6388   True   6388  WHOSIS_000001   Life expectancy at birth (years)   \n",
              "6389   True   6389  WHOSIS_000001   Life expectancy at birth (years)   \n",
              "6391   True   6391  WHOSIS_000015  Life expectancy at age 60 (years)   \n",
              "6402   True   6402  WHOSIS_000015  Life expectancy at age 60 (years)   \n",
              "6407   True   6407  WHOSIS_000001   Life expectancy at birth (years)   \n",
              "\n",
              "     PublishStateCode PublishStateDisplay  YearCode  YearDisplay RegionCode  \\\n",
              "6           PUBLISHED           Published      2013         2013        AFR   \n",
              "7           PUBLISHED           Published      2013         2013        EUR   \n",
              "8           PUBLISHED           Published      2013         2013        EUR   \n",
              "17          PUBLISHED           Published      2013         2013        AMR   \n",
              "19          PUBLISHED           Published      2013         2013        WPR   \n",
              "...               ...                 ...       ...          ...        ...   \n",
              "6388        PUBLISHED           Published      2013         2013        EUR   \n",
              "6389        PUBLISHED           Published      2013         2013        EUR   \n",
              "6391        PUBLISHED           Published      2013         2013        WPR   \n",
              "6402        PUBLISHED           Published      2013         2013       SEAR   \n",
              "6407        PUBLISHED           Published      2013         2013        EUR   \n",
              "\n",
              "        RegionDisplay WorldBankIncomeGroupGroupCode  \\\n",
              "6              Africa                           NaN   \n",
              "7              Europe                           NaN   \n",
              "8              Europe                           NaN   \n",
              "17           Americas                           NaN   \n",
              "19    Western Pacific                           NaN   \n",
              "...               ...                           ...   \n",
              "6388           Europe                           NaN   \n",
              "6389           Europe                           NaN   \n",
              "6391  Western Pacific                           NaN   \n",
              "6402  South_East Asia                           NaN   \n",
              "6407           Europe                           NaN   \n",
              "\n",
              "     WorldBankIncomeGroupDisplay CountryCode CountryDisplay SexCode  \\\n",
              "6                            NaN         ZWE       Zimbabwe    BTSX   \n",
              "7                            NaN         DEU        Germany    BTSX   \n",
              "8                            NaN         ESP          Spain     MLE   \n",
              "17                           NaN         BRA         Brazil     MLE   \n",
              "19                           NaN         NIU           Niue    FMLE   \n",
              "...                          ...         ...            ...     ...   \n",
              "6388                         NaN         BEL        Belgium    BTSX   \n",
              "6389                         NaN         SRB         Serbia    FMLE   \n",
              "6391                         NaN         COK   Cook Islands     MLE   \n",
              "6402                         NaN         TLS    Timor_Leste     MLE   \n",
              "6407                         NaN         ARM        Armenia    BTSX   \n",
              "\n",
              "      SexDisplay  DisplayValue   Numeric  \n",
              "6     Both sexes            59  58.72677  \n",
              "7     Both sexes            24  23.76277  \n",
              "8           Male            80  79.56665  \n",
              "17          Male            72  71.61015  \n",
              "19        Female            21  20.83867  \n",
              "...          ...           ...       ...  \n",
              "6388  Both sexes            80  80.48828  \n",
              "6389      Female            77  77.36535  \n",
              "6391        Male            20  19.71973  \n",
              "6402        Male            16  16.03829  \n",
              "6407  Both sexes            71  71.02699  \n",
              "\n",
              "[1164 rows x 18 columns]"
            ]
          },
          "execution_count": 112,
          "metadata": {},
          "output_type": "execute_result"
        }
      ],
      "source": [
        "df[(df.YearCode == 2013) & (df.GhoDisplay != 'Healthy life expectancy (HALE) at birth (years)')]"
      ]
    },
    {
      "cell_type": "code",
      "execution_count": null,
      "metadata": {},
      "outputs": [],
      "source": [
        "lifeExp.groupby()"
      ]
    },
    {
      "cell_type": "code",
      "execution_count": 142,
      "metadata": {},
      "outputs": [
        {
          "data": {
            "text/plain": [
              "YearCode\n",
              "1990    1164\n",
              "2000    1164\n",
              "2012    1164\n",
              "2013    1164\n",
              "Name: count, dtype: int64"
            ]
          },
          "execution_count": 142,
          "metadata": {},
          "output_type": "execute_result"
        }
      ],
      "source": [
        "df1 = lifeExp[lifeExp.GhoDisplay != 'Healthy life expectancy (HALE) at birth (years)']\n",
        "df1.YearCode.value_counts()"
      ]
    },
    {
      "cell_type": "code",
      "execution_count": 144,
      "metadata": {},
      "outputs": [
        {
          "data": {
            "text/html": [
              "<div>\n",
              "<style scoped>\n",
              "    .dataframe tbody tr th:only-of-type {\n",
              "        vertical-align: middle;\n",
              "    }\n",
              "\n",
              "    .dataframe tbody tr th {\n",
              "        vertical-align: top;\n",
              "    }\n",
              "\n",
              "    .dataframe thead th {\n",
              "        text-align: right;\n",
              "    }\n",
              "</style>\n",
              "<table border=\"1\" class=\"dataframe\">\n",
              "  <thead>\n",
              "    <tr style=\"text-align: right;\">\n",
              "      <th></th>\n",
              "      <th>index</th>\n",
              "      <th>GhoCode</th>\n",
              "      <th>GhoDisplay</th>\n",
              "      <th>PublishStateCode</th>\n",
              "      <th>PublishStateDisplay</th>\n",
              "      <th>YearCode</th>\n",
              "      <th>YearDisplay</th>\n",
              "      <th>RegionCode</th>\n",
              "      <th>RegionDisplay</th>\n",
              "      <th>CountryCode</th>\n",
              "      <th>CountryDisplay</th>\n",
              "      <th>SexCode</th>\n",
              "      <th>SexDisplay</th>\n",
              "      <th>DisplayValue</th>\n",
              "      <th>Numeric</th>\n",
              "      <th>WorldBankIncomeGroupDisplay</th>\n",
              "      <th>WorldBankIncomeGroupGroupCode</th>\n",
              "    </tr>\n",
              "  </thead>\n",
              "  <tbody>\n",
              "    <tr>\n",
              "      <th>0</th>\n",
              "      <td>6</td>\n",
              "      <td>WHOSIS_000001</td>\n",
              "      <td>Life expectancy at birth (years)</td>\n",
              "      <td>PUBLISHED</td>\n",
              "      <td>Published</td>\n",
              "      <td>2013</td>\n",
              "      <td>2013</td>\n",
              "      <td>AFR</td>\n",
              "      <td>Africa</td>\n",
              "      <td>ZWE</td>\n",
              "      <td>Zimbabwe</td>\n",
              "      <td>BTSX</td>\n",
              "      <td>Both sexes</td>\n",
              "      <td>59</td>\n",
              "      <td>58.72677</td>\n",
              "      <td>Low_income</td>\n",
              "      <td>WB_LI</td>\n",
              "    </tr>\n",
              "    <tr>\n",
              "      <th>1</th>\n",
              "      <td>7</td>\n",
              "      <td>WHOSIS_000015</td>\n",
              "      <td>Life expectancy at age 60 (years)</td>\n",
              "      <td>PUBLISHED</td>\n",
              "      <td>Published</td>\n",
              "      <td>2013</td>\n",
              "      <td>2013</td>\n",
              "      <td>EUR</td>\n",
              "      <td>Europe</td>\n",
              "      <td>DEU</td>\n",
              "      <td>Germany</td>\n",
              "      <td>BTSX</td>\n",
              "      <td>Both sexes</td>\n",
              "      <td>24</td>\n",
              "      <td>23.76277</td>\n",
              "      <td>High_income</td>\n",
              "      <td>WB_HI</td>\n",
              "    </tr>\n",
              "    <tr>\n",
              "      <th>2</th>\n",
              "      <td>8</td>\n",
              "      <td>WHOSIS_000001</td>\n",
              "      <td>Life expectancy at birth (years)</td>\n",
              "      <td>PUBLISHED</td>\n",
              "      <td>Published</td>\n",
              "      <td>2013</td>\n",
              "      <td>2013</td>\n",
              "      <td>EUR</td>\n",
              "      <td>Europe</td>\n",
              "      <td>ESP</td>\n",
              "      <td>Spain</td>\n",
              "      <td>MLE</td>\n",
              "      <td>Male</td>\n",
              "      <td>80</td>\n",
              "      <td>79.56665</td>\n",
              "      <td>High_income</td>\n",
              "      <td>WB_HI</td>\n",
              "    </tr>\n",
              "    <tr>\n",
              "      <th>3</th>\n",
              "      <td>17</td>\n",
              "      <td>WHOSIS_000001</td>\n",
              "      <td>Life expectancy at birth (years)</td>\n",
              "      <td>PUBLISHED</td>\n",
              "      <td>Published</td>\n",
              "      <td>2013</td>\n",
              "      <td>2013</td>\n",
              "      <td>AMR</td>\n",
              "      <td>Americas</td>\n",
              "      <td>BRA</td>\n",
              "      <td>Brazil</td>\n",
              "      <td>MLE</td>\n",
              "      <td>Male</td>\n",
              "      <td>72</td>\n",
              "      <td>71.61015</td>\n",
              "      <td>Upper_middle_income</td>\n",
              "      <td>WB_UMI</td>\n",
              "    </tr>\n",
              "    <tr>\n",
              "      <th>4</th>\n",
              "      <td>19</td>\n",
              "      <td>WHOSIS_000015</td>\n",
              "      <td>Life expectancy at age 60 (years)</td>\n",
              "      <td>PUBLISHED</td>\n",
              "      <td>Published</td>\n",
              "      <td>2013</td>\n",
              "      <td>2013</td>\n",
              "      <td>WPR</td>\n",
              "      <td>Western Pacific</td>\n",
              "      <td>NIU</td>\n",
              "      <td>Niue</td>\n",
              "      <td>FMLE</td>\n",
              "      <td>Female</td>\n",
              "      <td>21</td>\n",
              "      <td>20.83867</td>\n",
              "      <td>Low_income</td>\n",
              "      <td>WB_LI</td>\n",
              "    </tr>\n",
              "    <tr>\n",
              "      <th>...</th>\n",
              "      <td>...</td>\n",
              "      <td>...</td>\n",
              "      <td>...</td>\n",
              "      <td>...</td>\n",
              "      <td>...</td>\n",
              "      <td>...</td>\n",
              "      <td>...</td>\n",
              "      <td>...</td>\n",
              "      <td>...</td>\n",
              "      <td>...</td>\n",
              "      <td>...</td>\n",
              "      <td>...</td>\n",
              "      <td>...</td>\n",
              "      <td>...</td>\n",
              "      <td>...</td>\n",
              "      <td>...</td>\n",
              "      <td>...</td>\n",
              "    </tr>\n",
              "    <tr>\n",
              "      <th>1159</th>\n",
              "      <td>6388</td>\n",
              "      <td>WHOSIS_000001</td>\n",
              "      <td>Life expectancy at birth (years)</td>\n",
              "      <td>PUBLISHED</td>\n",
              "      <td>Published</td>\n",
              "      <td>2013</td>\n",
              "      <td>2013</td>\n",
              "      <td>EUR</td>\n",
              "      <td>Europe</td>\n",
              "      <td>BEL</td>\n",
              "      <td>Belgium</td>\n",
              "      <td>BTSX</td>\n",
              "      <td>Both sexes</td>\n",
              "      <td>80</td>\n",
              "      <td>80.48828</td>\n",
              "      <td>High_income</td>\n",
              "      <td>WB_HI</td>\n",
              "    </tr>\n",
              "    <tr>\n",
              "      <th>1160</th>\n",
              "      <td>6389</td>\n",
              "      <td>WHOSIS_000001</td>\n",
              "      <td>Life expectancy at birth (years)</td>\n",
              "      <td>PUBLISHED</td>\n",
              "      <td>Published</td>\n",
              "      <td>2013</td>\n",
              "      <td>2013</td>\n",
              "      <td>EUR</td>\n",
              "      <td>Europe</td>\n",
              "      <td>SRB</td>\n",
              "      <td>Serbia</td>\n",
              "      <td>FMLE</td>\n",
              "      <td>Female</td>\n",
              "      <td>77</td>\n",
              "      <td>77.36535</td>\n",
              "      <td>Upper_middle_income</td>\n",
              "      <td>WB_UMI</td>\n",
              "    </tr>\n",
              "    <tr>\n",
              "      <th>1161</th>\n",
              "      <td>6391</td>\n",
              "      <td>WHOSIS_000015</td>\n",
              "      <td>Life expectancy at age 60 (years)</td>\n",
              "      <td>PUBLISHED</td>\n",
              "      <td>Published</td>\n",
              "      <td>2013</td>\n",
              "      <td>2013</td>\n",
              "      <td>WPR</td>\n",
              "      <td>Western Pacific</td>\n",
              "      <td>COK</td>\n",
              "      <td>Cook Islands</td>\n",
              "      <td>MLE</td>\n",
              "      <td>Male</td>\n",
              "      <td>20</td>\n",
              "      <td>19.71973</td>\n",
              "      <td>High_income</td>\n",
              "      <td>WB_HI</td>\n",
              "    </tr>\n",
              "    <tr>\n",
              "      <th>1162</th>\n",
              "      <td>6402</td>\n",
              "      <td>WHOSIS_000015</td>\n",
              "      <td>Life expectancy at age 60 (years)</td>\n",
              "      <td>PUBLISHED</td>\n",
              "      <td>Published</td>\n",
              "      <td>2013</td>\n",
              "      <td>2013</td>\n",
              "      <td>SEAR</td>\n",
              "      <td>South_East Asia</td>\n",
              "      <td>TLS</td>\n",
              "      <td>Timor_Leste</td>\n",
              "      <td>MLE</td>\n",
              "      <td>Male</td>\n",
              "      <td>16</td>\n",
              "      <td>16.03829</td>\n",
              "      <td>Lower_middle_income</td>\n",
              "      <td>WB_LMI</td>\n",
              "    </tr>\n",
              "    <tr>\n",
              "      <th>1163</th>\n",
              "      <td>6407</td>\n",
              "      <td>WHOSIS_000001</td>\n",
              "      <td>Life expectancy at birth (years)</td>\n",
              "      <td>PUBLISHED</td>\n",
              "      <td>Published</td>\n",
              "      <td>2013</td>\n",
              "      <td>2013</td>\n",
              "      <td>EUR</td>\n",
              "      <td>Europe</td>\n",
              "      <td>ARM</td>\n",
              "      <td>Armenia</td>\n",
              "      <td>BTSX</td>\n",
              "      <td>Both sexes</td>\n",
              "      <td>71</td>\n",
              "      <td>71.02699</td>\n",
              "      <td>Lower_middle_income</td>\n",
              "      <td>WB_LMI</td>\n",
              "    </tr>\n",
              "  </tbody>\n",
              "</table>\n",
              "<p>1164 rows × 17 columns</p>\n",
              "</div>"
            ],
            "text/plain": [
              "      index        GhoCode                         GhoDisplay  \\\n",
              "0         6  WHOSIS_000001   Life expectancy at birth (years)   \n",
              "1         7  WHOSIS_000015  Life expectancy at age 60 (years)   \n",
              "2         8  WHOSIS_000001   Life expectancy at birth (years)   \n",
              "3        17  WHOSIS_000001   Life expectancy at birth (years)   \n",
              "4        19  WHOSIS_000015  Life expectancy at age 60 (years)   \n",
              "...     ...            ...                                ...   \n",
              "1159   6388  WHOSIS_000001   Life expectancy at birth (years)   \n",
              "1160   6389  WHOSIS_000001   Life expectancy at birth (years)   \n",
              "1161   6391  WHOSIS_000015  Life expectancy at age 60 (years)   \n",
              "1162   6402  WHOSIS_000015  Life expectancy at age 60 (years)   \n",
              "1163   6407  WHOSIS_000001   Life expectancy at birth (years)   \n",
              "\n",
              "     PublishStateCode PublishStateDisplay  YearCode  YearDisplay RegionCode  \\\n",
              "0           PUBLISHED           Published      2013         2013        AFR   \n",
              "1           PUBLISHED           Published      2013         2013        EUR   \n",
              "2           PUBLISHED           Published      2013         2013        EUR   \n",
              "3           PUBLISHED           Published      2013         2013        AMR   \n",
              "4           PUBLISHED           Published      2013         2013        WPR   \n",
              "...               ...                 ...       ...          ...        ...   \n",
              "1159        PUBLISHED           Published      2013         2013        EUR   \n",
              "1160        PUBLISHED           Published      2013         2013        EUR   \n",
              "1161        PUBLISHED           Published      2013         2013        WPR   \n",
              "1162        PUBLISHED           Published      2013         2013       SEAR   \n",
              "1163        PUBLISHED           Published      2013         2013        EUR   \n",
              "\n",
              "        RegionDisplay CountryCode CountryDisplay SexCode  SexDisplay  \\\n",
              "0              Africa         ZWE       Zimbabwe    BTSX  Both sexes   \n",
              "1              Europe         DEU        Germany    BTSX  Both sexes   \n",
              "2              Europe         ESP          Spain     MLE        Male   \n",
              "3            Americas         BRA         Brazil     MLE        Male   \n",
              "4     Western Pacific         NIU           Niue    FMLE      Female   \n",
              "...               ...         ...            ...     ...         ...   \n",
              "1159           Europe         BEL        Belgium    BTSX  Both sexes   \n",
              "1160           Europe         SRB         Serbia    FMLE      Female   \n",
              "1161  Western Pacific         COK   Cook Islands     MLE        Male   \n",
              "1162  South_East Asia         TLS    Timor_Leste     MLE        Male   \n",
              "1163           Europe         ARM        Armenia    BTSX  Both sexes   \n",
              "\n",
              "      DisplayValue   Numeric WorldBankIncomeGroupDisplay  \\\n",
              "0               59  58.72677                  Low_income   \n",
              "1               24  23.76277                 High_income   \n",
              "2               80  79.56665                 High_income   \n",
              "3               72  71.61015         Upper_middle_income   \n",
              "4               21  20.83867                  Low_income   \n",
              "...            ...       ...                         ...   \n",
              "1159            80  80.48828                 High_income   \n",
              "1160            77  77.36535         Upper_middle_income   \n",
              "1161            20  19.71973                 High_income   \n",
              "1162            16  16.03829         Lower_middle_income   \n",
              "1163            71  71.02699         Lower_middle_income   \n",
              "\n",
              "     WorldBankIncomeGroupGroupCode  \n",
              "0                            WB_LI  \n",
              "1                            WB_HI  \n",
              "2                            WB_HI  \n",
              "3                           WB_UMI  \n",
              "4                            WB_LI  \n",
              "...                            ...  \n",
              "1159                         WB_HI  \n",
              "1160                        WB_UMI  \n",
              "1161                         WB_HI  \n",
              "1162                        WB_LMI  \n",
              "1163                        WB_LMI  \n",
              "\n",
              "[1164 rows x 17 columns]"
            ]
          },
          "execution_count": 144,
          "metadata": {},
          "output_type": "execute_result"
        }
      ],
      "source": [
        "df2 = pd.merge(df1[df1.YearCode == 2013].drop(['WorldBankIncomeGroupGroupCode', 'WorldBankIncomeGroupDisplay'], axis=1), \\\n",
        "         df1[df1.YearCode == 2012][['CountryCode', 'GhoCode', 'SexCode', 'WorldBankIncomeGroupDisplay', 'WorldBankIncomeGroupGroupCode']], \\\n",
        "         how='inner', on=['CountryCode', 'GhoCode', 'SexCode'])\n",
        "df2"
      ]
    },
    {
      "cell_type": "markdown",
      "metadata": {},
      "source": [
        "По итогу, выявив все закономерности можно сделать следующее: доставить данные из 2012 года о тех же странах в тех же исследованиях о тех же типах людей и поставить их в 2013 год.\n",
        "Это будет обосновано тк финансовое положение людей страны не может поменяться за 1 год."
      ]
    },
    {
      "cell_type": "code",
      "execution_count": 157,
      "metadata": {},
      "outputs": [
        {
          "data": {
            "text/plain": [
              "index                            0\n",
              "GhoCode                          0\n",
              "GhoDisplay                       0\n",
              "PublishStateCode                 0\n",
              "PublishStateDisplay              0\n",
              "YearCode                         0\n",
              "YearDisplay                      0\n",
              "RegionCode                       0\n",
              "RegionDisplay                    0\n",
              "WorldBankIncomeGroupGroupCode    0\n",
              "WorldBankIncomeGroupDisplay      0\n",
              "CountryCode                      0\n",
              "CountryDisplay                   0\n",
              "SexCode                          0\n",
              "SexDisplay                       0\n",
              "DisplayValue                     0\n",
              "Numeric                          0\n",
              "dtype: int64"
            ]
          },
          "execution_count": 157,
          "metadata": {},
          "output_type": "execute_result"
        }
      ],
      "source": [
        "# данные без nan значений\n",
        "lifeExp_new = lifeExp[(lifeExp.GhoDisplay == 'Healthy life expectancy (HALE) at birth (years)')\\\n",
        "        | (lifeExp.YearCode != 2013)]\n",
        "lifeExp_new.isna().sum()"
      ]
    },
    {
      "cell_type": "code",
      "execution_count": 158,
      "metadata": {},
      "outputs": [
        {
          "data": {
            "text/plain": [
              "(6408, 17)"
            ]
          },
          "execution_count": 158,
          "metadata": {},
          "output_type": "execute_result"
        }
      ],
      "source": [
        "lifeExp_new = pd.concat([lifeExp_new, df2])\n",
        "lifeExp_new.shape"
      ]
    },
    {
      "cell_type": "code",
      "execution_count": 159,
      "metadata": {},
      "outputs": [
        {
          "data": {
            "text/plain": [
              "index                            0\n",
              "GhoCode                          0\n",
              "GhoDisplay                       0\n",
              "PublishStateCode                 0\n",
              "PublishStateDisplay              0\n",
              "YearCode                         0\n",
              "YearDisplay                      0\n",
              "RegionCode                       0\n",
              "RegionDisplay                    0\n",
              "WorldBankIncomeGroupGroupCode    0\n",
              "WorldBankIncomeGroupDisplay      0\n",
              "CountryCode                      0\n",
              "CountryDisplay                   0\n",
              "SexCode                          0\n",
              "SexDisplay                       0\n",
              "DisplayValue                     0\n",
              "Numeric                          0\n",
              "dtype: int64"
            ]
          },
          "execution_count": 159,
          "metadata": {},
          "output_type": "execute_result"
        }
      ],
      "source": [
        "lifeExp_new.isna().sum()"
      ]
    },
    {
      "cell_type": "markdown",
      "metadata": {
        "id": "VQ_ocDkOZKgh"
      },
      "source": [
        "### 9"
      ]
    },
    {
      "cell_type": "markdown",
      "metadata": {
        "id": "Z92wE5uJZKgh"
      },
      "source": [
        "Все ли признаки несут в себе полезную информацию? Почему вы так считаете? Избавьтесь от ненужных столбцов. Свой выбор аргументируйте\n",
        "\n",
        "*Примечание. Не забудьте сохранить все изменения! В последующих заданиях вы должны работать с уже обновленными датасетами.*"
      ]
    },
    {
      "cell_type": "markdown",
      "metadata": {},
      "source": [
        "Нет необходимости в дублирующих столбцах - код и полное названия, так как все названия корректны и могут выступить в роли категариального признака не хуже кода (в то время как они же будут информативнее и легче понимаемы)\n",
        "PublishStateCode = PUBLISHED везде, поэтому тоже удаляем"
      ]
    },
    {
      "cell_type": "code",
      "execution_count": 162,
      "metadata": {},
      "outputs": [
        {
          "data": {
            "text/html": [
              "<div>\n",
              "<style scoped>\n",
              "    .dataframe tbody tr th:only-of-type {\n",
              "        vertical-align: middle;\n",
              "    }\n",
              "\n",
              "    .dataframe tbody tr th {\n",
              "        vertical-align: top;\n",
              "    }\n",
              "\n",
              "    .dataframe thead th {\n",
              "        text-align: right;\n",
              "    }\n",
              "</style>\n",
              "<table border=\"1\" class=\"dataframe\">\n",
              "  <thead>\n",
              "    <tr style=\"text-align: right;\">\n",
              "      <th></th>\n",
              "      <th>index</th>\n",
              "      <th>GhoCode</th>\n",
              "      <th>GhoDisplay</th>\n",
              "      <th>PublishStateCode</th>\n",
              "      <th>PublishStateDisplay</th>\n",
              "      <th>YearCode</th>\n",
              "      <th>YearDisplay</th>\n",
              "      <th>RegionCode</th>\n",
              "      <th>RegionDisplay</th>\n",
              "      <th>WorldBankIncomeGroupGroupCode</th>\n",
              "      <th>WorldBankIncomeGroupDisplay</th>\n",
              "      <th>CountryCode</th>\n",
              "      <th>CountryDisplay</th>\n",
              "      <th>SexCode</th>\n",
              "      <th>SexDisplay</th>\n",
              "      <th>DisplayValue</th>\n",
              "      <th>Numeric</th>\n",
              "    </tr>\n",
              "  </thead>\n",
              "  <tbody>\n",
              "    <tr>\n",
              "      <th>0</th>\n",
              "      <td>0</td>\n",
              "      <td>WHOSIS_000001</td>\n",
              "      <td>Life expectancy at birth (years)</td>\n",
              "      <td>PUBLISHED</td>\n",
              "      <td>Published</td>\n",
              "      <td>1990</td>\n",
              "      <td>1990</td>\n",
              "      <td>AMR</td>\n",
              "      <td>Americas</td>\n",
              "      <td>WB_LMI</td>\n",
              "      <td>Lower_middle_income</td>\n",
              "      <td>NIC</td>\n",
              "      <td>Nicaragua</td>\n",
              "      <td>MLE</td>\n",
              "      <td>Male</td>\n",
              "      <td>68</td>\n",
              "      <td>68.0</td>\n",
              "    </tr>\n",
              "  </tbody>\n",
              "</table>\n",
              "</div>"
            ],
            "text/plain": [
              "   index        GhoCode                        GhoDisplay PublishStateCode  \\\n",
              "0      0  WHOSIS_000001  Life expectancy at birth (years)        PUBLISHED   \n",
              "\n",
              "  PublishStateDisplay  YearCode  YearDisplay RegionCode RegionDisplay  \\\n",
              "0           Published      1990         1990        AMR      Americas   \n",
              "\n",
              "  WorldBankIncomeGroupGroupCode WorldBankIncomeGroupDisplay CountryCode  \\\n",
              "0                        WB_LMI         Lower_middle_income         NIC   \n",
              "\n",
              "  CountryDisplay SexCode SexDisplay  DisplayValue  Numeric  \n",
              "0      Nicaragua     MLE       Male            68     68.0  "
            ]
          },
          "execution_count": 162,
          "metadata": {},
          "output_type": "execute_result"
        }
      ],
      "source": [
        "lifeExp_new.head(1)"
      ]
    },
    {
      "cell_type": "code",
      "execution_count": 164,
      "metadata": {
        "collapsed": true,
        "id": "f79iiwhuZKgh"
      },
      "outputs": [],
      "source": [
        "lifeExp_new.drop(['GhoCode', 'PublishStateCode', 'PublishStateDisplay', 'YearDisplay', 'RegionCode', \\\n",
        "                  'WorldBankIncomeGroupGroupCode', 'CountryCode', 'SexCode', 'DisplayValue'], axis=1, inplace=True)"
      ]
    },
    {
      "cell_type": "code",
      "execution_count": 166,
      "metadata": {},
      "outputs": [
        {
          "data": {
            "text/html": [
              "<div>\n",
              "<style scoped>\n",
              "    .dataframe tbody tr th:only-of-type {\n",
              "        vertical-align: middle;\n",
              "    }\n",
              "\n",
              "    .dataframe tbody tr th {\n",
              "        vertical-align: top;\n",
              "    }\n",
              "\n",
              "    .dataframe thead th {\n",
              "        text-align: right;\n",
              "    }\n",
              "</style>\n",
              "<table border=\"1\" class=\"dataframe\">\n",
              "  <thead>\n",
              "    <tr style=\"text-align: right;\">\n",
              "      <th></th>\n",
              "      <th>index</th>\n",
              "      <th>GhoDisplay</th>\n",
              "      <th>YearCode</th>\n",
              "      <th>RegionDisplay</th>\n",
              "      <th>WorldBankIncomeGroupDisplay</th>\n",
              "      <th>CountryDisplay</th>\n",
              "      <th>SexDisplay</th>\n",
              "      <th>Numeric</th>\n",
              "    </tr>\n",
              "  </thead>\n",
              "  <tbody>\n",
              "    <tr>\n",
              "      <th>0</th>\n",
              "      <td>0</td>\n",
              "      <td>Life expectancy at birth (years)</td>\n",
              "      <td>1990</td>\n",
              "      <td>Americas</td>\n",
              "      <td>Lower_middle_income</td>\n",
              "      <td>Nicaragua</td>\n",
              "      <td>Male</td>\n",
              "      <td>68.0</td>\n",
              "    </tr>\n",
              "    <tr>\n",
              "      <th>1</th>\n",
              "      <td>1</td>\n",
              "      <td>Healthy life expectancy (HALE) at birth (years)</td>\n",
              "      <td>2012</td>\n",
              "      <td>Europe</td>\n",
              "      <td>High_income</td>\n",
              "      <td>Ireland</td>\n",
              "      <td>Male</td>\n",
              "      <td>69.3</td>\n",
              "    </tr>\n",
              "    <tr>\n",
              "      <th>2</th>\n",
              "      <td>2</td>\n",
              "      <td>Life expectancy at birth (years)</td>\n",
              "      <td>2000</td>\n",
              "      <td>Eastern Mediterranean</td>\n",
              "      <td>Low_income</td>\n",
              "      <td>Yemen</td>\n",
              "      <td>Both sexes</td>\n",
              "      <td>61.0</td>\n",
              "    </tr>\n",
              "  </tbody>\n",
              "</table>\n",
              "</div>"
            ],
            "text/plain": [
              "   index                                       GhoDisplay  YearCode  \\\n",
              "0      0                 Life expectancy at birth (years)      1990   \n",
              "1      1  Healthy life expectancy (HALE) at birth (years)      2012   \n",
              "2      2                 Life expectancy at birth (years)      2000   \n",
              "\n",
              "           RegionDisplay WorldBankIncomeGroupDisplay CountryDisplay  \\\n",
              "0               Americas         Lower_middle_income      Nicaragua   \n",
              "1                 Europe                 High_income        Ireland   \n",
              "2  Eastern Mediterranean                  Low_income          Yemen   \n",
              "\n",
              "   SexDisplay  Numeric  \n",
              "0        Male     68.0  \n",
              "1        Male     69.3  \n",
              "2  Both sexes     61.0  "
            ]
          },
          "execution_count": 166,
          "metadata": {},
          "output_type": "execute_result"
        }
      ],
      "source": [
        "lifeExp_new.head(3)"
      ]
    },
    {
      "cell_type": "markdown",
      "metadata": {
        "id": "sTOh2jQ2ZKgj"
      },
      "source": [
        "### 10"
      ]
    },
    {
      "cell_type": "markdown",
      "metadata": {
        "id": "961UOK2CZKgj"
      },
      "source": [
        "Посчитайте, насколько сильно коррелируют друг с другом потребления разных видов алкоголя (beer_servings,\tspirit_servings и\twine_servings). Создайте датафрейм с попарными корреляциями этих столбцов друг с другом. Какие выводы можно сделать?"
      ]
    },
    {
      "cell_type": "code",
      "execution_count": 169,
      "metadata": {
        "collapsed": true,
        "id": "9T42qGrkZKgj"
      },
      "outputs": [
        {
          "data": {
            "text/html": [
              "<div>\n",
              "<style scoped>\n",
              "    .dataframe tbody tr th:only-of-type {\n",
              "        vertical-align: middle;\n",
              "    }\n",
              "\n",
              "    .dataframe tbody tr th {\n",
              "        vertical-align: top;\n",
              "    }\n",
              "\n",
              "    .dataframe thead th {\n",
              "        text-align: right;\n",
              "    }\n",
              "</style>\n",
              "<table border=\"1\" class=\"dataframe\">\n",
              "  <thead>\n",
              "    <tr style=\"text-align: right;\">\n",
              "      <th></th>\n",
              "      <th>beer_servings</th>\n",
              "      <th>spirit_servings</th>\n",
              "      <th>wine_servings</th>\n",
              "    </tr>\n",
              "  </thead>\n",
              "  <tbody>\n",
              "    <tr>\n",
              "      <th>beer_servings</th>\n",
              "      <td>1.000000</td>\n",
              "      <td>0.458819</td>\n",
              "      <td>0.527172</td>\n",
              "    </tr>\n",
              "    <tr>\n",
              "      <th>spirit_servings</th>\n",
              "      <td>0.458819</td>\n",
              "      <td>1.000000</td>\n",
              "      <td>0.194797</td>\n",
              "    </tr>\n",
              "    <tr>\n",
              "      <th>wine_servings</th>\n",
              "      <td>0.527172</td>\n",
              "      <td>0.194797</td>\n",
              "      <td>1.000000</td>\n",
              "    </tr>\n",
              "  </tbody>\n",
              "</table>\n",
              "</div>"
            ],
            "text/plain": [
              "                 beer_servings  spirit_servings  wine_servings\n",
              "beer_servings         1.000000         0.458819       0.527172\n",
              "spirit_servings       0.458819         1.000000       0.194797\n",
              "wine_servings         0.527172         0.194797       1.000000"
            ]
          },
          "execution_count": 169,
          "metadata": {},
          "output_type": "execute_result"
        }
      ],
      "source": [
        "drinks[['beer_servings',\t'spirit_servings', 'wine_servings']].corr()"
      ]
    },
    {
      "cell_type": "markdown",
      "metadata": {},
      "source": [
        "wine_servings и spirit_servings мало коррелируют\n",
        "spirit_servings\tи beer_servings достаточно коррелируют \n",
        "beer_servings и wine_servings достаточно коррелируют \n",
        "Можно сделать вывод, что люди пьющие вино реже пьют напитки с высоким содержанием спирта. В то же время люди предпочитающие пиво также на ровне употребляют и напитки с высоким содержанием спирта и вино."
      ]
    },
    {
      "cell_type": "markdown",
      "metadata": {
        "id": "APDi6QkS8yWo"
      },
      "source": [
        "### 11"
      ]
    },
    {
      "cell_type": "markdown",
      "metadata": {
        "id": "ewdm3OQ98yWx"
      },
      "source": [
        "Каким образом следует осуществить соединение двух имеющихся у нас таблиц? Почему? Соедините таблицы!\n",
        "\n",
        "Получилось ли у вас задействовать все строки, и если нет, то почему? Что делать с теми строками, которые не удается задействовать, если таковые есть? Ответ обоснуйте.\n",
        "\n",
        "*Подсказка. В ответе на первый вопрос задания, а также в обосновании способа соединения таблиц вам может помочь задание 3 данного раздела ДЗ и соответствующий семинарский ноутбук!*\n",
        "\n",
        "*Примечание. Не забудьте сохранить все изменения! В последующих заданиях вы должны работать с одним объединенным датасетом.*"
      ]
    },
    {
      "cell_type": "code",
      "execution_count": 172,
      "metadata": {},
      "outputs": [
        {
          "data": {
            "text/html": [
              "<div>\n",
              "<style scoped>\n",
              "    .dataframe tbody tr th:only-of-type {\n",
              "        vertical-align: middle;\n",
              "    }\n",
              "\n",
              "    .dataframe tbody tr th {\n",
              "        vertical-align: top;\n",
              "    }\n",
              "\n",
              "    .dataframe thead th {\n",
              "        text-align: right;\n",
              "    }\n",
              "</style>\n",
              "<table border=\"1\" class=\"dataframe\">\n",
              "  <thead>\n",
              "    <tr style=\"text-align: right;\">\n",
              "      <th></th>\n",
              "      <th>index</th>\n",
              "      <th>country</th>\n",
              "      <th>beer_servings</th>\n",
              "      <th>spirit_servings</th>\n",
              "      <th>wine_servings</th>\n",
              "      <th>total_litres_of_pure_alcohol</th>\n",
              "    </tr>\n",
              "  </thead>\n",
              "  <tbody>\n",
              "    <tr>\n",
              "      <th>0</th>\n",
              "      <td>0</td>\n",
              "      <td>Afghanistan</td>\n",
              "      <td>0</td>\n",
              "      <td>0</td>\n",
              "      <td>0</td>\n",
              "      <td>0.0</td>\n",
              "    </tr>\n",
              "  </tbody>\n",
              "</table>\n",
              "</div>"
            ],
            "text/plain": [
              "   index      country  beer_servings  spirit_servings  wine_servings  \\\n",
              "0      0  Afghanistan              0                0              0   \n",
              "\n",
              "   total_litres_of_pure_alcohol  \n",
              "0                           0.0  "
            ]
          },
          "execution_count": 172,
          "metadata": {},
          "output_type": "execute_result"
        }
      ],
      "source": [
        "drinks.head(1)"
      ]
    },
    {
      "cell_type": "code",
      "execution_count": 173,
      "metadata": {},
      "outputs": [
        {
          "data": {
            "text/html": [
              "<div>\n",
              "<style scoped>\n",
              "    .dataframe tbody tr th:only-of-type {\n",
              "        vertical-align: middle;\n",
              "    }\n",
              "\n",
              "    .dataframe tbody tr th {\n",
              "        vertical-align: top;\n",
              "    }\n",
              "\n",
              "    .dataframe thead th {\n",
              "        text-align: right;\n",
              "    }\n",
              "</style>\n",
              "<table border=\"1\" class=\"dataframe\">\n",
              "  <thead>\n",
              "    <tr style=\"text-align: right;\">\n",
              "      <th></th>\n",
              "      <th>index</th>\n",
              "      <th>GhoDisplay</th>\n",
              "      <th>YearCode</th>\n",
              "      <th>RegionDisplay</th>\n",
              "      <th>WorldBankIncomeGroupDisplay</th>\n",
              "      <th>CountryDisplay</th>\n",
              "      <th>SexDisplay</th>\n",
              "      <th>Numeric</th>\n",
              "    </tr>\n",
              "  </thead>\n",
              "  <tbody>\n",
              "    <tr>\n",
              "      <th>0</th>\n",
              "      <td>0</td>\n",
              "      <td>Life expectancy at birth (years)</td>\n",
              "      <td>1990</td>\n",
              "      <td>Americas</td>\n",
              "      <td>Lower_middle_income</td>\n",
              "      <td>Nicaragua</td>\n",
              "      <td>Male</td>\n",
              "      <td>68.0</td>\n",
              "    </tr>\n",
              "  </tbody>\n",
              "</table>\n",
              "</div>"
            ],
            "text/plain": [
              "   index                        GhoDisplay  YearCode RegionDisplay  \\\n",
              "0      0  Life expectancy at birth (years)      1990      Americas   \n",
              "\n",
              "  WorldBankIncomeGroupDisplay CountryDisplay SexDisplay  Numeric  \n",
              "0         Lower_middle_income      Nicaragua       Male     68.0  "
            ]
          },
          "execution_count": 173,
          "metadata": {},
          "output_type": "execute_result"
        }
      ],
      "source": [
        "lifeExp_new.head(1)"
      ]
    },
    {
      "cell_type": "code",
      "execution_count": 176,
      "metadata": {
        "collapsed": true,
        "id": "E836k-js8yWx"
      },
      "outputs": [
        {
          "data": {
            "text/html": [
              "<div>\n",
              "<style scoped>\n",
              "    .dataframe tbody tr th:only-of-type {\n",
              "        vertical-align: middle;\n",
              "    }\n",
              "\n",
              "    .dataframe tbody tr th {\n",
              "        vertical-align: top;\n",
              "    }\n",
              "\n",
              "    .dataframe thead th {\n",
              "        text-align: right;\n",
              "    }\n",
              "</style>\n",
              "<table border=\"1\" class=\"dataframe\">\n",
              "  <thead>\n",
              "    <tr style=\"text-align: right;\">\n",
              "      <th></th>\n",
              "      <th>country</th>\n",
              "      <th>beer_servings</th>\n",
              "      <th>spirit_servings</th>\n",
              "      <th>wine_servings</th>\n",
              "      <th>total_litres_of_pure_alcohol</th>\n",
              "      <th>index</th>\n",
              "      <th>GhoDisplay</th>\n",
              "      <th>YearCode</th>\n",
              "      <th>RegionDisplay</th>\n",
              "      <th>WorldBankIncomeGroupDisplay</th>\n",
              "      <th>CountryDisplay</th>\n",
              "      <th>SexDisplay</th>\n",
              "      <th>Numeric</th>\n",
              "    </tr>\n",
              "  </thead>\n",
              "  <tbody>\n",
              "    <tr>\n",
              "      <th>0</th>\n",
              "      <td>Afghanistan</td>\n",
              "      <td>0.0</td>\n",
              "      <td>0.0</td>\n",
              "      <td>0.0</td>\n",
              "      <td>0.0</td>\n",
              "      <td>480.0</td>\n",
              "      <td>Life expectancy at age 60 (years)</td>\n",
              "      <td>2000.0</td>\n",
              "      <td>Eastern Mediterranean</td>\n",
              "      <td>Low_income</td>\n",
              "      <td>Afghanistan</td>\n",
              "      <td>Female</td>\n",
              "      <td>16.00000</td>\n",
              "    </tr>\n",
              "    <tr>\n",
              "      <th>1</th>\n",
              "      <td>Afghanistan</td>\n",
              "      <td>0.0</td>\n",
              "      <td>0.0</td>\n",
              "      <td>0.0</td>\n",
              "      <td>0.0</td>\n",
              "      <td>690.0</td>\n",
              "      <td>Healthy life expectancy (HALE) at birth (years)</td>\n",
              "      <td>2013.0</td>\n",
              "      <td>Eastern Mediterranean</td>\n",
              "      <td>Low_income</td>\n",
              "      <td>Afghanistan</td>\n",
              "      <td>Female</td>\n",
              "      <td>49.50000</td>\n",
              "    </tr>\n",
              "    <tr>\n",
              "      <th>2</th>\n",
              "      <td>Afghanistan</td>\n",
              "      <td>0.0</td>\n",
              "      <td>0.0</td>\n",
              "      <td>0.0</td>\n",
              "      <td>0.0</td>\n",
              "      <td>771.0</td>\n",
              "      <td>Life expectancy at age 60 (years)</td>\n",
              "      <td>2012.0</td>\n",
              "      <td>Eastern Mediterranean</td>\n",
              "      <td>Low_income</td>\n",
              "      <td>Afghanistan</td>\n",
              "      <td>Female</td>\n",
              "      <td>17.00000</td>\n",
              "    </tr>\n",
              "    <tr>\n",
              "      <th>3</th>\n",
              "      <td>Afghanistan</td>\n",
              "      <td>0.0</td>\n",
              "      <td>0.0</td>\n",
              "      <td>0.0</td>\n",
              "      <td>0.0</td>\n",
              "      <td>1146.0</td>\n",
              "      <td>Life expectancy at age 60 (years)</td>\n",
              "      <td>2012.0</td>\n",
              "      <td>Eastern Mediterranean</td>\n",
              "      <td>Low_income</td>\n",
              "      <td>Afghanistan</td>\n",
              "      <td>Male</td>\n",
              "      <td>15.00000</td>\n",
              "    </tr>\n",
              "    <tr>\n",
              "      <th>4</th>\n",
              "      <td>Afghanistan</td>\n",
              "      <td>0.0</td>\n",
              "      <td>0.0</td>\n",
              "      <td>0.0</td>\n",
              "      <td>0.0</td>\n",
              "      <td>1497.0</td>\n",
              "      <td>Healthy life expectancy (HALE) at birth (years)</td>\n",
              "      <td>2012.0</td>\n",
              "      <td>Eastern Mediterranean</td>\n",
              "      <td>Low_income</td>\n",
              "      <td>Afghanistan</td>\n",
              "      <td>Female</td>\n",
              "      <td>48.90000</td>\n",
              "    </tr>\n",
              "    <tr>\n",
              "      <th>...</th>\n",
              "      <td>...</td>\n",
              "      <td>...</td>\n",
              "      <td>...</td>\n",
              "      <td>...</td>\n",
              "      <td>...</td>\n",
              "      <td>...</td>\n",
              "      <td>...</td>\n",
              "      <td>...</td>\n",
              "      <td>...</td>\n",
              "      <td>...</td>\n",
              "      <td>...</td>\n",
              "      <td>...</td>\n",
              "      <td>...</td>\n",
              "    </tr>\n",
              "    <tr>\n",
              "      <th>6429</th>\n",
              "      <td>NaN</td>\n",
              "      <td>NaN</td>\n",
              "      <td>NaN</td>\n",
              "      <td>NaN</td>\n",
              "      <td>NaN</td>\n",
              "      <td>918.0</td>\n",
              "      <td>Life expectancy at birth (years)</td>\n",
              "      <td>2013.0</td>\n",
              "      <td>Africa</td>\n",
              "      <td>Low_income</td>\n",
              "      <td>Guinea_Bissau</td>\n",
              "      <td>Both sexes</td>\n",
              "      <td>53.89736</td>\n",
              "    </tr>\n",
              "    <tr>\n",
              "      <th>6430</th>\n",
              "      <td>NaN</td>\n",
              "      <td>NaN</td>\n",
              "      <td>NaN</td>\n",
              "      <td>NaN</td>\n",
              "      <td>NaN</td>\n",
              "      <td>1357.0</td>\n",
              "      <td>Life expectancy at birth (years)</td>\n",
              "      <td>2013.0</td>\n",
              "      <td>Africa</td>\n",
              "      <td>Low_income</td>\n",
              "      <td>Guinea_Bissau</td>\n",
              "      <td>Female</td>\n",
              "      <td>55.33135</td>\n",
              "    </tr>\n",
              "    <tr>\n",
              "      <th>6431</th>\n",
              "      <td>NaN</td>\n",
              "      <td>NaN</td>\n",
              "      <td>NaN</td>\n",
              "      <td>NaN</td>\n",
              "      <td>NaN</td>\n",
              "      <td>1885.0</td>\n",
              "      <td>Life expectancy at birth (years)</td>\n",
              "      <td>2013.0</td>\n",
              "      <td>Africa</td>\n",
              "      <td>Low_income</td>\n",
              "      <td>Guinea_Bissau</td>\n",
              "      <td>Male</td>\n",
              "      <td>52.50932</td>\n",
              "    </tr>\n",
              "    <tr>\n",
              "      <th>6432</th>\n",
              "      <td>NaN</td>\n",
              "      <td>NaN</td>\n",
              "      <td>NaN</td>\n",
              "      <td>NaN</td>\n",
              "      <td>NaN</td>\n",
              "      <td>2300.0</td>\n",
              "      <td>Life expectancy at age 60 (years)</td>\n",
              "      <td>2013.0</td>\n",
              "      <td>Africa</td>\n",
              "      <td>Low_income</td>\n",
              "      <td>Guinea_Bissau</td>\n",
              "      <td>Female</td>\n",
              "      <td>15.31299</td>\n",
              "    </tr>\n",
              "    <tr>\n",
              "      <th>6433</th>\n",
              "      <td>NaN</td>\n",
              "      <td>NaN</td>\n",
              "      <td>NaN</td>\n",
              "      <td>NaN</td>\n",
              "      <td>NaN</td>\n",
              "      <td>3482.0</td>\n",
              "      <td>Life expectancy at age 60 (years)</td>\n",
              "      <td>2013.0</td>\n",
              "      <td>Africa</td>\n",
              "      <td>Low_income</td>\n",
              "      <td>Guinea_Bissau</td>\n",
              "      <td>Both sexes</td>\n",
              "      <td>14.85519</td>\n",
              "    </tr>\n",
              "  </tbody>\n",
              "</table>\n",
              "<p>6434 rows × 13 columns</p>\n",
              "</div>"
            ],
            "text/plain": [
              "          country  beer_servings  spirit_servings  wine_servings  \\\n",
              "0     Afghanistan            0.0              0.0            0.0   \n",
              "1     Afghanistan            0.0              0.0            0.0   \n",
              "2     Afghanistan            0.0              0.0            0.0   \n",
              "3     Afghanistan            0.0              0.0            0.0   \n",
              "4     Afghanistan            0.0              0.0            0.0   \n",
              "...           ...            ...              ...            ...   \n",
              "6429          NaN            NaN              NaN            NaN   \n",
              "6430          NaN            NaN              NaN            NaN   \n",
              "6431          NaN            NaN              NaN            NaN   \n",
              "6432          NaN            NaN              NaN            NaN   \n",
              "6433          NaN            NaN              NaN            NaN   \n",
              "\n",
              "      total_litres_of_pure_alcohol   index  \\\n",
              "0                              0.0   480.0   \n",
              "1                              0.0   690.0   \n",
              "2                              0.0   771.0   \n",
              "3                              0.0  1146.0   \n",
              "4                              0.0  1497.0   \n",
              "...                            ...     ...   \n",
              "6429                           NaN   918.0   \n",
              "6430                           NaN  1357.0   \n",
              "6431                           NaN  1885.0   \n",
              "6432                           NaN  2300.0   \n",
              "6433                           NaN  3482.0   \n",
              "\n",
              "                                           GhoDisplay  YearCode  \\\n",
              "0                   Life expectancy at age 60 (years)    2000.0   \n",
              "1     Healthy life expectancy (HALE) at birth (years)    2013.0   \n",
              "2                   Life expectancy at age 60 (years)    2012.0   \n",
              "3                   Life expectancy at age 60 (years)    2012.0   \n",
              "4     Healthy life expectancy (HALE) at birth (years)    2012.0   \n",
              "...                                               ...       ...   \n",
              "6429                 Life expectancy at birth (years)    2013.0   \n",
              "6430                 Life expectancy at birth (years)    2013.0   \n",
              "6431                 Life expectancy at birth (years)    2013.0   \n",
              "6432                Life expectancy at age 60 (years)    2013.0   \n",
              "6433                Life expectancy at age 60 (years)    2013.0   \n",
              "\n",
              "              RegionDisplay WorldBankIncomeGroupDisplay CountryDisplay  \\\n",
              "0     Eastern Mediterranean                  Low_income    Afghanistan   \n",
              "1     Eastern Mediterranean                  Low_income    Afghanistan   \n",
              "2     Eastern Mediterranean                  Low_income    Afghanistan   \n",
              "3     Eastern Mediterranean                  Low_income    Afghanistan   \n",
              "4     Eastern Mediterranean                  Low_income    Afghanistan   \n",
              "...                     ...                         ...            ...   \n",
              "6429                 Africa                  Low_income  Guinea_Bissau   \n",
              "6430                 Africa                  Low_income  Guinea_Bissau   \n",
              "6431                 Africa                  Low_income  Guinea_Bissau   \n",
              "6432                 Africa                  Low_income  Guinea_Bissau   \n",
              "6433                 Africa                  Low_income  Guinea_Bissau   \n",
              "\n",
              "      SexDisplay   Numeric  \n",
              "0         Female  16.00000  \n",
              "1         Female  49.50000  \n",
              "2         Female  17.00000  \n",
              "3           Male  15.00000  \n",
              "4         Female  48.90000  \n",
              "...          ...       ...  \n",
              "6429  Both sexes  53.89736  \n",
              "6430      Female  55.33135  \n",
              "6431        Male  52.50932  \n",
              "6432      Female  15.31299  \n",
              "6433  Both sexes  14.85519  \n",
              "\n",
              "[6434 rows x 13 columns]"
            ]
          },
          "execution_count": 176,
          "metadata": {},
          "output_type": "execute_result"
        }
      ],
      "source": [
        "# соединяем по названию страны - единственный столбец дающий одну и ту же информацию о данных в обоих датасетах\n",
        "data = pd.merge(drinks.drop('index', axis=1), lifeExp_new, how='outer', left_on='country', right_on='CountryDisplay')\n",
        "data"
      ]
    },
    {
      "cell_type": "code",
      "execution_count": 178,
      "metadata": {},
      "outputs": [
        {
          "data": {
            "text/plain": [
              "array(['Bolivia (Plurinational State of)', 'Sao Tome and Principe',\n",
              "       'Republic of Korea', 'Saint Vincent and the Grenadines',\n",
              "       'Antigua and Barbuda', 'Saint Kitts and Nevis',\n",
              "       'United Republic of Tanzania',\n",
              "       'The former Yugoslav republic of Macedonia', 'South Sudan',\n",
              "       'Micronesia (Federated States of)', 'Brunei Darussalam',\n",
              "       'Saint Lucia', 'United States of America',\n",
              "       \"Democratic People's Republic of Korea\", 'Viet Nam',\n",
              "       'Democratic Republic of the Congo', 'Republic of Moldova',\n",
              "       'Iran (Islamic Republic of)', 'Bosnia and Herzegovina',\n",
              "       'United Kingdom of Great Britain and Northern Ireland',\n",
              "       'Syrian Arab Republic', 'Timor_Leste',\n",
              "       'Venezuela (Bolivarian Republic of)',\n",
              "       \"Lao People's Democratic Republic\", 'Trinidad and Tobago',\n",
              "       \"Côte d'Ivoire\", 'Guinea_Bissau'], dtype=object)"
            ]
          },
          "execution_count": 178,
          "metadata": {},
          "output_type": "execute_result"
        }
      ],
      "source": [
        "data[data.country.isna()]['CountryDisplay'].unique()"
      ]
    },
    {
      "cell_type": "code",
      "execution_count": 179,
      "metadata": {},
      "outputs": [
        {
          "data": {
            "text/plain": [
              "array(['Antigua & Barbuda', 'Bolivia', 'Bosnia-Herzegovina', 'Brunei',\n",
              "       \"Cote d'Ivoire\", 'North Korea', 'DR Congo', 'Guinea-Bissau',\n",
              "       'Iran', 'Laos', 'Micronesia', 'South Korea', 'Moldova',\n",
              "       'St. Kitts & Nevis', 'St. Lucia', 'St. Vincent & the Grenadines',\n",
              "       'Sao Tome & Principe', 'Syria', 'Macedonia', 'Timor-Leste',\n",
              "       'Trinidad & Tobago', 'United Kingdom', 'Tanzania', 'USA',\n",
              "       'Venezuela', 'Vietnam'], dtype=object)"
            ]
          },
          "execution_count": 179,
          "metadata": {},
          "output_type": "execute_result"
        }
      ],
      "source": [
        "data[data.CountryDisplay.isna()]['country'].unique()"
      ]
    },
    {
      "cell_type": "markdown",
      "metadata": {},
      "source": [
        "В данных датасетах есть различие в наименовании некоторых стран, поэтому возникают несходство. Чтобы решить эту проблему можно сделать словарь перевода из одного источника в другой"
      ]
    },
    {
      "cell_type": "code",
      "execution_count": 182,
      "metadata": {},
      "outputs": [
        {
          "data": {
            "text/html": [
              "<div>\n",
              "<style scoped>\n",
              "    .dataframe tbody tr th:only-of-type {\n",
              "        vertical-align: middle;\n",
              "    }\n",
              "\n",
              "    .dataframe tbody tr th {\n",
              "        vertical-align: top;\n",
              "    }\n",
              "\n",
              "    .dataframe thead th {\n",
              "        text-align: right;\n",
              "    }\n",
              "</style>\n",
              "<table border=\"1\" class=\"dataframe\">\n",
              "  <thead>\n",
              "    <tr style=\"text-align: right;\">\n",
              "      <th></th>\n",
              "      <th>country</th>\n",
              "      <th>beer_servings</th>\n",
              "      <th>spirit_servings</th>\n",
              "      <th>wine_servings</th>\n",
              "      <th>total_litres_of_pure_alcohol</th>\n",
              "      <th>GhoDisplay</th>\n",
              "      <th>YearCode</th>\n",
              "      <th>RegionDisplay</th>\n",
              "      <th>WorldBankIncomeGroupDisplay</th>\n",
              "      <th>CountryDisplay</th>\n",
              "      <th>SexDisplay</th>\n",
              "      <th>Numeric</th>\n",
              "    </tr>\n",
              "  </thead>\n",
              "  <tbody>\n",
              "    <tr>\n",
              "      <th>0</th>\n",
              "      <td>Afghanistan</td>\n",
              "      <td>0</td>\n",
              "      <td>0</td>\n",
              "      <td>0</td>\n",
              "      <td>0.0</td>\n",
              "      <td>Life expectancy at age 60 (years)</td>\n",
              "      <td>2000</td>\n",
              "      <td>Eastern Mediterranean</td>\n",
              "      <td>Low_income</td>\n",
              "      <td>Afghanistan</td>\n",
              "      <td>Female</td>\n",
              "      <td>16.0</td>\n",
              "    </tr>\n",
              "    <tr>\n",
              "      <th>1</th>\n",
              "      <td>Afghanistan</td>\n",
              "      <td>0</td>\n",
              "      <td>0</td>\n",
              "      <td>0</td>\n",
              "      <td>0.0</td>\n",
              "      <td>Healthy life expectancy (HALE) at birth (years)</td>\n",
              "      <td>2013</td>\n",
              "      <td>Eastern Mediterranean</td>\n",
              "      <td>Low_income</td>\n",
              "      <td>Afghanistan</td>\n",
              "      <td>Female</td>\n",
              "      <td>49.5</td>\n",
              "    </tr>\n",
              "    <tr>\n",
              "      <th>2</th>\n",
              "      <td>Afghanistan</td>\n",
              "      <td>0</td>\n",
              "      <td>0</td>\n",
              "      <td>0</td>\n",
              "      <td>0.0</td>\n",
              "      <td>Life expectancy at age 60 (years)</td>\n",
              "      <td>2012</td>\n",
              "      <td>Eastern Mediterranean</td>\n",
              "      <td>Low_income</td>\n",
              "      <td>Afghanistan</td>\n",
              "      <td>Female</td>\n",
              "      <td>17.0</td>\n",
              "    </tr>\n",
              "    <tr>\n",
              "      <th>3</th>\n",
              "      <td>Afghanistan</td>\n",
              "      <td>0</td>\n",
              "      <td>0</td>\n",
              "      <td>0</td>\n",
              "      <td>0.0</td>\n",
              "      <td>Life expectancy at age 60 (years)</td>\n",
              "      <td>2012</td>\n",
              "      <td>Eastern Mediterranean</td>\n",
              "      <td>Low_income</td>\n",
              "      <td>Afghanistan</td>\n",
              "      <td>Male</td>\n",
              "      <td>15.0</td>\n",
              "    </tr>\n",
              "    <tr>\n",
              "      <th>4</th>\n",
              "      <td>Afghanistan</td>\n",
              "      <td>0</td>\n",
              "      <td>0</td>\n",
              "      <td>0</td>\n",
              "      <td>0.0</td>\n",
              "      <td>Healthy life expectancy (HALE) at birth (years)</td>\n",
              "      <td>2012</td>\n",
              "      <td>Eastern Mediterranean</td>\n",
              "      <td>Low_income</td>\n",
              "      <td>Afghanistan</td>\n",
              "      <td>Female</td>\n",
              "      <td>48.9</td>\n",
              "    </tr>\n",
              "  </tbody>\n",
              "</table>\n",
              "</div>"
            ],
            "text/plain": [
              "       country  beer_servings  spirit_servings  wine_servings  \\\n",
              "0  Afghanistan              0                0              0   \n",
              "1  Afghanistan              0                0              0   \n",
              "2  Afghanistan              0                0              0   \n",
              "3  Afghanistan              0                0              0   \n",
              "4  Afghanistan              0                0              0   \n",
              "\n",
              "   total_litres_of_pure_alcohol  \\\n",
              "0                           0.0   \n",
              "1                           0.0   \n",
              "2                           0.0   \n",
              "3                           0.0   \n",
              "4                           0.0   \n",
              "\n",
              "                                        GhoDisplay  YearCode  \\\n",
              "0                Life expectancy at age 60 (years)      2000   \n",
              "1  Healthy life expectancy (HALE) at birth (years)      2013   \n",
              "2                Life expectancy at age 60 (years)      2012   \n",
              "3                Life expectancy at age 60 (years)      2012   \n",
              "4  Healthy life expectancy (HALE) at birth (years)      2012   \n",
              "\n",
              "           RegionDisplay WorldBankIncomeGroupDisplay CountryDisplay  \\\n",
              "0  Eastern Mediterranean                  Low_income    Afghanistan   \n",
              "1  Eastern Mediterranean                  Low_income    Afghanistan   \n",
              "2  Eastern Mediterranean                  Low_income    Afghanistan   \n",
              "3  Eastern Mediterranean                  Low_income    Afghanistan   \n",
              "4  Eastern Mediterranean                  Low_income    Afghanistan   \n",
              "\n",
              "  SexDisplay  Numeric  \n",
              "0     Female     16.0  \n",
              "1     Female     49.5  \n",
              "2     Female     17.0  \n",
              "3       Male     15.0  \n",
              "4     Female     48.9  "
            ]
          },
          "execution_count": 182,
          "metadata": {},
          "output_type": "execute_result"
        }
      ],
      "source": [
        "# но я не буду использовать эти страны в исследовании\n",
        "data = pd.merge(drinks.drop('index', axis=1), lifeExp_new.drop('index', axis=1), how='inner', left_on='country', right_on='CountryDisplay')\n",
        "data.head(5)"
      ]
    },
    {
      "cell_type": "code",
      "execution_count": 192,
      "metadata": {},
      "outputs": [
        {
          "data": {
            "text/plain": [
              "(5511, 12)"
            ]
          },
          "execution_count": 192,
          "metadata": {},
          "output_type": "execute_result"
        }
      ],
      "source": [
        "data.shape"
      ]
    },
    {
      "cell_type": "markdown",
      "metadata": {
        "id": "mwGBdBzhZKgj"
      },
      "source": [
        "### 12"
      ]
    },
    {
      "cell_type": "markdown",
      "metadata": {
        "id": "AmYX1S_HZKgj"
      },
      "source": [
        "Осуществите группировку данных по странам и типу научной статьи (многомерная группировка). В качестве столбцов значений для группировки возьмите оцененную продолжительность жизни и общее потребление алкоголя в литрах. В качестве агреггирующих функций для продолжительности жизни возьмите среднее, медиану, минимум и максимум, а для потребления алкоголя — агреггирующую функцию/функции выберите самостоятельно. Как вы можете прокомментировать свой выбор и что вы наблюдаете?"
      ]
    },
    {
      "cell_type": "code",
      "execution_count": 184,
      "metadata": {
        "collapsed": true,
        "id": "xjWnCLgpZKgj"
      },
      "outputs": [
        {
          "data": {
            "text/html": [
              "<div>\n",
              "<style scoped>\n",
              "    .dataframe tbody tr th:only-of-type {\n",
              "        vertical-align: middle;\n",
              "    }\n",
              "\n",
              "    .dataframe tbody tr th {\n",
              "        vertical-align: top;\n",
              "    }\n",
              "\n",
              "    .dataframe thead tr th {\n",
              "        text-align: left;\n",
              "    }\n",
              "\n",
              "    .dataframe thead tr:last-of-type th {\n",
              "        text-align: right;\n",
              "    }\n",
              "</style>\n",
              "<table border=\"1\" class=\"dataframe\">\n",
              "  <thead>\n",
              "    <tr>\n",
              "      <th></th>\n",
              "      <th></th>\n",
              "      <th colspan=\"4\" halign=\"left\">Numeric</th>\n",
              "      <th colspan=\"2\" halign=\"left\">total_litres_of_pure_alcohol</th>\n",
              "    </tr>\n",
              "    <tr>\n",
              "      <th></th>\n",
              "      <th></th>\n",
              "      <th>mean</th>\n",
              "      <th>median</th>\n",
              "      <th>min</th>\n",
              "      <th>max</th>\n",
              "      <th>min</th>\n",
              "      <th>max</th>\n",
              "    </tr>\n",
              "    <tr>\n",
              "      <th>country</th>\n",
              "      <th>GhoDisplay</th>\n",
              "      <th></th>\n",
              "      <th></th>\n",
              "      <th></th>\n",
              "      <th></th>\n",
              "      <th></th>\n",
              "      <th></th>\n",
              "    </tr>\n",
              "  </thead>\n",
              "  <tbody>\n",
              "    <tr>\n",
              "      <th rowspan=\"3\" valign=\"top\">Afghanistan</th>\n",
              "      <th>Healthy life expectancy (HALE) at birth (years)</th>\n",
              "      <td>47.833333</td>\n",
              "      <td>48.800000</td>\n",
              "      <td>44.6</td>\n",
              "      <td>50.50000</td>\n",
              "      <td>0.0</td>\n",
              "      <td>0.0</td>\n",
              "    </tr>\n",
              "    <tr>\n",
              "      <th>Life expectancy at age 60 (years)</th>\n",
              "      <td>15.223012</td>\n",
              "      <td>15.061535</td>\n",
              "      <td>13.0</td>\n",
              "      <td>17.00000</td>\n",
              "      <td>0.0</td>\n",
              "      <td>0.0</td>\n",
              "    </tr>\n",
              "    <tr>\n",
              "      <th>Life expectancy at birth (years)</th>\n",
              "      <td>56.311805</td>\n",
              "      <td>57.000000</td>\n",
              "      <td>49.0</td>\n",
              "      <td>61.97733</td>\n",
              "      <td>0.0</td>\n",
              "      <td>0.0</td>\n",
              "    </tr>\n",
              "    <tr>\n",
              "      <th rowspan=\"2\" valign=\"top\">Albania</th>\n",
              "      <th>Healthy life expectancy (HALE) at birth (years)</th>\n",
              "      <td>63.800000</td>\n",
              "      <td>63.900000</td>\n",
              "      <td>59.9</td>\n",
              "      <td>66.00000</td>\n",
              "      <td>4.9</td>\n",
              "      <td>4.9</td>\n",
              "    </tr>\n",
              "    <tr>\n",
              "      <th>Life expectancy at age 60 (years)</th>\n",
              "      <td>17.728610</td>\n",
              "      <td>18.000000</td>\n",
              "      <td>15.0</td>\n",
              "      <td>20.00000</td>\n",
              "      <td>4.9</td>\n",
              "      <td>4.9</td>\n",
              "    </tr>\n",
              "    <tr>\n",
              "      <th>...</th>\n",
              "      <th>...</th>\n",
              "      <td>...</td>\n",
              "      <td>...</td>\n",
              "      <td>...</td>\n",
              "      <td>...</td>\n",
              "      <td>...</td>\n",
              "      <td>...</td>\n",
              "    </tr>\n",
              "    <tr>\n",
              "      <th rowspan=\"2\" valign=\"top\">Zambia</th>\n",
              "      <th>Life expectancy at age 60 (years)</th>\n",
              "      <td>16.068835</td>\n",
              "      <td>16.000000</td>\n",
              "      <td>14.0</td>\n",
              "      <td>18.10310</td>\n",
              "      <td>2.5</td>\n",
              "      <td>2.5</td>\n",
              "    </tr>\n",
              "    <tr>\n",
              "      <th>Life expectancy at birth (years)</th>\n",
              "      <td>49.953199</td>\n",
              "      <td>51.000000</td>\n",
              "      <td>40.0</td>\n",
              "      <td>60.01617</td>\n",
              "      <td>2.5</td>\n",
              "      <td>2.5</td>\n",
              "    </tr>\n",
              "    <tr>\n",
              "      <th rowspan=\"3\" valign=\"top\">Zimbabwe</th>\n",
              "      <th>Healthy life expectancy (HALE) at birth (years)</th>\n",
              "      <td>45.222222</td>\n",
              "      <td>47.700000</td>\n",
              "      <td>36.4</td>\n",
              "      <td>51.80000</td>\n",
              "      <td>4.7</td>\n",
              "      <td>4.7</td>\n",
              "    </tr>\n",
              "    <tr>\n",
              "      <th>Life expectancy at age 60 (years)</th>\n",
              "      <td>17.369381</td>\n",
              "      <td>17.654040</td>\n",
              "      <td>15.0</td>\n",
              "      <td>19.00000</td>\n",
              "      <td>4.7</td>\n",
              "      <td>4.7</td>\n",
              "    </tr>\n",
              "    <tr>\n",
              "      <th>Life expectancy at birth (years)</th>\n",
              "      <td>55.186778</td>\n",
              "      <td>58.363385</td>\n",
              "      <td>42.0</td>\n",
              "      <td>64.00000</td>\n",
              "      <td>4.7</td>\n",
              "      <td>4.7</td>\n",
              "    </tr>\n",
              "  </tbody>\n",
              "</table>\n",
              "<p>501 rows × 6 columns</p>\n",
              "</div>"
            ],
            "text/plain": [
              "                                                               Numeric  \\\n",
              "                                                                  mean   \n",
              "country     GhoDisplay                                                   \n",
              "Afghanistan Healthy life expectancy (HALE) at birth (years)  47.833333   \n",
              "            Life expectancy at age 60 (years)                15.223012   \n",
              "            Life expectancy at birth (years)                 56.311805   \n",
              "Albania     Healthy life expectancy (HALE) at birth (years)  63.800000   \n",
              "            Life expectancy at age 60 (years)                17.728610   \n",
              "...                                                                ...   \n",
              "Zambia      Life expectancy at age 60 (years)                16.068835   \n",
              "            Life expectancy at birth (years)                 49.953199   \n",
              "Zimbabwe    Healthy life expectancy (HALE) at birth (years)  45.222222   \n",
              "            Life expectancy at age 60 (years)                17.369381   \n",
              "            Life expectancy at birth (years)                 55.186778   \n",
              "\n",
              "                                                                              \\\n",
              "                                                                median   min   \n",
              "country     GhoDisplay                                                         \n",
              "Afghanistan Healthy life expectancy (HALE) at birth (years)  48.800000  44.6   \n",
              "            Life expectancy at age 60 (years)                15.061535  13.0   \n",
              "            Life expectancy at birth (years)                 57.000000  49.0   \n",
              "Albania     Healthy life expectancy (HALE) at birth (years)  63.900000  59.9   \n",
              "            Life expectancy at age 60 (years)                18.000000  15.0   \n",
              "...                                                                ...   ...   \n",
              "Zambia      Life expectancy at age 60 (years)                16.000000  14.0   \n",
              "            Life expectancy at birth (years)                 51.000000  40.0   \n",
              "Zimbabwe    Healthy life expectancy (HALE) at birth (years)  47.700000  36.4   \n",
              "            Life expectancy at age 60 (years)                17.654040  15.0   \n",
              "            Life expectancy at birth (years)                 58.363385  42.0   \n",
              "\n",
              "                                                                       \\\n",
              "                                                                  max   \n",
              "country     GhoDisplay                                                  \n",
              "Afghanistan Healthy life expectancy (HALE) at birth (years)  50.50000   \n",
              "            Life expectancy at age 60 (years)                17.00000   \n",
              "            Life expectancy at birth (years)                 61.97733   \n",
              "Albania     Healthy life expectancy (HALE) at birth (years)  66.00000   \n",
              "            Life expectancy at age 60 (years)                20.00000   \n",
              "...                                                               ...   \n",
              "Zambia      Life expectancy at age 60 (years)                18.10310   \n",
              "            Life expectancy at birth (years)                 60.01617   \n",
              "Zimbabwe    Healthy life expectancy (HALE) at birth (years)  51.80000   \n",
              "            Life expectancy at age 60 (years)                19.00000   \n",
              "            Life expectancy at birth (years)                 64.00000   \n",
              "\n",
              "                                                            total_litres_of_pure_alcohol  \\\n",
              "                                                                                     min   \n",
              "country     GhoDisplay                                                                     \n",
              "Afghanistan Healthy life expectancy (HALE) at birth (years)                          0.0   \n",
              "            Life expectancy at age 60 (years)                                        0.0   \n",
              "            Life expectancy at birth (years)                                         0.0   \n",
              "Albania     Healthy life expectancy (HALE) at birth (years)                          4.9   \n",
              "            Life expectancy at age 60 (years)                                        4.9   \n",
              "...                                                                                  ...   \n",
              "Zambia      Life expectancy at age 60 (years)                                        2.5   \n",
              "            Life expectancy at birth (years)                                         2.5   \n",
              "Zimbabwe    Healthy life expectancy (HALE) at birth (years)                          4.7   \n",
              "            Life expectancy at age 60 (years)                                        4.7   \n",
              "            Life expectancy at birth (years)                                         4.7   \n",
              "\n",
              "                                                                  \n",
              "                                                             max  \n",
              "country     GhoDisplay                                            \n",
              "Afghanistan Healthy life expectancy (HALE) at birth (years)  0.0  \n",
              "            Life expectancy at age 60 (years)                0.0  \n",
              "            Life expectancy at birth (years)                 0.0  \n",
              "Albania     Healthy life expectancy (HALE) at birth (years)  4.9  \n",
              "            Life expectancy at age 60 (years)                4.9  \n",
              "...                                                          ...  \n",
              "Zambia      Life expectancy at age 60 (years)                2.5  \n",
              "            Life expectancy at birth (years)                 2.5  \n",
              "Zimbabwe    Healthy life expectancy (HALE) at birth (years)  4.7  \n",
              "            Life expectancy at age 60 (years)                4.7  \n",
              "            Life expectancy at birth (years)                 4.7  \n",
              "\n",
              "[501 rows x 6 columns]"
            ]
          },
          "execution_count": 184,
          "metadata": {},
          "output_type": "execute_result"
        }
      ],
      "source": [
        "df3 = data.groupby(['country', 'GhoDisplay']).agg({'Numeric' : ['mean', 'median', 'min', 'max'], 'total_litres_of_pure_alcohol' : ['min', 'max']})\n",
        "df3"
      ]
    },
    {
      "cell_type": "markdown",
      "metadata": {},
      "source": [
        "так как groupby по стране, а в датасете drinks соотвествие станы - значения 1 к 1, поэтому любая аггрегирующая функция будет бесполезна для столбца total_litres_of_pure_alcohol"
      ]
    },
    {
      "cell_type": "markdown",
      "metadata": {
        "id": "WDURfWMQZxno"
      },
      "source": [
        "### 13"
      ]
    },
    {
      "cell_type": "markdown",
      "metadata": {
        "id": "yXkPGyZDZxnv"
      },
      "source": [
        "Вставьте любые два столбца из предыдущего задания, которые вы получили путем группировки, в исходную таблицу в качестве двух новых столбцов (назвать вы их можете как хотите). Разумеется, значения этих столбцов должны соответствовать значениям исходной таблицы по указанным в прошлом задании категориям.\n",
        "\n",
        "*Примечание. Не забудьте сохранить все изменения! В последующих заданиях вы должны работать с обновленным датасетом.*"
      ]
    },
    {
      "cell_type": "code",
      "execution_count": 189,
      "metadata": {},
      "outputs": [
        {
          "data": {
            "text/html": [
              "<div>\n",
              "<style scoped>\n",
              "    .dataframe tbody tr th:only-of-type {\n",
              "        vertical-align: middle;\n",
              "    }\n",
              "\n",
              "    .dataframe tbody tr th {\n",
              "        vertical-align: top;\n",
              "    }\n",
              "\n",
              "    .dataframe thead th {\n",
              "        text-align: right;\n",
              "    }\n",
              "</style>\n",
              "<table border=\"1\" class=\"dataframe\">\n",
              "  <thead>\n",
              "    <tr style=\"text-align: right;\">\n",
              "      <th></th>\n",
              "      <th></th>\n",
              "      <th>mean</th>\n",
              "      <th>min</th>\n",
              "    </tr>\n",
              "    <tr>\n",
              "      <th>country</th>\n",
              "      <th>GhoDisplay</th>\n",
              "      <th></th>\n",
              "      <th></th>\n",
              "    </tr>\n",
              "  </thead>\n",
              "  <tbody>\n",
              "    <tr>\n",
              "      <th rowspan=\"3\" valign=\"top\">Afghanistan</th>\n",
              "      <th>Healthy life expectancy (HALE) at birth (years)</th>\n",
              "      <td>47.833333</td>\n",
              "      <td>44.6</td>\n",
              "    </tr>\n",
              "    <tr>\n",
              "      <th>Life expectancy at age 60 (years)</th>\n",
              "      <td>15.223012</td>\n",
              "      <td>13.0</td>\n",
              "    </tr>\n",
              "    <tr>\n",
              "      <th>Life expectancy at birth (years)</th>\n",
              "      <td>56.311805</td>\n",
              "      <td>49.0</td>\n",
              "    </tr>\n",
              "    <tr>\n",
              "      <th rowspan=\"2\" valign=\"top\">Albania</th>\n",
              "      <th>Healthy life expectancy (HALE) at birth (years)</th>\n",
              "      <td>63.800000</td>\n",
              "      <td>59.9</td>\n",
              "    </tr>\n",
              "    <tr>\n",
              "      <th>Life expectancy at age 60 (years)</th>\n",
              "      <td>17.728610</td>\n",
              "      <td>15.0</td>\n",
              "    </tr>\n",
              "    <tr>\n",
              "      <th>...</th>\n",
              "      <th>...</th>\n",
              "      <td>...</td>\n",
              "      <td>...</td>\n",
              "    </tr>\n",
              "    <tr>\n",
              "      <th rowspan=\"2\" valign=\"top\">Zambia</th>\n",
              "      <th>Life expectancy at age 60 (years)</th>\n",
              "      <td>16.068835</td>\n",
              "      <td>14.0</td>\n",
              "    </tr>\n",
              "    <tr>\n",
              "      <th>Life expectancy at birth (years)</th>\n",
              "      <td>49.953199</td>\n",
              "      <td>40.0</td>\n",
              "    </tr>\n",
              "    <tr>\n",
              "      <th rowspan=\"3\" valign=\"top\">Zimbabwe</th>\n",
              "      <th>Healthy life expectancy (HALE) at birth (years)</th>\n",
              "      <td>45.222222</td>\n",
              "      <td>36.4</td>\n",
              "    </tr>\n",
              "    <tr>\n",
              "      <th>Life expectancy at age 60 (years)</th>\n",
              "      <td>17.369381</td>\n",
              "      <td>15.0</td>\n",
              "    </tr>\n",
              "    <tr>\n",
              "      <th>Life expectancy at birth (years)</th>\n",
              "      <td>55.186778</td>\n",
              "      <td>42.0</td>\n",
              "    </tr>\n",
              "  </tbody>\n",
              "</table>\n",
              "<p>501 rows × 2 columns</p>\n",
              "</div>"
            ],
            "text/plain": [
              "                                                                  mean   min\n",
              "country     GhoDisplay                                                      \n",
              "Afghanistan Healthy life expectancy (HALE) at birth (years)  47.833333  44.6\n",
              "            Life expectancy at age 60 (years)                15.223012  13.0\n",
              "            Life expectancy at birth (years)                 56.311805  49.0\n",
              "Albania     Healthy life expectancy (HALE) at birth (years)  63.800000  59.9\n",
              "            Life expectancy at age 60 (years)                17.728610  15.0\n",
              "...                                                                ...   ...\n",
              "Zambia      Life expectancy at age 60 (years)                16.068835  14.0\n",
              "            Life expectancy at birth (years)                 49.953199  40.0\n",
              "Zimbabwe    Healthy life expectancy (HALE) at birth (years)  45.222222  36.4\n",
              "            Life expectancy at age 60 (years)                17.369381  15.0\n",
              "            Life expectancy at birth (years)                 55.186778  42.0\n",
              "\n",
              "[501 rows x 2 columns]"
            ]
          },
          "execution_count": 189,
          "metadata": {},
          "output_type": "execute_result"
        }
      ],
      "source": [
        "df3['Numeric'][['mean', 'min']]"
      ]
    },
    {
      "cell_type": "code",
      "execution_count": 193,
      "metadata": {
        "collapsed": true,
        "id": "c5Lw4DLiZxnw"
      },
      "outputs": [
        {
          "data": {
            "text/html": [
              "<div>\n",
              "<style scoped>\n",
              "    .dataframe tbody tr th:only-of-type {\n",
              "        vertical-align: middle;\n",
              "    }\n",
              "\n",
              "    .dataframe tbody tr th {\n",
              "        vertical-align: top;\n",
              "    }\n",
              "\n",
              "    .dataframe thead th {\n",
              "        text-align: right;\n",
              "    }\n",
              "</style>\n",
              "<table border=\"1\" class=\"dataframe\">\n",
              "  <thead>\n",
              "    <tr style=\"text-align: right;\">\n",
              "      <th></th>\n",
              "      <th>country</th>\n",
              "      <th>beer_servings</th>\n",
              "      <th>spirit_servings</th>\n",
              "      <th>wine_servings</th>\n",
              "      <th>total_litres_of_pure_alcohol</th>\n",
              "      <th>GhoDisplay</th>\n",
              "      <th>YearCode</th>\n",
              "      <th>RegionDisplay</th>\n",
              "      <th>WorldBankIncomeGroupDisplay</th>\n",
              "      <th>CountryDisplay</th>\n",
              "      <th>SexDisplay</th>\n",
              "      <th>Numeric</th>\n",
              "      <th>mean</th>\n",
              "      <th>min</th>\n",
              "    </tr>\n",
              "  </thead>\n",
              "  <tbody>\n",
              "    <tr>\n",
              "      <th>0</th>\n",
              "      <td>Afghanistan</td>\n",
              "      <td>0</td>\n",
              "      <td>0</td>\n",
              "      <td>0</td>\n",
              "      <td>0.0</td>\n",
              "      <td>Life expectancy at age 60 (years)</td>\n",
              "      <td>2000</td>\n",
              "      <td>Eastern Mediterranean</td>\n",
              "      <td>Low_income</td>\n",
              "      <td>Afghanistan</td>\n",
              "      <td>Female</td>\n",
              "      <td>16.0</td>\n",
              "      <td>15.223012</td>\n",
              "      <td>13.0</td>\n",
              "    </tr>\n",
              "    <tr>\n",
              "      <th>1</th>\n",
              "      <td>Afghanistan</td>\n",
              "      <td>0</td>\n",
              "      <td>0</td>\n",
              "      <td>0</td>\n",
              "      <td>0.0</td>\n",
              "      <td>Life expectancy at age 60 (years)</td>\n",
              "      <td>2012</td>\n",
              "      <td>Eastern Mediterranean</td>\n",
              "      <td>Low_income</td>\n",
              "      <td>Afghanistan</td>\n",
              "      <td>Female</td>\n",
              "      <td>17.0</td>\n",
              "      <td>15.223012</td>\n",
              "      <td>13.0</td>\n",
              "    </tr>\n",
              "    <tr>\n",
              "      <th>2</th>\n",
              "      <td>Afghanistan</td>\n",
              "      <td>0</td>\n",
              "      <td>0</td>\n",
              "      <td>0</td>\n",
              "      <td>0.0</td>\n",
              "      <td>Life expectancy at age 60 (years)</td>\n",
              "      <td>2012</td>\n",
              "      <td>Eastern Mediterranean</td>\n",
              "      <td>Low_income</td>\n",
              "      <td>Afghanistan</td>\n",
              "      <td>Male</td>\n",
              "      <td>15.0</td>\n",
              "      <td>15.223012</td>\n",
              "      <td>13.0</td>\n",
              "    </tr>\n",
              "    <tr>\n",
              "      <th>3</th>\n",
              "      <td>Afghanistan</td>\n",
              "      <td>0</td>\n",
              "      <td>0</td>\n",
              "      <td>0</td>\n",
              "      <td>0.0</td>\n",
              "      <td>Life expectancy at age 60 (years)</td>\n",
              "      <td>1990</td>\n",
              "      <td>Eastern Mediterranean</td>\n",
              "      <td>Low_income</td>\n",
              "      <td>Afghanistan</td>\n",
              "      <td>Female</td>\n",
              "      <td>15.0</td>\n",
              "      <td>15.223012</td>\n",
              "      <td>13.0</td>\n",
              "    </tr>\n",
              "    <tr>\n",
              "      <th>4</th>\n",
              "      <td>Afghanistan</td>\n",
              "      <td>0</td>\n",
              "      <td>0</td>\n",
              "      <td>0</td>\n",
              "      <td>0.0</td>\n",
              "      <td>Life expectancy at age 60 (years)</td>\n",
              "      <td>2012</td>\n",
              "      <td>Eastern Mediterranean</td>\n",
              "      <td>Low_income</td>\n",
              "      <td>Afghanistan</td>\n",
              "      <td>Both sexes</td>\n",
              "      <td>16.0</td>\n",
              "      <td>15.223012</td>\n",
              "      <td>13.0</td>\n",
              "    </tr>\n",
              "  </tbody>\n",
              "</table>\n",
              "</div>"
            ],
            "text/plain": [
              "       country  beer_servings  spirit_servings  wine_servings  \\\n",
              "0  Afghanistan              0                0              0   \n",
              "1  Afghanistan              0                0              0   \n",
              "2  Afghanistan              0                0              0   \n",
              "3  Afghanistan              0                0              0   \n",
              "4  Afghanistan              0                0              0   \n",
              "\n",
              "   total_litres_of_pure_alcohol                         GhoDisplay  YearCode  \\\n",
              "0                           0.0  Life expectancy at age 60 (years)      2000   \n",
              "1                           0.0  Life expectancy at age 60 (years)      2012   \n",
              "2                           0.0  Life expectancy at age 60 (years)      2012   \n",
              "3                           0.0  Life expectancy at age 60 (years)      1990   \n",
              "4                           0.0  Life expectancy at age 60 (years)      2012   \n",
              "\n",
              "           RegionDisplay WorldBankIncomeGroupDisplay CountryDisplay  \\\n",
              "0  Eastern Mediterranean                  Low_income    Afghanistan   \n",
              "1  Eastern Mediterranean                  Low_income    Afghanistan   \n",
              "2  Eastern Mediterranean                  Low_income    Afghanistan   \n",
              "3  Eastern Mediterranean                  Low_income    Afghanistan   \n",
              "4  Eastern Mediterranean                  Low_income    Afghanistan   \n",
              "\n",
              "   SexDisplay  Numeric       mean   min  \n",
              "0      Female     16.0  15.223012  13.0  \n",
              "1      Female     17.0  15.223012  13.0  \n",
              "2        Male     15.0  15.223012  13.0  \n",
              "3      Female     15.0  15.223012  13.0  \n",
              "4  Both sexes     16.0  15.223012  13.0  "
            ]
          },
          "execution_count": 193,
          "metadata": {},
          "output_type": "execute_result"
        }
      ],
      "source": [
        "data = pd.merge(data, df3['Numeric'][['mean', 'min']], how='inner', on=['country', 'GhoDisplay'])\n",
        "data.head(5)"
      ]
    },
    {
      "cell_type": "markdown",
      "metadata": {
        "id": "zDE9degBY1sf"
      },
      "source": [
        "### 14"
      ]
    },
    {
      "cell_type": "markdown",
      "metadata": {
        "id": "V7gt5vzbY1so"
      },
      "source": [
        "Используя группировки, аргументированно ответьте на вопрос: на каких континентах средняя ожидаемая продолжительность жизни выше у мужчин, а на каких у женщин?\n",
        "\n",
        "А медианная ожидаемая продолжительность?\n",
        "\n",
        "А минимальная ожидаемая продолжительность?\n",
        "\n",
        "Сделайте выводы!\n",
        "\n",
        "*Подсказка. Казалось бы, при чем здесь тип научной статьи?*"
      ]
    },
    {
      "cell_type": "code",
      "execution_count": 198,
      "metadata": {
        "collapsed": true,
        "id": "Wo2cmk4hY1so"
      },
      "outputs": [
        {
          "data": {
            "text/html": [
              "<div>\n",
              "<style scoped>\n",
              "    .dataframe tbody tr th:only-of-type {\n",
              "        vertical-align: middle;\n",
              "    }\n",
              "\n",
              "    .dataframe tbody tr th {\n",
              "        vertical-align: top;\n",
              "    }\n",
              "\n",
              "    .dataframe thead tr th {\n",
              "        text-align: left;\n",
              "    }\n",
              "\n",
              "    .dataframe thead tr:last-of-type th {\n",
              "        text-align: right;\n",
              "    }\n",
              "</style>\n",
              "<table border=\"1\" class=\"dataframe\">\n",
              "  <thead>\n",
              "    <tr>\n",
              "      <th></th>\n",
              "      <th></th>\n",
              "      <th colspan=\"3\" halign=\"left\">Numeric</th>\n",
              "    </tr>\n",
              "    <tr>\n",
              "      <th></th>\n",
              "      <th></th>\n",
              "      <th>mean</th>\n",
              "      <th>median</th>\n",
              "      <th>min</th>\n",
              "    </tr>\n",
              "    <tr>\n",
              "      <th>RegionDisplay</th>\n",
              "      <th>SexDisplay</th>\n",
              "      <th></th>\n",
              "      <th></th>\n",
              "      <th></th>\n",
              "    </tr>\n",
              "  </thead>\n",
              "  <tbody>\n",
              "    <tr>\n",
              "      <th rowspan=\"2\" valign=\"top\">Africa</th>\n",
              "      <th>Female</th>\n",
              "      <td>40.916403</td>\n",
              "      <td>47.00000</td>\n",
              "      <td>11.00000</td>\n",
              "    </tr>\n",
              "    <tr>\n",
              "      <th>Male</th>\n",
              "      <td>38.717012</td>\n",
              "      <td>45.79396</td>\n",
              "      <td>11.00000</td>\n",
              "    </tr>\n",
              "    <tr>\n",
              "      <th rowspan=\"2\" valign=\"top\">Americas</th>\n",
              "      <th>Female</th>\n",
              "      <td>53.878184</td>\n",
              "      <td>66.10000</td>\n",
              "      <td>16.00000</td>\n",
              "    </tr>\n",
              "    <tr>\n",
              "      <th>Male</th>\n",
              "      <td>49.604839</td>\n",
              "      <td>61.60000</td>\n",
              "      <td>12.86658</td>\n",
              "    </tr>\n",
              "    <tr>\n",
              "      <th rowspan=\"2\" valign=\"top\">Eastern Mediterranean</th>\n",
              "      <th>Female</th>\n",
              "      <td>48.959387</td>\n",
              "      <td>59.00000</td>\n",
              "      <td>15.00000</td>\n",
              "    </tr>\n",
              "    <tr>\n",
              "      <th>Male</th>\n",
              "      <td>46.859430</td>\n",
              "      <td>57.00000</td>\n",
              "      <td>13.00000</td>\n",
              "    </tr>\n",
              "    <tr>\n",
              "      <th rowspan=\"2\" valign=\"top\">Europe</th>\n",
              "      <th>Female</th>\n",
              "      <td>55.586664</td>\n",
              "      <td>69.00000</td>\n",
              "      <td>16.00000</td>\n",
              "    </tr>\n",
              "    <tr>\n",
              "      <th>Male</th>\n",
              "      <td>50.433233</td>\n",
              "      <td>63.00000</td>\n",
              "      <td>12.00000</td>\n",
              "    </tr>\n",
              "    <tr>\n",
              "      <th rowspan=\"2\" valign=\"top\">South_East Asia</th>\n",
              "      <th>Female</th>\n",
              "      <td>48.265757</td>\n",
              "      <td>58.60000</td>\n",
              "      <td>12.00000</td>\n",
              "    </tr>\n",
              "    <tr>\n",
              "      <th>Male</th>\n",
              "      <td>45.706776</td>\n",
              "      <td>57.00000</td>\n",
              "      <td>14.00000</td>\n",
              "    </tr>\n",
              "    <tr>\n",
              "      <th rowspan=\"2\" valign=\"top\">Western Pacific</th>\n",
              "      <th>Female</th>\n",
              "      <td>51.694729</td>\n",
              "      <td>63.00000</td>\n",
              "      <td>15.00000</td>\n",
              "    </tr>\n",
              "    <tr>\n",
              "      <th>Male</th>\n",
              "      <td>47.824176</td>\n",
              "      <td>58.75000</td>\n",
              "      <td>12.00000</td>\n",
              "    </tr>\n",
              "  </tbody>\n",
              "</table>\n",
              "</div>"
            ],
            "text/plain": [
              "                                    Numeric                    \n",
              "                                       mean    median       min\n",
              "RegionDisplay         SexDisplay                               \n",
              "Africa                Female      40.916403  47.00000  11.00000\n",
              "                      Male        38.717012  45.79396  11.00000\n",
              "Americas              Female      53.878184  66.10000  16.00000\n",
              "                      Male        49.604839  61.60000  12.86658\n",
              "Eastern Mediterranean Female      48.959387  59.00000  15.00000\n",
              "                      Male        46.859430  57.00000  13.00000\n",
              "Europe                Female      55.586664  69.00000  16.00000\n",
              "                      Male        50.433233  63.00000  12.00000\n",
              "South_East Asia       Female      48.265757  58.60000  12.00000\n",
              "                      Male        45.706776  57.00000  14.00000\n",
              "Western Pacific       Female      51.694729  63.00000  15.00000\n",
              "                      Male        47.824176  58.75000  12.00000"
            ]
          },
          "execution_count": 198,
          "metadata": {},
          "output_type": "execute_result"
        }
      ],
      "source": [
        "data[data.SexDisplay != 'Both sexes'].groupby(['RegionDisplay', 'SexDisplay']).agg({'Numeric': ['mean', 'median', 'min']})"
      ]
    },
    {
      "cell_type": "code",
      "execution_count": 199,
      "metadata": {},
      "outputs": [
        {
          "data": {
            "text/html": [
              "<div>\n",
              "<style scoped>\n",
              "    .dataframe tbody tr th:only-of-type {\n",
              "        vertical-align: middle;\n",
              "    }\n",
              "\n",
              "    .dataframe tbody tr th {\n",
              "        vertical-align: top;\n",
              "    }\n",
              "\n",
              "    .dataframe thead tr th {\n",
              "        text-align: left;\n",
              "    }\n",
              "\n",
              "    .dataframe thead tr:last-of-type th {\n",
              "        text-align: right;\n",
              "    }\n",
              "</style>\n",
              "<table border=\"1\" class=\"dataframe\">\n",
              "  <thead>\n",
              "    <tr>\n",
              "      <th></th>\n",
              "      <th colspan=\"3\" halign=\"left\">Numeric</th>\n",
              "    </tr>\n",
              "    <tr>\n",
              "      <th></th>\n",
              "      <th>mean</th>\n",
              "      <th>median</th>\n",
              "      <th>min</th>\n",
              "    </tr>\n",
              "    <tr>\n",
              "      <th>RegionDisplay</th>\n",
              "      <th></th>\n",
              "      <th></th>\n",
              "      <th></th>\n",
              "    </tr>\n",
              "  </thead>\n",
              "  <tbody>\n",
              "    <tr>\n",
              "      <th>Africa</th>\n",
              "      <td>-2.199391</td>\n",
              "      <td>-1.20604</td>\n",
              "      <td>0.00000</td>\n",
              "    </tr>\n",
              "    <tr>\n",
              "      <th>Americas</th>\n",
              "      <td>-4.273345</td>\n",
              "      <td>-4.50000</td>\n",
              "      <td>-3.13342</td>\n",
              "    </tr>\n",
              "    <tr>\n",
              "      <th>Eastern Mediterranean</th>\n",
              "      <td>-2.099957</td>\n",
              "      <td>-2.00000</td>\n",
              "      <td>-2.00000</td>\n",
              "    </tr>\n",
              "    <tr>\n",
              "      <th>Europe</th>\n",
              "      <td>-5.153430</td>\n",
              "      <td>-6.00000</td>\n",
              "      <td>-4.00000</td>\n",
              "    </tr>\n",
              "    <tr>\n",
              "      <th>South_East Asia</th>\n",
              "      <td>-2.558981</td>\n",
              "      <td>-1.60000</td>\n",
              "      <td>2.00000</td>\n",
              "    </tr>\n",
              "    <tr>\n",
              "      <th>Western Pacific</th>\n",
              "      <td>-3.870554</td>\n",
              "      <td>-4.25000</td>\n",
              "      <td>-3.00000</td>\n",
              "    </tr>\n",
              "  </tbody>\n",
              "</table>\n",
              "</div>"
            ],
            "text/plain": [
              "                        Numeric                  \n",
              "                           mean   median      min\n",
              "RegionDisplay                                    \n",
              "Africa                -2.199391 -1.20604  0.00000\n",
              "Americas              -4.273345 -4.50000 -3.13342\n",
              "Eastern Mediterranean -2.099957 -2.00000 -2.00000\n",
              "Europe                -5.153430 -6.00000 -4.00000\n",
              "South_East Asia       -2.558981 -1.60000  2.00000\n",
              "Western Pacific       -3.870554 -4.25000 -3.00000"
            ]
          },
          "execution_count": 199,
          "metadata": {},
          "output_type": "execute_result"
        }
      ],
      "source": [
        "data[data.SexDisplay == 'Male'].groupby(['RegionDisplay']).agg({'Numeric': ['mean', 'median', 'min']}) - data[data.SexDisplay == 'Female'].groupby(['RegionDisplay']).agg({'Numeric': ['mean', 'median', 'min']})"
      ]
    },
    {
      "cell_type": "markdown",
      "metadata": {},
      "source": [
        "вот настолько мужчины меньше живут"
      ]
    },
    {
      "cell_type": "markdown",
      "metadata": {
        "id": "MOpl4qSimA0f"
      },
      "source": [
        "### 15"
      ]
    },
    {
      "cell_type": "markdown",
      "metadata": {
        "id": "LJw3l8htmA0o"
      },
      "source": [
        "Работая лишь с общим объединенным датасетом и не используя исходную таблицу drinks, подсчитайте среднее потребление каждого вида алкоголя и среднее общее количество литров потребляемого алкоголя на человека по всем континентам. Занесите ваши результаты в отдельный датафрейм!\n",
        "\n",
        "*Подсказка. Задача немного сложнее, чем может показаться на первый взгляд — в объединенном датасете страны встречаются разное количество раз, и из-за этого могут возникнуть определенные проблемы. Если так случится, надо подумать, как это обойти!*\n",
        "\n",
        "*Примечание. Разумеется, это необходимо сделать автоматизированно, а не перебирая каждый континент по отдельности.*"
      ]
    },
    {
      "cell_type": "code",
      "execution_count": 205,
      "metadata": {
        "collapsed": true,
        "id": "gPuwfFgdmA0p"
      },
      "outputs": [
        {
          "data": {
            "text/html": [
              "<div>\n",
              "<style scoped>\n",
              "    .dataframe tbody tr th:only-of-type {\n",
              "        vertical-align: middle;\n",
              "    }\n",
              "\n",
              "    .dataframe tbody tr th {\n",
              "        vertical-align: top;\n",
              "    }\n",
              "\n",
              "    .dataframe thead th {\n",
              "        text-align: right;\n",
              "    }\n",
              "</style>\n",
              "<table border=\"1\" class=\"dataframe\">\n",
              "  <thead>\n",
              "    <tr style=\"text-align: right;\">\n",
              "      <th></th>\n",
              "      <th>beer_servings</th>\n",
              "      <th>spirit_servings</th>\n",
              "      <th>wine_servings</th>\n",
              "      <th>total_litres_of_pure_alcohol</th>\n",
              "    </tr>\n",
              "    <tr>\n",
              "      <th>RegionDisplay</th>\n",
              "      <th></th>\n",
              "      <th></th>\n",
              "      <th></th>\n",
              "      <th></th>\n",
              "    </tr>\n",
              "  </thead>\n",
              "  <tbody>\n",
              "    <tr>\n",
              "      <th>Africa</th>\n",
              "      <td>72.609756</td>\n",
              "      <td>17.487805</td>\n",
              "      <td>16.048780</td>\n",
              "      <td>3.314634</td>\n",
              "    </tr>\n",
              "    <tr>\n",
              "      <th>Americas</th>\n",
              "      <td>144.925926</td>\n",
              "      <td>143.148148</td>\n",
              "      <td>38.962963</td>\n",
              "      <td>5.851852</td>\n",
              "    </tr>\n",
              "    <tr>\n",
              "      <th>Eastern Mediterranean</th>\n",
              "      <td>11.263158</td>\n",
              "      <td>21.578947</td>\n",
              "      <td>4.526316</td>\n",
              "      <td>0.736842</td>\n",
              "    </tr>\n",
              "    <tr>\n",
              "      <th>Europe</th>\n",
              "      <td>179.020408</td>\n",
              "      <td>129.795918</td>\n",
              "      <td>127.346939</td>\n",
              "      <td>8.002041</td>\n",
              "    </tr>\n",
              "    <tr>\n",
              "      <th>South_East Asia</th>\n",
              "      <td>18.000000</td>\n",
              "      <td>53.777778</td>\n",
              "      <td>0.111111</td>\n",
              "      <td>1.288889</td>\n",
              "    </tr>\n",
              "    <tr>\n",
              "      <th>Western Pacific</th>\n",
              "      <td>82.136364</td>\n",
              "      <td>78.863636</td>\n",
              "      <td>27.136364</td>\n",
              "      <td>3.513636</td>\n",
              "    </tr>\n",
              "  </tbody>\n",
              "</table>\n",
              "</div>"
            ],
            "text/plain": [
              "                       beer_servings  spirit_servings  wine_servings  \\\n",
              "RegionDisplay                                                          \n",
              "Africa                     72.609756        17.487805      16.048780   \n",
              "Americas                  144.925926       143.148148      38.962963   \n",
              "Eastern Mediterranean      11.263158        21.578947       4.526316   \n",
              "Europe                    179.020408       129.795918     127.346939   \n",
              "South_East Asia            18.000000        53.777778       0.111111   \n",
              "Western Pacific            82.136364        78.863636      27.136364   \n",
              "\n",
              "                       total_litres_of_pure_alcohol  \n",
              "RegionDisplay                                        \n",
              "Africa                                     3.314634  \n",
              "Americas                                   5.851852  \n",
              "Eastern Mediterranean                      0.736842  \n",
              "Europe                                     8.002041  \n",
              "South_East Asia                            1.288889  \n",
              "Western Pacific                            3.513636  "
            ]
          },
          "execution_count": 205,
          "metadata": {},
          "output_type": "execute_result"
        }
      ],
      "source": [
        "df4 = data.groupby('country').min().groupby('RegionDisplay')[['beer_servings', 'spirit_servings', 'wine_servings', 'total_litres_of_pure_alcohol']].mean()\n",
        "df4"
      ]
    },
    {
      "cell_type": "markdown",
      "metadata": {
        "id": "iQ3Q-4AMZKgk"
      },
      "source": [
        "### 16"
      ]
    },
    {
      "cell_type": "markdown",
      "metadata": {
        "id": "brZ1VUheZKgk"
      },
      "source": [
        "Создание новых признаков (feature engineering) является одним из основных средств улучшения качества работы алгоритмов машинного обучения на этапе обработки данных, а также отличный способ увеличить глубину ваших выводов из проделанного анализа в целом! Частично мы с вами уже осуществляли feature engineering, когда добавляли новые столбцы в задании 13 данного раздела.\n",
        "\n",
        "Теперь давайте добавим в таблицу столбец, который будет показывать, какое общее количество servings per person производится в среднем по стране, к которой относится научная статья. Столбец для этого признака назовите 'total_servings'.\n",
        "\n",
        "Чем может быть полезен такой признак?\n",
        "\n",
        "***Бонус (2 бон. балла):*** Придумайте еще какой-нибудь свой осмысленный признак, который может быть полезен для анализа (несет в себе какую-то информацию), и добавьте его в таблицу. Обязательно аргументируйте, чем полезен ваш признак."
      ]
    },
    {
      "cell_type": "code",
      "execution_count": 206,
      "metadata": {
        "collapsed": true,
        "id": "IUpwi7PmZKgk"
      },
      "outputs": [],
      "source": [
        "data['total_servings'] = data['beer_servings'] + data['spirit_servings'] + data['wine_servings']\n",
        "# следующий признак покажет сколько человек в среднем выпивает литров в спиртовом эквиваленте \n",
        "# исходя из предположения статьи о средней длительности жизни\n",
        "data['total_litres_during_all_life'] = data['total_litres_of_pure_alcohol'] * data['Numeric']"
      ]
    },
    {
      "cell_type": "code",
      "execution_count": 208,
      "metadata": {},
      "outputs": [
        {
          "data": {
            "text/html": [
              "<div>\n",
              "<style scoped>\n",
              "    .dataframe tbody tr th:only-of-type {\n",
              "        vertical-align: middle;\n",
              "    }\n",
              "\n",
              "    .dataframe tbody tr th {\n",
              "        vertical-align: top;\n",
              "    }\n",
              "\n",
              "    .dataframe thead th {\n",
              "        text-align: right;\n",
              "    }\n",
              "</style>\n",
              "<table border=\"1\" class=\"dataframe\">\n",
              "  <thead>\n",
              "    <tr style=\"text-align: right;\">\n",
              "      <th></th>\n",
              "      <th>country</th>\n",
              "      <th>beer_servings</th>\n",
              "      <th>spirit_servings</th>\n",
              "      <th>wine_servings</th>\n",
              "      <th>total_litres_of_pure_alcohol</th>\n",
              "      <th>GhoDisplay</th>\n",
              "      <th>YearCode</th>\n",
              "      <th>RegionDisplay</th>\n",
              "      <th>WorldBankIncomeGroupDisplay</th>\n",
              "      <th>CountryDisplay</th>\n",
              "      <th>SexDisplay</th>\n",
              "      <th>Numeric</th>\n",
              "      <th>mean</th>\n",
              "      <th>min</th>\n",
              "      <th>total_servings</th>\n",
              "      <th>total_litres_during_all_life</th>\n",
              "    </tr>\n",
              "  </thead>\n",
              "  <tbody>\n",
              "    <tr>\n",
              "      <th>0</th>\n",
              "      <td>Afghanistan</td>\n",
              "      <td>0</td>\n",
              "      <td>0</td>\n",
              "      <td>0</td>\n",
              "      <td>0.0</td>\n",
              "      <td>Life expectancy at age 60 (years)</td>\n",
              "      <td>2000</td>\n",
              "      <td>Eastern Mediterranean</td>\n",
              "      <td>Low_income</td>\n",
              "      <td>Afghanistan</td>\n",
              "      <td>Female</td>\n",
              "      <td>16.0</td>\n",
              "      <td>15.223012</td>\n",
              "      <td>13.0</td>\n",
              "      <td>0</td>\n",
              "      <td>0.0</td>\n",
              "    </tr>\n",
              "    <tr>\n",
              "      <th>1</th>\n",
              "      <td>Afghanistan</td>\n",
              "      <td>0</td>\n",
              "      <td>0</td>\n",
              "      <td>0</td>\n",
              "      <td>0.0</td>\n",
              "      <td>Life expectancy at age 60 (years)</td>\n",
              "      <td>2012</td>\n",
              "      <td>Eastern Mediterranean</td>\n",
              "      <td>Low_income</td>\n",
              "      <td>Afghanistan</td>\n",
              "      <td>Female</td>\n",
              "      <td>17.0</td>\n",
              "      <td>15.223012</td>\n",
              "      <td>13.0</td>\n",
              "      <td>0</td>\n",
              "      <td>0.0</td>\n",
              "    </tr>\n",
              "    <tr>\n",
              "      <th>2</th>\n",
              "      <td>Afghanistan</td>\n",
              "      <td>0</td>\n",
              "      <td>0</td>\n",
              "      <td>0</td>\n",
              "      <td>0.0</td>\n",
              "      <td>Life expectancy at age 60 (years)</td>\n",
              "      <td>2012</td>\n",
              "      <td>Eastern Mediterranean</td>\n",
              "      <td>Low_income</td>\n",
              "      <td>Afghanistan</td>\n",
              "      <td>Male</td>\n",
              "      <td>15.0</td>\n",
              "      <td>15.223012</td>\n",
              "      <td>13.0</td>\n",
              "      <td>0</td>\n",
              "      <td>0.0</td>\n",
              "    </tr>\n",
              "  </tbody>\n",
              "</table>\n",
              "</div>"
            ],
            "text/plain": [
              "       country  beer_servings  spirit_servings  wine_servings  \\\n",
              "0  Afghanistan              0                0              0   \n",
              "1  Afghanistan              0                0              0   \n",
              "2  Afghanistan              0                0              0   \n",
              "\n",
              "   total_litres_of_pure_alcohol                         GhoDisplay  YearCode  \\\n",
              "0                           0.0  Life expectancy at age 60 (years)      2000   \n",
              "1                           0.0  Life expectancy at age 60 (years)      2012   \n",
              "2                           0.0  Life expectancy at age 60 (years)      2012   \n",
              "\n",
              "           RegionDisplay WorldBankIncomeGroupDisplay CountryDisplay  \\\n",
              "0  Eastern Mediterranean                  Low_income    Afghanistan   \n",
              "1  Eastern Mediterranean                  Low_income    Afghanistan   \n",
              "2  Eastern Mediterranean                  Low_income    Afghanistan   \n",
              "\n",
              "  SexDisplay  Numeric       mean   min  total_servings  \\\n",
              "0     Female     16.0  15.223012  13.0               0   \n",
              "1     Female     17.0  15.223012  13.0               0   \n",
              "2       Male     15.0  15.223012  13.0               0   \n",
              "\n",
              "   total_litres_during_all_life  \n",
              "0                           0.0  \n",
              "1                           0.0  \n",
              "2                           0.0  "
            ]
          },
          "execution_count": 208,
          "metadata": {},
          "output_type": "execute_result"
        }
      ],
      "source": [
        "data.head(3)"
      ]
    },
    {
      "cell_type": "markdown",
      "metadata": {
        "id": "XlDxz7oNZKgl"
      },
      "source": [
        "### 17"
      ]
    },
    {
      "cell_type": "markdown",
      "metadata": {
        "id": "cWu51pYuZKgm"
      },
      "source": [
        "Есть ли в данных категориальные признаки, которые принимают значения строк, а не чисел? Если да, то для многих алгоритмов это может стать серьезным препятствием, поэтому закодируйте категориальные признаки так, чтобы к данным можно было применить любые алгоритмы. Аргументируйте выбор методов кодирования.\n",
        "\n",
        "*Подсказка. Вам могут помочь Label encoding и One-Hot Encoding. Но будьте внимательны! У каждого из этих методов есть свои сильные и слабые стороны, а также ограничения применимости.*"
      ]
    },
    {
      "cell_type": "code",
      "execution_count": 255,
      "metadata": {
        "collapsed": true,
        "id": "KlP_Pz31ZKgm"
      },
      "outputs": [],
      "source": [
        "data_new = pd.get_dummies(data, columns=['SexDisplay', 'GhoDisplay'])\n",
        "data_new['IncomeGroupCode'] = data_new['WorldBankIncomeGroupDisplay'].sort_values().astype('category').cat.codes"
      ]
    },
    {
      "cell_type": "code",
      "execution_count": 256,
      "metadata": {},
      "outputs": [
        {
          "data": {
            "text/html": [
              "<div>\n",
              "<style scoped>\n",
              "    .dataframe tbody tr th:only-of-type {\n",
              "        vertical-align: middle;\n",
              "    }\n",
              "\n",
              "    .dataframe tbody tr th {\n",
              "        vertical-align: top;\n",
              "    }\n",
              "\n",
              "    .dataframe thead th {\n",
              "        text-align: right;\n",
              "    }\n",
              "</style>\n",
              "<table border=\"1\" class=\"dataframe\">\n",
              "  <thead>\n",
              "    <tr style=\"text-align: right;\">\n",
              "      <th></th>\n",
              "      <th>country</th>\n",
              "      <th>beer_servings</th>\n",
              "      <th>spirit_servings</th>\n",
              "      <th>wine_servings</th>\n",
              "      <th>total_litres_of_pure_alcohol</th>\n",
              "      <th>YearCode</th>\n",
              "      <th>RegionDisplay</th>\n",
              "      <th>WorldBankIncomeGroupDisplay</th>\n",
              "      <th>CountryDisplay</th>\n",
              "      <th>Numeric</th>\n",
              "      <th>...</th>\n",
              "      <th>min</th>\n",
              "      <th>total_servings</th>\n",
              "      <th>total_litres_during_all_life</th>\n",
              "      <th>SexDisplay_Both sexes</th>\n",
              "      <th>SexDisplay_Female</th>\n",
              "      <th>SexDisplay_Male</th>\n",
              "      <th>GhoDisplay_Healthy life expectancy (HALE) at birth (years)</th>\n",
              "      <th>GhoDisplay_Life expectancy at age 60 (years)</th>\n",
              "      <th>GhoDisplay_Life expectancy at birth (years)</th>\n",
              "      <th>IncomeGroupCode</th>\n",
              "    </tr>\n",
              "  </thead>\n",
              "  <tbody>\n",
              "    <tr>\n",
              "      <th>0</th>\n",
              "      <td>Afghanistan</td>\n",
              "      <td>0</td>\n",
              "      <td>0</td>\n",
              "      <td>0</td>\n",
              "      <td>0.0</td>\n",
              "      <td>2000</td>\n",
              "      <td>Eastern Mediterranean</td>\n",
              "      <td>Low_income</td>\n",
              "      <td>Afghanistan</td>\n",
              "      <td>16.00000</td>\n",
              "      <td>...</td>\n",
              "      <td>13.0</td>\n",
              "      <td>0</td>\n",
              "      <td>0.000000</td>\n",
              "      <td>False</td>\n",
              "      <td>True</td>\n",
              "      <td>False</td>\n",
              "      <td>False</td>\n",
              "      <td>True</td>\n",
              "      <td>False</td>\n",
              "      <td>1</td>\n",
              "    </tr>\n",
              "    <tr>\n",
              "      <th>1</th>\n",
              "      <td>Afghanistan</td>\n",
              "      <td>0</td>\n",
              "      <td>0</td>\n",
              "      <td>0</td>\n",
              "      <td>0.0</td>\n",
              "      <td>2012</td>\n",
              "      <td>Eastern Mediterranean</td>\n",
              "      <td>Low_income</td>\n",
              "      <td>Afghanistan</td>\n",
              "      <td>17.00000</td>\n",
              "      <td>...</td>\n",
              "      <td>13.0</td>\n",
              "      <td>0</td>\n",
              "      <td>0.000000</td>\n",
              "      <td>False</td>\n",
              "      <td>True</td>\n",
              "      <td>False</td>\n",
              "      <td>False</td>\n",
              "      <td>True</td>\n",
              "      <td>False</td>\n",
              "      <td>1</td>\n",
              "    </tr>\n",
              "    <tr>\n",
              "      <th>2</th>\n",
              "      <td>Afghanistan</td>\n",
              "      <td>0</td>\n",
              "      <td>0</td>\n",
              "      <td>0</td>\n",
              "      <td>0.0</td>\n",
              "      <td>2012</td>\n",
              "      <td>Eastern Mediterranean</td>\n",
              "      <td>Low_income</td>\n",
              "      <td>Afghanistan</td>\n",
              "      <td>15.00000</td>\n",
              "      <td>...</td>\n",
              "      <td>13.0</td>\n",
              "      <td>0</td>\n",
              "      <td>0.000000</td>\n",
              "      <td>False</td>\n",
              "      <td>False</td>\n",
              "      <td>True</td>\n",
              "      <td>False</td>\n",
              "      <td>True</td>\n",
              "      <td>False</td>\n",
              "      <td>1</td>\n",
              "    </tr>\n",
              "    <tr>\n",
              "      <th>3</th>\n",
              "      <td>Afghanistan</td>\n",
              "      <td>0</td>\n",
              "      <td>0</td>\n",
              "      <td>0</td>\n",
              "      <td>0.0</td>\n",
              "      <td>1990</td>\n",
              "      <td>Eastern Mediterranean</td>\n",
              "      <td>Low_income</td>\n",
              "      <td>Afghanistan</td>\n",
              "      <td>15.00000</td>\n",
              "      <td>...</td>\n",
              "      <td>13.0</td>\n",
              "      <td>0</td>\n",
              "      <td>0.000000</td>\n",
              "      <td>False</td>\n",
              "      <td>True</td>\n",
              "      <td>False</td>\n",
              "      <td>False</td>\n",
              "      <td>True</td>\n",
              "      <td>False</td>\n",
              "      <td>1</td>\n",
              "    </tr>\n",
              "    <tr>\n",
              "      <th>4</th>\n",
              "      <td>Afghanistan</td>\n",
              "      <td>0</td>\n",
              "      <td>0</td>\n",
              "      <td>0</td>\n",
              "      <td>0.0</td>\n",
              "      <td>2012</td>\n",
              "      <td>Eastern Mediterranean</td>\n",
              "      <td>Low_income</td>\n",
              "      <td>Afghanistan</td>\n",
              "      <td>16.00000</td>\n",
              "      <td>...</td>\n",
              "      <td>13.0</td>\n",
              "      <td>0</td>\n",
              "      <td>0.000000</td>\n",
              "      <td>True</td>\n",
              "      <td>False</td>\n",
              "      <td>False</td>\n",
              "      <td>False</td>\n",
              "      <td>True</td>\n",
              "      <td>False</td>\n",
              "      <td>1</td>\n",
              "    </tr>\n",
              "    <tr>\n",
              "      <th>...</th>\n",
              "      <td>...</td>\n",
              "      <td>...</td>\n",
              "      <td>...</td>\n",
              "      <td>...</td>\n",
              "      <td>...</td>\n",
              "      <td>...</td>\n",
              "      <td>...</td>\n",
              "      <td>...</td>\n",
              "      <td>...</td>\n",
              "      <td>...</td>\n",
              "      <td>...</td>\n",
              "      <td>...</td>\n",
              "      <td>...</td>\n",
              "      <td>...</td>\n",
              "      <td>...</td>\n",
              "      <td>...</td>\n",
              "      <td>...</td>\n",
              "      <td>...</td>\n",
              "      <td>...</td>\n",
              "      <td>...</td>\n",
              "      <td>...</td>\n",
              "    </tr>\n",
              "    <tr>\n",
              "      <th>5506</th>\n",
              "      <td>Zimbabwe</td>\n",
              "      <td>64</td>\n",
              "      <td>18</td>\n",
              "      <td>4</td>\n",
              "      <td>4.7</td>\n",
              "      <td>2000</td>\n",
              "      <td>Africa</td>\n",
              "      <td>Low_income</td>\n",
              "      <td>Zimbabwe</td>\n",
              "      <td>16.00000</td>\n",
              "      <td>...</td>\n",
              "      <td>15.0</td>\n",
              "      <td>86</td>\n",
              "      <td>75.200000</td>\n",
              "      <td>True</td>\n",
              "      <td>False</td>\n",
              "      <td>False</td>\n",
              "      <td>False</td>\n",
              "      <td>True</td>\n",
              "      <td>False</td>\n",
              "      <td>1</td>\n",
              "    </tr>\n",
              "    <tr>\n",
              "      <th>5507</th>\n",
              "      <td>Zimbabwe</td>\n",
              "      <td>64</td>\n",
              "      <td>18</td>\n",
              "      <td>4</td>\n",
              "      <td>4.7</td>\n",
              "      <td>2000</td>\n",
              "      <td>Africa</td>\n",
              "      <td>Low_income</td>\n",
              "      <td>Zimbabwe</td>\n",
              "      <td>15.00000</td>\n",
              "      <td>...</td>\n",
              "      <td>15.0</td>\n",
              "      <td>86</td>\n",
              "      <td>70.500000</td>\n",
              "      <td>False</td>\n",
              "      <td>False</td>\n",
              "      <td>True</td>\n",
              "      <td>False</td>\n",
              "      <td>True</td>\n",
              "      <td>False</td>\n",
              "      <td>1</td>\n",
              "    </tr>\n",
              "    <tr>\n",
              "      <th>5508</th>\n",
              "      <td>Zimbabwe</td>\n",
              "      <td>64</td>\n",
              "      <td>18</td>\n",
              "      <td>4</td>\n",
              "      <td>4.7</td>\n",
              "      <td>2013</td>\n",
              "      <td>Africa</td>\n",
              "      <td>Low_income</td>\n",
              "      <td>Zimbabwe</td>\n",
              "      <td>18.92977</td>\n",
              "      <td>...</td>\n",
              "      <td>15.0</td>\n",
              "      <td>86</td>\n",
              "      <td>88.969919</td>\n",
              "      <td>False</td>\n",
              "      <td>True</td>\n",
              "      <td>False</td>\n",
              "      <td>False</td>\n",
              "      <td>True</td>\n",
              "      <td>False</td>\n",
              "      <td>1</td>\n",
              "    </tr>\n",
              "    <tr>\n",
              "      <th>5509</th>\n",
              "      <td>Zimbabwe</td>\n",
              "      <td>64</td>\n",
              "      <td>18</td>\n",
              "      <td>4</td>\n",
              "      <td>4.7</td>\n",
              "      <td>2013</td>\n",
              "      <td>Africa</td>\n",
              "      <td>Low_income</td>\n",
              "      <td>Zimbabwe</td>\n",
              "      <td>17.30808</td>\n",
              "      <td>...</td>\n",
              "      <td>15.0</td>\n",
              "      <td>86</td>\n",
              "      <td>81.347976</td>\n",
              "      <td>False</td>\n",
              "      <td>False</td>\n",
              "      <td>True</td>\n",
              "      <td>False</td>\n",
              "      <td>True</td>\n",
              "      <td>False</td>\n",
              "      <td>1</td>\n",
              "    </tr>\n",
              "    <tr>\n",
              "      <th>5510</th>\n",
              "      <td>Zimbabwe</td>\n",
              "      <td>64</td>\n",
              "      <td>18</td>\n",
              "      <td>4</td>\n",
              "      <td>4.7</td>\n",
              "      <td>2013</td>\n",
              "      <td>Africa</td>\n",
              "      <td>Low_income</td>\n",
              "      <td>Zimbabwe</td>\n",
              "      <td>18.19472</td>\n",
              "      <td>...</td>\n",
              "      <td>15.0</td>\n",
              "      <td>86</td>\n",
              "      <td>85.515184</td>\n",
              "      <td>True</td>\n",
              "      <td>False</td>\n",
              "      <td>False</td>\n",
              "      <td>False</td>\n",
              "      <td>True</td>\n",
              "      <td>False</td>\n",
              "      <td>1</td>\n",
              "    </tr>\n",
              "  </tbody>\n",
              "</table>\n",
              "<p>1254 rows × 21 columns</p>\n",
              "</div>"
            ],
            "text/plain": [
              "          country  beer_servings  spirit_servings  wine_servings  \\\n",
              "0     Afghanistan              0                0              0   \n",
              "1     Afghanistan              0                0              0   \n",
              "2     Afghanistan              0                0              0   \n",
              "3     Afghanistan              0                0              0   \n",
              "4     Afghanistan              0                0              0   \n",
              "...           ...            ...              ...            ...   \n",
              "5506     Zimbabwe             64               18              4   \n",
              "5507     Zimbabwe             64               18              4   \n",
              "5508     Zimbabwe             64               18              4   \n",
              "5509     Zimbabwe             64               18              4   \n",
              "5510     Zimbabwe             64               18              4   \n",
              "\n",
              "      total_litres_of_pure_alcohol  YearCode          RegionDisplay  \\\n",
              "0                              0.0      2000  Eastern Mediterranean   \n",
              "1                              0.0      2012  Eastern Mediterranean   \n",
              "2                              0.0      2012  Eastern Mediterranean   \n",
              "3                              0.0      1990  Eastern Mediterranean   \n",
              "4                              0.0      2012  Eastern Mediterranean   \n",
              "...                            ...       ...                    ...   \n",
              "5506                           4.7      2000                 Africa   \n",
              "5507                           4.7      2000                 Africa   \n",
              "5508                           4.7      2013                 Africa   \n",
              "5509                           4.7      2013                 Africa   \n",
              "5510                           4.7      2013                 Africa   \n",
              "\n",
              "     WorldBankIncomeGroupDisplay CountryDisplay   Numeric  ...   min  \\\n",
              "0                     Low_income    Afghanistan  16.00000  ...  13.0   \n",
              "1                     Low_income    Afghanistan  17.00000  ...  13.0   \n",
              "2                     Low_income    Afghanistan  15.00000  ...  13.0   \n",
              "3                     Low_income    Afghanistan  15.00000  ...  13.0   \n",
              "4                     Low_income    Afghanistan  16.00000  ...  13.0   \n",
              "...                          ...            ...       ...  ...   ...   \n",
              "5506                  Low_income       Zimbabwe  16.00000  ...  15.0   \n",
              "5507                  Low_income       Zimbabwe  15.00000  ...  15.0   \n",
              "5508                  Low_income       Zimbabwe  18.92977  ...  15.0   \n",
              "5509                  Low_income       Zimbabwe  17.30808  ...  15.0   \n",
              "5510                  Low_income       Zimbabwe  18.19472  ...  15.0   \n",
              "\n",
              "      total_servings  total_litres_during_all_life  SexDisplay_Both sexes  \\\n",
              "0                  0                      0.000000                  False   \n",
              "1                  0                      0.000000                  False   \n",
              "2                  0                      0.000000                  False   \n",
              "3                  0                      0.000000                  False   \n",
              "4                  0                      0.000000                   True   \n",
              "...              ...                           ...                    ...   \n",
              "5506              86                     75.200000                   True   \n",
              "5507              86                     70.500000                  False   \n",
              "5508              86                     88.969919                  False   \n",
              "5509              86                     81.347976                  False   \n",
              "5510              86                     85.515184                   True   \n",
              "\n",
              "      SexDisplay_Female  SexDisplay_Male  \\\n",
              "0                  True            False   \n",
              "1                  True            False   \n",
              "2                 False             True   \n",
              "3                  True            False   \n",
              "4                 False            False   \n",
              "...                 ...              ...   \n",
              "5506              False            False   \n",
              "5507              False             True   \n",
              "5508               True            False   \n",
              "5509              False             True   \n",
              "5510              False            False   \n",
              "\n",
              "      GhoDisplay_Healthy life expectancy (HALE) at birth (years)  \\\n",
              "0                                                 False            \n",
              "1                                                 False            \n",
              "2                                                 False            \n",
              "3                                                 False            \n",
              "4                                                 False            \n",
              "...                                                 ...            \n",
              "5506                                              False            \n",
              "5507                                              False            \n",
              "5508                                              False            \n",
              "5509                                              False            \n",
              "5510                                              False            \n",
              "\n",
              "      GhoDisplay_Life expectancy at age 60 (years)  \\\n",
              "0                                             True   \n",
              "1                                             True   \n",
              "2                                             True   \n",
              "3                                             True   \n",
              "4                                             True   \n",
              "...                                            ...   \n",
              "5506                                          True   \n",
              "5507                                          True   \n",
              "5508                                          True   \n",
              "5509                                          True   \n",
              "5510                                          True   \n",
              "\n",
              "      GhoDisplay_Life expectancy at birth (years)  IncomeGroupCode  \n",
              "0                                           False                1  \n",
              "1                                           False                1  \n",
              "2                                           False                1  \n",
              "3                                           False                1  \n",
              "4                                           False                1  \n",
              "...                                           ...              ...  \n",
              "5506                                        False                1  \n",
              "5507                                        False                1  \n",
              "5508                                        False                1  \n",
              "5509                                        False                1  \n",
              "5510                                        False                1  \n",
              "\n",
              "[1254 rows x 21 columns]"
            ]
          },
          "execution_count": 256,
          "metadata": {},
          "output_type": "execute_result"
        }
      ],
      "source": [
        "data_new[data_new.IncomeGroupCode == 1]"
      ]
    },
    {
      "cell_type": "markdown",
      "metadata": {
        "id": "v3DjKVAlZKgk"
      },
      "source": [
        "### 18"
      ]
    },
    {
      "cell_type": "markdown",
      "metadata": {
        "id": "CJrnBovsZKgk"
      },
      "source": [
        "Придумайте какое-нибудь своё интересное задание на анализ предлагаемых данных и решите его.\n",
        "\n",
        "Креативность в этом задании приветствуется, и за нее можно получить ***1-2 бонусных балла***!\n",
        "\n",
        "*Подсказка. Вы можете вдохновляться различными заданиями из этого ДЗ, как, например, заданиями: 4, 6, 10, 12, 14, 15, 16. Но, чтобы получить бонусные баллы, лучше не используйте аналогичные идеи, а придумайте что-то своё!*"
      ]
    },
    {
      "cell_type": "code",
      "execution_count": null,
      "metadata": {
        "collapsed": true,
        "id": "-7TpyG0RZKgl"
      },
      "outputs": [],
      "source": [
        "# your code here"
      ]
    },
    {
      "cell_type": "markdown",
      "metadata": {
        "id": "rGRobnalZKgm"
      },
      "source": [
        "## Бонусная часть на анализ целевой переменной (до 5 бонусных баллов)"
      ]
    },
    {
      "cell_type": "markdown",
      "metadata": {
        "id": "6yIziTqLNLbj"
      },
      "source": [
        "После всего проделанного анализа и подготовки данных мы можем перейти непосредственно к ответу на исходный вопрос исследования, который был сформулирован вами в задании 3 данного раздела."
      ]
    },
    {
      "cell_type": "markdown",
      "metadata": {
        "id": "RmEQBtkJZKgm"
      },
      "source": [
        "### 19\n",
        "\n",
        "***Бонус (5 бон. баллов):*** Дайте развернутый, обоснованный, подкрепленный данными и написанным вами кодом ответ на вопрос, влияют ли признаки зависимой таблицы на целевую переменную из главной таблицы и, если да, то каким именно образом влияют?\n",
        "\n",
        "Обязательно аргументируйте полученные вами результаты и выводы. Чем подробнее и обоснованнее анализ вы проведете в рамках данного бонусного задания, тем больше бонусных баллов получите! Вы можете использовать подходы и методы из рассмотренных на семинаре и в рамках данного домашнего задания, а можете придумать и что-то своё. Креативность максимально приветствуется!"
      ]
    },
    {
      "cell_type": "code",
      "execution_count": null,
      "metadata": {
        "collapsed": true,
        "id": "hbkcHR3bZKgm"
      },
      "outputs": [],
      "source": [
        "# your code here"
      ]
    },
    {
      "cell_type": "markdown",
      "metadata": {
        "id": "UMiAKN_xPf-E"
      },
      "source": [
        "    {your final conclusion here}"
      ]
    }
  ],
  "metadata": {
    "colab": {
      "provenance": []
    },
    "kernelspec": {
      "display_name": "Python 3",
      "language": "python",
      "name": "python3"
    },
    "language_info": {
      "codemirror_mode": {
        "name": "ipython",
        "version": 3
      },
      "file_extension": ".py",
      "mimetype": "text/x-python",
      "name": "python",
      "nbconvert_exporter": "python",
      "pygments_lexer": "ipython3",
      "version": "3.11.5"
    }
  },
  "nbformat": 4,
  "nbformat_minor": 0
}
