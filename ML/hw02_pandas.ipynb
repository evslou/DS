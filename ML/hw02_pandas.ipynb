{
 "cells": [
  {
   "cell_type": "markdown",
   "metadata": {
    "_uuid": "21c25e4f8bb31570029fd6b069131a5d00f84cf1",
    "id": "FV-mQUT_nHnv"
   },
   "source": [
    "# Домашнее задание 2 (5 баллов).\n",
    "\n",
    "Все задания ниже имеют равный вес (5/16)."
   ]
  },
  {
   "cell_type": "code",
   "execution_count": 210,
   "metadata": {
    "_uuid": "568eb2d31004b87d22e119112ae01a1e75105f1d",
    "id": "yPZzLxM-nHnw"
   },
   "outputs": [],
   "source": [
    "import pandas as pd"
   ]
  },
  {
   "cell_type": "markdown",
   "metadata": {
    "id": "ESKshb-YnHnx"
   },
   "source": [
    "#### Описание данных\n",
    "\n",
    "В папке Data находится информация о студентах. Всего 10 групп студентов. Файлы делятся на две категории:\n",
    "    * Students_info_i - информация о студентах из группы i\n",
    "    * Students_marks_i - оценки студентов из группы i за экзамены"
   ]
  },
  {
   "cell_type": "markdown",
   "metadata": {
    "id": "1jiGWwwAnHnx"
   },
   "source": [
    "### Одно из важных достоинств pandas $-$ это удобные методы реляционного взаимодействия с данными, аналогичные, например, возможностям SQL для слияния и конкатенации таблиц: merge, join, concat. Наличие готовых методов позволяет не реализовывать самостоятельно поэлементную обработку данных и оперировать сразу целыми таблицами данных.\n",
    "\n",
    "Подробно об этих методах посмотрите тут: https://www.kaggle.com/residentmario/renaming-and-combining#Combining"
   ]
  },
  {
   "cell_type": "markdown",
   "metadata": {
    "id": "cmwpdUb9nHny"
   },
   "source": [
    "#### Задание 1. Соберите всю информацию о студентах в одну таблицу df. В получившейся таблице должна быть информация и оценки всех студентов из всех групп. Напечатайте несколько строк таблицы для демонстрации результата.¶"
   ]
  },
  {
   "cell_type": "code",
   "execution_count": 211,
   "metadata": {
    "id": "_6CwHkUznHny"
   },
   "outputs": [
    {
     "data": {
      "text/plain": "   index  gender race/ethnicity parental level of education         lunch  \\\n0      0  female        group B           bachelor's degree      standard   \n1      1  female        group C                some college      standard   \n2      2  female        group B             master's degree      standard   \n3      3    male        group A          associate's degree  free/reduced   \n4      4    male        group C                some college      standard   \n\n  test preparation course   group  math score  reading score  writing score  \n0                    none  group1          72             72             74  \n1               completed  group1          69             90             88  \n2                    none  group1          90             95             93  \n3                    none  group1          47             57             44  \n4                    none  group1          76             78             75  ",
      "text/html": "<div>\n<style scoped>\n    .dataframe tbody tr th:only-of-type {\n        vertical-align: middle;\n    }\n\n    .dataframe tbody tr th {\n        vertical-align: top;\n    }\n\n    .dataframe thead th {\n        text-align: right;\n    }\n</style>\n<table border=\"1\" class=\"dataframe\">\n  <thead>\n    <tr style=\"text-align: right;\">\n      <th></th>\n      <th>index</th>\n      <th>gender</th>\n      <th>race/ethnicity</th>\n      <th>parental level of education</th>\n      <th>lunch</th>\n      <th>test preparation course</th>\n      <th>group</th>\n      <th>math score</th>\n      <th>reading score</th>\n      <th>writing score</th>\n    </tr>\n  </thead>\n  <tbody>\n    <tr>\n      <th>0</th>\n      <td>0</td>\n      <td>female</td>\n      <td>group B</td>\n      <td>bachelor's degree</td>\n      <td>standard</td>\n      <td>none</td>\n      <td>group1</td>\n      <td>72</td>\n      <td>72</td>\n      <td>74</td>\n    </tr>\n    <tr>\n      <th>1</th>\n      <td>1</td>\n      <td>female</td>\n      <td>group C</td>\n      <td>some college</td>\n      <td>standard</td>\n      <td>completed</td>\n      <td>group1</td>\n      <td>69</td>\n      <td>90</td>\n      <td>88</td>\n    </tr>\n    <tr>\n      <th>2</th>\n      <td>2</td>\n      <td>female</td>\n      <td>group B</td>\n      <td>master's degree</td>\n      <td>standard</td>\n      <td>none</td>\n      <td>group1</td>\n      <td>90</td>\n      <td>95</td>\n      <td>93</td>\n    </tr>\n    <tr>\n      <th>3</th>\n      <td>3</td>\n      <td>male</td>\n      <td>group A</td>\n      <td>associate's degree</td>\n      <td>free/reduced</td>\n      <td>none</td>\n      <td>group1</td>\n      <td>47</td>\n      <td>57</td>\n      <td>44</td>\n    </tr>\n    <tr>\n      <th>4</th>\n      <td>4</td>\n      <td>male</td>\n      <td>group C</td>\n      <td>some college</td>\n      <td>standard</td>\n      <td>none</td>\n      <td>group1</td>\n      <td>76</td>\n      <td>78</td>\n      <td>75</td>\n    </tr>\n  </tbody>\n</table>\n</div>"
     },
     "execution_count": 211,
     "metadata": {},
     "output_type": "execute_result"
    }
   ],
   "source": [
    "df1 = pd.concat([pd.read_csv(f\"Students_info_{i}.csv\") for i in range(10)], axis=0)\n",
    "df2 = pd.concat([pd.read_csv(f\"Students_marks_{i}.csv\") for i in range(10)], axis=0)\n",
    "df = df1.merge(df2)\n",
    "df.head(5)"
   ]
  },
  {
   "cell_type": "markdown",
   "metadata": {
    "_uuid": "8524af4cbd2f7b7810e8a3095a74c9fe1df7eafa",
    "id": "Bj4kGqgwnHny"
   },
   "source": [
    "#### Задание 2. Удалите столбец index у полученной таблицы. Напечатайте первые 10 строк таблицы."
   ]
  },
  {
   "cell_type": "code",
   "execution_count": 212,
   "metadata": {
    "_uuid": "fe62eee87b9b94ab923f57b55eaf0554612aa9e9",
    "id": "q6yVdFiEnHny"
   },
   "outputs": [
    {
     "data": {
      "text/plain": "   gender race/ethnicity parental level of education         lunch  \\\n0  female        group B           bachelor's degree      standard   \n1  female        group C                some college      standard   \n2  female        group B             master's degree      standard   \n3    male        group A          associate's degree  free/reduced   \n4    male        group C                some college      standard   \n\n  test preparation course   group  math score  reading score  writing score  \n0                    none  group1          72             72             74  \n1               completed  group1          69             90             88  \n2                    none  group1          90             95             93  \n3                    none  group1          47             57             44  \n4                    none  group1          76             78             75  ",
      "text/html": "<div>\n<style scoped>\n    .dataframe tbody tr th:only-of-type {\n        vertical-align: middle;\n    }\n\n    .dataframe tbody tr th {\n        vertical-align: top;\n    }\n\n    .dataframe thead th {\n        text-align: right;\n    }\n</style>\n<table border=\"1\" class=\"dataframe\">\n  <thead>\n    <tr style=\"text-align: right;\">\n      <th></th>\n      <th>gender</th>\n      <th>race/ethnicity</th>\n      <th>parental level of education</th>\n      <th>lunch</th>\n      <th>test preparation course</th>\n      <th>group</th>\n      <th>math score</th>\n      <th>reading score</th>\n      <th>writing score</th>\n    </tr>\n  </thead>\n  <tbody>\n    <tr>\n      <th>0</th>\n      <td>female</td>\n      <td>group B</td>\n      <td>bachelor's degree</td>\n      <td>standard</td>\n      <td>none</td>\n      <td>group1</td>\n      <td>72</td>\n      <td>72</td>\n      <td>74</td>\n    </tr>\n    <tr>\n      <th>1</th>\n      <td>female</td>\n      <td>group C</td>\n      <td>some college</td>\n      <td>standard</td>\n      <td>completed</td>\n      <td>group1</td>\n      <td>69</td>\n      <td>90</td>\n      <td>88</td>\n    </tr>\n    <tr>\n      <th>2</th>\n      <td>female</td>\n      <td>group B</td>\n      <td>master's degree</td>\n      <td>standard</td>\n      <td>none</td>\n      <td>group1</td>\n      <td>90</td>\n      <td>95</td>\n      <td>93</td>\n    </tr>\n    <tr>\n      <th>3</th>\n      <td>male</td>\n      <td>group A</td>\n      <td>associate's degree</td>\n      <td>free/reduced</td>\n      <td>none</td>\n      <td>group1</td>\n      <td>47</td>\n      <td>57</td>\n      <td>44</td>\n    </tr>\n    <tr>\n      <th>4</th>\n      <td>male</td>\n      <td>group C</td>\n      <td>some college</td>\n      <td>standard</td>\n      <td>none</td>\n      <td>group1</td>\n      <td>76</td>\n      <td>78</td>\n      <td>75</td>\n    </tr>\n  </tbody>\n</table>\n</div>"
     },
     "execution_count": 212,
     "metadata": {},
     "output_type": "execute_result"
    }
   ],
   "source": [
    "df = df.drop(columns=['index'])\n",
    "df.head(5)"
   ]
  },
  {
   "cell_type": "markdown",
   "metadata": {
    "_uuid": "5fcd622942b7ecfc318934c6a245d3bb3bf01e84",
    "id": "DczhZ_GEnHnz"
   },
   "source": [
    "#### Задание 3. Выведите на экран размеры полученной таблицы"
   ]
  },
  {
   "cell_type": "code",
   "execution_count": 213,
   "metadata": {
    "_uuid": "16281cd7b4e941ebed8ca2e1b42f62f55d838684",
    "id": "0T_PjC2wnHnz"
   },
   "outputs": [
    {
     "data": {
      "text/plain": "(1000, 9)"
     },
     "execution_count": 213,
     "metadata": {},
     "output_type": "execute_result"
    }
   ],
   "source": [
    "df.shape"
   ]
  },
  {
   "cell_type": "markdown",
   "metadata": {
    "_uuid": "fe8e3d58d29ca25dbbcf001392377643e6ff9a36",
    "id": "o1wGUGmHnHnz"
   },
   "source": [
    "#### Задание 4. Выведите на экран статистические характеристики числовых столбцов таблицы (минимум, максимум, среднее значение, стандартное отклонение)"
   ]
  },
  {
   "cell_type": "code",
   "execution_count": 214,
   "metadata": {
    "_uuid": "e3d4bb80d2c4251fe517c24fcf08c5ff2d67b8aa",
    "id": "c8gS3tKinHnz"
   },
   "outputs": [
    {
     "data": {
      "text/plain": "       math score  reading score  writing score\ncount  1000.00000    1000.000000    1000.000000\nmean     66.08900      69.169000      68.054000\nstd      15.16308      14.600192      15.195657\nmin       0.00000      17.000000      10.000000\n25%      57.00000      59.000000      57.750000\n50%      66.00000      70.000000      69.000000\n75%      77.00000      79.000000      79.000000\nmax     100.00000     100.000000     100.000000",
      "text/html": "<div>\n<style scoped>\n    .dataframe tbody tr th:only-of-type {\n        vertical-align: middle;\n    }\n\n    .dataframe tbody tr th {\n        vertical-align: top;\n    }\n\n    .dataframe thead th {\n        text-align: right;\n    }\n</style>\n<table border=\"1\" class=\"dataframe\">\n  <thead>\n    <tr style=\"text-align: right;\">\n      <th></th>\n      <th>math score</th>\n      <th>reading score</th>\n      <th>writing score</th>\n    </tr>\n  </thead>\n  <tbody>\n    <tr>\n      <th>count</th>\n      <td>1000.00000</td>\n      <td>1000.000000</td>\n      <td>1000.000000</td>\n    </tr>\n    <tr>\n      <th>mean</th>\n      <td>66.08900</td>\n      <td>69.169000</td>\n      <td>68.054000</td>\n    </tr>\n    <tr>\n      <th>std</th>\n      <td>15.16308</td>\n      <td>14.600192</td>\n      <td>15.195657</td>\n    </tr>\n    <tr>\n      <th>min</th>\n      <td>0.00000</td>\n      <td>17.000000</td>\n      <td>10.000000</td>\n    </tr>\n    <tr>\n      <th>25%</th>\n      <td>57.00000</td>\n      <td>59.000000</td>\n      <td>57.750000</td>\n    </tr>\n    <tr>\n      <th>50%</th>\n      <td>66.00000</td>\n      <td>70.000000</td>\n      <td>69.000000</td>\n    </tr>\n    <tr>\n      <th>75%</th>\n      <td>77.00000</td>\n      <td>79.000000</td>\n      <td>79.000000</td>\n    </tr>\n    <tr>\n      <th>max</th>\n      <td>100.00000</td>\n      <td>100.000000</td>\n      <td>100.000000</td>\n    </tr>\n  </tbody>\n</table>\n</div>"
     },
     "execution_count": 214,
     "metadata": {},
     "output_type": "execute_result"
    }
   ],
   "source": [
    "df.describe()"
   ]
  },
  {
   "cell_type": "markdown",
   "metadata": {
    "_uuid": "b26b7de83485ecb3b8a0a7865a596e24527c7b2f",
    "id": "IPmMi3DXnHnz"
   },
   "source": [
    "#### Задание 5. Проверьте, есть ли в таблице пропущенные значения"
   ]
  },
  {
   "cell_type": "code",
   "execution_count": 215,
   "metadata": {
    "_uuid": "4eac3f8f83d07c6e58ad1576fe0e773f37034a2f",
    "id": "bE1yO_WZnHnz"
   },
   "outputs": [
    {
     "data": {
      "text/plain": "False"
     },
     "execution_count": 215,
     "metadata": {},
     "output_type": "execute_result"
    }
   ],
   "source": [
    "df.isna().any().any()"
   ]
  },
  {
   "cell_type": "markdown",
   "source": [
    "Значит нет"
   ],
   "metadata": {
    "collapsed": false
   }
  },
  {
   "cell_type": "markdown",
   "metadata": {
    "id": "fi3tuMuxnHnz"
   },
   "source": [
    "#### Задание 6. Выведите на экран средние баллы студентов по каждому предмету (math, reading, writing)"
   ]
  },
  {
   "cell_type": "code",
   "execution_count": 216,
   "metadata": {
    "id": "s-85IUX0nHn0"
   },
   "outputs": [
    {
     "data": {
      "text/plain": "math score       66.089\nreading score    69.169\nwriting score    68.054\ndtype: float64"
     },
     "execution_count": 216,
     "metadata": {},
     "output_type": "execute_result"
    }
   ],
   "source": [
    "df[[\"math score\", \"reading score\", \"writing score\"]].mean()"
   ]
  },
  {
   "cell_type": "markdown",
   "metadata": {
    "id": "YpWI4RcnnHn0"
   },
   "source": [
    "**Задание 7. Как зависят оценки от того, проходил ли студент курс для подготовки к сдаче экзамена (test preparation course)? Выведите на экран для каждого предмета в отдельности средний балл студентов, проходивших курс для подготовки к экзамену и не проходивших курс.**"
   ]
  },
  {
   "cell_type": "code",
   "execution_count": 217,
   "metadata": {
    "id": "CdAiMZrQnHn0"
   },
   "outputs": [
    {
     "data": {
      "text/plain": "none         642\ncompleted    358\nName: test preparation course, dtype: int64"
     },
     "execution_count": 217,
     "metadata": {},
     "output_type": "execute_result"
    }
   ],
   "source": [
    "df['test preparation course'].value_counts()"
   ]
  },
  {
   "cell_type": "code",
   "execution_count": 218,
   "outputs": [
    {
     "data": {
      "text/plain": "math score       69.695531\nreading score    73.893855\nwriting score    74.418994\ndtype: float64"
     },
     "execution_count": 218,
     "metadata": {},
     "output_type": "execute_result"
    }
   ],
   "source": [
    "res_without_preparation = df[df[\"test preparation course\"] == 'none'][[\"math score\", \"reading score\", \"writing score\"]].mean()\n",
    "res_with_preparation = df[df[\"test preparation course\"] == 'completed'][[\"math score\", \"reading score\", \"writing score\"]].mean()\n",
    "res_with_preparation"
   ],
   "metadata": {
    "collapsed": false
   }
  },
  {
   "cell_type": "code",
   "execution_count": 219,
   "outputs": [
    {
     "data": {
      "text/plain": "math score       64.077882\nreading score    66.534268\nwriting score    64.504673\ndtype: float64"
     },
     "execution_count": 219,
     "metadata": {},
     "output_type": "execute_result"
    }
   ],
   "source": [
    "res_without_preparation"
   ],
   "metadata": {
    "collapsed": false
   }
  },
  {
   "cell_type": "code",
   "execution_count": 220,
   "outputs": [
    {
     "data": {
      "text/plain": "math score       5.617649\nreading score    7.359587\nwriting score    9.914322\ndtype: float64"
     },
     "execution_count": 220,
     "metadata": {},
     "output_type": "execute_result"
    }
   ],
   "source": [
    "res_with_preparation - res_without_preparation"
   ],
   "metadata": {
    "collapsed": false
   }
  },
  {
   "cell_type": "markdown",
   "source": [
    "Как видим все результаты за экзамены лучше у людей, которые проходили курсы подготовки"
   ],
   "metadata": {
    "collapsed": false
   }
  },
  {
   "cell_type": "markdown",
   "metadata": {
    "id": "ZI8BwSmYnHn0"
   },
   "source": [
    "**Задание 8. Выведите на экран все различные значения из столбца lunch.**"
   ]
  },
  {
   "cell_type": "code",
   "execution_count": 221,
   "metadata": {
    "id": "b2QUkpmHnHn0"
   },
   "outputs": [
    {
     "data": {
      "text/plain": "standard        645\nfree/reduced    355\nName: lunch, dtype: int64"
     },
     "execution_count": 221,
     "metadata": {},
     "output_type": "execute_result"
    }
   ],
   "source": [
    "df.lunch.value_counts()"
   ]
  },
  {
   "cell_type": "markdown",
   "metadata": {
    "id": "vVhvIZjunHn0"
   },
   "source": [
    "**Задание 9. Переименуйте колонку \"parental level of education\" в \"education\", а \"test preparation course\" в \"test preparation\" с помощью метода pandas rename**\n",
    "https://pandas.pydata.org/pandas-docs/stable/reference/api/pandas.DataFrame.rename.html"
   ]
  },
  {
   "cell_type": "code",
   "execution_count": 222,
   "metadata": {
    "id": "bGWqkE4KnHn0"
   },
   "outputs": [
    {
     "data": {
      "text/plain": "   gender race/ethnicity           education         lunch test preparation  \\\n0  female        group B   bachelor's degree      standard             none   \n1  female        group C        some college      standard        completed   \n2  female        group B     master's degree      standard             none   \n3    male        group A  associate's degree  free/reduced             none   \n4    male        group C        some college      standard             none   \n\n    group  math score  reading score  writing score  \n0  group1          72             72             74  \n1  group1          69             90             88  \n2  group1          90             95             93  \n3  group1          47             57             44  \n4  group1          76             78             75  ",
      "text/html": "<div>\n<style scoped>\n    .dataframe tbody tr th:only-of-type {\n        vertical-align: middle;\n    }\n\n    .dataframe tbody tr th {\n        vertical-align: top;\n    }\n\n    .dataframe thead th {\n        text-align: right;\n    }\n</style>\n<table border=\"1\" class=\"dataframe\">\n  <thead>\n    <tr style=\"text-align: right;\">\n      <th></th>\n      <th>gender</th>\n      <th>race/ethnicity</th>\n      <th>education</th>\n      <th>lunch</th>\n      <th>test preparation</th>\n      <th>group</th>\n      <th>math score</th>\n      <th>reading score</th>\n      <th>writing score</th>\n    </tr>\n  </thead>\n  <tbody>\n    <tr>\n      <th>0</th>\n      <td>female</td>\n      <td>group B</td>\n      <td>bachelor's degree</td>\n      <td>standard</td>\n      <td>none</td>\n      <td>group1</td>\n      <td>72</td>\n      <td>72</td>\n      <td>74</td>\n    </tr>\n    <tr>\n      <th>1</th>\n      <td>female</td>\n      <td>group C</td>\n      <td>some college</td>\n      <td>standard</td>\n      <td>completed</td>\n      <td>group1</td>\n      <td>69</td>\n      <td>90</td>\n      <td>88</td>\n    </tr>\n    <tr>\n      <th>2</th>\n      <td>female</td>\n      <td>group B</td>\n      <td>master's degree</td>\n      <td>standard</td>\n      <td>none</td>\n      <td>group1</td>\n      <td>90</td>\n      <td>95</td>\n      <td>93</td>\n    </tr>\n    <tr>\n      <th>3</th>\n      <td>male</td>\n      <td>group A</td>\n      <td>associate's degree</td>\n      <td>free/reduced</td>\n      <td>none</td>\n      <td>group1</td>\n      <td>47</td>\n      <td>57</td>\n      <td>44</td>\n    </tr>\n    <tr>\n      <th>4</th>\n      <td>male</td>\n      <td>group C</td>\n      <td>some college</td>\n      <td>standard</td>\n      <td>none</td>\n      <td>group1</td>\n      <td>76</td>\n      <td>78</td>\n      <td>75</td>\n    </tr>\n  </tbody>\n</table>\n</div>"
     },
     "execution_count": 222,
     "metadata": {},
     "output_type": "execute_result"
    }
   ],
   "source": [
    "df = df.rename(columns={'parental level of education':'education', 'test preparation course':'test preparation'})\n",
    "df.head(5)"
   ]
  },
  {
   "cell_type": "markdown",
   "metadata": {
    "id": "uI6BPnhtnHn1"
   },
   "source": [
    "**Зафиксируем минимальный балл для сдачи экзамена**"
   ]
  },
  {
   "cell_type": "code",
   "execution_count": 223,
   "metadata": {
    "id": "tgTfZ0LGnHn1"
   },
   "outputs": [],
   "source": [
    "passmark = 50"
   ]
  },
  {
   "cell_type": "markdown",
   "metadata": {
    "id": "VE0nExEpnHn1"
   },
   "source": [
    "**Задание 10. Ответьте на вопросы:**\n",
    "    * Какая доля студентов сдала экзамен по математике (passmark >= 50)?\n",
    "    * Какая доля студентов, проходивших курс подготовки к экзамену, сдала экзамен по математике?\n",
    "    * Какая доля женщин, не проходивших курс подготовки к экзамену, не сдала экзамен по математике? "
   ]
  },
  {
   "cell_type": "code",
   "execution_count": 224,
   "metadata": {
    "id": "zkZtxoFtnHn1"
   },
   "outputs": [
    {
     "data": {
      "text/plain": "0.865"
     },
     "execution_count": 224,
     "metadata": {},
     "output_type": "execute_result"
    }
   ],
   "source": [
    "df[df[\"math score\"] >= passmark].shape[0]/df.shape[0]"
   ]
  },
  {
   "cell_type": "code",
   "execution_count": 225,
   "outputs": [
    {
     "data": {
      "text/plain": "0.9217877094972067"
     },
     "execution_count": 225,
     "metadata": {},
     "output_type": "execute_result"
    }
   ],
   "source": [
    "df[(df[\"math score\"] >= passmark) & (df['test preparation'] == 'completed')].shape[0]/df[df['test preparation'] == 'completed'].shape[0]"
   ],
   "metadata": {
    "collapsed": false
   }
  },
  {
   "cell_type": "code",
   "execution_count": 226,
   "outputs": [
    {
     "data": {
      "text/plain": "0.20958083832335328"
     },
     "execution_count": 226,
     "metadata": {},
     "output_type": "execute_result"
    }
   ],
   "source": [
    "df[(df[\"math score\"] < passmark) & (df['test preparation'] == 'none') & (df['gender'] == 'female')].shape[0]/df[(df['test preparation'] == 'none') & (df['gender'] == 'female')].shape[0]"
   ],
   "metadata": {
    "collapsed": false
   }
  },
  {
   "cell_type": "markdown",
   "metadata": {
    "id": "XQ3MxSlrnHn1"
   },
   "source": [
    "**Задание 11. С помощью groupby выполните задания ниже. Также выведите время выполнения каждого из заданий.**\n",
    "    * Для каждой этнической группы выведите средний балл за экзамен по чтению\n",
    "    * Для каждого уровня образования выведите минимальный балл за экзамен по письму"
   ]
  },
  {
   "cell_type": "code",
   "execution_count": 227,
   "outputs": [
    {
     "name": "stdout",
     "output_type": "stream",
     "text": [
      "CPU times: user 2.79 ms, sys: 7.14 ms, total: 9.93 ms\n",
      "Wall time: 59.2 ms\n"
     ]
    },
    {
     "data": {
      "text/plain": "race/ethnicity\ngroup A    64.674157\ngroup B    67.352632\ngroup C    69.103448\ngroup D    70.030534\ngroup E    73.028571\nName: reading score, dtype: float64"
     },
     "execution_count": 227,
     "metadata": {},
     "output_type": "execute_result"
    }
   ],
   "source": [
    "%%time\n",
    "df.groupby('race/ethnicity').mean()['reading score']"
   ],
   "metadata": {
    "collapsed": false
   }
  },
  {
   "cell_type": "code",
   "execution_count": 228,
   "outputs": [
    {
     "name": "stdout",
     "output_type": "stream",
     "text": [
      "CPU times: user 8.12 ms, sys: 3.54 ms, total: 11.7 ms\n",
      "Wall time: 24.3 ms\n"
     ]
    },
    {
     "data": {
      "text/plain": "education\nassociate's degree    35\nbachelor's degree     38\nhigh school           15\nmaster's degree       46\nsome college          19\nsome high school      10\nName: writing score, dtype: int64"
     },
     "execution_count": 228,
     "metadata": {},
     "output_type": "execute_result"
    }
   ],
   "source": [
    "%%time\n",
    "df.groupby('education').min()['writing score']"
   ],
   "metadata": {
    "collapsed": false
   }
  },
  {
   "cell_type": "markdown",
   "metadata": {
    "id": "oHrE1mb2nHn1"
   },
   "source": [
    "**Задание 12. Выполните задание 11 с помощью циклов. Сравните время выполнения.**"
   ]
  },
  {
   "cell_type": "code",
   "execution_count": 230,
   "metadata": {
    "id": "vlcc4kF_nHn1"
   },
   "outputs": [
    {
     "name": "stdout",
     "output_type": "stream",
     "text": [
      "CPU times: user 308 ms, sys: 8.79 ms, total: 317 ms\n",
      "Wall time: 333 ms\n"
     ]
    },
    {
     "data": {
      "text/plain": "[64.67415730337079,\n 67.35263157894737,\n 69.10344827586206,\n 70.03053435114504,\n 73.02857142857142]"
     },
     "execution_count": 230,
     "metadata": {},
     "output_type": "execute_result"
    }
   ],
   "source": [
    "%%time\n",
    "race = ['group A', 'group B', 'group C', 'group D', 'group E']\n",
    "n = [0, 0, 0, 0, 0]\n",
    "count = [0, 0, 0, 0, 0]\n",
    "for i in range(1000):\n",
    "    for j in range(5):\n",
    "        if str(df.iloc[i]['race/ethnicity']) == race[j]:\n",
    "            n[j] += int(df.iloc[i]['reading score'])\n",
    "            count[j] += 1\n",
    "for i in range(5):\n",
    "    n[i] = n[i]/count[i]\n",
    "n"
   ]
  },
  {
   "cell_type": "code",
   "execution_count": 231,
   "outputs": [
    {
     "name": "stdout",
     "output_type": "stream",
     "text": [
      "CPU times: user 372 ms, sys: 11.1 ms, total: 383 ms\n",
      "Wall time: 404 ms\n"
     ]
    },
    {
     "data": {
      "text/plain": "[35, 38, 15, 46, 19, 10]"
     },
     "execution_count": 231,
     "metadata": {},
     "output_type": "execute_result"
    }
   ],
   "source": [
    "%%time\n",
    "edu = [\"associate's degree\", \"bachelor's degree\", 'high school', \"master's degree\", 'some college', 'some high school']\n",
    "n = [100, 100, 100, 100, 100, 100]\n",
    "for i in range(1000):\n",
    "    for j in range(6):\n",
    "        if str(df.iloc[i]['education']) == edu[j]:\n",
    "            n[j] = min(int(df.iloc[i]['writing score']), n[j])\n",
    "n"
   ],
   "metadata": {
    "collapsed": false
   }
  },
  {
   "cell_type": "markdown",
   "source": [
    "Видно, что время выполнения при использовании циклов, а не встроенных функций для обработки данных у DataFrame больше в разы, что указывает на не эффективность использования \"сторонних методов\"."
   ],
   "metadata": {
    "collapsed": false
   }
  },
  {
   "cell_type": "markdown",
   "metadata": {
    "id": "0ViUsc6xnHn2"
   },
   "source": [
    "**Задание 13. Выведите на экран средние баллы студентов по каждому предмету в зависимости от пола и уровня образования. То есть должно получиться количество групп, равных 2 * (число уровней образования), и для каждой такой группы выыведите средний балл по каждому из предметов.**\n",
    "\n",
    "Это можно сделать с помощью сводных таблиц (pivot_table):\n",
    "\n",
    "https://www.kaggle.com/kamilpolak/tutorial-how-to-use-pivot-table-in-pandas"
   ]
  },
  {
   "cell_type": "code",
   "execution_count": 232,
   "metadata": {
    "id": "BNS-tJDJnHn2"
   },
   "outputs": [
    {
     "data": {
      "text/plain": "                           math score  reading score  writing score\ngender education                                                   \nfemale associate's degree   65.250000      74.120690      74.000000\n       bachelor's degree    68.349206      77.285714      78.380952\n       high school          59.351064      68.202128      66.691489\n       master's degree      66.500000      76.805556      77.638889\n       some college         65.406780      73.550847      74.050847\n       some high school     59.296703      69.109890      68.285714\nmale   associate's degree   70.764151      67.433962      65.405660\n       bachelor's degree    70.581818      68.090909      67.654545\n       high school          64.705882      61.480392      58.539216\n       master's degree      74.826087      73.130435      72.608696\n       some college         69.009259      64.990741      63.148148\n       some high school     67.840909      64.693182      61.375000",
      "text/html": "<div>\n<style scoped>\n    .dataframe tbody tr th:only-of-type {\n        vertical-align: middle;\n    }\n\n    .dataframe tbody tr th {\n        vertical-align: top;\n    }\n\n    .dataframe thead th {\n        text-align: right;\n    }\n</style>\n<table border=\"1\" class=\"dataframe\">\n  <thead>\n    <tr style=\"text-align: right;\">\n      <th></th>\n      <th></th>\n      <th>math score</th>\n      <th>reading score</th>\n      <th>writing score</th>\n    </tr>\n    <tr>\n      <th>gender</th>\n      <th>education</th>\n      <th></th>\n      <th></th>\n      <th></th>\n    </tr>\n  </thead>\n  <tbody>\n    <tr>\n      <th rowspan=\"6\" valign=\"top\">female</th>\n      <th>associate's degree</th>\n      <td>65.250000</td>\n      <td>74.120690</td>\n      <td>74.000000</td>\n    </tr>\n    <tr>\n      <th>bachelor's degree</th>\n      <td>68.349206</td>\n      <td>77.285714</td>\n      <td>78.380952</td>\n    </tr>\n    <tr>\n      <th>high school</th>\n      <td>59.351064</td>\n      <td>68.202128</td>\n      <td>66.691489</td>\n    </tr>\n    <tr>\n      <th>master's degree</th>\n      <td>66.500000</td>\n      <td>76.805556</td>\n      <td>77.638889</td>\n    </tr>\n    <tr>\n      <th>some college</th>\n      <td>65.406780</td>\n      <td>73.550847</td>\n      <td>74.050847</td>\n    </tr>\n    <tr>\n      <th>some high school</th>\n      <td>59.296703</td>\n      <td>69.109890</td>\n      <td>68.285714</td>\n    </tr>\n    <tr>\n      <th rowspan=\"6\" valign=\"top\">male</th>\n      <th>associate's degree</th>\n      <td>70.764151</td>\n      <td>67.433962</td>\n      <td>65.405660</td>\n    </tr>\n    <tr>\n      <th>bachelor's degree</th>\n      <td>70.581818</td>\n      <td>68.090909</td>\n      <td>67.654545</td>\n    </tr>\n    <tr>\n      <th>high school</th>\n      <td>64.705882</td>\n      <td>61.480392</td>\n      <td>58.539216</td>\n    </tr>\n    <tr>\n      <th>master's degree</th>\n      <td>74.826087</td>\n      <td>73.130435</td>\n      <td>72.608696</td>\n    </tr>\n    <tr>\n      <th>some college</th>\n      <td>69.009259</td>\n      <td>64.990741</td>\n      <td>63.148148</td>\n    </tr>\n    <tr>\n      <th>some high school</th>\n      <td>67.840909</td>\n      <td>64.693182</td>\n      <td>61.375000</td>\n    </tr>\n  </tbody>\n</table>\n</div>"
     },
     "execution_count": 232,
     "metadata": {},
     "output_type": "execute_result"
    }
   ],
   "source": [
    "df.groupby(['gender', 'education']).mean()"
   ]
  },
  {
   "cell_type": "markdown",
   "metadata": {
    "_uuid": "3e832cb427c4314582d1953a41b8c78db75e30e3",
    "id": "4Tnx6HbunHn2"
   },
   "source": [
    "#### Задание 14. Сколько студентов успешно сдали экзамен по математике?\n",
    "\n",
    "Создайте новый столбец в таблице df под названием Math_PassStatus и запишите в него F, если студент не сдал экзамен по математике (балл за экзамен < passmark), и P иначе.\n",
    "\n",
    "Посчитайте количество студентов, сдавших и не сдавших экзамен по математике.\n",
    "\n",
    "Сделайте аналогичные шаги для экзаменов по чтению и письму."
   ]
  },
  {
   "cell_type": "code",
   "execution_count": 233,
   "outputs": [
    {
     "data": {
      "text/plain": "   gender race/ethnicity           education         lunch test preparation  \\\n0  female        group B   bachelor's degree      standard             none   \n1  female        group C        some college      standard        completed   \n2  female        group B     master's degree      standard             none   \n3    male        group A  associate's degree  free/reduced             none   \n4    male        group C        some college      standard             none   \n5  female        group B  associate's degree      standard             none   \n6  female        group B        some college      standard        completed   \n7    male        group B        some college  free/reduced             none   \n8    male        group D         high school  free/reduced        completed   \n9  female        group B         high school  free/reduced             none   \n\n    group  math score  reading score  writing score Math_PassStatus  \\\n0  group1          72             72             74               P   \n1  group1          69             90             88               P   \n2  group1          90             95             93               P   \n3  group1          47             57             44               F   \n4  group1          76             78             75               P   \n5  group1          71             83             78               P   \n6  group1          88             95             92               P   \n7  group1          40             43             39               F   \n8  group1          64             64             67               P   \n9  group1          38             60             50               F   \n\n  Reading_PassStatus Writing_PassStatus  \n0                  P                  P  \n1                  P                  P  \n2                  P                  P  \n3                  P                  F  \n4                  P                  P  \n5                  P                  P  \n6                  P                  P  \n7                  F                  F  \n8                  P                  P  \n9                  P                  P  ",
      "text/html": "<div>\n<style scoped>\n    .dataframe tbody tr th:only-of-type {\n        vertical-align: middle;\n    }\n\n    .dataframe tbody tr th {\n        vertical-align: top;\n    }\n\n    .dataframe thead th {\n        text-align: right;\n    }\n</style>\n<table border=\"1\" class=\"dataframe\">\n  <thead>\n    <tr style=\"text-align: right;\">\n      <th></th>\n      <th>gender</th>\n      <th>race/ethnicity</th>\n      <th>education</th>\n      <th>lunch</th>\n      <th>test preparation</th>\n      <th>group</th>\n      <th>math score</th>\n      <th>reading score</th>\n      <th>writing score</th>\n      <th>Math_PassStatus</th>\n      <th>Reading_PassStatus</th>\n      <th>Writing_PassStatus</th>\n    </tr>\n  </thead>\n  <tbody>\n    <tr>\n      <th>0</th>\n      <td>female</td>\n      <td>group B</td>\n      <td>bachelor's degree</td>\n      <td>standard</td>\n      <td>none</td>\n      <td>group1</td>\n      <td>72</td>\n      <td>72</td>\n      <td>74</td>\n      <td>P</td>\n      <td>P</td>\n      <td>P</td>\n    </tr>\n    <tr>\n      <th>1</th>\n      <td>female</td>\n      <td>group C</td>\n      <td>some college</td>\n      <td>standard</td>\n      <td>completed</td>\n      <td>group1</td>\n      <td>69</td>\n      <td>90</td>\n      <td>88</td>\n      <td>P</td>\n      <td>P</td>\n      <td>P</td>\n    </tr>\n    <tr>\n      <th>2</th>\n      <td>female</td>\n      <td>group B</td>\n      <td>master's degree</td>\n      <td>standard</td>\n      <td>none</td>\n      <td>group1</td>\n      <td>90</td>\n      <td>95</td>\n      <td>93</td>\n      <td>P</td>\n      <td>P</td>\n      <td>P</td>\n    </tr>\n    <tr>\n      <th>3</th>\n      <td>male</td>\n      <td>group A</td>\n      <td>associate's degree</td>\n      <td>free/reduced</td>\n      <td>none</td>\n      <td>group1</td>\n      <td>47</td>\n      <td>57</td>\n      <td>44</td>\n      <td>F</td>\n      <td>P</td>\n      <td>F</td>\n    </tr>\n    <tr>\n      <th>4</th>\n      <td>male</td>\n      <td>group C</td>\n      <td>some college</td>\n      <td>standard</td>\n      <td>none</td>\n      <td>group1</td>\n      <td>76</td>\n      <td>78</td>\n      <td>75</td>\n      <td>P</td>\n      <td>P</td>\n      <td>P</td>\n    </tr>\n    <tr>\n      <th>5</th>\n      <td>female</td>\n      <td>group B</td>\n      <td>associate's degree</td>\n      <td>standard</td>\n      <td>none</td>\n      <td>group1</td>\n      <td>71</td>\n      <td>83</td>\n      <td>78</td>\n      <td>P</td>\n      <td>P</td>\n      <td>P</td>\n    </tr>\n    <tr>\n      <th>6</th>\n      <td>female</td>\n      <td>group B</td>\n      <td>some college</td>\n      <td>standard</td>\n      <td>completed</td>\n      <td>group1</td>\n      <td>88</td>\n      <td>95</td>\n      <td>92</td>\n      <td>P</td>\n      <td>P</td>\n      <td>P</td>\n    </tr>\n    <tr>\n      <th>7</th>\n      <td>male</td>\n      <td>group B</td>\n      <td>some college</td>\n      <td>free/reduced</td>\n      <td>none</td>\n      <td>group1</td>\n      <td>40</td>\n      <td>43</td>\n      <td>39</td>\n      <td>F</td>\n      <td>F</td>\n      <td>F</td>\n    </tr>\n    <tr>\n      <th>8</th>\n      <td>male</td>\n      <td>group D</td>\n      <td>high school</td>\n      <td>free/reduced</td>\n      <td>completed</td>\n      <td>group1</td>\n      <td>64</td>\n      <td>64</td>\n      <td>67</td>\n      <td>P</td>\n      <td>P</td>\n      <td>P</td>\n    </tr>\n    <tr>\n      <th>9</th>\n      <td>female</td>\n      <td>group B</td>\n      <td>high school</td>\n      <td>free/reduced</td>\n      <td>none</td>\n      <td>group1</td>\n      <td>38</td>\n      <td>60</td>\n      <td>50</td>\n      <td>F</td>\n      <td>P</td>\n      <td>P</td>\n    </tr>\n  </tbody>\n</table>\n</div>"
     },
     "execution_count": 233,
     "metadata": {},
     "output_type": "execute_result"
    }
   ],
   "source": [
    "df_pass_mark = df[['math score', 'reading score', 'writing score']] >= passmark\n",
    "df_pass_mark[df_pass_mark == True] = 'P'\n",
    "df_pass_mark[df_pass_mark == False] = 'F'\n",
    "df_pass_mark = df_pass_mark.rename(columns={'math score':'Math_PassStatus', 'reading score':'Reading_PassStatus', 'writing score':'Writing_PassStatus'})\n",
    "df = pd.concat([df, df_pass_mark], axis=1)\n",
    "df.head(10)"
   ],
   "metadata": {
    "collapsed": false
   }
  },
  {
   "cell_type": "code",
   "execution_count": 234,
   "outputs": [
    {
     "name": "stdout",
     "output_type": "stream",
     "text": [
      "Количество сдавших математику: 865\n",
      "Количество не сдавших математику: 135\n",
      "Количество сдавших чтение: 910\n",
      "Количество не сдавших чтение: 90\n",
      "Количество сдавших письмо: 886\n",
      "Количество не сдавших письмо: 114\n"
     ]
    }
   ],
   "source": [
    "print('Количество сдавших математику: ' + str((df.Math_PassStatus == 'P').sum()) + '\\nКоличество не сдавших математику: ' + str((df.Math_PassStatus == 'F').sum()) + '\\nКоличество сдавших чтение: ' + str((df.Reading_PassStatus == 'P').sum()) + '\\nКоличество не сдавших чтение: ' + str((df.Reading_PassStatus == 'F').sum()) + '\\nКоличество сдавших письмо: ' + str((df.Writing_PassStatus == 'P').sum()) + '\\nКоличество не сдавших письмо: ' + str((df.Writing_PassStatus == 'F').sum()))"
   ],
   "metadata": {
    "collapsed": false
   }
  },
  {
   "cell_type": "markdown",
   "metadata": {
    "_uuid": "b753c90914ee65501e2ed263ea614d88a381c472",
    "id": "ChrX4iVFnHn2"
   },
   "source": [
    "#### Задание 15. Сколько студентов успешно сдали все экзамены?\n",
    "\n",
    "Создайте столбец OverAll_PassStatus и запишите в него для каждого студента 'F', если студент не сдал хотя бы один из трех экзаменов, а иначе 'P'.\n",
    "\n",
    "Посчитайте количество студентов, которые сдали все экзамены."
   ]
  },
  {
   "cell_type": "code",
   "execution_count": 235,
   "metadata": {
    "_uuid": "e98f895a022b967cab801447b616222439fe9d84",
    "id": "olXH2Lt4nHn2"
   },
   "outputs": [
    {
     "data": {
      "text/plain": "   gender race/ethnicity           education         lunch test preparation  \\\n0  female        group B   bachelor's degree      standard             none   \n1  female        group C        some college      standard        completed   \n2  female        group B     master's degree      standard             none   \n3    male        group A  associate's degree  free/reduced             none   \n4    male        group C        some college      standard             none   \n5  female        group B  associate's degree      standard             none   \n6  female        group B        some college      standard        completed   \n7    male        group B        some college  free/reduced             none   \n8    male        group D         high school  free/reduced        completed   \n9  female        group B         high school  free/reduced             none   \n\n    group  math score  reading score  writing score Math_PassStatus  \\\n0  group1          72             72             74               P   \n1  group1          69             90             88               P   \n2  group1          90             95             93               P   \n3  group1          47             57             44               F   \n4  group1          76             78             75               P   \n5  group1          71             83             78               P   \n6  group1          88             95             92               P   \n7  group1          40             43             39               F   \n8  group1          64             64             67               P   \n9  group1          38             60             50               F   \n\n  Reading_PassStatus Writing_PassStatus OverAll_PassStatus  \n0                  P                  P                  P  \n1                  P                  P                  P  \n2                  P                  P                  P  \n3                  P                  F                  F  \n4                  P                  P                  P  \n5                  P                  P                  P  \n6                  P                  P                  P  \n7                  F                  F                  F  \n8                  P                  P                  P  \n9                  P                  P                  F  ",
      "text/html": "<div>\n<style scoped>\n    .dataframe tbody tr th:only-of-type {\n        vertical-align: middle;\n    }\n\n    .dataframe tbody tr th {\n        vertical-align: top;\n    }\n\n    .dataframe thead th {\n        text-align: right;\n    }\n</style>\n<table border=\"1\" class=\"dataframe\">\n  <thead>\n    <tr style=\"text-align: right;\">\n      <th></th>\n      <th>gender</th>\n      <th>race/ethnicity</th>\n      <th>education</th>\n      <th>lunch</th>\n      <th>test preparation</th>\n      <th>group</th>\n      <th>math score</th>\n      <th>reading score</th>\n      <th>writing score</th>\n      <th>Math_PassStatus</th>\n      <th>Reading_PassStatus</th>\n      <th>Writing_PassStatus</th>\n      <th>OverAll_PassStatus</th>\n    </tr>\n  </thead>\n  <tbody>\n    <tr>\n      <th>0</th>\n      <td>female</td>\n      <td>group B</td>\n      <td>bachelor's degree</td>\n      <td>standard</td>\n      <td>none</td>\n      <td>group1</td>\n      <td>72</td>\n      <td>72</td>\n      <td>74</td>\n      <td>P</td>\n      <td>P</td>\n      <td>P</td>\n      <td>P</td>\n    </tr>\n    <tr>\n      <th>1</th>\n      <td>female</td>\n      <td>group C</td>\n      <td>some college</td>\n      <td>standard</td>\n      <td>completed</td>\n      <td>group1</td>\n      <td>69</td>\n      <td>90</td>\n      <td>88</td>\n      <td>P</td>\n      <td>P</td>\n      <td>P</td>\n      <td>P</td>\n    </tr>\n    <tr>\n      <th>2</th>\n      <td>female</td>\n      <td>group B</td>\n      <td>master's degree</td>\n      <td>standard</td>\n      <td>none</td>\n      <td>group1</td>\n      <td>90</td>\n      <td>95</td>\n      <td>93</td>\n      <td>P</td>\n      <td>P</td>\n      <td>P</td>\n      <td>P</td>\n    </tr>\n    <tr>\n      <th>3</th>\n      <td>male</td>\n      <td>group A</td>\n      <td>associate's degree</td>\n      <td>free/reduced</td>\n      <td>none</td>\n      <td>group1</td>\n      <td>47</td>\n      <td>57</td>\n      <td>44</td>\n      <td>F</td>\n      <td>P</td>\n      <td>F</td>\n      <td>F</td>\n    </tr>\n    <tr>\n      <th>4</th>\n      <td>male</td>\n      <td>group C</td>\n      <td>some college</td>\n      <td>standard</td>\n      <td>none</td>\n      <td>group1</td>\n      <td>76</td>\n      <td>78</td>\n      <td>75</td>\n      <td>P</td>\n      <td>P</td>\n      <td>P</td>\n      <td>P</td>\n    </tr>\n    <tr>\n      <th>5</th>\n      <td>female</td>\n      <td>group B</td>\n      <td>associate's degree</td>\n      <td>standard</td>\n      <td>none</td>\n      <td>group1</td>\n      <td>71</td>\n      <td>83</td>\n      <td>78</td>\n      <td>P</td>\n      <td>P</td>\n      <td>P</td>\n      <td>P</td>\n    </tr>\n    <tr>\n      <th>6</th>\n      <td>female</td>\n      <td>group B</td>\n      <td>some college</td>\n      <td>standard</td>\n      <td>completed</td>\n      <td>group1</td>\n      <td>88</td>\n      <td>95</td>\n      <td>92</td>\n      <td>P</td>\n      <td>P</td>\n      <td>P</td>\n      <td>P</td>\n    </tr>\n    <tr>\n      <th>7</th>\n      <td>male</td>\n      <td>group B</td>\n      <td>some college</td>\n      <td>free/reduced</td>\n      <td>none</td>\n      <td>group1</td>\n      <td>40</td>\n      <td>43</td>\n      <td>39</td>\n      <td>F</td>\n      <td>F</td>\n      <td>F</td>\n      <td>F</td>\n    </tr>\n    <tr>\n      <th>8</th>\n      <td>male</td>\n      <td>group D</td>\n      <td>high school</td>\n      <td>free/reduced</td>\n      <td>completed</td>\n      <td>group1</td>\n      <td>64</td>\n      <td>64</td>\n      <td>67</td>\n      <td>P</td>\n      <td>P</td>\n      <td>P</td>\n      <td>P</td>\n    </tr>\n    <tr>\n      <th>9</th>\n      <td>female</td>\n      <td>group B</td>\n      <td>high school</td>\n      <td>free/reduced</td>\n      <td>none</td>\n      <td>group1</td>\n      <td>38</td>\n      <td>60</td>\n      <td>50</td>\n      <td>F</td>\n      <td>P</td>\n      <td>P</td>\n      <td>F</td>\n    </tr>\n  </tbody>\n</table>\n</div>"
     },
     "execution_count": 235,
     "metadata": {},
     "output_type": "execute_result"
    }
   ],
   "source": [
    "df_new = df[['Math_PassStatus', 'Reading_PassStatus', 'Writing_PassStatus']] == 'F'\n",
    "df_new['OverAll_PassStatus'] = df_new.Writing_PassStatus + df_new.Math_PassStatus + df_new.Reading_PassStatus\n",
    "df_new[df_new == True] = 'F'\n",
    "df_new[df_new == False] = 'P'\n",
    "df = pd.concat([df, df_new['OverAll_PassStatus']], axis=1)\n",
    "df.head(10)"
   ]
  },
  {
   "cell_type": "code",
   "execution_count": 236,
   "outputs": [
    {
     "data": {
      "text/plain": "812"
     },
     "execution_count": 236,
     "metadata": {},
     "output_type": "execute_result"
    }
   ],
   "source": [
    "(df.OverAll_PassStatus == 'P').sum()"
   ],
   "metadata": {
    "collapsed": false
   }
  },
  {
   "cell_type": "markdown",
   "metadata": {
    "_uuid": "3af9c6cb4cbfff66d4ae09509f10b8b6ce33075d",
    "id": "ohB4Vn48nHn3"
   },
   "source": [
    "#### Задание 16. Переведем баллы в оценки\n",
    "\n",
    "### Система перевода баллов в оценки\n",
    "####    больше 90 = A\n",
    "####      80-90 = B\n",
    "####      70-80 = C\n",
    "####      60-70 = D\n",
    "####      50-60 = E\n",
    "####    меньше 50 = F (Fail)\n",
    "\n",
    "Создайте вспомогательную функцию, которая будет по среднему баллу за три экзамена выставлять оценку студенту по данным выше критериям.\n",
    "\n",
    "Создайте столбец Grade и запишите в него оценку каждого студента.\n",
    "\n",
    "Выведите количество студентов, получивших каждую из оценок.\n",
    "\n",
    "**В случае, если средний балл попадает на границу между оценками (т.е. равен ровно 60, 70 или 80 баллов), вы можете интерпретировать условие на своё усмотрение (т.е. можете поставить за 60 баллов оценку D, а можете - E).**"
   ]
  },
  {
   "cell_type": "code",
   "execution_count": 237,
   "metadata": {
    "_uuid": "04707c5be4237020b906d2ac705a0db3d620506f",
    "id": "-I-ZfFQmnHn3"
   },
   "outputs": [
    {
     "data": {
      "text/plain": "   gender race/ethnicity           education         lunch test preparation  \\\n0  female        group B   bachelor's degree      standard             none   \n1  female        group C        some college      standard        completed   \n2  female        group B     master's degree      standard             none   \n3    male        group A  associate's degree  free/reduced             none   \n4    male        group C        some college      standard             none   \n5  female        group B  associate's degree      standard             none   \n6  female        group B        some college      standard        completed   \n7    male        group B        some college  free/reduced             none   \n8    male        group D         high school  free/reduced        completed   \n9  female        group B         high school  free/reduced             none   \n\n    group  math score  reading score  writing score Math_PassStatus  \\\n0  group1          72             72             74               P   \n1  group1          69             90             88               P   \n2  group1          90             95             93               P   \n3  group1          47             57             44               F   \n4  group1          76             78             75               P   \n5  group1          71             83             78               P   \n6  group1          88             95             92               P   \n7  group1          40             43             39               F   \n8  group1          64             64             67               P   \n9  group1          38             60             50               F   \n\n  Reading_PassStatus Writing_PassStatus OverAll_PassStatus Grade  \n0                  P                  P                  P     C  \n1                  P                  P                  P     B  \n2                  P                  P                  P     A  \n3                  P                  F                  F     F  \n4                  P                  P                  P     C  \n5                  P                  P                  P     C  \n6                  P                  P                  P     A  \n7                  F                  F                  F     F  \n8                  P                  P                  P     D  \n9                  P                  P                  F     F  ",
      "text/html": "<div>\n<style scoped>\n    .dataframe tbody tr th:only-of-type {\n        vertical-align: middle;\n    }\n\n    .dataframe tbody tr th {\n        vertical-align: top;\n    }\n\n    .dataframe thead th {\n        text-align: right;\n    }\n</style>\n<table border=\"1\" class=\"dataframe\">\n  <thead>\n    <tr style=\"text-align: right;\">\n      <th></th>\n      <th>gender</th>\n      <th>race/ethnicity</th>\n      <th>education</th>\n      <th>lunch</th>\n      <th>test preparation</th>\n      <th>group</th>\n      <th>math score</th>\n      <th>reading score</th>\n      <th>writing score</th>\n      <th>Math_PassStatus</th>\n      <th>Reading_PassStatus</th>\n      <th>Writing_PassStatus</th>\n      <th>OverAll_PassStatus</th>\n      <th>Grade</th>\n    </tr>\n  </thead>\n  <tbody>\n    <tr>\n      <th>0</th>\n      <td>female</td>\n      <td>group B</td>\n      <td>bachelor's degree</td>\n      <td>standard</td>\n      <td>none</td>\n      <td>group1</td>\n      <td>72</td>\n      <td>72</td>\n      <td>74</td>\n      <td>P</td>\n      <td>P</td>\n      <td>P</td>\n      <td>P</td>\n      <td>C</td>\n    </tr>\n    <tr>\n      <th>1</th>\n      <td>female</td>\n      <td>group C</td>\n      <td>some college</td>\n      <td>standard</td>\n      <td>completed</td>\n      <td>group1</td>\n      <td>69</td>\n      <td>90</td>\n      <td>88</td>\n      <td>P</td>\n      <td>P</td>\n      <td>P</td>\n      <td>P</td>\n      <td>B</td>\n    </tr>\n    <tr>\n      <th>2</th>\n      <td>female</td>\n      <td>group B</td>\n      <td>master's degree</td>\n      <td>standard</td>\n      <td>none</td>\n      <td>group1</td>\n      <td>90</td>\n      <td>95</td>\n      <td>93</td>\n      <td>P</td>\n      <td>P</td>\n      <td>P</td>\n      <td>P</td>\n      <td>A</td>\n    </tr>\n    <tr>\n      <th>3</th>\n      <td>male</td>\n      <td>group A</td>\n      <td>associate's degree</td>\n      <td>free/reduced</td>\n      <td>none</td>\n      <td>group1</td>\n      <td>47</td>\n      <td>57</td>\n      <td>44</td>\n      <td>F</td>\n      <td>P</td>\n      <td>F</td>\n      <td>F</td>\n      <td>F</td>\n    </tr>\n    <tr>\n      <th>4</th>\n      <td>male</td>\n      <td>group C</td>\n      <td>some college</td>\n      <td>standard</td>\n      <td>none</td>\n      <td>group1</td>\n      <td>76</td>\n      <td>78</td>\n      <td>75</td>\n      <td>P</td>\n      <td>P</td>\n      <td>P</td>\n      <td>P</td>\n      <td>C</td>\n    </tr>\n    <tr>\n      <th>5</th>\n      <td>female</td>\n      <td>group B</td>\n      <td>associate's degree</td>\n      <td>standard</td>\n      <td>none</td>\n      <td>group1</td>\n      <td>71</td>\n      <td>83</td>\n      <td>78</td>\n      <td>P</td>\n      <td>P</td>\n      <td>P</td>\n      <td>P</td>\n      <td>C</td>\n    </tr>\n    <tr>\n      <th>6</th>\n      <td>female</td>\n      <td>group B</td>\n      <td>some college</td>\n      <td>standard</td>\n      <td>completed</td>\n      <td>group1</td>\n      <td>88</td>\n      <td>95</td>\n      <td>92</td>\n      <td>P</td>\n      <td>P</td>\n      <td>P</td>\n      <td>P</td>\n      <td>A</td>\n    </tr>\n    <tr>\n      <th>7</th>\n      <td>male</td>\n      <td>group B</td>\n      <td>some college</td>\n      <td>free/reduced</td>\n      <td>none</td>\n      <td>group1</td>\n      <td>40</td>\n      <td>43</td>\n      <td>39</td>\n      <td>F</td>\n      <td>F</td>\n      <td>F</td>\n      <td>F</td>\n      <td>F</td>\n    </tr>\n    <tr>\n      <th>8</th>\n      <td>male</td>\n      <td>group D</td>\n      <td>high school</td>\n      <td>free/reduced</td>\n      <td>completed</td>\n      <td>group1</td>\n      <td>64</td>\n      <td>64</td>\n      <td>67</td>\n      <td>P</td>\n      <td>P</td>\n      <td>P</td>\n      <td>P</td>\n      <td>D</td>\n    </tr>\n    <tr>\n      <th>9</th>\n      <td>female</td>\n      <td>group B</td>\n      <td>high school</td>\n      <td>free/reduced</td>\n      <td>none</td>\n      <td>group1</td>\n      <td>38</td>\n      <td>60</td>\n      <td>50</td>\n      <td>F</td>\n      <td>P</td>\n      <td>P</td>\n      <td>F</td>\n      <td>F</td>\n    </tr>\n  </tbody>\n</table>\n</div>"
     },
     "execution_count": 237,
     "metadata": {},
     "output_type": "execute_result"
    }
   ],
   "source": [
    "def GetGrade(average_mark):\n",
    "    #average_mark = average_mark.where(average_mark >= 50, other='F')\n",
    "    if average_mark < 50:\n",
    "        return 'F'\n",
    "    elif average_mark < 60:\n",
    "        return 'E'\n",
    "    elif average_mark < 70:\n",
    "        return 'D'\n",
    "    elif average_mark < 80:\n",
    "        return 'C'\n",
    "    elif average_mark <= 90:\n",
    "        return 'B'\n",
    "    else:\n",
    "        return 'A'\n",
    "\n",
    "df['Grade'] = ((df['math score'] + df['reading score'] + df['writing score']) / 3).apply(GetGrade)\n",
    "df.head(10)"
   ]
  },
  {
   "cell_type": "code",
   "execution_count": 238,
   "outputs": [
    {
     "data": {
      "text/plain": "C    261\nD    256\nE    182\nB    148\nF    103\nA     50\nName: Grade, dtype: int64"
     },
     "execution_count": 238,
     "metadata": {},
     "output_type": "execute_result"
    }
   ],
   "source": [
    "df.Grade.value_counts()"
   ],
   "metadata": {
    "collapsed": false
   }
  },
  {
   "cell_type": "code",
   "execution_count": null,
   "outputs": [],
   "source": [
    "https://raw.githubusercontent.com/hse-ds/iad-intro-ds/master/2023/homeworks/hw03-plots/german_credit.csv"
   ],
   "metadata": {
    "collapsed": false
   }
  }
 ],
 "metadata": {
  "kernelspec": {
   "display_name": "Python 3 (ipykernel)",
   "language": "python",
   "name": "python3"
  },
  "language_info": {
   "codemirror_mode": {
    "name": "ipython",
    "version": 3
   },
   "file_extension": ".py",
   "mimetype": "text/x-python",
   "name": "python",
   "nbconvert_exporter": "python",
   "pygments_lexer": "ipython3",
   "version": "3.7.9"
  },
  "colab": {
   "provenance": []
  }
 },
 "nbformat": 4,
 "nbformat_minor": 0
}
