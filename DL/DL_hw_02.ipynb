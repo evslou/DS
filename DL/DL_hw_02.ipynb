{
 "cells": [
  {
   "cell_type": "markdown",
   "metadata": {
    "cell_id": 1,
    "id": "kr9vAeEQlRVG"
   },
   "source": [
    "# Домашнее задание 2. Классификация изображений."
   ]
  },
  {
   "cell_type": "markdown",
   "metadata": {
    "cell_id": 3,
    "id": "BxX49gLclRVJ"
   },
   "source": [
    "В этом задании потребуется обучить классификатор изображений. Будем работать с датасетом, название которого раскрывать не будем. Можете посмотреть самостоятельно на картинки, которые в есть датасете. В нём 200 классов и около 5 тысяч картинок на каждый класс. Классы пронумерованы, как нетрудно догадаться, от 0 до 199. Скачать датасет можно вот [тут](https://yadi.sk/d/BNR41Vu3y0c7qA).\n",
    "\n",
    "Структура датасета простая -- есть директории train/ и val/, в которых лежат обучающие и валидационные данные. В train/ и val/ лежат директориии, соответствующие классам изображений, в которых лежат, собственно, сами изображения.\n",
    " \n",
    "__Задание__. Необходимо выполнить два задания\n",
    "\n",
    "1) Добейтесь accuracy **на валидации не менее 0.44**. В этом задании **запрещено** пользоваться предобученными моделями и ресайзом картинок. 5 баллов\n",
    "\n",
    "2) Добейтесь accuracy **на валидации не менее 0.84**. В этом задании делать ресайз и использовать претрейн можно. 5 баллов\n",
    "\n",
    "Напишите краткий отчёт о проделанных экспериментах. Что сработало и что не сработало? Почему вы решили, сделать так, а не иначе? Обязательно указывайте ссылки на чужой код, если вы его используете. Обязательно ссылайтесь на статьи / блогпосты / вопросы на stackoverflow / видосы от ютуберов-машинлернеров / курсы / подсказки от Дяди Васи и прочие дополнительные материалы, если вы их используете. \n",
    "\n",
    "Ваш код обязательно должен проходить все `assert`'ы ниже.\n",
    "\n",
    "__Использовать внешние данные для обучения строго запрещено в обоих заданиях. Также запрещено обучаться на валидационной выборке__.\n",
    "\n",
    "\n",
    "__Критерии оценки__: Оценка вычисляется по простой формуле: `min(10, 10 * Ваша accuracy / 0.44)` для первого задания и `min(10, 10 * (Ваша accuracy - 0.5) / 0.34)` для второго. Оценка округляется до десятых по арифметическим правилам.\n",
    "\n",
    "\n",
    "__Советы и указания__:\n",
    " - Наверняка вам потребуется много гуглить о классификации и о том, как заставить её работать. Это нормально, все гуглят. Но не забывайте, что нужно быть готовым за скатанный код отвечать :)\n",
    " - Используйте аугментации. Для этого пользуйтесь модулем `torchvision.transforms` или библиотекой [albumentations](https://github.com/albumentations-team/albumentations)\n",
    " - Можно обучать с нуля или файнтюнить (в зависимости от задания) модели из `torchvision`.\n",
    " - Рекомендуем написать вам сначала класс-датасет (или воспользоваться классом `ImageFolder`), который возвращает картинки и соответствующие им классы, а затем функции для трейна по шаблонам ниже. Однако делать это мы не заставляем. Если вам так неудобно, то можете писать код в удобном стиле. Однако учтите, что чрезмерное изменение нижеперечисленных шаблонов увеличит количество вопросов к вашему коду и повысит вероятность вызова на защиту :)\n",
    " - Валидируйте. Трекайте ошибки как можно раньше, чтобы не тратить время впустую.\n",
    " - Чтобы быстро отладить код, пробуйте обучаться на маленькой части датасета (скажем, 5-10 картинок просто чтобы убедиться что код запускается). Когда вы поняли, что смогли всё отдебажить, переходите обучению по всему датасету\n",
    " - На каждый запуск делайте ровно одно изменение в модели/аугментации/оптимайзере, чтобы понять, что и как влияет на результат.\n",
    " - Фиксируйте random seed.\n",
    " - Начинайте с простых моделей и постепенно переходите к сложным. Обучение лёгких моделей экономит много времени.\n",
    " - Ставьте расписание на learning rate. Уменьшайте его, когда лосс на валидации перестаёт убывать.\n",
    " - Советуем использовать GPU. Если у вас его нет, используйте google colab. Если вам неудобно его использовать на постоянной основе, напишите и отладьте весь код локально на CPU, а затем запустите уже написанный ноутбук в колабе. Авторское решение задания достигает требуемой точности в колабе за 15 минут обучения.\n",
    " \n",
    "Good luck & have fun! :)"
   ]
  },
  {
   "cell_type": "code",
   "execution_count": 1,
   "metadata": {
    "id": "BaPSFxIz96tY"
   },
   "outputs": [],
   "source": [
    "# !pip install wandb\n",
    "# !pip3 install pytorch_lightning torchmetrics  "
   ]
  },
  {
   "cell_type": "markdown",
   "metadata": {},
   "source": [
    "**✨ Внимание ✨**\n",
    "\n",
    "В этом домашнем задании предлагается использовать библиотеку `pytorch_lightning`. Доступ к ее [документации](https://lightning.ai/docs/pytorch/stable/) заблокирован с территории РФ. Вы можете:\n",
    "\n",
    "1. Получить к ней доступ с помощью VPN.\n",
    "\n",
    "2. Собрать документацию самостоятельно. Для этого склонируйте [github-репозиторий](https://github.com/Lightning-AI/lightning/tree/master), запустите в нем терминал (на windows – git bash) и выполните команды:\n",
    "\n",
    "```shell\n",
    "git submodule update --init --recursive\n",
    "make docs\n",
    "```\n",
    "После этого откройте появившийся файл `docs/build/html/index.html`. Для работы команд в вашем окружении должен быть `pip`. Полная инструкция [по ссылке](https://github.com/Lightning-AI/lightning/tree/master/docs).\n",
    "\n",
    "3. Гуглить `<error message> pytorch lightning` или `<how to do this> pytorch lightning`. Stack overflow на территории РФ все еще доступен 😉\n",
    "\n",
    "4. Не пользоваться `pytorch_lightning` и написать цикл обучения модели самостоятельно. Например, по аналогии с функцией `fit` из [семинара 4](https://github.com/hse-ds/iad-deep-learning/blob/master/2023/seminars/04.%20Optim%20%26%20Lightning/04_Optim%26Lightning_solution.ipynb)."
   ]
  },
  {
   "cell_type": "code",
   "execution_count": 1,
   "metadata": {
    "id": "EWT3aFU9XmLJ"
   },
   "outputs": [
    {
     "name": "stderr",
     "output_type": "stream",
     "text": [
      "Failed to detect the name of this notebook, you can set it manually with the WANDB_NOTEBOOK_NAME environment variable to enable code saving.\n",
      "\u001b[34m\u001b[1mwandb\u001b[0m: Currently logged in as: \u001b[33mnaevseev-work\u001b[0m. Use \u001b[1m`wandb login --relogin`\u001b[0m to force relogin\n"
     ]
    },
    {
     "data": {
      "text/plain": [
       "True"
      ]
     },
     "execution_count": 1,
     "metadata": {},
     "output_type": "execute_result"
    }
   ],
   "source": [
    "# Возможно ниже будет не очень работать WandbLogger с первого разу, перезапустите kernel тетрадки\n",
    "import wandb\n",
    "\n",
    "wandb.login()"
   ]
  },
  {
   "cell_type": "code",
   "execution_count": 2,
   "metadata": {
    "cell_id": 4,
    "id": "LKcSNj4tlRVK"
   },
   "outputs": [],
   "source": [
    "import math\n",
    "import os\n",
    "import random\n",
    "import sys\n",
    "\n",
    "import matplotlib.pyplot as plt\n",
    "import numpy as np\n",
    "import pytorch_lightning as pl\n",
    "import torch\n",
    "import torchvision\n",
    "import torchvision.transforms as transforms\n",
    "from PIL import Image\n",
    "from pytorch_lightning.loggers import WandbLogger\n",
    "from torch import nn\n",
    "from torch.nn import functional as F\n",
    "from torch.utils.data import DataLoader\n",
    "from torchmetrics.functional import accuracy\n",
    "from torchvision.datasets import ImageFolder\n",
    "from tqdm import tqdm\n",
    "\n",
    "# You may add any imports you need"
   ]
  },
  {
   "cell_type": "code",
   "execution_count": 3,
   "metadata": {
    "id": "47YPLjDL-Mtv"
   },
   "outputs": [],
   "source": [
    "def seed_everything(seed):\n",
    "    # Фискирует максимум сидов.\n",
    "    # Это понадобится, чтобы сравнение оптимизаторов было корректным\n",
    "    random.seed(seed)\n",
    "    os.environ[\"PYTHONHASHSEED\"] = str(seed)\n",
    "    np.random.seed(seed)\n",
    "    torch.manual_seed(seed)\n",
    "    torch.cuda.manual_seed(seed)\n",
    "    torch.backends.cudnn.deterministic = True\n",
    "\n",
    "\n",
    "seed_everything(13)"
   ]
  },
  {
   "cell_type": "markdown",
   "metadata": {
    "id": "RytEDW0ylRVN"
   },
   "source": [
    "## Задание 0"
   ]
  },
  {
   "cell_type": "markdown",
   "metadata": {
    "id": "2HZECedTvepi"
   },
   "source": [
    "### Что поможет сделать на 10 из 10 (одно задание - 5 баллов)"
   ]
  },
  {
   "cell_type": "markdown",
   "metadata": {
    "id": "dOioHGEiveso"
   },
   "source": [
    "1. Использовать все возможные методы оптимизации и эксперемнтировать с ними.\n",
    "2. Подбор learning rate. Пример из прошлого семинара как это делать: [Как найти lr](https://pytorch-lightning.readthedocs.io/en/1.4.5/advanced/lr_finder.html)\n",
    "\n",
    "```\n",
    "  trainer = pl.Trainer(accelerator=\"gpu\", max_epochs=2, auto_lr_find=True) \n",
    "\n",
    "  trainer.tune(module, train_dataloader, eval_dataloader)\n",
    "\n",
    "  trainer.fit(module, train_dataloader, eval_dataloader))\n",
    "```\n",
    "\n",
    "\n",
    "\n",
    "3. Аугментация данных. [Документация (полезная)](https://pytorch.org/vision/main/transforms.html), а также [библиотека albumentation](https://towardsdatascience.com/getting-started-with-albumentation-winning-deep-learning-image-augmentation-technique-in-pytorch-47aaba0ee3f8)\n",
    "4. Подбор архитектуры модели. \n",
    "5. Можно написать модель руками свою в YourNet, а можно импортировать не предобученную сетку известной архитектуры из модуля torchvision.models. Один из способов как можно сделать: \n",
    "\n",
    "  * `torchvision.models.resnet18(pretrained=False, num_classes=200).to(device)`\n",
    "  * Документация по возможным моделям и как их можно брать: [Документация (полезная)](https://pytorch.org/vision/stable/models.html)\n",
    "6. Правильно нормализовывать данные при создании, пример [тык, но тут и в целом гайд от и до](https://www.pluralsight.com/guides/image-classification-with-pytorch)\n",
    "7. Model Checkpointing. Сохраняйте свой прогресс (модели), чтобы когда что-то пойдет не так вы сможете начать с этого места или просто воспроизвести свои результаты модели, которые обучали. \n",
    " * Пример как можно с wandb тут: [Сохраняем лучшие модели в wandb](https://docs.wandb.ai/guides/integrations/lightning)\n",
    " * По простому можно так: [Сохраняем модели в pytorch дока](https://pytorch.org/tutorials/beginner/saving_loading_models.html)"
   ]
  },
  {
   "cell_type": "markdown",
   "metadata": {
    "id": "WYePsQgNRB-n"
   },
   "source": [
    "### Подготовка данных"
   ]
  },
  {
   "cell_type": "code",
   "execution_count": 58,
   "metadata": {
    "cell_id": 5,
    "id": "QEdDQtHdlRVO"
   },
   "outputs": [],
   "source": [
    "# YOU CAN DEFINE AUGMENTATIONS HERE\n",
    "train_transform = transforms.Compose(\n",
    "    [\n",
    "        transforms.RandomApply(transforms=[transforms.ColorJitter(brightness=1.0, contrast=0.5, saturation=1, hue=0.1)], p=0.2),\n",
    "        transforms.RandomApply(transforms=[transforms.AugMix()], p=0.25),\n",
    "        transforms.RandomApply(transforms=[transforms.Grayscale(num_output_channels=3)], p=0.07),\n",
    "        transforms.ToTensor(),\n",
    "        transforms.Normalize(mean=[0.485, 0.456, 0.406], std=[0.229, 0.224, 0.225])\n",
    "    ]\n",
    ")\n",
    "#(0.4914, 0.4822, 0.4465), (0.247, 0.243, 0.261)\n",
    "val_transform = transforms.Compose(\n",
    "    [\n",
    "        transforms.ToTensor(),\n",
    "        transforms.Normalize(mean=[0.485, 0.456, 0.406], std=[0.229, 0.224, 0.225])\n",
    "    ]\n",
    ")\n",
    "\n",
    "#applier = transforms.RandomApply(transforms=[AugMix], p=0.5)\n",
    "\n",
    "#transforms = transforms.RandomApply(torch.nn.ModuleList([transforms.ColorJitter(), ]), p=0.3)\n",
    "\n",
    "\n",
    "train_dataset = ImageFolder('/Users/nikitaevseev/Desktop/DS/DL/dataset/dataset/train', transform=train_transform)\n",
    "val_dataset = ImageFolder('/Users/nikitaevseev/Desktop/DS/DL/dataset/dataset/val', transform=val_transform)\n",
    "# REPLACE ./dataset/dataset WITH THE FOLDER WHERE YOU DOWNLOADED AND UNZIPPED THE DATASET\n",
    "\n",
    "train_dataloader = DataLoader(train_dataset, batch_size=512, shuffle=True, num_workers=7, persistent_workers=True, multiprocessing_context='forkserver')\n",
    "val_dataloader = DataLoader(val_dataset, batch_size=512, shuffle=False, num_workers=7, persistent_workers=True, multiprocessing_context='forkserver')"
   ]
  },
  {
   "cell_type": "code",
   "execution_count": 59,
   "metadata": {
    "cell_id": 6,
    "id": "mrg4Yj0VlRVP"
   },
   "outputs": [
    {
     "name": "stdout",
     "output_type": "stream",
     "text": [
      "tests passed\n"
     ]
    }
   ],
   "source": [
    "# Just very simple sanity checks\n",
    "assert isinstance(train_dataset[0], tuple)\n",
    "assert len(train_dataset[0]) == 2\n",
    "assert isinstance(train_dataset[1][1], int)\n",
    "print(\"tests passed\")"
   ]
  },
  {
   "cell_type": "markdown",
   "metadata": {
    "id": "EOuM0EEYj7Ml"
   },
   "source": [
    "### Посмотрим на картиночки"
   ]
  },
  {
   "cell_type": "code",
   "execution_count": 28,
   "metadata": {
    "id": "DeuB0YC3LYRm"
   },
   "outputs": [
    {
     "name": "stderr",
     "output_type": "stream",
     "text": [
      "Clipping input data to the valid range for imshow with RGB data ([0..1] for floats or [0..255] for integers).\n"
     ]
    },
    {
     "data": {
      "image/png": "[encoded data removed]",
      "text/plain": [
       "<Figure size 640x480 with 1 Axes>"
      ]
     },
     "metadata": {},
     "output_type": "display_data"
    },
    {
     "name": "stderr",
     "output_type": "stream",
     "text": [
      "Clipping input data to the valid range for imshow with RGB data ([0..1] for floats or [0..255] for integers).\n"
     ]
    },
    {
     "data": {
      "image/png": "[encoded data removed]",
      "text/plain": [
       "<Figure size 640x480 with 1 Axes>"
      ]
     },
     "metadata": {},
     "output_type": "display_data"
    }
   ],
   "source": [
    "for batch in val_dataloader:\n",
    "    images, class_nums = batch\n",
    "    plt.imshow(images[5].permute(1, 2, 0))\n",
    "    plt.show()\n",
    "    plt.imshow(images[15].permute(1, 2, 0))\n",
    "    plt.show()\n",
    "    break"
   ]
  },
  {
   "cell_type": "markdown",
   "metadata": {
    "id": "LCwKB-3nKm1-"
   },
   "source": [
    "## Задание 1. \n",
    "\n",
    "5 баллов\n",
    "Добейтесь accuracy на валидации не менее 0.44. В этом задании запрещено пользоваться предобученными моделями и ресайзом картинок.\n",
    "\n",
    "\n",
    "Для того чтобы выбить скор (считается ниже) на 2.5/5 балла (то есть половину за задание) достаточно соблюдать пару простых жизненных правил:\n",
    "1. Аугментация (без нее сложно очень будет)\n",
    "2. Оптимайзеры можно (и нужно) использовать друг с другом. Однако когда что-то проверяете, то не меняйте несколько параметров сразу - собьете логику экспериментов\n",
    "3. Не используйте полносвязные модели или самые первые сверточные, используйте более современные архитектуры (что на лекциях встречались)\n",
    "4. Посмотреть все ноутбуки прошедших семинаров и слепить из них что-то общее. Семинарских тетрадок хватит сверх"
   ]
  },
  {
   "cell_type": "markdown",
   "metadata": {
    "id": "pWR2l6ymZfRJ"
   },
   "source": [
    "### Модель (или просто импортируйте не предобученную)"
   ]
  },
  {
   "cell_type": "code",
   "execution_count": 54,
   "metadata": {
    "id": "mDYorQXLZhTQ"
   },
   "outputs": [],
   "source": [
    "class YourNet(torch.nn.Module):\n",
    "    def __init__(self, dropout):\n",
    "        super().__init__()\n",
    "\n",
    "        self.relu = torch.nn.ReLU()\n",
    "\n",
    "        self.batch_norm1 = torch.nn.BatchNorm2d(16)\n",
    "        self.batch_norm2 = torch.nn.BatchNorm2d(32)\n",
    "        self.batch_norm3 = torch.nn.BatchNorm2d(64)\n",
    "        self.batch_norm4 = torch.nn.BatchNorm1d(128)\n",
    "\n",
    "        self.maxpool = torch.nn.MaxPool2d(2)\n",
    "\n",
    "        self.conv1 = torch.nn.Conv2d(3, 16, 3)\n",
    "        self.conv2 = torch.nn.Conv2d(16, 16, 3)\n",
    "        self.conv3 = torch.nn.Conv2d(16, 32, 3)\n",
    "        self.conv4 = torch.nn.Conv2d(32, 32, 3)\n",
    "        self.conv5 = torch.nn.Conv2d(32, 64, 3)\n",
    "        self.conv6 = torch.nn.Conv2d(64, 64, 3)\n",
    "\n",
    "        self.flatten = nn.Flatten()\n",
    "        self.linear1 = torch.nn.Linear(64 * 4 * 4, 128)\n",
    "        self.output = torch.nn.Linear(128, 200)\n",
    "\n",
    "        self.dropout = torch.nn.Dropout(p=dropout)\n",
    "\n",
    "        # --------------\n",
    "        self.loss_func = torch.nn.CrossEntropyLoss()\n",
    "        self.targets = torch.Tensor()\n",
    "        self.preds = torch.Tensor()\n",
    "        pass\n",
    "\n",
    "    def _forward(self, x):\n",
    "        x = self.conv1(x)\n",
    "        x = self.batch_norm1(x)\n",
    "        x = self.relu(x)\n",
    "        x = self.conv2(x)\n",
    "        x = self.batch_norm1(x)\n",
    "        x = self.relu(x)\n",
    "        x = self.maxpool(x)\n",
    "        x = self.conv3(x)\n",
    "        x = self.batch_norm2(x)\n",
    "        x = self.relu(x)\n",
    "        x = self.conv4(x)\n",
    "        x = self.batch_norm2(x)\n",
    "        x = self.relu(x)\n",
    "        x = self.maxpool(x)\n",
    "        x = self.conv5(x)\n",
    "        x = self.batch_norm3(x)\n",
    "        x = self.relu(x)\n",
    "        x = self.conv6(x)\n",
    "        x = self.batch_norm3(x)\n",
    "        x = self.relu(x)\n",
    "        x = self.maxpool(x)\n",
    "        x = self.flatten(x)\n",
    "        x = self.linear1(x)\n",
    "        x = self.batch_norm4(x)\n",
    "        x = self.relu(x)\n",
    "        x = self.dropout(x)\n",
    "        return self.output(x)\n",
    "\n",
    "    def forward(self, images, target=None):\n",
    "        # images ~ (batch size, num channels, height, width)\n",
    "        # target ~ (batch size)\n",
    "        # output ~ (batch size, num classes)\n",
    "        output = self._forward(images)\n",
    "\n",
    "        # get accuracy score and save it to self.accuracy\n",
    "        if target is not None:\n",
    "            loss = self.loss_func(output, target)\n",
    "\n",
    "            self.targets = torch.cat((self.targets, target.cpu()), 0)\n",
    "            pred = torch.argmax(output, dim=-1)\n",
    "            self.preds = torch.cat((self.preds, pred.cpu()), 0)\n",
    "            self.accuracy = accuracy(self.preds.long(), self.targets.long(), task='multiclass', num_classes=200)\n",
    "\n",
    "        return loss if target is not None else output\n",
    "\n",
    "    def get_accuracy(self, reset=False):\n",
    "        # return accuracy by all values till now\n",
    "        if reset:\n",
    "            self.targets = torch.Tensor()\n",
    "            self.preds = torch.Tensor()\n",
    "        return self.accuracy"
   ]
  },
  {
   "cell_type": "code",
   "execution_count": 22,
   "metadata": {},
   "outputs": [
    {
     "name": "stderr",
     "output_type": "stream",
     "text": [
      "Some weights of ViTModel were not initialized from the model checkpoint at google/vit-base-patch16-224 and are newly initialized: ['vit.pooler.dense.weight', 'vit.pooler.dense.bias']\n",
      "You should probably TRAIN this model on a down-stream task to be able to use it for predictions and inference.\n"
     ]
    }
   ],
   "source": [
    "from transformers import ViTImageProcessor, ViTForImageClassification, ViTModel\n",
    "\n",
    "#processor = ViTImageProcessor.from_pretrained('google/vit-base-patch16-224')\n",
    "#model = ViTForImageClassification.from_pretrained('google/vit-base-patch16-224')\n",
    "\n",
    "# Загрузите предварительно обученный конфигурационный файл модели\n",
    "model_name = \"google/vit-base-patch16-224\"\n",
    "config = ViTModel.from_pretrained(model_name).config\n",
    "\n",
    "# Установите свои параметры, например, количество классов и размер изображений\n",
    "num_classes = 200\n",
    "image_size = 64\n",
    "\n",
    "# Создайте новую конфигурацию с вашими параметрами\n",
    "config.vocab_size = num_classes\n",
    "config.image_size = (image_size, image_size)\n",
    "\n",
    "# Создайте новую модель на основе этой конфигурации\n",
    "model = ViTForImageClassification(config)\n"
   ]
  },
  {
   "cell_type": "code",
   "execution_count": null,
   "metadata": {},
   "outputs": [],
   "source": [
    "import transformers\n",
    "\n",
    "# Скачайте модель vit-g/14\n",
    "\n",
    "model = transformers.ViTForImageClassification.from_pretrained(\"google/vit-g-14\", pretrained=False)"
   ]
  },
  {
   "cell_type": "markdown",
   "metadata": {
    "id": "f7iHXWj1alM1"
   },
   "source": [
    "### Тренировочный класс lightning"
   ]
  },
  {
   "cell_type": "code",
   "execution_count": 55,
   "metadata": {
    "id": "lD76TeZ1apua"
   },
   "outputs": [],
   "source": [
    "class YourModule(pl.LightningModule):\n",
    "    def __init__(self, model, learning_rate):\n",
    "        super().__init__()\n",
    "        self.model = model\n",
    "        self.learning_rate = learning_rate\n",
    "\n",
    "    def forward(self, x):\n",
    "        result = self.model(x)\n",
    "        return result\n",
    "\n",
    "    def configure_optimizers(self):\n",
    "        optimizer = torch.optim.Adam(self.parameters(), lr=self.learning_rate)\n",
    "        return optimizer\n",
    "\n",
    "    def training_step(self, train_batch, batch_idx):\n",
    "        images, target = train_batch\n",
    "        loss = self.model(images, target)\n",
    "        self.log(\n",
    "            \"train_loss\", loss, prog_bar=True\n",
    "        )  # сохраняет логи в папку, но можно несложно добавить wandb\n",
    "        return loss\n",
    "\n",
    "    def validation_step(self, val_batch, batch_idx):\n",
    "        images, target = val_batch\n",
    "        loss = self.model(images, target)\n",
    "        self.log(\"val_loss\", loss, prog_bar=True)"
   ]
  },
  {
   "cell_type": "code",
   "execution_count": 42,
   "metadata": {},
   "outputs": [
    {
     "name": "stderr",
     "output_type": "stream",
     "text": [
      "GPU available: True (mps), used: True\n",
      "TPU available: False, using: 0 TPU cores\n",
      "IPU available: False, using: 0 IPUs\n",
      "HPU available: False, using: 0 HPUs\n",
      "/Users/nikitaevseev/anaconda3/lib/python3.11/site-packages/pytorch_lightning/trainer/connectors/logger_connector/logger_connector.py:67: Starting from v1.9.0, `tensorboardX` has been removed as a dependency of the `pytorch_lightning` package, due to potential conflicts with other packages in the ML ecosystem. For this reason, `logger=True` will use `CSVLogger` as the default logger, unless the `tensorboard` or `tensorboardX` packages are found. Please `pip install lightning[extra]` or one of them to enable TensorBoard support by default\n"
     ]
    },
    {
     "ename": "AttributeError",
     "evalue": "'Trainer' object has no attribute 'tuner'",
     "output_type": "error",
     "traceback": [
      "\u001b[0;31m---------------------------------------------------------------------------\u001b[0m",
      "\u001b[0;31mAttributeError\u001b[0m                            Traceback (most recent call last)",
      "\u001b[1;32m/Users/nikitaevseev/Desktop/DS/DL/DL_hw_02.ipynb Ячейка 23\u001b[0m line \u001b[0;36m4\n\u001b[1;32m      <a href='vscode-notebook-cell:/Users/nikitaevseev/Desktop/DS/DL/DL_hw_02.ipynb#Y102sZmlsZQ%3D%3D?line=0'>1</a>\u001b[0m trainer \u001b[39m=\u001b[39m pl\u001b[39m.\u001b[39mTrainer()\n\u001b[1;32m      <a href='vscode-notebook-cell:/Users/nikitaevseev/Desktop/DS/DL/DL_hw_02.ipynb#Y102sZmlsZQ%3D%3D?line=2'>3</a>\u001b[0m \u001b[39m# Run learning rate finder\u001b[39;00m\n\u001b[0;32m----> <a href='vscode-notebook-cell:/Users/nikitaevseev/Desktop/DS/DL/DL_hw_02.ipynb#Y102sZmlsZQ%3D%3D?line=3'>4</a>\u001b[0m lr_finder \u001b[39m=\u001b[39m trainer\u001b[39m.\u001b[39mtuner\u001b[39m.\u001b[39mlr_find(model)\n\u001b[1;32m      <a href='vscode-notebook-cell:/Users/nikitaevseev/Desktop/DS/DL/DL_hw_02.ipynb#Y102sZmlsZQ%3D%3D?line=5'>6</a>\u001b[0m \u001b[39m# Results can be found in\u001b[39;00m\n\u001b[1;32m      <a href='vscode-notebook-cell:/Users/nikitaevseev/Desktop/DS/DL/DL_hw_02.ipynb#Y102sZmlsZQ%3D%3D?line=6'>7</a>\u001b[0m lr_finder\u001b[39m.\u001b[39mresults\n",
      "\u001b[0;31mAttributeError\u001b[0m: 'Trainer' object has no attribute 'tuner'"
     ]
    }
   ],
   "source": [
    "trainer = pl.Trainer()\n",
    "\n",
    "# Run learning rate finder\n",
    "lr_finder = trainer.tuner.lr_find(model)\n",
    "\n",
    "# Results can be found in\n",
    "lr_finder.results"
   ]
  },
  {
   "cell_type": "code",
   "execution_count": 60,
   "metadata": {
    "id": "z9-1wq7QYkiz"
   },
   "outputs": [
    {
     "data": {
      "text/html": [
       "Finishing last run (ID:kua7ky2y) before initializing another..."
      ],
      "text/plain": [
       "<IPython.core.display.HTML object>"
      ]
     },
     "metadata": {},
     "output_type": "display_data"
    },
    {
     "data": {
      "text/html": [
       "Waiting for W&B process to finish... <strong style=\"color:green\">(success).</strong>"
      ],
      "text/plain": [
       "<IPython.core.display.HTML object>"
      ]
     },
     "metadata": {},
     "output_type": "display_data"
    },
    {
     "name": "stderr",
     "output_type": "stream",
     "text": [
      "wandb: WARNING Source type is set to 'repo' but some required information is missing from the environment. A job will not be created from this run. See https://docs.wandb.ai/guides/launch/create-job\n"
     ]
    },
    {
     "data": {
      "text/html": [
       "<style>\n",
       "    table.wandb td:nth-child(1) { padding: 0 10px; text-align: left ; width: auto;} td:nth-child(2) {text-align: left ; width: 100%}\n",
       "    .wandb-row { display: flex; flex-direction: row; flex-wrap: wrap; justify-content: flex-start; width: 100% }\n",
       "    .wandb-col { display: flex; flex-direction: column; flex-basis: 100%; flex: 1; padding: 10px; }\n",
       "    </style>\n",
       "<div class=\"wandb-row\"><div class=\"wandb-col\"><h3>Run history:</h3><br/><table class=\"wandb\"><tr><td>epoch</td><td>▁▁▁▁▁▁▁▁▁▁▁▁▁▁▁▁▁▁▁▁▁▁▁▁▁▁▁▁▁▁▁▁▁▁▁▁▁▁▁▁</td></tr><tr><td>train_loss</td><td>██▆▇▆▄▅▆▅▇▆▅▃▅▄▅▄▄▆▆▅▄▆▃▂▂▃▅▄▄▃▃▂▃▂▄▃▂▃▁</td></tr><tr><td>trainer/global_step</td><td>▁▁▁▂▂▂▂▂▂▃▃▃▃▃▄▄▄▄▄▄▅▅▅▅▅▅▆▆▆▆▆▇▇▇▇▇▇███</td></tr></table><br/></div><div class=\"wandb-col\"><h3>Run summary:</h3><br/><table class=\"wandb\"><tr><td>epoch</td><td>0</td></tr><tr><td>train_loss</td><td>4.8215</td></tr><tr><td>trainer/global_step</td><td>4799</td></tr></table><br/></div></div>"
      ],
      "text/plain": [
       "<IPython.core.display.HTML object>"
      ]
     },
     "metadata": {},
     "output_type": "display_data"
    },
    {
     "data": {
      "text/html": [
       " View run <strong style=\"color:#cdcd00\">gallant-wind-15</strong> at: <a href='https://wandb.ai/naevseev-work/hw_02_exs1/runs/kua7ky2y' target=\"_blank\">https://wandb.ai/naevseev-work/hw_02_exs1/runs/kua7ky2y</a><br/>Synced 6 W&B file(s), 0 media file(s), 0 artifact file(s) and 0 other file(s)"
      ],
      "text/plain": [
       "<IPython.core.display.HTML object>"
      ]
     },
     "metadata": {},
     "output_type": "display_data"
    },
    {
     "data": {
      "text/html": [
       "Find logs at: <code>./wandb/run-20231102_112104-kua7ky2y/logs</code>"
      ],
      "text/plain": [
       "<IPython.core.display.HTML object>"
      ]
     },
     "metadata": {},
     "output_type": "display_data"
    },
    {
     "data": {
      "text/html": [
       "Successfully finished last run (ID:kua7ky2y). Initializing new run:<br/>"
      ],
      "text/plain": [
       "<IPython.core.display.HTML object>"
      ]
     },
     "metadata": {},
     "output_type": "display_data"
    },
    {
     "data": {
      "text/html": [
       "Tracking run with wandb version 0.15.12"
      ],
      "text/plain": [
       "<IPython.core.display.HTML object>"
      ]
     },
     "metadata": {},
     "output_type": "display_data"
    },
    {
     "data": {
      "text/html": [
       "Run data is saved locally in <code>/Users/nikitaevseev/Desktop/DS/DL/wandb/run-20231102_121231-l6txlejm</code>"
      ],
      "text/plain": [
       "<IPython.core.display.HTML object>"
      ]
     },
     "metadata": {},
     "output_type": "display_data"
    },
    {
     "data": {
      "text/html": [
       "Syncing run <strong><a href='https://wandb.ai/naevseev-work/hw_02_exs1/runs/l6txlejm' target=\"_blank\">misunderstood-rain-16</a></strong> to <a href='https://wandb.ai/naevseev-work/hw_02_exs1' target=\"_blank\">Weights & Biases</a> (<a href='https://wandb.me/run' target=\"_blank\">docs</a>)<br/>"
      ],
      "text/plain": [
       "<IPython.core.display.HTML object>"
      ]
     },
     "metadata": {},
     "output_type": "display_data"
    },
    {
     "data": {
      "text/html": [
       " View project at <a href='https://wandb.ai/naevseev-work/hw_02_exs1' target=\"_blank\">https://wandb.ai/naevseev-work/hw_02_exs1</a>"
      ],
      "text/plain": [
       "<IPython.core.display.HTML object>"
      ]
     },
     "metadata": {},
     "output_type": "display_data"
    },
    {
     "data": {
      "text/html": [
       " View run at <a href='https://wandb.ai/naevseev-work/hw_02_exs1/runs/l6txlejm' target=\"_blank\">https://wandb.ai/naevseev-work/hw_02_exs1/runs/l6txlejm</a>"
      ],
      "text/plain": [
       "<IPython.core.display.HTML object>"
      ]
     },
     "metadata": {},
     "output_type": "display_data"
    },
    {
     "data": {
      "text/plain": [
       "[]"
      ]
     },
     "execution_count": 60,
     "metadata": {},
     "output_type": "execute_result"
    }
   ],
   "source": [
    "wandb_logger = WandbLogger\\\n",
    "    (log_model='all') # какие возможности дает с pytorch_lightning https://docs.wandb.ai/guides/integrations/lightning\n",
    "\n",
    "model = YourNet(dropout=0.4)#torchvision.models.maxvit_t(num_classes=200)\n",
    "module = YourModule(model, learning_rate=0.001) # YOUR CODE HERE\n",
    "\n",
    "# инициализируем проект\n",
    "wandb.init(project=\"hw_02_exs1\")\n",
    "# сохраняем параметры сетки в wandb + просим следить за градиентами сетки\n",
    "wandb.watch(model)"
   ]
  },
  {
   "cell_type": "code",
   "execution_count": null,
   "metadata": {},
   "outputs": [],
   "source": [
    "trainer = pl.Trainer(accelerator=\"gpu\", max_epochs=2, auto_lr_find=True) \n",
    "\n",
    "trainer.tune(module, train_dataloader, val_dataloader)\n",
    "\n",
    "trainer.fit(module, train_dataloader, val_dataloader)"
   ]
  },
  {
   "cell_type": "code",
   "execution_count": 61,
   "metadata": {
    "id": "If8fi4HZkN3J"
   },
   "outputs": [
    {
     "name": "stderr",
     "output_type": "stream",
     "text": [
      "GPU available: True (mps), used: True\n",
      "TPU available: False, using: 0 TPU cores\n",
      "IPU available: False, using: 0 IPUs\n",
      "HPU available: False, using: 0 HPUs\n",
      "/Users/nikitaevseev/anaconda3/lib/python3.11/site-packages/pytorch_lightning/loggers/wandb.py:389: There is a wandb run already in progress and newly created instances of `WandbLogger` will reuse this run. If this is not desired, call `wandb.finish()` before instantiating `WandbLogger`.\n",
      "\n",
      "  | Name  | Type    | Params\n",
      "----------------------------------\n",
      "0 | model | YourNet | 229 K \n",
      "----------------------------------\n",
      "229 K     Trainable params\n",
      "0         Non-trainable params\n",
      "229 K     Total params\n",
      "0.918     Total estimated model params size (MB)\n"
     ]
    },
    {
     "data": {
      "application/vnd.jupyter.widget-view+json": {
       "model_id": "296c15d060514e54868b7d244cd6c021",
       "version_major": 2,
       "version_minor": 0
      },
      "text/plain": [
       "Sanity Checking: |          | 0/? [00:00<?, ?it/s]"
      ]
     },
     "metadata": {},
     "output_type": "display_data"
    },
    {
     "data": {
      "application/vnd.jupyter.widget-view+json": {
       "model_id": "412d2007865c4871ab02146626e070dd",
       "version_major": 2,
       "version_minor": 0
      },
      "text/plain": [
       "Training: |          | 0/? [00:00<?, ?it/s]"
      ]
     },
     "metadata": {},
     "output_type": "display_data"
    },
    {
     "data": {
      "application/vnd.jupyter.widget-view+json": {
       "model_id": "57a3d5cbbe274393a0e44c1ca8f102a0",
       "version_major": 2,
       "version_minor": 0
      },
      "text/plain": [
       "Validation: |          | 0/? [00:00<?, ?it/s]"
      ]
     },
     "metadata": {},
     "output_type": "display_data"
    },
    {
     "name": "stderr",
     "output_type": "stream",
     "text": [
      "python(2895) MallocStackLogging: can't turn off malloc stack logging because it was not enabled.\n",
      "python(2904) MallocStackLogging: can't turn off malloc stack logging because it was not enabled.\n",
      "python(2909) MallocStackLogging: can't turn off malloc stack logging because it was not enabled.\n",
      "python(2920) MallocStackLogging: can't turn off malloc stack logging because it was not enabled.\n",
      "python(2926) MallocStackLogging: can't turn off malloc stack logging because it was not enabled.\n",
      "python(2929) MallocStackLogging: can't turn off malloc stack logging because it was not enabled.\n",
      "python(2937) MallocStackLogging: can't turn off malloc stack logging because it was not enabled.\n",
      "python(2946) MallocStackLogging: can't turn off malloc stack logging because it was not enabled.\n",
      "python(2956) MallocStackLogging: can't turn off malloc stack logging because it was not enabled.\n"
     ]
    },
    {
     "data": {
      "application/vnd.jupyter.widget-view+json": {
       "model_id": "7e2bd3dc023c4199ac9167564793abd6",
       "version_major": 2,
       "version_minor": 0
      },
      "text/plain": [
       "Validation: |          | 0/? [00:00<?, ?it/s]"
      ]
     },
     "metadata": {},
     "output_type": "display_data"
    },
    {
     "name": "stderr",
     "output_type": "stream",
     "text": [
      "python(2964) MallocStackLogging: can't turn off malloc stack logging because it was not enabled.\n",
      "python(2981) MallocStackLogging: can't turn off malloc stack logging because it was not enabled.\n",
      "python(2993) MallocStackLogging: can't turn off malloc stack logging because it was not enabled.\n",
      "python(3005) MallocStackLogging: can't turn off malloc stack logging because it was not enabled.\n",
      "python(3026) MallocStackLogging: can't turn off malloc stack logging because it was not enabled.\n",
      "python(3038) MallocStackLogging: can't turn off malloc stack logging because it was not enabled.\n",
      "python(3048) MallocStackLogging: can't turn off malloc stack logging because it was not enabled.\n",
      "python(3053) MallocStackLogging: can't turn off malloc stack logging because it was not enabled.\n",
      "python(3056) MallocStackLogging: can't turn off malloc stack logging because it was not enabled.\n",
      "python(3057) MallocStackLogging: can't turn off malloc stack logging because it was not enabled.\n",
      "python(3066) MallocStackLogging: can't turn off malloc stack logging because it was not enabled.\n",
      "python(3070) MallocStackLogging: can't turn off malloc stack logging because it was not enabled.\n",
      "python(3073) MallocStackLogging: can't turn off malloc stack logging because it was not enabled.\n",
      "python(3075) MallocStackLogging: can't turn off malloc stack logging because it was not enabled.\n",
      "python(3076) MallocStackLogging: can't turn off malloc stack logging because it was not enabled.\n",
      "python(3078) MallocStackLogging: can't turn off malloc stack logging because it was not enabled.\n",
      "python(3081) MallocStackLogging: can't turn off malloc stack logging because it was not enabled.\n",
      "python(3083) MallocStackLogging: can't turn off malloc stack logging because it was not enabled.\n",
      "python(3087) MallocStackLogging: can't turn off malloc stack logging because it was not enabled.\n",
      "python(3096) MallocStackLogging: can't turn off malloc stack logging because it was not enabled.\n",
      "python(3105) MallocStackLogging: can't turn off malloc stack logging because it was not enabled.\n",
      "python(3106) MallocStackLogging: can't turn off malloc stack logging because it was not enabled.\n",
      "python(3108) MallocStackLogging: can't turn off malloc stack logging because it was not enabled.\n",
      "python(3112) MallocStackLogging: can't turn off malloc stack logging because it was not enabled.\n",
      "python(3117) MallocStackLogging: can't turn off malloc stack logging because it was not enabled.\n",
      "python(3121) MallocStackLogging: can't turn off malloc stack logging because it was not enabled.\n",
      "python(3125) MallocStackLogging: can't turn off malloc stack logging because it was not enabled.\n",
      "python(3128) MallocStackLogging: can't turn off malloc stack logging because it was not enabled.\n",
      "python(3145) MallocStackLogging: can't turn off malloc stack logging because it was not enabled.\n",
      "python(3158) MallocStackLogging: can't turn off malloc stack logging because it was not enabled.\n",
      "python(3166) MallocStackLogging: can't turn off malloc stack logging because it was not enabled.\n",
      "python(3189) MallocStackLogging: can't turn off malloc stack logging because it was not enabled.\n",
      "python(3198) MallocStackLogging: can't turn off malloc stack logging because it was not enabled.\n",
      "python(3204) MallocStackLogging: can't turn off malloc stack logging because it was not enabled.\n",
      "python(3209) MallocStackLogging: can't turn off malloc stack logging because it was not enabled.\n",
      "python(3212) MallocStackLogging: can't turn off malloc stack logging because it was not enabled.\n",
      "python(3222) MallocStackLogging: can't turn off malloc stack logging because it was not enabled.\n",
      "python(3225) MallocStackLogging: can't turn off malloc stack logging because it was not enabled.\n",
      "python(3233) MallocStackLogging: can't turn off malloc stack logging because it was not enabled.\n",
      "python(3236) MallocStackLogging: can't turn off malloc stack logging because it was not enabled.\n"
     ]
    },
    {
     "data": {
      "application/vnd.jupyter.widget-view+json": {
       "model_id": "0e717d2481f34db18822355306e62b7c",
       "version_major": 2,
       "version_minor": 0
      },
      "text/plain": [
       "Validation: |          | 0/? [00:00<?, ?it/s]"
      ]
     },
     "metadata": {},
     "output_type": "display_data"
    },
    {
     "name": "stderr",
     "output_type": "stream",
     "text": [
      "python(3237) MallocStackLogging: can't turn off malloc stack logging because it was not enabled.\n",
      "python(3243) MallocStackLogging: can't turn off malloc stack logging because it was not enabled.\n",
      "python(3251) MallocStackLogging: can't turn off malloc stack logging because it was not enabled.\n",
      "python(3270) MallocStackLogging: can't turn off malloc stack logging because it was not enabled.\n",
      "python(3276) MallocStackLogging: can't turn off malloc stack logging because it was not enabled.\n",
      "python(3278) MallocStackLogging: can't turn off malloc stack logging because it was not enabled.\n",
      "python(3285) MallocStackLogging: can't turn off malloc stack logging because it was not enabled.\n",
      "python(3297) MallocStackLogging: can't turn off malloc stack logging because it was not enabled.\n",
      "python(3304) MallocStackLogging: can't turn off malloc stack logging because it was not enabled.\n",
      "python(3306) MallocStackLogging: can't turn off malloc stack logging because it was not enabled.\n",
      "python(3308) MallocStackLogging: can't turn off malloc stack logging because it was not enabled.\n",
      "python(3309) MallocStackLogging: can't turn off malloc stack logging because it was not enabled.\n",
      "python(3312) MallocStackLogging: can't turn off malloc stack logging because it was not enabled.\n",
      "python(3315) MallocStackLogging: can't turn off malloc stack logging because it was not enabled.\n",
      "python(3318) MallocStackLogging: can't turn off malloc stack logging because it was not enabled.\n",
      "python(3322) MallocStackLogging: can't turn off malloc stack logging because it was not enabled.\n",
      "python(3325) MallocStackLogging: can't turn off malloc stack logging because it was not enabled.\n",
      "python(3329) MallocStackLogging: can't turn off malloc stack logging because it was not enabled.\n",
      "python(3339) MallocStackLogging: can't turn off malloc stack logging because it was not enabled.\n",
      "python(3347) MallocStackLogging: can't turn off malloc stack logging because it was not enabled.\n",
      "python(3372) MallocStackLogging: can't turn off malloc stack logging because it was not enabled.\n",
      "python(3378) MallocStackLogging: can't turn off malloc stack logging because it was not enabled.\n",
      "python(3386) MallocStackLogging: can't turn off malloc stack logging because it was not enabled.\n",
      "python(3390) MallocStackLogging: can't turn off malloc stack logging because it was not enabled.\n",
      "python(3393) MallocStackLogging: can't turn off malloc stack logging because it was not enabled.\n",
      "python(3397) MallocStackLogging: can't turn off malloc stack logging because it was not enabled.\n",
      "python(3399) MallocStackLogging: can't turn off malloc stack logging because it was not enabled.\n",
      "python(3410) MallocStackLogging: can't turn off malloc stack logging because it was not enabled.\n",
      "python(3412) MallocStackLogging: can't turn off malloc stack logging because it was not enabled.\n",
      "python(3414) MallocStackLogging: can't turn off malloc stack logging because it was not enabled.\n",
      "python(3416) MallocStackLogging: can't turn off malloc stack logging because it was not enabled.\n",
      "python(3420) MallocStackLogging: can't turn off malloc stack logging because it was not enabled.\n",
      "python(3421) MallocStackLogging: can't turn off malloc stack logging because it was not enabled.\n",
      "python(3426) MallocStackLogging: can't turn off malloc stack logging because it was not enabled.\n",
      "python(3428) MallocStackLogging: can't turn off malloc stack logging because it was not enabled.\n",
      "python(3430) MallocStackLogging: can't turn off malloc stack logging because it was not enabled.\n",
      "python(3433) MallocStackLogging: can't turn off malloc stack logging because it was not enabled.\n",
      "python(3435) MallocStackLogging: can't turn off malloc stack logging because it was not enabled.\n",
      "python(3438) MallocStackLogging: can't turn off malloc stack logging because it was not enabled.\n",
      "python(3440) MallocStackLogging: can't turn off malloc stack logging because it was not enabled.\n",
      "python(3446) MallocStackLogging: can't turn off malloc stack logging because it was not enabled.\n",
      "python(3454) MallocStackLogging: can't turn off malloc stack logging because it was not enabled.\n",
      "python(3461) MallocStackLogging: can't turn off malloc stack logging because it was not enabled.\n",
      "python(3464) MallocStackLogging: can't turn off malloc stack logging because it was not enabled.\n",
      "python(3479) MallocStackLogging: can't turn off malloc stack logging because it was not enabled.\n",
      "python(3486) MallocStackLogging: can't turn off malloc stack logging because it was not enabled.\n",
      "python(3495) MallocStackLogging: can't turn off malloc stack logging because it was not enabled.\n",
      "python(3511) MallocStackLogging: can't turn off malloc stack logging because it was not enabled.\n",
      "python(3527) MallocStackLogging: can't turn off malloc stack logging because it was not enabled.\n"
     ]
    },
    {
     "data": {
      "application/vnd.jupyter.widget-view+json": {
       "model_id": "61b2254235564d298d23d64db2f45cf1",
       "version_major": 2,
       "version_minor": 0
      },
      "text/plain": [
       "Validation: |          | 0/? [00:00<?, ?it/s]"
      ]
     },
     "metadata": {},
     "output_type": "display_data"
    },
    {
     "name": "stderr",
     "output_type": "stream",
     "text": [
      "python(3542) MallocStackLogging: can't turn off malloc stack logging because it was not enabled.\n",
      "python(3549) MallocStackLogging: can't turn off malloc stack logging because it was not enabled.\n",
      "python(3552) MallocStackLogging: can't turn off malloc stack logging because it was not enabled.\n",
      "python(3557) MallocStackLogging: can't turn off malloc stack logging because it was not enabled.\n",
      "python(3560) MallocStackLogging: can't turn off malloc stack logging because it was not enabled.\n",
      "python(3569) MallocStackLogging: can't turn off malloc stack logging because it was not enabled.\n",
      "python(3579) MallocStackLogging: can't turn off malloc stack logging because it was not enabled.\n",
      "python(3582) MallocStackLogging: can't turn off malloc stack logging because it was not enabled.\n",
      "python(3593) MallocStackLogging: can't turn off malloc stack logging because it was not enabled.\n",
      "python(3601) MallocStackLogging: can't turn off malloc stack logging because it was not enabled.\n",
      "python(3605) MallocStackLogging: can't turn off malloc stack logging because it was not enabled.\n",
      "python(3608) MallocStackLogging: can't turn off malloc stack logging because it was not enabled.\n",
      "python(3610) MallocStackLogging: can't turn off malloc stack logging because it was not enabled.\n",
      "python(3615) MallocStackLogging: can't turn off malloc stack logging because it was not enabled.\n",
      "python(3618) MallocStackLogging: can't turn off malloc stack logging because it was not enabled.\n",
      "python(3623) MallocStackLogging: can't turn off malloc stack logging because it was not enabled.\n",
      "python(3624) MallocStackLogging: can't turn off malloc stack logging because it was not enabled.\n",
      "python(3625) MallocStackLogging: can't turn off malloc stack logging because it was not enabled.\n",
      "python(3626) MallocStackLogging: can't turn off malloc stack logging because it was not enabled.\n",
      "python(3628) MallocStackLogging: can't turn off malloc stack logging because it was not enabled.\n",
      "python(3630) MallocStackLogging: can't turn off malloc stack logging because it was not enabled.\n",
      "python(3631) MallocStackLogging: can't turn off malloc stack logging because it was not enabled.\n",
      "python(3634) MallocStackLogging: can't turn off malloc stack logging because it was not enabled.\n",
      "python(3636) MallocStackLogging: can't turn off malloc stack logging because it was not enabled.\n",
      "python(3637) MallocStackLogging: can't turn off malloc stack logging because it was not enabled.\n",
      "python(3638) MallocStackLogging: can't turn off malloc stack logging because it was not enabled.\n",
      "python(3642) MallocStackLogging: can't turn off malloc stack logging because it was not enabled.\n",
      "python(3645) MallocStackLogging: can't turn off malloc stack logging because it was not enabled.\n",
      "python(3652) MallocStackLogging: can't turn off malloc stack logging because it was not enabled.\n",
      "python(3659) MallocStackLogging: can't turn off malloc stack logging because it was not enabled.\n",
      "python(3662) MallocStackLogging: can't turn off malloc stack logging because it was not enabled.\n",
      "python(3666) MallocStackLogging: can't turn off malloc stack logging because it was not enabled.\n",
      "python(3667) MallocStackLogging: can't turn off malloc stack logging because it was not enabled.\n",
      "python(3671) MallocStackLogging: can't turn off malloc stack logging because it was not enabled.\n",
      "python(3693) MallocStackLogging: can't turn off malloc stack logging because it was not enabled.\n",
      "python(3703) MallocStackLogging: can't turn off malloc stack logging because it was not enabled.\n",
      "python(3707) MallocStackLogging: can't turn off malloc stack logging because it was not enabled.\n",
      "python(3722) MallocStackLogging: can't turn off malloc stack logging because it was not enabled.\n",
      "python(3731) MallocStackLogging: can't turn off malloc stack logging because it was not enabled.\n",
      "python(3734) MallocStackLogging: can't turn off malloc stack logging because it was not enabled.\n",
      "python(3753) MallocStackLogging: can't turn off malloc stack logging because it was not enabled.\n",
      "python(3773) MallocStackLogging: can't turn off malloc stack logging because it was not enabled.\n",
      "python(3799) MallocStackLogging: can't turn off malloc stack logging because it was not enabled.\n",
      "python(3809) MallocStackLogging: can't turn off malloc stack logging because it was not enabled.\n",
      "python(3813) MallocStackLogging: can't turn off malloc stack logging because it was not enabled.\n",
      "python(3821) MallocStackLogging: can't turn off malloc stack logging because it was not enabled.\n",
      "python(3824) MallocStackLogging: can't turn off malloc stack logging because it was not enabled.\n",
      "python(3826) MallocStackLogging: can't turn off malloc stack logging because it was not enabled.\n",
      "python(3832) MallocStackLogging: can't turn off malloc stack logging because it was not enabled.\n",
      "python(3834) MallocStackLogging: can't turn off malloc stack logging because it was not enabled.\n",
      "python(3836) MallocStackLogging: can't turn off malloc stack logging because it was not enabled.\n",
      "python(3838) MallocStackLogging: can't turn off malloc stack logging because it was not enabled.\n",
      "python(3842) MallocStackLogging: can't turn off malloc stack logging because it was not enabled.\n"
     ]
    },
    {
     "data": {
      "application/vnd.jupyter.widget-view+json": {
       "model_id": "5343be7b50904227b1ad93756a26a49a",
       "version_major": 2,
       "version_minor": 0
      },
      "text/plain": [
       "Validation: |          | 0/? [00:00<?, ?it/s]"
      ]
     },
     "metadata": {},
     "output_type": "display_data"
    },
    {
     "name": "stderr",
     "output_type": "stream",
     "text": [
      "python(3845) MallocStackLogging: can't turn off malloc stack logging because it was not enabled.\n",
      "python(3850) MallocStackLogging: can't turn off malloc stack logging because it was not enabled.\n",
      "python(3852) MallocStackLogging: can't turn off malloc stack logging because it was not enabled.\n",
      "python(3857) MallocStackLogging: can't turn off malloc stack logging because it was not enabled.\n",
      "python(3858) MallocStackLogging: can't turn off malloc stack logging because it was not enabled.\n",
      "`Trainer.fit` stopped: `max_epochs=5` reached.\n"
     ]
    }
   ],
   "source": [
    "trainer = pl.Trainer(logger=wandb_logger, max_epochs=5)  # YOUR CODE HERE\n",
    "trainer.fit(module, train_dataloader, val_dataloader)  # YOUR CODE HERE"
   ]
  },
  {
   "cell_type": "markdown",
   "metadata": {
    "id": "3eoTAB1fSOuk"
   },
   "source": [
    "### Валидация результатов задания"
   ]
  },
  {
   "cell_type": "code",
   "execution_count": 62,
   "metadata": {
    "id": "4M_BAiMNl1rL"
   },
   "outputs": [
    {
     "name": "stderr",
     "output_type": "stream",
     "text": [
      "python(3949) MallocStackLogging: can't turn off malloc stack logging because it was not enabled.\n"
     ]
    }
   ],
   "source": [
    "def evaluate_task(model, test_dataloader):\n",
    "    model = model\n",
    "    model.eval()\n",
    "    accuracy = 0.0\n",
    "    for images, labels in tqdm(test_dataloader):\n",
    "        images, labels = images, labels\n",
    "        with torch.no_grad():\n",
    "            loss = model(images, labels)\n",
    "            acc_batch = model.get_accuracy(reset=True)\n",
    "        accuracy += acc_batch\n",
    "    accuracy = accuracy / len(test_dataloader)\n",
    "    return accuracy"
   ]
  },
  {
   "cell_type": "code",
   "execution_count": 63,
   "metadata": {
    "id": "TsP57VG8KEfP"
   },
   "outputs": [
    {
     "name": "stderr",
     "output_type": "stream",
     "text": [
      "\n",
      "python(3953) MallocStackLogging: can't turn off malloc stack logging because it was not enabled.python(3955) MallocStackLogging: can't turn off malloc stack logging because it was not enabled.\n",
      "python(3958) MallocStackLogging: can't turn off malloc stack logging because it was not enabled.\n",
      "python(3960) MallocStackLogging: can't turn off malloc stack logging because it was not enabled.\n",
      "python(3964) MallocStackLogging: can't turn off malloc stack logging because it was not enabled.\n",
      "python(3966) MallocStackLogging: can't turn off malloc stack logging because it was not enabled.\n",
      "python(3974) MallocStackLogging: can't turn off malloc stack logging because it was not enabled.\n",
      "python(3977) MallocStackLogging: can't turn off malloc stack logging because it was not enabled.\n",
      "python(3983) MallocStackLogging: can't turn off malloc stack logging because it was not enabled.\n",
      "python(3986) MallocStackLogging: can't turn off malloc stack logging because it was not enabled.\n",
      "python(3989) MallocStackLogging: can't turn off malloc stack logging because it was not enabled.\n",
      "python(3994) MallocStackLogging: can't turn off malloc stack logging because it was not enabled.\n",
      "100%|██████████| 20/20 [00:36<00:00,  1.82s/it]"
     ]
    },
    {
     "name": "stdout",
     "output_type": "stream",
     "text": [
      "Оценка за это задание составит 0.64 баллов\n",
      "tensor(0.0283)\n"
     ]
    },
    {
     "name": "stderr",
     "output_type": "stream",
     "text": [
      "\n"
     ]
    }
   ],
   "source": [
    "accuracy_score = evaluate_task(model, val_dataloader)\n",
    "print(f\"Оценка за это задание составит {np.clip(10 * accuracy_score / 0.44, 0, 10):.2f} баллов\")\n",
    "print(accuracy_score)"
   ]
  },
  {
   "cell_type": "markdown",
   "metadata": {
    "id": "cZqSdlQQKukS"
   },
   "source": [
    "## Задание 2\n",
    "\n",
    "5 баллов\n",
    "Добейтесь accuracy на валидации не менее 0.84. В этом задании делать ресайз и использовать претрейн можно.\n",
    "\n",
    "Для того чтобы выбить скор (считается ниже) на 2.5/5 балла (то есть половину за задание) достаточно соблюдать пару простых жизненных правил:\n",
    "1. Аугментация (без нее сложно очень будет)\n",
    "2. Оптимайзеры можно (и нужно) использовать друг с другом. Однако когда что-то проверяете, то не меняйте несколько параметров сразу - собьете логику экспериментов\n",
    "3. Не используйте полносвязные модели или самые первые сверточные, используйте более современные архитектуры (что на лекциях встречались или можете пойти дальше).\n",
    "4. Попробуйте сначала посмотреть качество исходной модели без дообучения, сохраните как baseline. Отсюда поймете какие слои нужно дообучать.\n",
    "5. Посмотреть все ноутбуки прошедших семинаров и слепить из них что-то общее. Семинарских тетрадок хватит сверх"
   ]
  },
  {
   "cell_type": "markdown",
   "metadata": {
    "id": "zDzXM5rNxNQp"
   },
   "source": [
    "### Модель (или просто импортируйте предобученную)"
   ]
  },
  {
   "cell_type": "code",
   "execution_count": null,
   "metadata": {
    "id": "sDr9l76AxH_9"
   },
   "outputs": [],
   "source": [
    "class YourNet(torch.nn.Module):\n",
    "    def __init__(self):\n",
    "        super().__init__()\n",
    "        # YOUR CODE HERE\n",
    "        pass\n",
    "\n",
    "    def _forward(self, x):\n",
    "        # runs the Neural Network\n",
    "        # YOUR CODE HERE\n",
    "        pass\n",
    "\n",
    "    def forward(self, images, target=None):\n",
    "        # YOUR CODE HERE\n",
    "        pass\n",
    "\n",
    "    def get_accuracy(self, reset=False):\n",
    "        # YOUR CODE HERE\n",
    "        pass"
   ]
  },
  {
   "cell_type": "markdown",
   "metadata": {
    "id": "Flwqk0YjxPLE"
   },
   "source": [
    "### Тренировочный класс lightning"
   ]
  },
  {
   "cell_type": "code",
   "execution_count": null,
   "metadata": {
    "id": "UnKHluO6xID4"
   },
   "outputs": [],
   "source": [
    "class YourModule(pl.LightningModule):\n",
    "    def __init__(self, model, learning_rate):\n",
    "        super().__init__()\n",
    "        # YOUR CODE HERE\n",
    "        pass\n",
    "\n",
    "    def forward(self, x):\n",
    "        # YOUR CODE HERE\n",
    "        pass\n",
    "\n",
    "    def configure_optimizers(self):\n",
    "        # YOUR CODE HERE\n",
    "        pass\n",
    "\n",
    "    def training_step(self, train_batch, batch_idx):\n",
    "        # YOUR CODE HERE\n",
    "        pass\n",
    "\n",
    "    def validation_step(self, val_batch, batch_idx):\n",
    "        # YOUR CODE HERE\n",
    "        pass"
   ]
  },
  {
   "cell_type": "code",
   "execution_count": null,
   "metadata": {
    "id": "lQAjkvkVyhEg"
   },
   "outputs": [],
   "source": [
    "wandb_logger = WandbLogger(log_model='all') # какие возможности дает с pytorch_lightning https://docs.wandb.ai/guides/integrations/lightning\n",
    "device =  # YOUR CODE HERE\n",
    "\n",
    "model = YourNet().to() # YOUR CODE HERE\n",
    "module = YourModule() # YOUR CODE HERE"
   ]
  },
  {
   "cell_type": "code",
   "execution_count": null,
   "metadata": {
    "id": "T4wJgB1YyhG0"
   },
   "outputs": [],
   "source": [
    "trainer = pl.Trainer(logger=wandb_logger)  # YOUR CODE HERE\n",
    "trainer.fit()  # YOUR CODE HERE"
   ]
  },
  {
   "cell_type": "markdown",
   "metadata": {
    "id": "u5D2bwOKSHVp"
   },
   "source": [
    "### Валидация результатов задания"
   ]
  },
  {
   "cell_type": "code",
   "execution_count": null,
   "metadata": {
    "id": "PEdwJE5uOrIM"
   },
   "outputs": [],
   "source": [
    "model = # Подгрузить свою сохраненную модель сюда\n",
    "\n",
    "accuracy = evaluate_task(model, val_dataloader)\n",
    "print(f\"Оценка за это задание составит {np.clip(10 * (accuracy - 0.5) / 0.34, 0, 10):.2f} баллов\")"
   ]
  },
  {
   "cell_type": "markdown",
   "metadata": {
    "cell_id": 15,
    "id": "pT8vfPSolRVb"
   },
   "source": [
    "# Отчёт об экспериментах \n",
    "\n",
    "текст писать тут (или ссылочку на wandb/любой трекер экспреиментов) для каждого задания, то есть не обязательно именно тут рисовать графики, если вы используете готовые трекеры/мониторинги ваших моделей."
   ]
  },
  {
   "cell_type": "code",
   "execution_count": null,
   "metadata": {
    "id": "YkGZ3kuULB55"
   },
   "outputs": [],
   "source": []
  }
 ],
 "metadata": {
  "colab": {
   "collapsed_sections": [],
   "provenance": [],
   "toc_visible": true
  },
  "kernelspec": {
   "display_name": "Python 3",
   "language": "python",
   "name": "python3"
  },
  "language_info": {
   "codemirror_mode": {
    "name": "ipython",
    "version": 3
   },
   "file_extension": ".py",
   "mimetype": "text/x-python",
   "name": "python",
   "nbconvert_exporter": "python",
   "pygments_lexer": "ipython3",
   "version": "3.11.5"
  },
  "max_cell_id": 35
 },
 "nbformat": 4,
 "nbformat_minor": 0
}
